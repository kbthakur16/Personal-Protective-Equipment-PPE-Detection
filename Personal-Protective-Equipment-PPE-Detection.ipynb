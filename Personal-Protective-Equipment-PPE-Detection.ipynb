{
 "cells": [
  {
   "cell_type": "code",
   "execution_count": 1,
   "id": "f186b3df",
   "metadata": {},
   "outputs": [],
   "source": [
    "from ultralytics import YOLO\n",
    "import cv2\n",
    "import cvzone\n",
    "import math"
   ]
  },
  {
   "cell_type": "code",
   "execution_count": 2,
   "id": "9088b1c4",
   "metadata": {},
   "outputs": [
    {
     "name": "stderr",
     "output_type": "stream",
     "text": [
      "\n",
      "0: 384x640 (no detections), 1549.5ms\n",
      "Speed: 2.5ms preprocess, 1549.5ms inference, 1.0ms postprocess per image at shape (1, 3, 640, 640)\n",
      "\n",
      "0: 384x640 (no detections), 1586.2ms\n",
      "Speed: 9.5ms preprocess, 1586.2ms inference, 1.0ms postprocess per image at shape (1, 3, 640, 640)\n",
      "\n",
      "0: 384x640 (no detections), 1443.9ms\n",
      "Speed: 4.5ms preprocess, 1443.9ms inference, 1.0ms postprocess per image at shape (1, 3, 640, 640)\n",
      "\n",
      "0: 384x640 (no detections), 1347.3ms\n",
      "Speed: 3.6ms preprocess, 1347.3ms inference, 1.0ms postprocess per image at shape (1, 3, 640, 640)\n",
      "\n",
      "0: 384x640 (no detections), 1609.2ms\n",
      "Speed: 4.1ms preprocess, 1609.2ms inference, 1.0ms postprocess per image at shape (1, 3, 640, 640)\n",
      "\n",
      "0: 384x640 (no detections), 1304.8ms\n",
      "Speed: 4.5ms preprocess, 1304.8ms inference, 1.0ms postprocess per image at shape (1, 3, 640, 640)\n",
      "\n",
      "0: 384x640 (no detections), 1947.4ms\n",
      "Speed: 5.8ms preprocess, 1947.4ms inference, 1.5ms postprocess per image at shape (1, 3, 640, 640)\n",
      "\n",
      "0: 384x640 (no detections), 1822.4ms\n",
      "Speed: 8.0ms preprocess, 1822.4ms inference, 2.0ms postprocess per image at shape (1, 3, 640, 640)\n",
      "\n",
      "0: 384x640 (no detections), 1750.7ms\n",
      "Speed: 5.0ms preprocess, 1750.7ms inference, 2.0ms postprocess per image at shape (1, 3, 640, 640)\n",
      "\n",
      "0: 384x640 (no detections), 1985.9ms\n",
      "Speed: 5.2ms preprocess, 1985.9ms inference, 1.0ms postprocess per image at shape (1, 3, 640, 640)\n",
      "\n",
      "0: 384x640 (no detections), 1846.8ms\n",
      "Speed: 4.0ms preprocess, 1846.8ms inference, 1.0ms postprocess per image at shape (1, 3, 640, 640)\n",
      "\n",
      "0: 384x640 (no detections), 1655.6ms\n",
      "Speed: 6.0ms preprocess, 1655.6ms inference, 2.0ms postprocess per image at shape (1, 3, 640, 640)\n",
      "\n",
      "0: 384x640 (no detections), 1619.0ms\n",
      "Speed: 4.6ms preprocess, 1619.0ms inference, 5.0ms postprocess per image at shape (1, 3, 640, 640)\n",
      "\n",
      "0: 384x640 (no detections), 1612.1ms\n",
      "Speed: 9.5ms preprocess, 1612.1ms inference, 0.0ms postprocess per image at shape (1, 3, 640, 640)\n",
      "\n",
      "0: 384x640 (no detections), 1645.2ms\n",
      "Speed: 0.0ms preprocess, 1645.2ms inference, 0.0ms postprocess per image at shape (1, 3, 640, 640)\n",
      "\n",
      "0: 384x640 (no detections), 1979.2ms\n",
      "Speed: 5.1ms preprocess, 1979.2ms inference, 0.0ms postprocess per image at shape (1, 3, 640, 640)\n",
      "\n",
      "0: 384x640 (no detections), 2225.0ms\n",
      "Speed: 5.1ms preprocess, 2225.0ms inference, 5.0ms postprocess per image at shape (1, 3, 640, 640)\n",
      "\n",
      "0: 384x640 (no detections), 1865.0ms\n",
      "Speed: 0.0ms preprocess, 1865.0ms inference, 5.0ms postprocess per image at shape (1, 3, 640, 640)\n",
      "\n",
      "0: 384x640 (no detections), 1875.1ms\n",
      "Speed: 0.0ms preprocess, 1875.1ms inference, 0.0ms postprocess per image at shape (1, 3, 640, 640)\n",
      "\n",
      "0: 384x640 (no detections), 1710.2ms\n",
      "Speed: 5.0ms preprocess, 1710.2ms inference, 0.0ms postprocess per image at shape (1, 3, 640, 640)\n",
      "\n",
      "0: 384x640 (no detections), 1665.3ms\n",
      "Speed: 4.5ms preprocess, 1665.3ms inference, 0.0ms postprocess per image at shape (1, 3, 640, 640)\n",
      "\n",
      "0: 384x640 (no detections), 1680.0ms\n",
      "Speed: 5.0ms preprocess, 1680.0ms inference, 3.5ms postprocess per image at shape (1, 3, 640, 640)\n",
      "\n",
      "0: 384x640 (no detections), 1680.4ms\n",
      "Speed: 0.0ms preprocess, 1680.4ms inference, 0.0ms postprocess per image at shape (1, 3, 640, 640)\n",
      "\n",
      "0: 384x640 (no detections), 1824.6ms\n",
      "Speed: 5.0ms preprocess, 1824.6ms inference, 5.0ms postprocess per image at shape (1, 3, 640, 640)\n",
      "\n",
      "0: 384x640 (no detections), 2027.5ms\n",
      "Speed: 4.6ms preprocess, 2027.5ms inference, 2.5ms postprocess per image at shape (1, 3, 640, 640)\n",
      "\n",
      "0: 384x640 (no detections), 2109.9ms\n",
      "Speed: 9.0ms preprocess, 2109.9ms inference, 0.0ms postprocess per image at shape (1, 3, 640, 640)\n",
      "\n",
      "0: 384x640 (no detections), 2125.3ms\n",
      "Speed: 5.0ms preprocess, 2125.3ms inference, 0.0ms postprocess per image at shape (1, 3, 640, 640)\n",
      "\n",
      "0: 384x640 (no detections), 2084.7ms\n",
      "Speed: 2.3ms preprocess, 2084.7ms inference, 0.0ms postprocess per image at shape (1, 3, 640, 640)\n",
      "\n",
      "0: 384x640 (no detections), 1982.5ms\n",
      "Speed: 8.6ms preprocess, 1982.5ms inference, 0.0ms postprocess per image at shape (1, 3, 640, 640)\n",
      "\n",
      "0: 384x640 (no detections), 1914.5ms\n",
      "Speed: 14.9ms preprocess, 1914.5ms inference, 0.5ms postprocess per image at shape (1, 3, 640, 640)\n",
      "\n",
      "0: 384x640 (no detections), 1899.9ms\n",
      "Speed: 0.0ms preprocess, 1899.9ms inference, 0.0ms postprocess per image at shape (1, 3, 640, 640)\n",
      "\n",
      "0: 384x640 (no detections), 2075.1ms\n",
      "Speed: 6.0ms preprocess, 2075.1ms inference, 0.0ms postprocess per image at shape (1, 3, 640, 640)\n",
      "\n",
      "0: 384x640 (no detections), 2188.9ms\n",
      "Speed: 5.0ms preprocess, 2188.9ms inference, 0.0ms postprocess per image at shape (1, 3, 640, 640)\n",
      "\n",
      "0: 384x640 (no detections), 2868.4ms\n",
      "Speed: 8.2ms preprocess, 2868.4ms inference, 1.1ms postprocess per image at shape (1, 3, 640, 640)\n",
      "\n",
      "0: 384x640 (no detections), 2400.0ms\n",
      "Speed: 5.0ms preprocess, 2400.0ms inference, 0.0ms postprocess per image at shape (1, 3, 640, 640)\n",
      "\n",
      "0: 384x640 (no detections), 2129.7ms\n",
      "Speed: 10.2ms preprocess, 2129.7ms inference, 0.0ms postprocess per image at shape (1, 3, 640, 640)\n",
      "\n",
      "0: 384x640 (no detections), 2076.6ms\n",
      "Speed: 10.3ms preprocess, 2076.6ms inference, 0.0ms postprocess per image at shape (1, 3, 640, 640)\n",
      "\n",
      "0: 384x640 (no detections), 2051.9ms\n",
      "Speed: 3.0ms preprocess, 2051.9ms inference, 5.0ms postprocess per image at shape (1, 3, 640, 640)\n",
      "\n",
      "0: 384x640 (no detections), 2113.5ms\n",
      "Speed: 8.4ms preprocess, 2113.5ms inference, 0.0ms postprocess per image at shape (1, 3, 640, 640)\n",
      "\n",
      "0: 384x640 (no detections), 2116.0ms\n",
      "Speed: 2.6ms preprocess, 2116.0ms inference, 5.0ms postprocess per image at shape (1, 3, 640, 640)\n",
      "\n",
      "0: 384x640 (no detections), 2184.7ms\n",
      "Speed: 12.6ms preprocess, 2184.7ms inference, 7.0ms postprocess per image at shape (1, 3, 640, 640)\n",
      "\n",
      "0: 384x640 (no detections), 2139.7ms\n",
      "Speed: 10.1ms preprocess, 2139.7ms inference, 0.0ms postprocess per image at shape (1, 3, 640, 640)\n",
      "\n",
      "0: 384x640 (no detections), 2158.4ms\n",
      "Speed: 11.4ms preprocess, 2158.4ms inference, 0.0ms postprocess per image at shape (1, 3, 640, 640)\n",
      "\n",
      "0: 384x640 (no detections), 1951.7ms\n",
      "Speed: 8.1ms preprocess, 1951.7ms inference, 0.0ms postprocess per image at shape (1, 3, 640, 640)\n",
      "\n",
      "0: 384x640 (no detections), 1930.3ms\n",
      "Speed: 9.6ms preprocess, 1930.3ms inference, 0.0ms postprocess per image at shape (1, 3, 640, 640)\n",
      "\n",
      "0: 384x640 (no detections), 2054.6ms\n",
      "Speed: 6.3ms preprocess, 2054.6ms inference, 0.0ms postprocess per image at shape (1, 3, 640, 640)\n",
      "\n",
      "0: 384x640 (no detections), 2110.4ms\n",
      "Speed: 10.1ms preprocess, 2110.4ms inference, 0.0ms postprocess per image at shape (1, 3, 640, 640)\n",
      "\n",
      "0: 384x640 (no detections), 2137.0ms\n",
      "Speed: 9.3ms preprocess, 2137.0ms inference, 0.0ms postprocess per image at shape (1, 3, 640, 640)\n",
      "\n",
      "0: 384x640 (no detections), 2209.2ms\n",
      "Speed: 10.7ms preprocess, 2209.2ms inference, 2.0ms postprocess per image at shape (1, 3, 640, 640)\n",
      "\n",
      "0: 384x640 (no detections), 2149.9ms\n",
      "Speed: 10.1ms preprocess, 2149.9ms inference, 0.0ms postprocess per image at shape (1, 3, 640, 640)\n",
      "\n",
      "0: 384x640 (no detections), 1974.1ms\n",
      "Speed: 7.6ms preprocess, 1974.1ms inference, 2.0ms postprocess per image at shape (1, 3, 640, 640)\n",
      "\n",
      "0: 384x640 (no detections), 1913.0ms\n",
      "Speed: 10.3ms preprocess, 1913.0ms inference, 0.0ms postprocess per image at shape (1, 3, 640, 640)\n",
      "\n",
      "0: 384x640 (no detections), 1854.8ms\n",
      "Speed: 10.0ms preprocess, 1854.8ms inference, 0.0ms postprocess per image at shape (1, 3, 640, 640)\n",
      "\n",
      "0: 384x640 (no detections), 2110.3ms\n",
      "Speed: 6.3ms preprocess, 2110.3ms inference, 5.0ms postprocess per image at shape (1, 3, 640, 640)\n",
      "\n",
      "0: 384x640 1 Hardhat, 1 Person, 1 Safety Vest, 2167.1ms\n",
      "Speed: 5.7ms preprocess, 2167.1ms inference, 22.9ms postprocess per image at shape (1, 3, 640, 640)\n",
      "\n"
     ]
    },
    {
     "name": "stdout",
     "output_type": "stream",
     "text": [
      "Safety Vest\n",
      "Hardhat\n",
      "Person\n"
     ]
    },
    {
     "name": "stderr",
     "output_type": "stream",
     "text": [
      "0: 384x640 3 Hardhats, 1 NO-Mask, 4 NO-Safety Vests, 4 Persons, 1 Safety Vest, 2164.9ms\n",
      "Speed: 5.6ms preprocess, 2164.9ms inference, 13.1ms postprocess per image at shape (1, 3, 640, 640)\n",
      "\n"
     ]
    },
    {
     "name": "stdout",
     "output_type": "stream",
     "text": [
      "Safety Vest\n",
      "Hardhat\n",
      "Person\n",
      "Person\n",
      "NO-Safety Vest\n",
      "NO-Safety Vest\n",
      "NO-Safety Vest\n",
      "Hardhat\n",
      "Person\n",
      "NO-Safety Vest\n",
      "Hardhat\n",
      "NO-Mask\n",
      "Person\n"
     ]
    },
    {
     "name": "stderr",
     "output_type": "stream",
     "text": [
      "0: 384x640 4 Hardhats, 1 NO-Mask, 4 NO-Safety Vests, 7 Persons, 1 Safety Vest, 2069.1ms\n",
      "Speed: 25.2ms preprocess, 2069.1ms inference, 5.0ms postprocess per image at shape (1, 3, 640, 640)\n",
      "\n"
     ]
    },
    {
     "name": "stdout",
     "output_type": "stream",
     "text": [
      "Safety Vest\n",
      "Person\n",
      "Hardhat\n",
      "Person\n",
      "NO-Safety Vest\n",
      "NO-Safety Vest\n",
      "NO-Safety Vest\n",
      "Person\n",
      "Hardhat\n",
      "Hardhat\n",
      "NO-Safety Vest\n",
      "Hardhat\n",
      "Person\n",
      "Person\n",
      "NO-Mask\n",
      "Person\n",
      "Person\n"
     ]
    },
    {
     "name": "stderr",
     "output_type": "stream",
     "text": [
      "0: 384x640 4 Hardhats, 1 NO-Hardhat, 5 NO-Safety Vests, 6 Persons, 1 Safety Vest, 1906.3ms\n",
      "Speed: 8.6ms preprocess, 1906.3ms inference, 5.0ms postprocess per image at shape (1, 3, 640, 640)\n",
      "\n"
     ]
    },
    {
     "name": "stdout",
     "output_type": "stream",
     "text": [
      "Safety Vest\n",
      "Person\n",
      "Hardhat\n",
      "NO-Safety Vest\n",
      "NO-Safety Vest\n",
      "NO-Safety Vest\n",
      "Person\n",
      "Person\n",
      "Hardhat\n",
      "Person\n",
      "Hardhat\n",
      "Hardhat\n",
      "NO-Safety Vest\n",
      "Person\n",
      "Person\n",
      "NO-Safety Vest\n",
      "NO-Hardhat\n"
     ]
    },
    {
     "name": "stderr",
     "output_type": "stream",
     "text": [
      "0: 384x640 5 Hardhats, 1 NO-Hardhat, 5 NO-Safety Vests, 9 Persons, 1 Safety Vest, 1573.8ms\n",
      "Speed: 16.2ms preprocess, 1573.8ms inference, 0.0ms postprocess per image at shape (1, 3, 640, 640)\n",
      "\n"
     ]
    },
    {
     "name": "stdout",
     "output_type": "stream",
     "text": [
      "Safety Vest\n",
      "Hardhat\n",
      "NO-Safety Vest\n",
      "NO-Safety Vest\n",
      "Person\n",
      "NO-Safety Vest\n",
      "Person\n",
      "Person\n",
      "Hardhat\n",
      "Person\n",
      "NO-Safety Vest\n",
      "Hardhat\n",
      "NO-Safety Vest\n",
      "Hardhat\n",
      "Person\n",
      "Person\n",
      "Person\n",
      "Person\n",
      "Person\n",
      "NO-Hardhat\n",
      "Hardhat\n"
     ]
    },
    {
     "name": "stderr",
     "output_type": "stream",
     "text": [
      "0: 384x640 5 Hardhats, 1 NO-Hardhat, 5 NO-Safety Vests, 9 Persons, 1 Safety Vest, 1629.5ms\n",
      "Speed: 15.2ms preprocess, 1629.5ms inference, 5.0ms postprocess per image at shape (1, 3, 640, 640)\n",
      "\n"
     ]
    },
    {
     "name": "stdout",
     "output_type": "stream",
     "text": [
      "Safety Vest\n",
      "Person\n",
      "NO-Safety Vest\n",
      "NO-Safety Vest\n",
      "NO-Safety Vest\n",
      "Hardhat\n",
      "Person\n",
      "Person\n",
      "Hardhat\n",
      "Person\n",
      "NO-Safety Vest\n",
      "Person\n",
      "NO-Safety Vest\n",
      "Hardhat\n",
      "Hardhat\n",
      "Person\n",
      "Person\n",
      "Hardhat\n",
      "Person\n",
      "NO-Hardhat\n",
      "Person\n"
     ]
    },
    {
     "name": "stderr",
     "output_type": "stream",
     "text": [
      "0: 384x640 5 Hardhats, 1 NO-Hardhat, 5 NO-Safety Vests, 7 Persons, 1 Safety Vest, 1639.8ms\n",
      "Speed: 0.0ms preprocess, 1639.8ms inference, 5.0ms postprocess per image at shape (1, 3, 640, 640)\n",
      "\n"
     ]
    },
    {
     "name": "stdout",
     "output_type": "stream",
     "text": [
      "Safety Vest\n",
      "Person\n",
      "NO-Safety Vest\n",
      "NO-Safety Vest\n",
      "NO-Safety Vest\n",
      "Person\n",
      "Hardhat\n",
      "Hardhat\n",
      "Person\n",
      "NO-Safety Vest\n",
      "Person\n",
      "Hardhat\n",
      "NO-Safety Vest\n",
      "Hardhat\n",
      "Person\n",
      "Hardhat\n",
      "Person\n",
      "NO-Hardhat\n",
      "Person\n"
     ]
    },
    {
     "name": "stderr",
     "output_type": "stream",
     "text": [
      "0: 384x640 5 Hardhats, 1 NO-Hardhat, 5 NO-Safety Vests, 7 Persons, 1 Safety Vest, 1820.8ms\n",
      "Speed: 17.9ms preprocess, 1820.8ms inference, 4.6ms postprocess per image at shape (1, 3, 640, 640)\n",
      "\n"
     ]
    },
    {
     "name": "stdout",
     "output_type": "stream",
     "text": [
      "Safety Vest\n",
      "Person\n",
      "NO-Safety Vest\n",
      "NO-Safety Vest\n",
      "NO-Safety Vest\n",
      "Hardhat\n",
      "Person\n",
      "Hardhat\n",
      "Person\n",
      "NO-Safety Vest\n",
      "Person\n",
      "Hardhat\n",
      "Hardhat\n",
      "Hardhat\n",
      "NO-Safety Vest\n",
      "Person\n",
      "Person\n",
      "NO-Hardhat\n",
      "Person\n"
     ]
    },
    {
     "name": "stderr",
     "output_type": "stream",
     "text": [
      "0: 384x640 5 Hardhats, 1 NO-Hardhat, 5 NO-Safety Vests, 7 Persons, 1 Safety Vest, 1889.1ms\n",
      "Speed: 15.9ms preprocess, 1889.1ms inference, 0.0ms postprocess per image at shape (1, 3, 640, 640)\n",
      "\n"
     ]
    },
    {
     "name": "stdout",
     "output_type": "stream",
     "text": [
      "Safety Vest\n",
      "Person\n",
      "NO-Safety Vest\n",
      "NO-Safety Vest\n",
      "Hardhat\n",
      "NO-Safety Vest\n",
      "Person\n",
      "Hardhat\n",
      "Person\n",
      "Person\n",
      "NO-Safety Vest\n",
      "Hardhat\n",
      "Hardhat\n",
      "NO-Safety Vest\n",
      "Hardhat\n",
      "Person\n",
      "Person\n",
      "NO-Hardhat\n",
      "Person\n"
     ]
    },
    {
     "name": "stderr",
     "output_type": "stream",
     "text": [
      "0: 384x640 5 Hardhats, 1 NO-Hardhat, 5 NO-Safety Vests, 7 Persons, 1 Safety Vest, 1929.6ms\n",
      "Speed: 17.5ms preprocess, 1929.6ms inference, 5.0ms postprocess per image at shape (1, 3, 640, 640)\n",
      "\n"
     ]
    },
    {
     "name": "stdout",
     "output_type": "stream",
     "text": [
      "Safety Vest\n",
      "Person\n",
      "NO-Safety Vest\n",
      "Hardhat\n",
      "NO-Safety Vest\n",
      "NO-Safety Vest\n",
      "Person\n",
      "Hardhat\n",
      "Person\n",
      "Person\n",
      "NO-Safety Vest\n",
      "Hardhat\n",
      "Hardhat\n",
      "Hardhat\n",
      "Person\n",
      "Person\n",
      "Person\n",
      "NO-Safety Vest\n",
      "NO-Hardhat\n"
     ]
    },
    {
     "name": "stderr",
     "output_type": "stream",
     "text": [
      "0: 384x640 5 Hardhats, 1 NO-Hardhat, 1 NO-Mask, 5 NO-Safety Vests, 7 Persons, 1 Safety Vest, 1835.1ms\n",
      "Speed: 5.0ms preprocess, 1835.1ms inference, 5.1ms postprocess per image at shape (1, 3, 640, 640)\n",
      "\n"
     ]
    },
    {
     "name": "stdout",
     "output_type": "stream",
     "text": [
      "Safety Vest\n",
      "Person\n",
      "NO-Safety Vest\n",
      "Hardhat\n",
      "NO-Safety Vest\n",
      "NO-Safety Vest\n",
      "Person\n",
      "Hardhat\n",
      "Person\n",
      "NO-Safety Vest\n",
      "Person\n",
      "Hardhat\n",
      "Hardhat\n",
      "Person\n",
      "Person\n",
      "Hardhat\n",
      "Person\n",
      "NO-Safety Vest\n",
      "NO-Hardhat\n",
      "NO-Mask\n"
     ]
    },
    {
     "name": "stderr",
     "output_type": "stream",
     "text": [
      "0: 384x640 5 Hardhats, 1 NO-Hardhat, 5 NO-Safety Vests, 7 Persons, 1 Safety Vest, 1671.7ms\n",
      "Speed: 5.6ms preprocess, 1671.7ms inference, 0.0ms postprocess per image at shape (1, 3, 640, 640)\n",
      "\n"
     ]
    },
    {
     "name": "stdout",
     "output_type": "stream",
     "text": [
      "Person\n",
      "Safety Vest\n",
      "NO-Safety Vest\n",
      "NO-Safety Vest\n",
      "NO-Safety Vest\n",
      "Person\n",
      "Hardhat\n",
      "Person\n",
      "Hardhat\n",
      "Person\n",
      "NO-Safety Vest\n",
      "Hardhat\n",
      "Hardhat\n",
      "Person\n",
      "Person\n",
      "Hardhat\n",
      "Person\n",
      "NO-Hardhat\n",
      "NO-Safety Vest\n"
     ]
    },
    {
     "name": "stderr",
     "output_type": "stream",
     "text": [
      "0: 384x640 5 Hardhats, 1 NO-Hardhat, 4 NO-Safety Vests, 7 Persons, 1 Safety Vest, 1660.3ms\n",
      "Speed: 9.7ms preprocess, 1660.3ms inference, 0.0ms postprocess per image at shape (1, 3, 640, 640)\n",
      "\n"
     ]
    },
    {
     "name": "stdout",
     "output_type": "stream",
     "text": [
      "Person\n",
      "Safety Vest\n",
      "Hardhat\n",
      "NO-Safety Vest\n",
      "NO-Safety Vest\n",
      "NO-Safety Vest\n",
      "Person\n",
      "Person\n",
      "Person\n",
      "Hardhat\n",
      "Hardhat\n",
      "NO-Safety Vest\n",
      "Person\n",
      "Person\n",
      "Hardhat\n",
      "Hardhat\n",
      "Person\n",
      "NO-Hardhat\n"
     ]
    },
    {
     "name": "stderr",
     "output_type": "stream",
     "text": [
      "0: 384x640 5 Hardhats, 1 NO-Hardhat, 4 NO-Safety Vests, 7 Persons, 1 Safety Vest, 1613.4ms\n",
      "Speed: 4.1ms preprocess, 1613.4ms inference, 5.1ms postprocess per image at shape (1, 3, 640, 640)\n",
      "\n"
     ]
    },
    {
     "name": "stdout",
     "output_type": "stream",
     "text": [
      "Safety Vest\n",
      "Person\n",
      "NO-Safety Vest\n",
      "Hardhat\n",
      "NO-Safety Vest\n",
      "Person\n",
      "NO-Safety Vest\n",
      "Person\n",
      "Person\n",
      "Hardhat\n",
      "NO-Safety Vest\n",
      "Hardhat\n",
      "Person\n",
      "Person\n",
      "Hardhat\n",
      "Hardhat\n",
      "Person\n",
      "NO-Hardhat\n"
     ]
    },
    {
     "name": "stderr",
     "output_type": "stream",
     "text": [
      "0: 384x640 5 Hardhats, 1 NO-Hardhat, 4 NO-Safety Vests, 7 Persons, 1 Safety Vest, 1660.2ms\n",
      "Speed: 9.7ms preprocess, 1660.2ms inference, 0.0ms postprocess per image at shape (1, 3, 640, 640)\n",
      "\n"
     ]
    },
    {
     "name": "stdout",
     "output_type": "stream",
     "text": [
      "Safety Vest\n",
      "Person\n",
      "Hardhat\n",
      "NO-Safety Vest\n",
      "NO-Safety Vest\n",
      "Person\n",
      "NO-Safety Vest\n",
      "Person\n",
      "Hardhat\n",
      "Person\n",
      "NO-Safety Vest\n",
      "Hardhat\n",
      "Person\n",
      "Person\n",
      "Hardhat\n",
      "Hardhat\n",
      "Person\n",
      "NO-Hardhat\n"
     ]
    },
    {
     "name": "stderr",
     "output_type": "stream",
     "text": [
      "0: 384x640 5 Hardhats, 1 NO-Hardhat, 4 NO-Safety Vests, 7 Persons, 1 Safety Vest, 1690.0ms\n",
      "Speed: 2.5ms preprocess, 1690.0ms inference, 0.0ms postprocess per image at shape (1, 3, 640, 640)\n",
      "\n"
     ]
    },
    {
     "name": "stdout",
     "output_type": "stream",
     "text": [
      "Safety Vest\n",
      "Person\n",
      "Hardhat\n",
      "NO-Safety Vest\n",
      "NO-Safety Vest\n",
      "Person\n",
      "Person\n",
      "NO-Safety Vest\n",
      "Hardhat\n",
      "NO-Safety Vest\n",
      "Person\n",
      "Person\n",
      "Hardhat\n",
      "Person\n",
      "Hardhat\n",
      "Hardhat\n",
      "Person\n",
      "NO-Hardhat\n"
     ]
    },
    {
     "name": "stderr",
     "output_type": "stream",
     "text": [
      "0: 384x640 5 Hardhats, 1 NO-Hardhat, 4 NO-Safety Vests, 7 Persons, 1 Safety Vest, 1874.8ms\n",
      "Speed: 3.1ms preprocess, 1874.8ms inference, 1.5ms postprocess per image at shape (1, 3, 640, 640)\n",
      "\n"
     ]
    },
    {
     "name": "stdout",
     "output_type": "stream",
     "text": [
      "Safety Vest\n",
      "Person\n",
      "Hardhat\n",
      "NO-Safety Vest\n",
      "NO-Safety Vest\n",
      "Person\n",
      "NO-Safety Vest\n",
      "Person\n",
      "Hardhat\n",
      "NO-Safety Vest\n",
      "Person\n",
      "Person\n",
      "Hardhat\n",
      "Hardhat\n",
      "Person\n",
      "Person\n",
      "Hardhat\n",
      "NO-Hardhat\n"
     ]
    },
    {
     "name": "stderr",
     "output_type": "stream",
     "text": [
      "0: 384x640 5 Hardhats, 1 NO-Hardhat, 4 NO-Safety Vests, 7 Persons, 1 Safety Vest, 1874.9ms\n",
      "Speed: 13.3ms preprocess, 1874.9ms inference, 2.5ms postprocess per image at shape (1, 3, 640, 640)\n",
      "\n"
     ]
    },
    {
     "name": "stdout",
     "output_type": "stream",
     "text": [
      "Safety Vest\n",
      "Person\n",
      "Hardhat\n",
      "NO-Safety Vest\n",
      "NO-Safety Vest\n",
      "Person\n",
      "NO-Safety Vest\n",
      "Person\n",
      "Hardhat\n",
      "Person\n",
      "NO-Safety Vest\n",
      "Person\n",
      "Hardhat\n",
      "Hardhat\n",
      "Hardhat\n",
      "Person\n",
      "NO-Hardhat\n",
      "Person\n"
     ]
    },
    {
     "name": "stderr",
     "output_type": "stream",
     "text": [
      "0: 384x640 5 Hardhats, 4 NO-Safety Vests, 6 Persons, 1 Safety Vest, 1864.9ms\n",
      "Speed: 10.1ms preprocess, 1864.9ms inference, 0.0ms postprocess per image at shape (1, 3, 640, 640)\n",
      "\n"
     ]
    },
    {
     "name": "stdout",
     "output_type": "stream",
     "text": [
      "Safety Vest\n",
      "Person\n",
      "Hardhat\n",
      "NO-Safety Vest\n",
      "NO-Safety Vest\n",
      "Person\n",
      "NO-Safety Vest\n",
      "Person\n",
      "Hardhat\n",
      "NO-Safety Vest\n",
      "Person\n",
      "Person\n",
      "Hardhat\n",
      "Hardhat\n",
      "Hardhat\n",
      "Person\n"
     ]
    },
    {
     "name": "stderr",
     "output_type": "stream",
     "text": [
      "0: 384x640 5 Hardhats, 4 NO-Safety Vests, 7 Persons, 1 Safety Vest, 1864.9ms\n",
      "Speed: 14.7ms preprocess, 1864.9ms inference, 0.0ms postprocess per image at shape (1, 3, 640, 640)\n",
      "\n"
     ]
    },
    {
     "name": "stdout",
     "output_type": "stream",
     "text": [
      "Person\n",
      "Safety Vest\n",
      "NO-Safety Vest\n",
      "Hardhat\n",
      "NO-Safety Vest\n",
      "Person\n",
      "NO-Safety Vest\n",
      "Person\n",
      "Person\n",
      "NO-Safety Vest\n",
      "Hardhat\n",
      "Hardhat\n",
      "Person\n",
      "Hardhat\n",
      "Hardhat\n",
      "Person\n",
      "Person\n"
     ]
    },
    {
     "name": "stderr",
     "output_type": "stream",
     "text": [
      "0: 384x640 5 Hardhats, 4 NO-Safety Vests, 7 Persons, 1 Safety Vest, 1785.2ms\n",
      "Speed: 0.0ms preprocess, 1785.2ms inference, 5.0ms postprocess per image at shape (1, 3, 640, 640)\n",
      "\n"
     ]
    },
    {
     "name": "stdout",
     "output_type": "stream",
     "text": [
      "Safety Vest\n",
      "Person\n",
      "Hardhat\n",
      "NO-Safety Vest\n",
      "NO-Safety Vest\n",
      "Person\n",
      "NO-Safety Vest\n",
      "Person\n",
      "Hardhat\n",
      "Person\n",
      "NO-Safety Vest\n",
      "Person\n",
      "Person\n",
      "Hardhat\n",
      "Hardhat\n",
      "Hardhat\n",
      "Person\n"
     ]
    },
    {
     "name": "stderr",
     "output_type": "stream",
     "text": [
      "0: 384x640 5 Hardhats, 5 NO-Safety Vests, 7 Persons, 1 Safety Vest, 1934.9ms\n",
      "Speed: 10.0ms preprocess, 1934.9ms inference, 0.0ms postprocess per image at shape (1, 3, 640, 640)\n",
      "\n"
     ]
    },
    {
     "name": "stdout",
     "output_type": "stream",
     "text": [
      "Safety Vest\n",
      "Person\n",
      "Hardhat\n",
      "NO-Safety Vest\n",
      "Person\n",
      "NO-Safety Vest\n",
      "NO-Safety Vest\n",
      "Person\n",
      "Hardhat\n",
      "NO-Safety Vest\n",
      "Person\n",
      "Hardhat\n",
      "Person\n",
      "Hardhat\n",
      "Person\n",
      "Hardhat\n",
      "Person\n",
      "NO-Safety Vest\n"
     ]
    },
    {
     "name": "stderr",
     "output_type": "stream",
     "text": [
      "0: 384x640 5 Hardhats, 5 NO-Safety Vests, 7 Persons, 1 Safety Vest, 1729.6ms\n",
      "Speed: 10.4ms preprocess, 1729.6ms inference, 2.0ms postprocess per image at shape (1, 3, 640, 640)\n",
      "\n"
     ]
    },
    {
     "name": "stdout",
     "output_type": "stream",
     "text": [
      "Safety Vest\n",
      "Person\n",
      "NO-Safety Vest\n",
      "Hardhat\n",
      "Person\n",
      "NO-Safety Vest\n",
      "NO-Safety Vest\n",
      "Person\n",
      "Person\n",
      "Hardhat\n",
      "NO-Safety Vest\n",
      "Hardhat\n",
      "Hardhat\n",
      "Person\n",
      "Person\n",
      "Hardhat\n",
      "NO-Safety Vest\n",
      "Person\n"
     ]
    },
    {
     "name": "stderr",
     "output_type": "stream",
     "text": [
      "0: 384x640 5 Hardhats, 6 NO-Safety Vests, 7 Persons, 1 Safety Vest, 1799.7ms\n",
      "Speed: 10.0ms preprocess, 1799.7ms inference, 0.0ms postprocess per image at shape (1, 3, 640, 640)\n",
      "\n"
     ]
    },
    {
     "name": "stdout",
     "output_type": "stream",
     "text": [
      "Person\n",
      "Safety Vest\n",
      "Hardhat\n",
      "NO-Safety Vest\n",
      "Person\n",
      "NO-Safety Vest\n",
      "NO-Safety Vest\n",
      "Person\n",
      "Hardhat\n",
      "Person\n",
      "NO-Safety Vest\n",
      "Hardhat\n",
      "Hardhat\n",
      "Person\n",
      "Person\n",
      "Hardhat\n",
      "NO-Safety Vest\n",
      "Person\n",
      "NO-Safety Vest\n"
     ]
    },
    {
     "name": "stderr",
     "output_type": "stream",
     "text": [
      "0: 384x640 5 Hardhats, 6 NO-Safety Vests, 7 Persons, 1 Safety Vest, 1925.1ms\n",
      "Speed: 12.0ms preprocess, 1925.1ms inference, 0.0ms postprocess per image at shape (1, 3, 640, 640)\n",
      "\n"
     ]
    },
    {
     "name": "stdout",
     "output_type": "stream",
     "text": [
      "Person\n",
      "Safety Vest\n",
      "Hardhat\n",
      "NO-Safety Vest\n",
      "Person\n",
      "NO-Safety Vest\n",
      "NO-Safety Vest\n",
      "Person\n",
      "Hardhat\n",
      "Hardhat\n",
      "NO-Safety Vest\n",
      "Person\n",
      "Person\n",
      "Hardhat\n",
      "Person\n",
      "Hardhat\n",
      "NO-Safety Vest\n",
      "Person\n",
      "NO-Safety Vest\n"
     ]
    },
    {
     "name": "stderr",
     "output_type": "stream",
     "text": [
      "0: 384x640 5 Hardhats, 6 NO-Safety Vests, 7 Persons, 1 Safety Vest, 1875.1ms\n",
      "Speed: 0.0ms preprocess, 1875.1ms inference, 0.0ms postprocess per image at shape (1, 3, 640, 640)\n",
      "\n"
     ]
    },
    {
     "name": "stdout",
     "output_type": "stream",
     "text": [
      "Safety Vest\n",
      "Person\n",
      "Hardhat\n",
      "NO-Safety Vest\n",
      "Person\n",
      "NO-Safety Vest\n",
      "NO-Safety Vest\n",
      "Person\n",
      "Hardhat\n",
      "Hardhat\n",
      "Hardhat\n",
      "NO-Safety Vest\n",
      "Person\n",
      "Person\n",
      "Person\n",
      "Hardhat\n",
      "NO-Safety Vest\n",
      "Person\n",
      "NO-Safety Vest\n"
     ]
    },
    {
     "name": "stderr",
     "output_type": "stream",
     "text": [
      "0: 384x640 5 Hardhats, 6 NO-Safety Vests, 7 Persons, 1 Safety Vest, 1869.0ms\n",
      "Speed: 18.6ms preprocess, 1869.0ms inference, 0.0ms postprocess per image at shape (1, 3, 640, 640)\n",
      "\n"
     ]
    },
    {
     "name": "stdout",
     "output_type": "stream",
     "text": [
      "Person\n",
      "Safety Vest\n",
      "Hardhat\n",
      "NO-Safety Vest\n",
      "Person\n",
      "NO-Safety Vest\n",
      "NO-Safety Vest\n",
      "Person\n",
      "Person\n",
      "Hardhat\n",
      "Hardhat\n",
      "Hardhat\n",
      "NO-Safety Vest\n",
      "Person\n",
      "Person\n",
      "NO-Safety Vest\n",
      "Hardhat\n",
      "Person\n",
      "NO-Safety Vest\n"
     ]
    },
    {
     "name": "stderr",
     "output_type": "stream",
     "text": [
      "0: 384x640 5 Hardhats, 6 NO-Safety Vests, 7 Persons, 1 Safety Vest, 1 machinery, 1874.5ms\n",
      "Speed: 15.4ms preprocess, 1874.5ms inference, 0.0ms postprocess per image at shape (1, 3, 640, 640)\n",
      "\n"
     ]
    },
    {
     "name": "stdout",
     "output_type": "stream",
     "text": [
      "Person\n",
      "Safety Vest\n",
      "Person\n",
      "Hardhat\n",
      "NO-Safety Vest\n",
      "NO-Safety Vest\n",
      "Person\n",
      "NO-Safety Vest\n",
      "Person\n",
      "Hardhat\n",
      "Hardhat\n",
      "Hardhat\n",
      "NO-Safety Vest\n",
      "Person\n",
      "Person\n",
      "Hardhat\n",
      "NO-Safety Vest\n",
      "Person\n",
      "NO-Safety Vest\n",
      "machinery\n"
     ]
    },
    {
     "name": "stderr",
     "output_type": "stream",
     "text": [
      "0: 384x640 5 Hardhats, 6 NO-Safety Vests, 7 Persons, 1 Safety Vest, 1689.6ms\n",
      "Speed: 5.0ms preprocess, 1689.6ms inference, 0.0ms postprocess per image at shape (1, 3, 640, 640)\n",
      "\n"
     ]
    },
    {
     "name": "stdout",
     "output_type": "stream",
     "text": [
      "Safety Vest\n",
      "Person\n",
      "Person\n",
      "Hardhat\n",
      "NO-Safety Vest\n",
      "NO-Safety Vest\n",
      "Person\n",
      "NO-Safety Vest\n",
      "Hardhat\n",
      "Person\n",
      "Hardhat\n",
      "Hardhat\n",
      "NO-Safety Vest\n",
      "Person\n",
      "Person\n",
      "Hardhat\n",
      "NO-Safety Vest\n",
      "Person\n",
      "NO-Safety Vest\n"
     ]
    },
    {
     "name": "stderr",
     "output_type": "stream",
     "text": [
      "0: 384x640 5 Hardhats, 1 NO-Hardhat, 6 NO-Safety Vests, 7 Persons, 1 Safety Vest, 1 machinery, 1639.9ms\n",
      "Speed: 9.6ms preprocess, 1639.9ms inference, 0.0ms postprocess per image at shape (1, 3, 640, 640)\n",
      "\n"
     ]
    },
    {
     "name": "stdout",
     "output_type": "stream",
     "text": [
      "Safety Vest\n",
      "Person\n",
      "NO-Safety Vest\n",
      "Person\n",
      "Hardhat\n",
      "NO-Safety Vest\n",
      "Person\n",
      "NO-Safety Vest\n",
      "Hardhat\n",
      "Person\n",
      "Hardhat\n",
      "Hardhat\n",
      "NO-Safety Vest\n",
      "Person\n",
      "Person\n",
      "NO-Safety Vest\n",
      "machinery\n",
      "Hardhat\n",
      "NO-Hardhat\n",
      "NO-Safety Vest\n",
      "Person\n"
     ]
    },
    {
     "name": "stderr",
     "output_type": "stream",
     "text": [
      "0: 384x640 5 Hardhats, 1 NO-Mask, 6 NO-Safety Vests, 8 Persons, 1 Safety Vest, 1 machinery, 1554.9ms\n",
      "Speed: 10.1ms preprocess, 1554.9ms inference, 0.0ms postprocess per image at shape (1, 3, 640, 640)\n",
      "\n"
     ]
    },
    {
     "name": "stdout",
     "output_type": "stream",
     "text": [
      "machinery\n",
      "Safety Vest\n",
      "Person\n",
      "NO-Safety Vest\n",
      "Person\n",
      "NO-Safety Vest\n",
      "Person\n",
      "Hardhat\n",
      "NO-Safety Vest\n",
      "Hardhat\n",
      "Hardhat\n",
      "Person\n",
      "Hardhat\n",
      "NO-Safety Vest\n",
      "Person\n",
      "NO-Safety Vest\n",
      "Person\n",
      "Hardhat\n",
      "Person\n",
      "Person\n",
      "NO-Safety Vest\n",
      "NO-Mask\n"
     ]
    },
    {
     "name": "stderr",
     "output_type": "stream",
     "text": [
      "0: 384x640 1 Person, 1 Safety Vest, 1648.1ms\n",
      "Speed: 8.6ms preprocess, 1648.1ms inference, 0.0ms postprocess per image at shape (1, 3, 640, 640)\n",
      "\n"
     ]
    },
    {
     "name": "stdout",
     "output_type": "stream",
     "text": [
      "Person\n",
      "Safety Vest\n"
     ]
    },
    {
     "name": "stderr",
     "output_type": "stream",
     "text": [
      "0: 384x640 1 Person, 1 Safety Vest, 1644.5ms\n",
      "Speed: 6.6ms preprocess, 1644.5ms inference, 0.0ms postprocess per image at shape (1, 3, 640, 640)\n",
      "\n"
     ]
    },
    {
     "name": "stdout",
     "output_type": "stream",
     "text": [
      "Person\n",
      "Safety Vest\n"
     ]
    },
    {
     "name": "stderr",
     "output_type": "stream",
     "text": [
      "0: 384x640 1 Person, 1 Safety Vest, 1844.6ms\n",
      "Speed: 5.1ms preprocess, 1844.6ms inference, 5.0ms postprocess per image at shape (1, 3, 640, 640)\n",
      "\n"
     ]
    },
    {
     "name": "stdout",
     "output_type": "stream",
     "text": [
      "Person\n",
      "Safety Vest\n"
     ]
    },
    {
     "name": "stderr",
     "output_type": "stream",
     "text": [
      "0: 384x640 1 Person, 1 Safety Vest, 1873.0ms\n",
      "Speed: 6.0ms preprocess, 1873.0ms inference, 5.0ms postprocess per image at shape (1, 3, 640, 640)\n",
      "\n"
     ]
    },
    {
     "name": "stdout",
     "output_type": "stream",
     "text": [
      "Person\n",
      "Safety Vest\n"
     ]
    },
    {
     "name": "stderr",
     "output_type": "stream",
     "text": [
      "0: 384x640 1 Person, 1 Safety Vest, 1874.8ms\n",
      "Speed: 20.3ms preprocess, 1874.8ms inference, 0.0ms postprocess per image at shape (1, 3, 640, 640)\n",
      "\n"
     ]
    },
    {
     "name": "stdout",
     "output_type": "stream",
     "text": [
      "Person\n",
      "Safety Vest\n"
     ]
    },
    {
     "name": "stderr",
     "output_type": "stream",
     "text": [
      "0: 384x640 1 Person, 1 Safety Vest, 1882.6ms\n",
      "Speed: 9.1ms preprocess, 1882.6ms inference, 3.6ms postprocess per image at shape (1, 3, 640, 640)\n",
      "\n"
     ]
    },
    {
     "name": "stdout",
     "output_type": "stream",
     "text": [
      "Person\n",
      "Safety Vest\n"
     ]
    },
    {
     "name": "stderr",
     "output_type": "stream",
     "text": [
      "0: 384x640 1 Person, 1 Safety Vest, 1710.2ms\n",
      "Speed: 0.0ms preprocess, 1710.2ms inference, 5.0ms postprocess per image at shape (1, 3, 640, 640)\n",
      "\n"
     ]
    },
    {
     "name": "stdout",
     "output_type": "stream",
     "text": [
      "Person\n",
      "Safety Vest\n"
     ]
    },
    {
     "name": "stderr",
     "output_type": "stream",
     "text": [
      "0: 384x640 1 NO-Mask, 1 Person, 1 Safety Vest, 1634.8ms\n",
      "Speed: 8.2ms preprocess, 1634.8ms inference, 5.0ms postprocess per image at shape (1, 3, 640, 640)\n",
      "\n"
     ]
    },
    {
     "name": "stdout",
     "output_type": "stream",
     "text": [
      "Person\n",
      "Safety Vest\n",
      "NO-Mask\n"
     ]
    },
    {
     "name": "stderr",
     "output_type": "stream",
     "text": [
      "0: 384x640 1 NO-Mask, 1 Person, 1 Safety Vest, 1659.5ms\n",
      "Speed: 10.2ms preprocess, 1659.5ms inference, 2.0ms postprocess per image at shape (1, 3, 640, 640)\n",
      "\n"
     ]
    },
    {
     "name": "stdout",
     "output_type": "stream",
     "text": [
      "Person\n",
      "Safety Vest\n",
      "NO-Mask\n"
     ]
    },
    {
     "name": "stderr",
     "output_type": "stream",
     "text": [
      "0: 384x640 1 NO-Mask, 1 Person, 1 Safety Vest, 1637.1ms\n",
      "Speed: 11.7ms preprocess, 1637.1ms inference, 0.0ms postprocess per image at shape (1, 3, 640, 640)\n",
      "\n"
     ]
    },
    {
     "name": "stdout",
     "output_type": "stream",
     "text": [
      "Person\n",
      "Safety Vest\n",
      "NO-Mask\n"
     ]
    },
    {
     "name": "stderr",
     "output_type": "stream",
     "text": [
      "0: 384x640 1 NO-Mask, 1 Person, 1 Safety Vest, 1710.3ms\n",
      "Speed: 4.0ms preprocess, 1710.3ms inference, 0.0ms postprocess per image at shape (1, 3, 640, 640)\n",
      "\n"
     ]
    },
    {
     "name": "stdout",
     "output_type": "stream",
     "text": [
      "Person\n",
      "Safety Vest\n",
      "NO-Mask\n"
     ]
    },
    {
     "name": "stderr",
     "output_type": "stream",
     "text": [
      "0: 384x640 1 NO-Mask, 2 Persons, 1 Safety Vest, 1839.9ms\n",
      "Speed: 14.9ms preprocess, 1839.9ms inference, 0.0ms postprocess per image at shape (1, 3, 640, 640)\n",
      "\n"
     ]
    },
    {
     "name": "stdout",
     "output_type": "stream",
     "text": [
      "Safety Vest\n",
      "Person\n",
      "Person\n",
      "NO-Mask\n"
     ]
    },
    {
     "name": "stderr",
     "output_type": "stream",
     "text": [
      "0: 384x640 2 Persons, 1 Safety Vest, 1899.7ms\n",
      "Speed: 5.1ms preprocess, 1899.7ms inference, 0.0ms postprocess per image at shape (1, 3, 640, 640)\n",
      "\n"
     ]
    },
    {
     "name": "stdout",
     "output_type": "stream",
     "text": [
      "Person\n",
      "Safety Vest\n",
      "Person\n"
     ]
    },
    {
     "name": "stderr",
     "output_type": "stream",
     "text": [
      "0: 384x640 2 Persons, 1 Safety Vest, 2499.9ms\n",
      "Speed: 12.2ms preprocess, 2499.9ms inference, 0.0ms postprocess per image at shape (1, 3, 640, 640)\n",
      "\n"
     ]
    },
    {
     "name": "stdout",
     "output_type": "stream",
     "text": [
      "Person\n",
      "Safety Vest\n",
      "Person\n"
     ]
    },
    {
     "name": "stderr",
     "output_type": "stream",
     "text": [
      "0: 384x640 1 NO-Mask, 1 Person, 1 Safety Vest, 2175.2ms\n",
      "Speed: 13.1ms preprocess, 2175.2ms inference, 4.1ms postprocess per image at shape (1, 3, 640, 640)\n",
      "\n"
     ]
    },
    {
     "name": "stdout",
     "output_type": "stream",
     "text": [
      "Person\n",
      "Safety Vest\n",
      "NO-Mask\n"
     ]
    },
    {
     "name": "stderr",
     "output_type": "stream",
     "text": [
      "0: 384x640 1 NO-Mask, 1 Person, 1 Safety Vest, 1700.0ms\n",
      "Speed: 9.5ms preprocess, 1700.0ms inference, 5.1ms postprocess per image at shape (1, 3, 640, 640)\n",
      "\n"
     ]
    },
    {
     "name": "stdout",
     "output_type": "stream",
     "text": [
      "Person\n",
      "NO-Mask\n",
      "Safety Vest\n"
     ]
    },
    {
     "name": "stderr",
     "output_type": "stream",
     "text": [
      "0: 384x640 1 NO-Mask, 1 Person, 1 Safety Vest, 1753.6ms\n",
      "Speed: 7.9ms preprocess, 1753.6ms inference, 0.0ms postprocess per image at shape (1, 3, 640, 640)\n",
      "\n"
     ]
    },
    {
     "name": "stdout",
     "output_type": "stream",
     "text": [
      "Person\n",
      "Safety Vest\n",
      "NO-Mask\n"
     ]
    },
    {
     "name": "stderr",
     "output_type": "stream",
     "text": [
      "0: 384x640 1 NO-Mask, 1 Person, 1 Safety Vest, 1849.3ms\n",
      "Speed: 8.1ms preprocess, 1849.3ms inference, 0.0ms postprocess per image at shape (1, 3, 640, 640)\n",
      "\n"
     ]
    },
    {
     "name": "stdout",
     "output_type": "stream",
     "text": [
      "Person\n",
      "Safety Vest\n",
      "NO-Mask\n"
     ]
    },
    {
     "name": "stderr",
     "output_type": "stream",
     "text": [
      "0: 384x640 1 Person, 1 Safety Vest, 1859.7ms\n",
      "Speed: 5.0ms preprocess, 1859.7ms inference, 4.5ms postprocess per image at shape (1, 3, 640, 640)\n",
      "\n"
     ]
    },
    {
     "name": "stdout",
     "output_type": "stream",
     "text": [
      "Person\n",
      "Safety Vest\n"
     ]
    },
    {
     "name": "stderr",
     "output_type": "stream",
     "text": [
      "0: 384x640 1 Person, 1 Safety Vest, 1858.3ms\n",
      "Speed: 11.2ms preprocess, 1858.3ms inference, 6.5ms postprocess per image at shape (1, 3, 640, 640)\n",
      "\n"
     ]
    },
    {
     "name": "stdout",
     "output_type": "stream",
     "text": [
      "Person\n",
      "Safety Vest\n"
     ]
    },
    {
     "name": "stderr",
     "output_type": "stream",
     "text": [
      "0: 384x640 1 Person, 1 Safety Vest, 1888.1ms\n",
      "Speed: 2.1ms preprocess, 1888.1ms inference, 5.0ms postprocess per image at shape (1, 3, 640, 640)\n",
      "\n"
     ]
    },
    {
     "name": "stdout",
     "output_type": "stream",
     "text": [
      "Person\n",
      "Safety Vest\n"
     ]
    },
    {
     "name": "stderr",
     "output_type": "stream",
     "text": [
      "0: 384x640 1 Person, 1 Safety Vest, 1878.1ms\n",
      "Speed: 12.0ms preprocess, 1878.1ms inference, 7.0ms postprocess per image at shape (1, 3, 640, 640)\n",
      "\n"
     ]
    },
    {
     "name": "stdout",
     "output_type": "stream",
     "text": [
      "Person\n",
      "Safety Vest\n"
     ]
    },
    {
     "name": "stderr",
     "output_type": "stream",
     "text": [
      "0: 384x640 1 Person, 1 Safety Vest, 1862.3ms\n",
      "Speed: 8.6ms preprocess, 1862.3ms inference, 4.0ms postprocess per image at shape (1, 3, 640, 640)\n",
      "\n"
     ]
    },
    {
     "name": "stdout",
     "output_type": "stream",
     "text": [
      "Person\n",
      "Safety Vest\n"
     ]
    },
    {
     "name": "stderr",
     "output_type": "stream",
     "text": [
      "0: 384x640 1 Person, 1 Safety Vest, 1824.6ms\n",
      "Speed: 10.1ms preprocess, 1824.6ms inference, 0.0ms postprocess per image at shape (1, 3, 640, 640)\n",
      "\n"
     ]
    },
    {
     "name": "stdout",
     "output_type": "stream",
     "text": [
      "Person\n",
      "Safety Vest\n"
     ]
    },
    {
     "name": "stderr",
     "output_type": "stream",
     "text": [
      "0: 384x640 1 Person, 1 Safety Vest, 1661.5ms\n",
      "Speed: 8.7ms preprocess, 1661.5ms inference, 0.0ms postprocess per image at shape (1, 3, 640, 640)\n",
      "\n"
     ]
    },
    {
     "name": "stdout",
     "output_type": "stream",
     "text": [
      "Person\n",
      "Safety Vest\n"
     ]
    },
    {
     "name": "stderr",
     "output_type": "stream",
     "text": [
      "0: 384x640 1 NO-Mask, 1 Person, 1 Safety Vest, 1673.9ms\n",
      "Speed: 15.2ms preprocess, 1673.9ms inference, 1.1ms postprocess per image at shape (1, 3, 640, 640)\n",
      "\n"
     ]
    },
    {
     "name": "stdout",
     "output_type": "stream",
     "text": [
      "Person\n",
      "Safety Vest\n",
      "NO-Mask\n"
     ]
    },
    {
     "name": "stderr",
     "output_type": "stream",
     "text": [
      "0: 384x640 1 NO-Mask, 1 Person, 2 Safety Vests, 1635.1ms\n",
      "Speed: 5.0ms preprocess, 1635.1ms inference, 0.0ms postprocess per image at shape (1, 3, 640, 640)\n",
      "\n"
     ]
    },
    {
     "name": "stdout",
     "output_type": "stream",
     "text": [
      "Person\n",
      "Safety Vest\n",
      "NO-Mask\n",
      "Safety Vest\n"
     ]
    },
    {
     "name": "stderr",
     "output_type": "stream",
     "text": [
      "0: 384x640 1 NO-Mask, 1 Person, 2 Safety Vests, 1790.3ms\n",
      "Speed: 20.0ms preprocess, 1790.3ms inference, 0.0ms postprocess per image at shape (1, 3, 640, 640)\n",
      "\n"
     ]
    },
    {
     "name": "stdout",
     "output_type": "stream",
     "text": [
      "Person\n",
      "NO-Mask\n",
      "Safety Vest\n",
      "Safety Vest\n"
     ]
    },
    {
     "name": "stderr",
     "output_type": "stream",
     "text": [
      "0: 384x640 1 NO-Mask, 1 Person, 1 machinery, 1894.7ms\n",
      "Speed: 10.2ms preprocess, 1894.7ms inference, 0.0ms postprocess per image at shape (1, 3, 640, 640)\n",
      "\n"
     ]
    },
    {
     "name": "stdout",
     "output_type": "stream",
     "text": [
      "Person\n",
      "machinery\n",
      "NO-Mask\n"
     ]
    },
    {
     "name": "stderr",
     "output_type": "stream",
     "text": [
      "0: 384x640 1 Hardhat, 1 Person, 1 machinery, 1895.3ms\n",
      "Speed: 9.9ms preprocess, 1895.3ms inference, 5.0ms postprocess per image at shape (1, 3, 640, 640)\n",
      "\n"
     ]
    },
    {
     "name": "stdout",
     "output_type": "stream",
     "text": [
      "Person\n",
      "Hardhat\n",
      "machinery\n"
     ]
    },
    {
     "name": "stderr",
     "output_type": "stream",
     "text": [
      "0: 384x640 1 Person, 1889.9ms\n",
      "Speed: 5.1ms preprocess, 1889.9ms inference, 1.1ms postprocess per image at shape (1, 3, 640, 640)\n",
      "\n"
     ]
    },
    {
     "name": "stdout",
     "output_type": "stream",
     "text": [
      "Person\n"
     ]
    },
    {
     "name": "stderr",
     "output_type": "stream",
     "text": [
      "0: 384x640 1 Person, 1801.0ms\n",
      "Speed: 7.5ms preprocess, 1801.0ms inference, 0.0ms postprocess per image at shape (1, 3, 640, 640)\n",
      "\n"
     ]
    },
    {
     "name": "stdout",
     "output_type": "stream",
     "text": [
      "Person\n"
     ]
    },
    {
     "name": "stderr",
     "output_type": "stream",
     "text": [
      "0: 384x640 1 Person, 1670.0ms\n",
      "Speed: 10.1ms preprocess, 1670.0ms inference, 0.0ms postprocess per image at shape (1, 3, 640, 640)\n",
      "\n"
     ]
    },
    {
     "name": "stdout",
     "output_type": "stream",
     "text": [
      "Person\n"
     ]
    },
    {
     "name": "stderr",
     "output_type": "stream",
     "text": [
      "0: 384x640 1 Person, 1644.8ms\n",
      "Speed: 15.9ms preprocess, 1644.8ms inference, 0.0ms postprocess per image at shape (1, 3, 640, 640)\n",
      "\n"
     ]
    },
    {
     "name": "stdout",
     "output_type": "stream",
     "text": [
      "Person\n"
     ]
    },
    {
     "name": "stderr",
     "output_type": "stream",
     "text": [
      "0: 384x640 (no detections), 1671.6ms\n",
      "Speed: 7.6ms preprocess, 1671.6ms inference, 0.0ms postprocess per image at shape (1, 3, 640, 640)\n",
      "\n",
      "0: 384x640 (no detections), 1611.9ms\n",
      "Speed: 5.0ms preprocess, 1611.9ms inference, 0.0ms postprocess per image at shape (1, 3, 640, 640)\n",
      "\n",
      "0: 384x640 1 Person, 1814.5ms\n",
      "Speed: 15.2ms preprocess, 1814.5ms inference, 5.0ms postprocess per image at shape (1, 3, 640, 640)\n",
      "\n"
     ]
    },
    {
     "name": "stdout",
     "output_type": "stream",
     "text": [
      "Person\n"
     ]
    },
    {
     "name": "stderr",
     "output_type": "stream",
     "text": [
      "0: 384x640 1 Person, 1885.0ms\n",
      "Speed: 9.6ms preprocess, 1885.0ms inference, 0.0ms postprocess per image at shape (1, 3, 640, 640)\n",
      "\n"
     ]
    },
    {
     "name": "stdout",
     "output_type": "stream",
     "text": [
      "Person\n"
     ]
    },
    {
     "name": "stderr",
     "output_type": "stream",
     "text": [
      "0: 384x640 1 Person, 1879.9ms\n",
      "Speed: 5.0ms preprocess, 1879.9ms inference, 0.0ms postprocess per image at shape (1, 3, 640, 640)\n",
      "\n"
     ]
    },
    {
     "name": "stdout",
     "output_type": "stream",
     "text": [
      "Person\n"
     ]
    },
    {
     "name": "stderr",
     "output_type": "stream",
     "text": [
      "0: 384x640 1 Person, 1879.9ms\n",
      "Speed: 14.7ms preprocess, 1879.9ms inference, 5.0ms postprocess per image at shape (1, 3, 640, 640)\n",
      "\n"
     ]
    },
    {
     "name": "stdout",
     "output_type": "stream",
     "text": [
      "Person\n"
     ]
    },
    {
     "name": "stderr",
     "output_type": "stream",
     "text": [
      "0: 384x640 1 Person, 1685.2ms\n",
      "Speed: 13.2ms preprocess, 1685.2ms inference, 3.0ms postprocess per image at shape (1, 3, 640, 640)\n",
      "\n"
     ]
    },
    {
     "name": "stdout",
     "output_type": "stream",
     "text": [
      "Person\n"
     ]
    },
    {
     "name": "stderr",
     "output_type": "stream",
     "text": [
      "0: 384x640 1 Person, 1615.1ms\n",
      "Speed: 14.8ms preprocess, 1615.1ms inference, 0.0ms postprocess per image at shape (1, 3, 640, 640)\n",
      "\n"
     ]
    },
    {
     "name": "stdout",
     "output_type": "stream",
     "text": [
      "Person\n"
     ]
    },
    {
     "name": "stderr",
     "output_type": "stream",
     "text": [
      "0: 384x640 1 Person, 1 machinery, 1707.0ms\n",
      "Speed: 12.3ms preprocess, 1707.0ms inference, 0.0ms postprocess per image at shape (1, 3, 640, 640)\n",
      "\n"
     ]
    },
    {
     "name": "stdout",
     "output_type": "stream",
     "text": [
      "Person\n",
      "machinery\n"
     ]
    },
    {
     "name": "stderr",
     "output_type": "stream",
     "text": [
      "0: 384x640 1 Person, 1 machinery, 1680.8ms\n",
      "Speed: 7.6ms preprocess, 1680.8ms inference, 3.0ms postprocess per image at shape (1, 3, 640, 640)\n",
      "\n"
     ]
    },
    {
     "name": "stdout",
     "output_type": "stream",
     "text": [
      "Person\n",
      "machinery\n"
     ]
    },
    {
     "name": "stderr",
     "output_type": "stream",
     "text": [
      "0: 384x640 1 NO-Safety Vest, 1 Person, 1 machinery, 1719.6ms\n",
      "Speed: 15.3ms preprocess, 1719.6ms inference, 5.0ms postprocess per image at shape (1, 3, 640, 640)\n",
      "\n"
     ]
    },
    {
     "name": "stdout",
     "output_type": "stream",
     "text": [
      "machinery\n",
      "NO-Safety Vest\n",
      "Person\n"
     ]
    },
    {
     "name": "stderr",
     "output_type": "stream",
     "text": [
      "0: 384x640 1 NO-Mask, 1 NO-Safety Vest, 1 Person, 1 machinery, 1883.5ms\n",
      "Speed: 16.1ms preprocess, 1883.5ms inference, 1.6ms postprocess per image at shape (1, 3, 640, 640)\n",
      "\n"
     ]
    },
    {
     "name": "stdout",
     "output_type": "stream",
     "text": [
      "Person\n",
      "NO-Safety Vest\n",
      "machinery\n",
      "NO-Mask\n"
     ]
    },
    {
     "name": "stderr",
     "output_type": "stream",
     "text": [
      "0: 384x640 1 NO-Hardhat, 1 NO-Mask, 1 NO-Safety Vest, 1 Person, 1 machinery, 1907.1ms\n",
      "Speed: 20.2ms preprocess, 1907.1ms inference, 0.0ms postprocess per image at shape (1, 3, 640, 640)\n",
      "\n"
     ]
    },
    {
     "name": "stdout",
     "output_type": "stream",
     "text": [
      "Person\n",
      "NO-Safety Vest\n",
      "NO-Mask\n",
      "NO-Hardhat\n",
      "machinery\n"
     ]
    },
    {
     "name": "stderr",
     "output_type": "stream",
     "text": [
      "0: 384x640 1 NO-Hardhat, 1 NO-Mask, 1 NO-Safety Vest, 1 Person, 1 machinery, 1884.7ms\n",
      "Speed: 15.3ms preprocess, 1884.7ms inference, 2.5ms postprocess per image at shape (1, 3, 640, 640)\n",
      "\n"
     ]
    },
    {
     "name": "stdout",
     "output_type": "stream",
     "text": [
      "Person\n",
      "NO-Safety Vest\n",
      "NO-Hardhat\n",
      "NO-Mask\n",
      "machinery\n"
     ]
    },
    {
     "name": "stderr",
     "output_type": "stream",
     "text": [
      "0: 384x640 1 NO-Hardhat, 1 NO-Mask, 1 NO-Safety Vest, 1 Person, 1 machinery, 1912.1ms\n",
      "Speed: 15.3ms preprocess, 1912.1ms inference, 0.0ms postprocess per image at shape (1, 3, 640, 640)\n",
      "\n"
     ]
    },
    {
     "name": "stdout",
     "output_type": "stream",
     "text": [
      "Person\n",
      "NO-Safety Vest\n",
      "NO-Mask\n",
      "NO-Hardhat\n",
      "machinery\n"
     ]
    },
    {
     "name": "stderr",
     "output_type": "stream",
     "text": [
      "0: 384x640 1 NO-Hardhat, 1 NO-Mask, 1 NO-Safety Vest, 1 Person, 1 machinery, 1721.0ms\n",
      "Speed: 9.1ms preprocess, 1721.0ms inference, 0.0ms postprocess per image at shape (1, 3, 640, 640)\n",
      "\n"
     ]
    },
    {
     "name": "stdout",
     "output_type": "stream",
     "text": [
      "NO-Safety Vest\n",
      "Person\n",
      "NO-Hardhat\n",
      "NO-Mask\n",
      "machinery\n"
     ]
    },
    {
     "name": "stderr",
     "output_type": "stream",
     "text": [
      "0: 384x640 1 NO-Hardhat, 2 NO-Masks, 1 NO-Safety Vest, 1 Person, 1665.3ms\n",
      "Speed: 9.7ms preprocess, 1665.3ms inference, 3.5ms postprocess per image at shape (1, 3, 640, 640)\n",
      "\n"
     ]
    },
    {
     "name": "stdout",
     "output_type": "stream",
     "text": [
      "NO-Safety Vest\n",
      "Person\n",
      "NO-Hardhat\n",
      "NO-Mask\n",
      "NO-Mask\n"
     ]
    },
    {
     "name": "stderr",
     "output_type": "stream",
     "text": [
      "0: 384x640 1 NO-Hardhat, 1 NO-Mask, 1 NO-Safety Vest, 1 Person, 1 machinery, 1678.7ms\n",
      "Speed: 14.4ms preprocess, 1678.7ms inference, 0.0ms postprocess per image at shape (1, 3, 640, 640)\n",
      "\n"
     ]
    },
    {
     "name": "stdout",
     "output_type": "stream",
     "text": [
      "NO-Safety Vest\n",
      "Person\n",
      "NO-Hardhat\n",
      "NO-Mask\n",
      "machinery\n"
     ]
    },
    {
     "name": "stderr",
     "output_type": "stream",
     "text": [
      "0: 384x640 1 NO-Hardhat, 1 NO-Mask, 1 NO-Safety Vest, 1 Person, 1 machinery, 1689.8ms\n",
      "Speed: 5.0ms preprocess, 1689.8ms inference, 0.0ms postprocess per image at shape (1, 3, 640, 640)\n",
      "\n"
     ]
    },
    {
     "name": "stdout",
     "output_type": "stream",
     "text": [
      "Person\n",
      "NO-Safety Vest\n",
      "NO-Mask\n",
      "NO-Hardhat\n",
      "machinery\n"
     ]
    },
    {
     "name": "stderr",
     "output_type": "stream",
     "text": [
      "0: 384x640 1 NO-Hardhat, 1 NO-Mask, 1 NO-Safety Vest, 1 Person, 1 machinery, 1821.2ms\n",
      "Speed: 4.1ms preprocess, 1821.2ms inference, 0.0ms postprocess per image at shape (1, 3, 640, 640)\n",
      "\n"
     ]
    },
    {
     "name": "stdout",
     "output_type": "stream",
     "text": [
      "Person\n",
      "NO-Safety Vest\n",
      "NO-Hardhat\n",
      "NO-Mask\n",
      "machinery\n"
     ]
    },
    {
     "name": "stderr",
     "output_type": "stream",
     "text": [
      "0: 384x640 1 NO-Hardhat, 1 NO-Mask, 1 NO-Safety Vest, 1 Person, 1 machinery, 2241.7ms\n",
      "Speed: 8.7ms preprocess, 2241.7ms inference, 3.5ms postprocess per image at shape (1, 3, 640, 640)\n",
      "\n"
     ]
    },
    {
     "name": "stdout",
     "output_type": "stream",
     "text": [
      "Person\n",
      "NO-Safety Vest\n",
      "NO-Hardhat\n",
      "machinery\n",
      "NO-Mask\n"
     ]
    },
    {
     "name": "stderr",
     "output_type": "stream",
     "text": [
      "0: 384x640 1 NO-Hardhat, 1 NO-Mask, 1 NO-Safety Vest, 1 Person, 1 machinery, 2144.2ms\n",
      "Speed: 5.4ms preprocess, 2144.2ms inference, 2.3ms postprocess per image at shape (1, 3, 640, 640)\n",
      "\n"
     ]
    },
    {
     "name": "stdout",
     "output_type": "stream",
     "text": [
      "Person\n",
      "NO-Safety Vest\n",
      "NO-Hardhat\n",
      "machinery\n",
      "NO-Mask\n"
     ]
    },
    {
     "name": "stderr",
     "output_type": "stream",
     "text": [
      "0: 384x640 1 NO-Hardhat, 1 NO-Mask, 1 NO-Safety Vest, 1 Person, 1 machinery, 2010.4ms\n",
      "Speed: 9.9ms preprocess, 2010.4ms inference, 4.5ms postprocess per image at shape (1, 3, 640, 640)\n",
      "\n"
     ]
    },
    {
     "name": "stdout",
     "output_type": "stream",
     "text": [
      "Person\n",
      "NO-Safety Vest\n",
      "NO-Hardhat\n",
      "machinery\n",
      "NO-Mask\n"
     ]
    },
    {
     "name": "stderr",
     "output_type": "stream",
     "text": [
      "0: 384x640 1 NO-Hardhat, 1 NO-Mask, 1 NO-Safety Vest, 1 Person, 1 machinery, 1869.8ms\n",
      "Speed: 12.0ms preprocess, 1869.8ms inference, 5.5ms postprocess per image at shape (1, 3, 640, 640)\n",
      "\n"
     ]
    },
    {
     "name": "stdout",
     "output_type": "stream",
     "text": [
      "NO-Safety Vest\n",
      "Person\n",
      "NO-Hardhat\n",
      "machinery\n",
      "NO-Mask\n"
     ]
    },
    {
     "name": "stderr",
     "output_type": "stream",
     "text": [
      "0: 384x640 1 NO-Hardhat, 1 NO-Mask, 1 NO-Safety Vest, 1 Person, 1 machinery, 1704.6ms\n",
      "Speed: 15.2ms preprocess, 1704.6ms inference, 0.0ms postprocess per image at shape (1, 3, 640, 640)\n",
      "\n"
     ]
    },
    {
     "name": "stdout",
     "output_type": "stream",
     "text": [
      "NO-Safety Vest\n",
      "Person\n",
      "NO-Hardhat\n",
      "machinery\n",
      "NO-Mask\n"
     ]
    },
    {
     "name": "stderr",
     "output_type": "stream",
     "text": [
      "0: 384x640 1 NO-Hardhat, 1 NO-Mask, 1 NO-Safety Vest, 1 Person, 1 machinery, 1682.1ms\n",
      "Speed: 5.6ms preprocess, 1682.1ms inference, 6.6ms postprocess per image at shape (1, 3, 640, 640)\n",
      "\n"
     ]
    },
    {
     "name": "stdout",
     "output_type": "stream",
     "text": [
      "NO-Safety Vest\n",
      "Person\n",
      "NO-Hardhat\n",
      "NO-Mask\n",
      "machinery\n"
     ]
    },
    {
     "name": "stderr",
     "output_type": "stream",
     "text": [
      "0: 384x640 1 NO-Hardhat, 1 NO-Mask, 1 NO-Safety Vest, 1 Person, 1 machinery, 1662.2ms\n",
      "Speed: 6.1ms preprocess, 1662.2ms inference, 0.0ms postprocess per image at shape (1, 3, 640, 640)\n",
      "\n"
     ]
    },
    {
     "name": "stdout",
     "output_type": "stream",
     "text": [
      "NO-Safety Vest\n",
      "Person\n",
      "NO-Mask\n",
      "machinery\n",
      "NO-Hardhat\n"
     ]
    },
    {
     "name": "stderr",
     "output_type": "stream",
     "text": [
      "0: 384x640 1 NO-Hardhat, 1 NO-Mask, 1 NO-Safety Vest, 1 Person, 1 machinery, 1794.9ms\n",
      "Speed: 0.0ms preprocess, 1794.9ms inference, 0.0ms postprocess per image at shape (1, 3, 640, 640)\n",
      "\n"
     ]
    },
    {
     "name": "stdout",
     "output_type": "stream",
     "text": [
      "NO-Safety Vest\n",
      "Person\n",
      "NO-Hardhat\n",
      "NO-Mask\n",
      "machinery\n"
     ]
    },
    {
     "name": "stderr",
     "output_type": "stream",
     "text": [
      "0: 384x640 1 NO-Hardhat, 2 NO-Masks, 1 NO-Safety Vest, 1 Person, 1 machinery, 1900.0ms\n",
      "Speed: 14.9ms preprocess, 1900.0ms inference, 1.6ms postprocess per image at shape (1, 3, 640, 640)\n",
      "\n"
     ]
    },
    {
     "name": "stdout",
     "output_type": "stream",
     "text": [
      "Person\n",
      "NO-Safety Vest\n",
      "NO-Hardhat\n",
      "NO-Mask\n",
      "machinery\n",
      "NO-Mask\n"
     ]
    },
    {
     "name": "stderr",
     "output_type": "stream",
     "text": [
      "0: 384x640 1 NO-Hardhat, 1 NO-Mask, 1 NO-Safety Vest, 1 Person, 1 machinery, 1921.6ms\n",
      "Speed: 14.8ms preprocess, 1921.6ms inference, 8.5ms postprocess per image at shape (1, 3, 640, 640)\n",
      "\n"
     ]
    },
    {
     "name": "stdout",
     "output_type": "stream",
     "text": [
      "Person\n",
      "NO-Safety Vest\n",
      "NO-Hardhat\n",
      "NO-Mask\n",
      "machinery\n"
     ]
    },
    {
     "name": "stderr",
     "output_type": "stream",
     "text": [
      "0: 384x640 1 NO-Hardhat, 1 NO-Mask, 1 NO-Safety Vest, 1 Person, 1 machinery, 1895.7ms\n",
      "Speed: 0.0ms preprocess, 1895.7ms inference, 4.0ms postprocess per image at shape (1, 3, 640, 640)\n",
      "\n"
     ]
    },
    {
     "name": "stdout",
     "output_type": "stream",
     "text": [
      "Person\n",
      "NO-Safety Vest\n",
      "NO-Hardhat\n",
      "NO-Mask\n",
      "machinery\n"
     ]
    },
    {
     "name": "stderr",
     "output_type": "stream",
     "text": [
      "0: 384x640 1 NO-Hardhat, 1 NO-Mask, 1 NO-Safety Vest, 1 Person, 1 machinery, 1874.6ms\n",
      "Speed: 3.5ms preprocess, 1874.6ms inference, 0.0ms postprocess per image at shape (1, 3, 640, 640)\n",
      "\n"
     ]
    },
    {
     "name": "stdout",
     "output_type": "stream",
     "text": [
      "NO-Safety Vest\n",
      "Person\n",
      "NO-Hardhat\n",
      "NO-Mask\n",
      "machinery\n"
     ]
    },
    {
     "name": "stderr",
     "output_type": "stream",
     "text": [
      "0: 384x640 1 NO-Hardhat, 1 NO-Mask, 1 NO-Safety Vest, 1 Person, 1 machinery, 1695.2ms\n",
      "Speed: 10.1ms preprocess, 1695.2ms inference, 0.0ms postprocess per image at shape (1, 3, 640, 640)\n",
      "\n"
     ]
    },
    {
     "name": "stdout",
     "output_type": "stream",
     "text": [
      "NO-Safety Vest\n",
      "Person\n",
      "NO-Hardhat\n",
      "NO-Mask\n",
      "machinery\n"
     ]
    },
    {
     "name": "stderr",
     "output_type": "stream",
     "text": [
      "0: 384x640 1 NO-Hardhat, 1 NO-Mask, 1 NO-Safety Vest, 1 Person, 1 machinery, 1675.2ms\n",
      "Speed: 5.0ms preprocess, 1675.2ms inference, 0.0ms postprocess per image at shape (1, 3, 640, 640)\n",
      "\n"
     ]
    },
    {
     "name": "stdout",
     "output_type": "stream",
     "text": [
      "NO-Safety Vest\n",
      "Person\n",
      "NO-Hardhat\n",
      "NO-Mask\n",
      "machinery\n"
     ]
    },
    {
     "name": "stderr",
     "output_type": "stream",
     "text": [
      "0: 384x640 1 NO-Hardhat, 1 NO-Mask, 1 NO-Safety Vest, 1 Person, 1 machinery, 1685.5ms\n",
      "Speed: 4.6ms preprocess, 1685.5ms inference, 0.0ms postprocess per image at shape (1, 3, 640, 640)\n",
      "\n"
     ]
    },
    {
     "name": "stdout",
     "output_type": "stream",
     "text": [
      "NO-Safety Vest\n",
      "Person\n",
      "NO-Hardhat\n",
      "NO-Mask\n",
      "machinery\n"
     ]
    },
    {
     "name": "stderr",
     "output_type": "stream",
     "text": [
      "0: 384x640 1 NO-Hardhat, 1 NO-Mask, 1 NO-Safety Vest, 1 Person, 1 machinery, 1672.4ms\n",
      "Speed: 8.6ms preprocess, 1672.4ms inference, 0.0ms postprocess per image at shape (1, 3, 640, 640)\n",
      "\n"
     ]
    },
    {
     "name": "stdout",
     "output_type": "stream",
     "text": [
      "NO-Safety Vest\n",
      "Person\n",
      "NO-Hardhat\n",
      "NO-Mask\n",
      "machinery\n"
     ]
    },
    {
     "name": "stderr",
     "output_type": "stream",
     "text": [
      "0: 384x640 1 NO-Hardhat, 1 NO-Mask, 1 NO-Safety Vest, 1 Person, 1 machinery, 1862.3ms\n",
      "Speed: 7.6ms preprocess, 1862.3ms inference, 5.0ms postprocess per image at shape (1, 3, 640, 640)\n",
      "\n"
     ]
    },
    {
     "name": "stdout",
     "output_type": "stream",
     "text": [
      "NO-Safety Vest\n",
      "Person\n",
      "NO-Hardhat\n",
      "NO-Mask\n",
      "machinery\n"
     ]
    },
    {
     "name": "stderr",
     "output_type": "stream",
     "text": [
      "0: 384x640 1 NO-Hardhat, 1 NO-Mask, 1 NO-Safety Vest, 1 Person, 1 machinery, 1913.2ms\n",
      "Speed: 4.5ms preprocess, 1913.2ms inference, 2.0ms postprocess per image at shape (1, 3, 640, 640)\n",
      "\n"
     ]
    },
    {
     "name": "stdout",
     "output_type": "stream",
     "text": [
      "NO-Safety Vest\n",
      "Person\n",
      "NO-Hardhat\n",
      "machinery\n",
      "NO-Mask\n"
     ]
    },
    {
     "name": "stderr",
     "output_type": "stream",
     "text": [
      "0: 384x640 1 NO-Hardhat, 2 NO-Masks, 1 NO-Safety Vest, 1 Person, 1 machinery, 1899.5ms\n",
      "Speed: 10.6ms preprocess, 1899.5ms inference, 10.2ms postprocess per image at shape (1, 3, 640, 640)\n",
      "\n"
     ]
    },
    {
     "name": "stdout",
     "output_type": "stream",
     "text": [
      "NO-Safety Vest\n",
      "Person\n",
      "NO-Hardhat\n",
      "machinery\n",
      "NO-Mask\n",
      "NO-Mask\n"
     ]
    },
    {
     "name": "stderr",
     "output_type": "stream",
     "text": [
      "0: 384x640 1 NO-Hardhat, 2 NO-Masks, 1 NO-Safety Vest, 1 Person, 1 machinery, 2045.2ms\n",
      "Speed: 14.7ms preprocess, 2045.2ms inference, 5.0ms postprocess per image at shape (1, 3, 640, 640)\n",
      "\n"
     ]
    },
    {
     "name": "stdout",
     "output_type": "stream",
     "text": [
      "NO-Safety Vest\n",
      "Person\n",
      "NO-Hardhat\n",
      "machinery\n",
      "NO-Mask\n",
      "NO-Mask\n"
     ]
    },
    {
     "name": "stderr",
     "output_type": "stream",
     "text": [
      "0: 384x640 1 NO-Hardhat, 2 NO-Masks, 1 NO-Safety Vest, 1 Person, 1 machinery, 1748.9ms\n",
      "Speed: 15.8ms preprocess, 1748.9ms inference, 0.0ms postprocess per image at shape (1, 3, 640, 640)\n",
      "\n"
     ]
    },
    {
     "name": "stdout",
     "output_type": "stream",
     "text": [
      "NO-Safety Vest\n",
      "Person\n",
      "NO-Hardhat\n",
      "machinery\n",
      "NO-Mask\n",
      "NO-Mask\n"
     ]
    },
    {
     "name": "stderr",
     "output_type": "stream",
     "text": [
      "0: 384x640 1 NO-Hardhat, 2 NO-Masks, 1 NO-Safety Vest, 1 Person, 1 machinery, 1665.1ms\n",
      "Speed: 6.5ms preprocess, 1665.1ms inference, 0.0ms postprocess per image at shape (1, 3, 640, 640)\n",
      "\n"
     ]
    },
    {
     "name": "stdout",
     "output_type": "stream",
     "text": [
      "NO-Safety Vest\n",
      "Person\n",
      "NO-Hardhat\n",
      "machinery\n",
      "NO-Mask\n",
      "NO-Mask\n"
     ]
    },
    {
     "name": "stderr",
     "output_type": "stream",
     "text": [
      "0: 384x640 1 NO-Hardhat, 2 NO-Masks, 1 NO-Safety Vest, 1 Person, 1 machinery, 1655.4ms\n",
      "Speed: 5.0ms preprocess, 1655.4ms inference, 0.0ms postprocess per image at shape (1, 3, 640, 640)\n",
      "\n"
     ]
    },
    {
     "name": "stdout",
     "output_type": "stream",
     "text": [
      "NO-Safety Vest\n",
      "Person\n",
      "NO-Hardhat\n",
      "NO-Mask\n",
      "machinery\n",
      "NO-Mask\n"
     ]
    },
    {
     "name": "stderr",
     "output_type": "stream",
     "text": [
      "0: 384x640 1 NO-Hardhat, 1 NO-Mask, 1 NO-Safety Vest, 1 Person, 1 machinery, 1641.0ms\n",
      "Speed: 14.0ms preprocess, 1641.0ms inference, 0.0ms postprocess per image at shape (1, 3, 640, 640)\n",
      "\n"
     ]
    },
    {
     "name": "stdout",
     "output_type": "stream",
     "text": [
      "NO-Safety Vest\n",
      "Person\n",
      "NO-Hardhat\n",
      "NO-Mask\n",
      "machinery\n"
     ]
    },
    {
     "name": "stderr",
     "output_type": "stream",
     "text": [
      "0: 384x640 1 NO-Hardhat, 1 NO-Mask, 1 NO-Safety Vest, 1 Person, 1 machinery, 1783.9ms\n",
      "Speed: 1.5ms preprocess, 1783.9ms inference, 0.0ms postprocess per image at shape (1, 3, 640, 640)\n",
      "\n"
     ]
    },
    {
     "name": "stdout",
     "output_type": "stream",
     "text": [
      "NO-Safety Vest\n",
      "Person\n",
      "NO-Hardhat\n",
      "machinery\n",
      "NO-Mask\n"
     ]
    },
    {
     "name": "stderr",
     "output_type": "stream",
     "text": [
      "0: 384x640 1 NO-Hardhat, 2 NO-Masks, 1 NO-Safety Vest, 1 Person, 1 machinery, 1884.2ms\n",
      "Speed: 5.8ms preprocess, 1884.2ms inference, 0.0ms postprocess per image at shape (1, 3, 640, 640)\n",
      "\n"
     ]
    },
    {
     "name": "stdout",
     "output_type": "stream",
     "text": [
      "NO-Safety Vest\n",
      "Person\n",
      "NO-Hardhat\n",
      "machinery\n",
      "NO-Mask\n",
      "NO-Mask\n"
     ]
    },
    {
     "name": "stderr",
     "output_type": "stream",
     "text": [
      "0: 384x640 1 NO-Hardhat, 2 NO-Masks, 1 NO-Safety Vest, 1 Person, 1 machinery, 1908.4ms\n",
      "Speed: 4.5ms preprocess, 1908.4ms inference, 2.0ms postprocess per image at shape (1, 3, 640, 640)\n",
      "\n"
     ]
    },
    {
     "name": "stdout",
     "output_type": "stream",
     "text": [
      "NO-Safety Vest\n",
      "Person\n",
      "NO-Hardhat\n",
      "machinery\n",
      "NO-Mask\n",
      "NO-Mask\n"
     ]
    },
    {
     "name": "stderr",
     "output_type": "stream",
     "text": [
      "0: 384x640 1 NO-Hardhat, 2 NO-Masks, 1 NO-Safety Vest, 1 Person, 1 machinery, 1895.0ms\n",
      "Speed: 10.1ms preprocess, 1895.0ms inference, 0.0ms postprocess per image at shape (1, 3, 640, 640)\n",
      "\n"
     ]
    },
    {
     "name": "stdout",
     "output_type": "stream",
     "text": [
      "NO-Safety Vest\n",
      "Person\n",
      "NO-Hardhat\n",
      "machinery\n",
      "NO-Mask\n",
      "NO-Mask\n"
     ]
    },
    {
     "name": "stderr",
     "output_type": "stream",
     "text": [
      "0: 384x640 1 NO-Hardhat, 2 NO-Masks, 1 NO-Safety Vest, 1 Person, 1 machinery, 1870.1ms\n",
      "Speed: 8.5ms preprocess, 1870.1ms inference, 2.2ms postprocess per image at shape (1, 3, 640, 640)\n",
      "\n"
     ]
    },
    {
     "name": "stdout",
     "output_type": "stream",
     "text": [
      "NO-Safety Vest\n",
      "Person\n",
      "NO-Hardhat\n",
      "machinery\n",
      "NO-Mask\n",
      "NO-Mask\n"
     ]
    },
    {
     "name": "stderr",
     "output_type": "stream",
     "text": [
      "0: 384x640 1 NO-Hardhat, 2 NO-Masks, 1 NO-Safety Vest, 1 Person, 1 machinery, 1722.2ms\n",
      "Speed: 16.1ms preprocess, 1722.2ms inference, 0.0ms postprocess per image at shape (1, 3, 640, 640)\n",
      "\n"
     ]
    },
    {
     "name": "stdout",
     "output_type": "stream",
     "text": [
      "NO-Safety Vest\n",
      "Person\n",
      "NO-Hardhat\n",
      "machinery\n",
      "NO-Mask\n",
      "NO-Mask\n"
     ]
    },
    {
     "name": "stderr",
     "output_type": "stream",
     "text": [
      "0: 384x640 1 NO-Hardhat, 1 NO-Mask, 1 NO-Safety Vest, 1 Person, 1 machinery, 1672.7ms\n",
      "Speed: 10.4ms preprocess, 1672.7ms inference, 7.1ms postprocess per image at shape (1, 3, 640, 640)\n",
      "\n"
     ]
    },
    {
     "name": "stdout",
     "output_type": "stream",
     "text": [
      "NO-Safety Vest\n",
      "Person\n",
      "NO-Hardhat\n",
      "machinery\n",
      "NO-Mask\n"
     ]
    },
    {
     "name": "stderr",
     "output_type": "stream",
     "text": [
      "0: 384x640 1 NO-Hardhat, 1 NO-Mask, 1 NO-Safety Vest, 1 Person, 1 machinery, 1608.0ms\n",
      "Speed: 15.2ms preprocess, 1608.0ms inference, 0.0ms postprocess per image at shape (1, 3, 640, 640)\n",
      "\n"
     ]
    },
    {
     "name": "stdout",
     "output_type": "stream",
     "text": [
      "NO-Safety Vest\n",
      "Person\n",
      "NO-Hardhat\n",
      "machinery\n",
      "NO-Mask\n"
     ]
    },
    {
     "name": "stderr",
     "output_type": "stream",
     "text": [
      "0: 384x640 1 NO-Hardhat, 1 NO-Mask, 1 NO-Safety Vest, 1 Person, 1 machinery, 1665.3ms\n",
      "Speed: 10.1ms preprocess, 1665.3ms inference, 0.0ms postprocess per image at shape (1, 3, 640, 640)\n",
      "\n"
     ]
    },
    {
     "name": "stdout",
     "output_type": "stream",
     "text": [
      "NO-Safety Vest\n",
      "Person\n",
      "NO-Hardhat\n",
      "machinery\n",
      "NO-Mask\n"
     ]
    },
    {
     "name": "stderr",
     "output_type": "stream",
     "text": [
      "0: 384x640 1 NO-Hardhat, 1 NO-Mask, 1 NO-Safety Vest, 1 Person, 1 machinery, 1778.5ms\n",
      "Speed: 11.8ms preprocess, 1778.5ms inference, 0.0ms postprocess per image at shape (1, 3, 640, 640)\n",
      "\n"
     ]
    },
    {
     "name": "stdout",
     "output_type": "stream",
     "text": [
      "NO-Safety Vest\n",
      "Person\n",
      "NO-Hardhat\n",
      "machinery\n",
      "NO-Mask\n"
     ]
    },
    {
     "name": "stderr",
     "output_type": "stream",
     "text": [
      "0: 384x640 1 NO-Hardhat, 2 NO-Masks, 1 NO-Safety Vest, 1 Person, 1849.7ms\n",
      "Speed: 0.0ms preprocess, 1849.7ms inference, 0.0ms postprocess per image at shape (1, 3, 640, 640)\n",
      "\n"
     ]
    },
    {
     "name": "stdout",
     "output_type": "stream",
     "text": [
      "Person\n",
      "NO-Safety Vest\n",
      "NO-Hardhat\n",
      "NO-Mask\n",
      "NO-Mask\n"
     ]
    },
    {
     "name": "stderr",
     "output_type": "stream",
     "text": [
      "0: 384x640 1 NO-Hardhat, 1 NO-Mask, 1 NO-Safety Vest, 1 Person, 1 machinery, 1892.3ms\n",
      "Speed: 12.6ms preprocess, 1892.3ms inference, 0.0ms postprocess per image at shape (1, 3, 640, 640)\n",
      "\n"
     ]
    },
    {
     "name": "stdout",
     "output_type": "stream",
     "text": [
      "NO-Safety Vest\n",
      "Person\n",
      "NO-Hardhat\n",
      "NO-Mask\n",
      "machinery\n"
     ]
    },
    {
     "name": "stderr",
     "output_type": "stream",
     "text": [
      "0: 384x640 1 NO-Hardhat, 1 NO-Mask, 1 NO-Safety Vest, 1 Person, 1 machinery, 1842.6ms\n",
      "Speed: 8.5ms preprocess, 1842.6ms inference, 0.0ms postprocess per image at shape (1, 3, 640, 640)\n",
      "\n"
     ]
    },
    {
     "name": "stdout",
     "output_type": "stream",
     "text": [
      "NO-Safety Vest\n",
      "Person\n",
      "NO-Hardhat\n",
      "machinery\n",
      "NO-Mask\n"
     ]
    },
    {
     "name": "stderr",
     "output_type": "stream",
     "text": [
      "0: 384x640 1 NO-Hardhat, 1 NO-Mask, 1 NO-Safety Vest, 1 Person, 1 machinery, 1830.1ms\n",
      "Speed: 14.9ms preprocess, 1830.1ms inference, 0.0ms postprocess per image at shape (1, 3, 640, 640)\n",
      "\n"
     ]
    },
    {
     "name": "stdout",
     "output_type": "stream",
     "text": [
      "NO-Safety Vest\n",
      "Person\n",
      "NO-Hardhat\n",
      "NO-Mask\n",
      "machinery\n"
     ]
    },
    {
     "name": "stderr",
     "output_type": "stream",
     "text": [
      "0: 384x640 1 NO-Hardhat, 1 NO-Mask, 1 NO-Safety Vest, 1 Person, 1 machinery, 1649.5ms\n",
      "Speed: 10.6ms preprocess, 1649.5ms inference, 5.0ms postprocess per image at shape (1, 3, 640, 640)\n",
      "\n"
     ]
    },
    {
     "name": "stdout",
     "output_type": "stream",
     "text": [
      "NO-Safety Vest\n",
      "Person\n",
      "NO-Hardhat\n",
      "NO-Mask\n",
      "machinery\n"
     ]
    },
    {
     "name": "stderr",
     "output_type": "stream",
     "text": [
      "0: 384x640 1 Hardhat, 1 NO-Hardhat, 2 NO-Masks, 2 NO-Safety Vests, 2 Persons, 1 machinery, 1644.5ms\n",
      "Speed: 5.6ms preprocess, 1644.5ms inference, 0.0ms postprocess per image at shape (1, 3, 640, 640)\n",
      "\n"
     ]
    },
    {
     "name": "stdout",
     "output_type": "stream",
     "text": [
      "NO-Safety Vest\n",
      "Person\n",
      "Hardhat\n",
      "Person\n",
      "NO-Hardhat\n",
      "NO-Safety Vest\n",
      "NO-Mask\n",
      "machinery\n",
      "NO-Mask\n"
     ]
    },
    {
     "name": "stderr",
     "output_type": "stream",
     "text": [
      "0: 384x640 1 Hardhat, 1 NO-Hardhat, 2 NO-Masks, 2 NO-Safety Vests, 2 Persons, 1 machinery, 1640.0ms\n",
      "Speed: 11.6ms preprocess, 1640.0ms inference, 0.0ms postprocess per image at shape (1, 3, 640, 640)\n",
      "\n"
     ]
    },
    {
     "name": "stdout",
     "output_type": "stream",
     "text": [
      "NO-Safety Vest\n",
      "Hardhat\n",
      "Person\n",
      "Person\n",
      "NO-Safety Vest\n",
      "NO-Hardhat\n",
      "NO-Mask\n",
      "NO-Mask\n",
      "machinery\n"
     ]
    },
    {
     "name": "stderr",
     "output_type": "stream",
     "text": [
      "0: 384x640 1 Hardhat, 1 NO-Hardhat, 2 NO-Masks, 2 NO-Safety Vests, 2 Persons, 1 machinery, 1679.5ms\n",
      "Speed: 10.5ms preprocess, 1679.5ms inference, 0.0ms postprocess per image at shape (1, 3, 640, 640)\n",
      "\n"
     ]
    },
    {
     "name": "stdout",
     "output_type": "stream",
     "text": [
      "NO-Safety Vest\n",
      "Hardhat\n",
      "Person\n",
      "Person\n",
      "NO-Safety Vest\n",
      "NO-Hardhat\n",
      "NO-Mask\n",
      "NO-Mask\n",
      "machinery\n"
     ]
    },
    {
     "name": "stderr",
     "output_type": "stream",
     "text": [
      "0: 384x640 1 Hardhat, 1 NO-Hardhat, 2 NO-Masks, 2 NO-Safety Vests, 2 Persons, 1 Safety Vest, 1 machinery, 1860.0ms\n",
      "Speed: 8.6ms preprocess, 1860.0ms inference, 0.0ms postprocess per image at shape (1, 3, 640, 640)\n",
      "\n"
     ]
    },
    {
     "name": "stdout",
     "output_type": "stream",
     "text": [
      "NO-Safety Vest\n",
      "Hardhat\n",
      "Person\n",
      "Person\n",
      "Safety Vest\n",
      "NO-Hardhat\n",
      "NO-Safety Vest\n",
      "NO-Mask\n",
      "NO-Mask\n",
      "machinery\n"
     ]
    },
    {
     "name": "stderr",
     "output_type": "stream",
     "text": [
      "0: 384x640 1 Hardhat, 1 NO-Hardhat, 2 NO-Masks, 2 NO-Safety Vests, 2 Persons, 1 Safety Vest, 1 machinery, 1899.8ms\n",
      "Speed: 5.0ms preprocess, 1899.8ms inference, 0.0ms postprocess per image at shape (1, 3, 640, 640)\n",
      "\n"
     ]
    },
    {
     "name": "stdout",
     "output_type": "stream",
     "text": [
      "NO-Safety Vest\n",
      "Person\n",
      "Hardhat\n",
      "Person\n",
      "Safety Vest\n",
      "NO-Hardhat\n",
      "NO-Safety Vest\n",
      "NO-Mask\n",
      "NO-Mask\n",
      "machinery\n"
     ]
    },
    {
     "name": "stderr",
     "output_type": "stream",
     "text": [
      "0: 384x640 1 Hardhat, 1 NO-Hardhat, 2 NO-Masks, 2 NO-Safety Vests, 2 Persons, 1 Safety Vest, 1 machinery, 1891.3ms\n",
      "Speed: 5.0ms preprocess, 1891.3ms inference, 0.0ms postprocess per image at shape (1, 3, 640, 640)\n",
      "\n"
     ]
    },
    {
     "name": "stdout",
     "output_type": "stream",
     "text": [
      "Person\n",
      "NO-Safety Vest\n",
      "Hardhat\n",
      "Person\n",
      "NO-Safety Vest\n",
      "NO-Hardhat\n",
      "Safety Vest\n",
      "NO-Mask\n",
      "NO-Mask\n",
      "machinery\n"
     ]
    },
    {
     "name": "stderr",
     "output_type": "stream",
     "text": [
      "0: 384x640 1 Hardhat, 2 NO-Hardhats, 2 NO-Masks, 2 NO-Safety Vests, 2 Persons, 1 Safety Vest, 1881.1ms\n",
      "Speed: 15.5ms preprocess, 1881.1ms inference, 0.0ms postprocess per image at shape (1, 3, 640, 640)\n",
      "\n"
     ]
    },
    {
     "name": "stdout",
     "output_type": "stream",
     "text": [
      "Hardhat\n",
      "Person\n",
      "NO-Safety Vest\n",
      "Person\n",
      "NO-Safety Vest\n",
      "NO-Hardhat\n",
      "NO-Mask\n",
      "Safety Vest\n",
      "NO-Mask\n",
      "NO-Hardhat\n"
     ]
    },
    {
     "name": "stderr",
     "output_type": "stream",
     "text": [
      "0: 384x640 1 Hardhat, 1 NO-Hardhat, 2 NO-Masks, 2 NO-Safety Vests, 2 Persons, 1 machinery, 1735.3ms\n",
      "Speed: 14.9ms preprocess, 1735.3ms inference, 5.0ms postprocess per image at shape (1, 3, 640, 640)\n",
      "\n"
     ]
    },
    {
     "name": "stdout",
     "output_type": "stream",
     "text": [
      "NO-Safety Vest\n",
      "Person\n",
      "Hardhat\n",
      "Person\n",
      "NO-Safety Vest\n",
      "NO-Hardhat\n",
      "NO-Mask\n",
      "NO-Mask\n",
      "machinery\n"
     ]
    },
    {
     "name": "stderr",
     "output_type": "stream",
     "text": [
      "0: 384x640 1 Hardhat, 1 NO-Hardhat, 2 NO-Masks, 2 NO-Safety Vests, 2 Persons, 1 machinery, 1653.4ms\n",
      "Speed: 0.0ms preprocess, 1653.4ms inference, 0.0ms postprocess per image at shape (1, 3, 640, 640)\n",
      "\n"
     ]
    },
    {
     "name": "stdout",
     "output_type": "stream",
     "text": [
      "Person\n",
      "NO-Safety Vest\n",
      "Person\n",
      "Hardhat\n",
      "NO-Safety Vest\n",
      "NO-Hardhat\n",
      "NO-Mask\n",
      "NO-Mask\n",
      "machinery\n"
     ]
    },
    {
     "name": "stderr",
     "output_type": "stream",
     "text": [
      "0: 384x640 1 Hardhat, 1 NO-Hardhat, 2 NO-Masks, 2 NO-Safety Vests, 2 Persons, 1 Safety Vest, 1 machinery, 1682.0ms\n",
      "Speed: 0.0ms preprocess, 1682.0ms inference, 3.0ms postprocess per image at shape (1, 3, 640, 640)\n",
      "\n"
     ]
    },
    {
     "name": "stdout",
     "output_type": "stream",
     "text": [
      "Hardhat\n",
      "NO-Safety Vest\n",
      "Person\n",
      "Person\n",
      "NO-Safety Vest\n",
      "NO-Hardhat\n",
      "NO-Mask\n",
      "Safety Vest\n",
      "machinery\n",
      "NO-Mask\n"
     ]
    },
    {
     "name": "stderr",
     "output_type": "stream",
     "text": [
      "0: 384x640 1 Hardhat, 1 NO-Hardhat, 2 NO-Masks, 1 NO-Safety Vest, 2 Persons, 1 Safety Vest, 1649.0ms\n",
      "Speed: 12.7ms preprocess, 1649.0ms inference, 0.0ms postprocess per image at shape (1, 3, 640, 640)\n",
      "\n"
     ]
    },
    {
     "name": "stdout",
     "output_type": "stream",
     "text": [
      "Hardhat\n",
      "NO-Safety Vest\n",
      "Person\n",
      "Person\n",
      "Safety Vest\n",
      "NO-Hardhat\n",
      "NO-Mask\n",
      "NO-Mask\n"
     ]
    },
    {
     "name": "stderr",
     "output_type": "stream",
     "text": [
      "0: 384x640 1 Hardhat, 1 NO-Hardhat, 2 NO-Masks, 2 NO-Safety Vests, 2 Persons, 1 Safety Vest, 1700.2ms\n",
      "Speed: 5.2ms preprocess, 1700.2ms inference, 0.0ms postprocess per image at shape (1, 3, 640, 640)\n",
      "\n"
     ]
    },
    {
     "name": "stdout",
     "output_type": "stream",
     "text": [
      "Hardhat\n",
      "Person\n",
      "NO-Safety Vest\n",
      "Person\n",
      "Safety Vest\n",
      "NO-Hardhat\n",
      "NO-Mask\n",
      "NO-Safety Vest\n",
      "NO-Mask\n"
     ]
    },
    {
     "name": "stderr",
     "output_type": "stream",
     "text": [
      "0: 384x640 1 Hardhat, 1 NO-Hardhat, 2 NO-Masks, 2 NO-Safety Vests, 2 Persons, 1 Safety Vest, 1890.2ms\n",
      "Speed: 7.0ms preprocess, 1890.2ms inference, 0.0ms postprocess per image at shape (1, 3, 640, 640)\n",
      "\n"
     ]
    },
    {
     "name": "stdout",
     "output_type": "stream",
     "text": [
      "NO-Safety Vest\n",
      "Person\n",
      "Hardhat\n",
      "Person\n",
      "Safety Vest\n",
      "NO-Hardhat\n",
      "NO-Mask\n",
      "NO-Safety Vest\n",
      "NO-Mask\n"
     ]
    },
    {
     "name": "stderr",
     "output_type": "stream",
     "text": [
      "0: 384x640 1 Hardhat, 1 NO-Hardhat, 2 NO-Masks, 2 NO-Safety Vests, 2 Persons, 1 Safety Vest, 1874.7ms\n",
      "Speed: 15.7ms preprocess, 1874.7ms inference, 0.0ms postprocess per image at shape (1, 3, 640, 640)\n",
      "\n"
     ]
    },
    {
     "name": "stdout",
     "output_type": "stream",
     "text": [
      "NO-Safety Vest\n",
      "Hardhat\n",
      "Person\n",
      "Person\n",
      "NO-Hardhat\n",
      "Safety Vest\n",
      "NO-Mask\n",
      "NO-Safety Vest\n",
      "NO-Mask\n"
     ]
    },
    {
     "name": "stderr",
     "output_type": "stream",
     "text": [
      "0: 384x640 1 Hardhat, 1 NO-Hardhat, 2 NO-Masks, 2 NO-Safety Vests, 2 Persons, 1 Safety Vest, 1879.1ms\n",
      "Speed: 20.6ms preprocess, 1879.1ms inference, 0.0ms postprocess per image at shape (1, 3, 640, 640)\n",
      "\n"
     ]
    },
    {
     "name": "stdout",
     "output_type": "stream",
     "text": [
      "NO-Safety Vest\n",
      "Hardhat\n",
      "Person\n",
      "Person\n",
      "NO-Safety Vest\n",
      "NO-Hardhat\n",
      "NO-Mask\n",
      "Safety Vest\n",
      "NO-Mask\n"
     ]
    },
    {
     "name": "stderr",
     "output_type": "stream",
     "text": [
      "0: 384x640 1 Hardhat, 1 NO-Hardhat, 2 NO-Masks, 2 NO-Safety Vests, 2 Persons, 1 Safety Vest, 1864.7ms\n",
      "Speed: 15.3ms preprocess, 1864.7ms inference, 0.0ms postprocess per image at shape (1, 3, 640, 640)\n",
      "\n"
     ]
    },
    {
     "name": "stdout",
     "output_type": "stream",
     "text": [
      "NO-Safety Vest\n",
      "Hardhat\n",
      "Person\n",
      "Person\n",
      "NO-Mask\n",
      "NO-Hardhat\n",
      "Safety Vest\n",
      "NO-Safety Vest\n",
      "NO-Mask\n"
     ]
    },
    {
     "name": "stderr",
     "output_type": "stream",
     "text": [
      "0: 384x640 1 Hardhat, 1 NO-Hardhat, 2 NO-Masks, 2 NO-Safety Vests, 2 Persons, 1 Safety Vest, 1649.7ms\n",
      "Speed: 15.1ms preprocess, 1649.7ms inference, 0.0ms postprocess per image at shape (1, 3, 640, 640)\n",
      "\n"
     ]
    },
    {
     "name": "stdout",
     "output_type": "stream",
     "text": [
      "NO-Safety Vest\n",
      "Hardhat\n",
      "Person\n",
      "Person\n",
      "Safety Vest\n",
      "NO-Hardhat\n",
      "NO-Mask\n",
      "NO-Mask\n",
      "NO-Safety Vest\n"
     ]
    },
    {
     "name": "stderr",
     "output_type": "stream",
     "text": [
      "0: 384x640 1 Hardhat, 1 NO-Hardhat, 2 NO-Masks, 1 NO-Safety Vest, 2 Persons, 1 Safety Vest, 1567.5ms\n",
      "Speed: 6.0ms preprocess, 1567.5ms inference, 6.1ms postprocess per image at shape (1, 3, 640, 640)\n",
      "\n"
     ]
    },
    {
     "name": "stdout",
     "output_type": "stream",
     "text": [
      "NO-Safety Vest\n",
      "Hardhat\n",
      "Person\n",
      "Person\n",
      "Safety Vest\n",
      "NO-Hardhat\n",
      "NO-Mask\n",
      "NO-Mask\n"
     ]
    },
    {
     "name": "stderr",
     "output_type": "stream",
     "text": [
      "0: 384x640 1 Hardhat, 1 NO-Hardhat, 2 NO-Masks, 1 NO-Safety Vest, 2 Persons, 1 Safety Vest, 1654.9ms\n",
      "Speed: 0.0ms preprocess, 1654.9ms inference, 5.0ms postprocess per image at shape (1, 3, 640, 640)\n",
      "\n"
     ]
    },
    {
     "name": "stdout",
     "output_type": "stream",
     "text": [
      "Hardhat\n",
      "NO-Safety Vest\n",
      "Person\n",
      "Person\n",
      "Safety Vest\n",
      "NO-Hardhat\n",
      "NO-Mask\n",
      "NO-Mask\n"
     ]
    },
    {
     "name": "stderr",
     "output_type": "stream",
     "text": [
      "0: 384x640 1 Hardhat, 1 NO-Hardhat, 2 NO-Masks, 1 NO-Safety Vest, 2 Persons, 1 Safety Vest, 1652.4ms\n",
      "Speed: 7.1ms preprocess, 1652.4ms inference, 0.0ms postprocess per image at shape (1, 3, 640, 640)\n",
      "\n"
     ]
    },
    {
     "name": "stdout",
     "output_type": "stream",
     "text": [
      "NO-Safety Vest\n",
      "Hardhat\n",
      "Person\n",
      "Person\n",
      "Safety Vest\n",
      "NO-Hardhat\n",
      "NO-Mask\n",
      "NO-Mask\n"
     ]
    },
    {
     "name": "stderr",
     "output_type": "stream",
     "text": [
      "0: 384x640 1 Hardhat, 1 NO-Hardhat, 2 NO-Masks, 1 NO-Safety Vest, 2 Persons, 1 Safety Vest, 1749.7ms\n",
      "Speed: 10.0ms preprocess, 1749.7ms inference, 0.0ms postprocess per image at shape (1, 3, 640, 640)\n",
      "\n"
     ]
    },
    {
     "name": "stdout",
     "output_type": "stream",
     "text": [
      "NO-Safety Vest\n",
      "Hardhat\n",
      "Person\n",
      "Person\n",
      "Safety Vest\n",
      "NO-Hardhat\n",
      "NO-Mask\n",
      "NO-Mask\n"
     ]
    },
    {
     "name": "stderr",
     "output_type": "stream",
     "text": [
      "0: 384x640 1 Hardhat, 1 NO-Hardhat, 2 NO-Masks, 1 NO-Safety Vest, 2 Persons, 1 Safety Vest, 1878.3ms\n",
      "Speed: 15.2ms preprocess, 1878.3ms inference, 0.0ms postprocess per image at shape (1, 3, 640, 640)\n",
      "\n"
     ]
    },
    {
     "name": "stdout",
     "output_type": "stream",
     "text": [
      "Hardhat\n",
      "NO-Safety Vest\n",
      "Person\n",
      "Person\n",
      "Safety Vest\n",
      "NO-Hardhat\n",
      "NO-Mask\n",
      "NO-Mask\n"
     ]
    },
    {
     "name": "stderr",
     "output_type": "stream",
     "text": [
      "0: 384x640 1 Hardhat, 1 NO-Hardhat, 2 NO-Masks, 1 NO-Safety Vest, 2 Persons, 1 Safety Vest, 1910.1ms\n",
      "Speed: 10.1ms preprocess, 1910.1ms inference, 0.0ms postprocess per image at shape (1, 3, 640, 640)\n",
      "\n"
     ]
    },
    {
     "name": "stdout",
     "output_type": "stream",
     "text": [
      "NO-Safety Vest\n",
      "Hardhat\n",
      "Person\n",
      "Person\n",
      "Safety Vest\n",
      "NO-Hardhat\n",
      "NO-Mask\n",
      "NO-Mask\n"
     ]
    },
    {
     "name": "stderr",
     "output_type": "stream",
     "text": [
      "0: 384x640 1 Hardhat, 1 NO-Hardhat, 2 NO-Masks, 1 NO-Safety Vest, 2 Persons, 1 Safety Vest, 1864.6ms\n",
      "Speed: 15.3ms preprocess, 1864.6ms inference, 0.0ms postprocess per image at shape (1, 3, 640, 640)\n",
      "\n"
     ]
    },
    {
     "name": "stdout",
     "output_type": "stream",
     "text": [
      "NO-Safety Vest\n",
      "Hardhat\n",
      "Person\n",
      "Person\n",
      "Safety Vest\n",
      "NO-Hardhat\n",
      "NO-Mask\n",
      "NO-Mask\n"
     ]
    },
    {
     "name": "stderr",
     "output_type": "stream",
     "text": [
      "0: 384x640 1 Hardhat, 1 NO-Hardhat, 2 NO-Masks, 1 NO-Safety Vest, 2 Persons, 1 Safety Vest, 1844.7ms\n",
      "Speed: 15.3ms preprocess, 1844.7ms inference, 0.0ms postprocess per image at shape (1, 3, 640, 640)\n",
      "\n"
     ]
    },
    {
     "name": "stdout",
     "output_type": "stream",
     "text": [
      "NO-Safety Vest\n",
      "Hardhat\n",
      "Person\n",
      "Person\n",
      "Safety Vest\n",
      "NO-Hardhat\n",
      "NO-Mask\n",
      "NO-Mask\n"
     ]
    },
    {
     "name": "stderr",
     "output_type": "stream",
     "text": [
      "0: 384x640 1 Hardhat, 1 NO-Hardhat, 2 NO-Masks, 2 NO-Safety Vests, 2 Persons, 1 Safety Vest, 1879.8ms\n",
      "Speed: 0.0ms preprocess, 1879.8ms inference, 0.0ms postprocess per image at shape (1, 3, 640, 640)\n",
      "\n"
     ]
    },
    {
     "name": "stdout",
     "output_type": "stream",
     "text": [
      "NO-Safety Vest\n",
      "Hardhat\n",
      "Person\n",
      "Person\n",
      "Safety Vest\n",
      "NO-Hardhat\n",
      "NO-Mask\n",
      "NO-Mask\n",
      "NO-Safety Vest\n"
     ]
    },
    {
     "name": "stderr",
     "output_type": "stream",
     "text": [
      "0: 384x640 1 Hardhat, 1 NO-Hardhat, 2 NO-Masks, 2 NO-Safety Vests, 2 Persons, 1 Safety Vest, 2026.5ms\n",
      "Speed: 9.1ms preprocess, 2026.5ms inference, 3.0ms postprocess per image at shape (1, 3, 640, 640)\n",
      "\n"
     ]
    },
    {
     "name": "stdout",
     "output_type": "stream",
     "text": [
      "NO-Safety Vest\n",
      "Hardhat\n",
      "Person\n",
      "Person\n",
      "Safety Vest\n",
      "NO-Hardhat\n",
      "NO-Mask\n",
      "NO-Mask\n",
      "NO-Safety Vest\n"
     ]
    },
    {
     "name": "stderr",
     "output_type": "stream",
     "text": [
      "0: 384x640 1 Hardhat, 1 NO-Hardhat, 3 NO-Masks, 2 NO-Safety Vests, 2 Persons, 1 Safety Vest, 1704.9ms\n",
      "Speed: 10.4ms preprocess, 1704.9ms inference, 5.0ms postprocess per image at shape (1, 3, 640, 640)\n",
      "\n"
     ]
    },
    {
     "name": "stdout",
     "output_type": "stream",
     "text": [
      "Hardhat\n",
      "NO-Safety Vest\n",
      "Person\n",
      "Person\n",
      "Safety Vest\n",
      "NO-Hardhat\n",
      "NO-Mask\n",
      "NO-Safety Vest\n",
      "NO-Mask\n",
      "NO-Mask\n"
     ]
    },
    {
     "name": "stderr",
     "output_type": "stream",
     "text": [
      "0: 384x640 1 Hardhat, 1 NO-Hardhat, 3 NO-Masks, 1 NO-Safety Vest, 2 Persons, 1 Safety Vest, 1719.5ms\n",
      "Speed: 6.6ms preprocess, 1719.5ms inference, 0.0ms postprocess per image at shape (1, 3, 640, 640)\n",
      "\n"
     ]
    },
    {
     "name": "stdout",
     "output_type": "stream",
     "text": [
      "NO-Safety Vest\n",
      "Person\n",
      "Hardhat\n",
      "Person\n",
      "Safety Vest\n",
      "NO-Hardhat\n",
      "NO-Mask\n",
      "NO-Mask\n",
      "NO-Mask\n"
     ]
    },
    {
     "name": "stderr",
     "output_type": "stream",
     "text": [
      "0: 384x640 1 Hardhat, 1 NO-Hardhat, 2 NO-Masks, 1 NO-Safety Vest, 2 Persons, 1 Safety Vest, 1890.0ms\n",
      "Speed: 7.3ms preprocess, 1890.0ms inference, 5.1ms postprocess per image at shape (1, 3, 640, 640)\n",
      "\n"
     ]
    },
    {
     "name": "stdout",
     "output_type": "stream",
     "text": [
      "NO-Safety Vest\n",
      "Hardhat\n",
      "Person\n",
      "Person\n",
      "Safety Vest\n",
      "NO-Hardhat\n",
      "NO-Mask\n",
      "NO-Mask\n"
     ]
    },
    {
     "name": "stderr",
     "output_type": "stream",
     "text": [
      "0: 384x640 1 Hardhat, 1 NO-Hardhat, 3 NO-Masks, 2 NO-Safety Vests, 2 Persons, 1 Safety Vest, 1922.0ms\n",
      "Speed: 6.0ms preprocess, 1922.0ms inference, 8.0ms postprocess per image at shape (1, 3, 640, 640)\n",
      "\n"
     ]
    },
    {
     "name": "stdout",
     "output_type": "stream",
     "text": [
      "NO-Safety Vest\n",
      "Person\n",
      "Hardhat\n",
      "Person\n",
      "Safety Vest\n",
      "NO-Hardhat\n",
      "NO-Mask\n",
      "NO-Mask\n",
      "NO-Safety Vest\n",
      "NO-Mask\n"
     ]
    },
    {
     "name": "stderr",
     "output_type": "stream",
     "text": [
      "0: 384x640 1 Hardhat, 1 NO-Hardhat, 2 NO-Masks, 2 NO-Safety Vests, 2 Persons, 1 Safety Cone, 1 Safety Vest, 1892.7ms\n",
      "Speed: 10.0ms preprocess, 1892.7ms inference, 4.6ms postprocess per image at shape (1, 3, 640, 640)\n",
      "\n"
     ]
    },
    {
     "name": "stdout",
     "output_type": "stream",
     "text": [
      "NO-Safety Vest\n",
      "Hardhat\n",
      "Person\n",
      "Person\n",
      "Safety Vest\n",
      "NO-Hardhat\n",
      "NO-Mask\n",
      "NO-Mask\n",
      "Safety Cone\n",
      "NO-Safety Vest\n"
     ]
    },
    {
     "name": "stderr",
     "output_type": "stream",
     "text": [
      "0: 384x640 1 Hardhat, 1 NO-Hardhat, 3 NO-Masks, 1 NO-Safety Vest, 2 Persons, 1 Safety Cone, 1 Safety Vest, 1908.8ms\n",
      "Speed: 9.7ms preprocess, 1908.8ms inference, 0.0ms postprocess per image at shape (1, 3, 640, 640)\n",
      "\n"
     ]
    },
    {
     "name": "stdout",
     "output_type": "stream",
     "text": [
      "NO-Safety Vest\n",
      "Hardhat\n",
      "Person\n",
      "Person\n",
      "Safety Vest\n",
      "NO-Hardhat\n",
      "NO-Mask\n",
      "NO-Mask\n",
      "Safety Cone\n",
      "NO-Mask\n"
     ]
    },
    {
     "name": "stderr",
     "output_type": "stream",
     "text": [
      "0: 384x640 1 Hardhat, 1 NO-Hardhat, 3 NO-Masks, 1 NO-Safety Vest, 2 Persons, 1 Safety Cone, 1 Safety Vest, 1711.6ms\n",
      "Speed: 14.8ms preprocess, 1711.6ms inference, 3.5ms postprocess per image at shape (1, 3, 640, 640)\n",
      "\n"
     ]
    },
    {
     "name": "stdout",
     "output_type": "stream",
     "text": [
      "Hardhat\n",
      "NO-Safety Vest\n",
      "Person\n",
      "Person\n",
      "NO-Hardhat\n",
      "Safety Vest\n",
      "NO-Mask\n",
      "NO-Mask\n",
      "NO-Mask\n",
      "Safety Cone\n"
     ]
    },
    {
     "name": "stderr",
     "output_type": "stream",
     "text": [
      "0: 384x640 1 Hardhat, 1 NO-Hardhat, 3 NO-Masks, 1 NO-Safety Vest, 2 Persons, 1 Safety Vest, 1667.1ms\n",
      "Speed: 18.0ms preprocess, 1667.1ms inference, 0.0ms postprocess per image at shape (1, 3, 640, 640)\n",
      "\n"
     ]
    },
    {
     "name": "stdout",
     "output_type": "stream",
     "text": [
      "NO-Safety Vest\n",
      "Hardhat\n",
      "Person\n",
      "Person\n",
      "NO-Hardhat\n",
      "Safety Vest\n",
      "NO-Mask\n",
      "NO-Mask\n",
      "NO-Mask\n"
     ]
    },
    {
     "name": "stderr",
     "output_type": "stream",
     "text": [
      "0: 384x640 1 Hardhat, 1 NO-Hardhat, 3 NO-Masks, 1 NO-Safety Vest, 2 Persons, 1 Safety Vest, 1689.7ms\n",
      "Speed: 6.7ms preprocess, 1689.7ms inference, 0.0ms postprocess per image at shape (1, 3, 640, 640)\n",
      "\n"
     ]
    },
    {
     "name": "stdout",
     "output_type": "stream",
     "text": [
      "Hardhat\n",
      "NO-Safety Vest\n",
      "Person\n",
      "Person\n",
      "NO-Hardhat\n",
      "Safety Vest\n",
      "NO-Mask\n",
      "NO-Mask\n",
      "NO-Mask\n"
     ]
    },
    {
     "name": "stderr",
     "output_type": "stream",
     "text": [
      "0: 384x640 1 Hardhat, 1 NO-Hardhat, 2 NO-Masks, 1 NO-Safety Vest, 2 Persons, 1 Safety Vest, 1689.5ms\n",
      "Speed: 8.2ms preprocess, 1689.5ms inference, 0.0ms postprocess per image at shape (1, 3, 640, 640)\n",
      "\n"
     ]
    },
    {
     "name": "stdout",
     "output_type": "stream",
     "text": [
      "Hardhat\n",
      "NO-Safety Vest\n",
      "Person\n",
      "Person\n",
      "NO-Hardhat\n",
      "Safety Vest\n",
      "NO-Mask\n",
      "NO-Mask\n"
     ]
    },
    {
     "name": "stderr",
     "output_type": "stream",
     "text": [
      "0: 384x640 1 Hardhat, 1 NO-Hardhat, 2 NO-Masks, 2 NO-Safety Vests, 2 Persons, 1792.5ms\n",
      "Speed: 12.5ms preprocess, 1792.5ms inference, 5.1ms postprocess per image at shape (1, 3, 640, 640)\n",
      "\n"
     ]
    },
    {
     "name": "stdout",
     "output_type": "stream",
     "text": [
      "NO-Safety Vest\n",
      "Person\n",
      "Hardhat\n",
      "Person\n",
      "NO-Safety Vest\n",
      "NO-Hardhat\n",
      "NO-Mask\n",
      "NO-Mask\n"
     ]
    },
    {
     "name": "stderr",
     "output_type": "stream",
     "text": [
      "0: 384x640 1 Hardhat, 1 NO-Hardhat, 2 NO-Masks, 2 NO-Safety Vests, 2 Persons, 1889.5ms\n",
      "Speed: 5.0ms preprocess, 1889.5ms inference, 0.0ms postprocess per image at shape (1, 3, 640, 640)\n",
      "\n"
     ]
    },
    {
     "name": "stdout",
     "output_type": "stream",
     "text": [
      "NO-Safety Vest\n",
      "Hardhat\n",
      "Person\n",
      "Person\n",
      "NO-Safety Vest\n",
      "NO-Hardhat\n",
      "NO-Mask\n",
      "NO-Mask\n"
     ]
    },
    {
     "name": "stderr",
     "output_type": "stream",
     "text": [
      "0: 384x640 1 Hardhat, 1 NO-Hardhat, 2 NO-Masks, 2 NO-Safety Vests, 2 Persons, 1 Safety Cone, 1898.8ms\n",
      "Speed: 16.0ms preprocess, 1898.8ms inference, 0.0ms postprocess per image at shape (1, 3, 640, 640)\n",
      "\n"
     ]
    },
    {
     "name": "stdout",
     "output_type": "stream",
     "text": [
      "Hardhat\n",
      "NO-Safety Vest\n",
      "Person\n",
      "Person\n",
      "NO-Safety Vest\n",
      "NO-Hardhat\n",
      "NO-Mask\n",
      "Safety Cone\n",
      "NO-Mask\n"
     ]
    },
    {
     "name": "stderr",
     "output_type": "stream",
     "text": [
      "0: 384x640 1 Hardhat, 1 NO-Hardhat, 2 NO-Masks, 2 NO-Safety Vests, 2 Persons, 1 Safety Cone, 1949.4ms\n",
      "Speed: 8.1ms preprocess, 1949.4ms inference, 7.5ms postprocess per image at shape (1, 3, 640, 640)\n",
      "\n"
     ]
    },
    {
     "name": "stdout",
     "output_type": "stream",
     "text": [
      "NO-Safety Vest\n",
      "Hardhat\n",
      "Person\n",
      "Person\n",
      "NO-Safety Vest\n",
      "NO-Hardhat\n",
      "NO-Mask\n",
      "NO-Mask\n",
      "Safety Cone\n"
     ]
    },
    {
     "name": "stderr",
     "output_type": "stream",
     "text": [
      "0: 384x640 1 Hardhat, 1 NO-Hardhat, 5 NO-Masks, 2 NO-Safety Vests, 2 Persons, 1 Safety Vest, 1827.1ms\n",
      "Speed: 20.7ms preprocess, 1827.1ms inference, 0.0ms postprocess per image at shape (1, 3, 640, 640)\n",
      "\n"
     ]
    },
    {
     "name": "stdout",
     "output_type": "stream",
     "text": [
      "NO-Safety Vest\n",
      "Person\n",
      "Hardhat\n",
      "Person\n",
      "NO-Hardhat\n",
      "NO-Safety Vest\n",
      "Safety Vest\n",
      "NO-Mask\n",
      "NO-Mask\n",
      "NO-Mask\n",
      "NO-Mask\n",
      "NO-Mask\n"
     ]
    },
    {
     "name": "stderr",
     "output_type": "stream",
     "text": [
      "0: 384x640 1 Hardhat, 1 NO-Hardhat, 3 NO-Masks, 2 NO-Safety Vests, 2 Persons, 1678.5ms\n",
      "Speed: 6.6ms preprocess, 1678.5ms inference, 4.6ms postprocess per image at shape (1, 3, 640, 640)\n",
      "\n"
     ]
    },
    {
     "name": "stdout",
     "output_type": "stream",
     "text": [
      "NO-Safety Vest\n",
      "Person\n",
      "Person\n",
      "Hardhat\n",
      "NO-Safety Vest\n",
      "NO-Hardhat\n",
      "NO-Mask\n",
      "NO-Mask\n",
      "NO-Mask\n"
     ]
    },
    {
     "name": "stderr",
     "output_type": "stream",
     "text": [
      "0: 384x640 1 Hardhat, 1 NO-Hardhat, 3 NO-Masks, 2 NO-Safety Vests, 2 Persons, 1673.1ms\n",
      "Speed: 6.0ms preprocess, 1673.1ms inference, 5.1ms postprocess per image at shape (1, 3, 640, 640)\n",
      "\n"
     ]
    },
    {
     "name": "stdout",
     "output_type": "stream",
     "text": [
      "Person\n",
      "Hardhat\n",
      "NO-Safety Vest\n",
      "NO-Safety Vest\n",
      "Person\n",
      "NO-Hardhat\n",
      "NO-Mask\n",
      "NO-Mask\n",
      "NO-Mask\n"
     ]
    },
    {
     "name": "stderr",
     "output_type": "stream",
     "text": [
      "0: 384x640 1 Hardhat, 1 NO-Hardhat, 3 NO-Masks, 2 NO-Safety Vests, 2 Persons, 1604.4ms\n",
      "Speed: 10.3ms preprocess, 1604.4ms inference, 5.0ms postprocess per image at shape (1, 3, 640, 640)\n",
      "\n"
     ]
    },
    {
     "name": "stdout",
     "output_type": "stream",
     "text": [
      "Person\n",
      "NO-Safety Vest\n",
      "NO-Safety Vest\n",
      "Hardhat\n",
      "Person\n",
      "NO-Hardhat\n",
      "NO-Mask\n",
      "NO-Mask\n",
      "NO-Mask\n"
     ]
    },
    {
     "name": "stderr",
     "output_type": "stream",
     "text": [
      "0: 384x640 1 Hardhat, 1 NO-Hardhat, 3 NO-Masks, 2 NO-Safety Vests, 2 Persons, 1674.9ms\n",
      "Speed: 15.0ms preprocess, 1674.9ms inference, 0.0ms postprocess per image at shape (1, 3, 640, 640)\n",
      "\n"
     ]
    },
    {
     "name": "stdout",
     "output_type": "stream",
     "text": [
      "NO-Safety Vest\n",
      "Person\n",
      "Person\n",
      "Hardhat\n",
      "NO-Safety Vest\n",
      "NO-Hardhat\n",
      "NO-Mask\n",
      "NO-Mask\n",
      "NO-Mask\n"
     ]
    },
    {
     "name": "stderr",
     "output_type": "stream",
     "text": [
      "0: 384x640 1 Hardhat, 1 NO-Hardhat, 3 NO-Masks, 2 NO-Safety Vests, 2 Persons, 1840.0ms\n",
      "Speed: 0.0ms preprocess, 1840.0ms inference, 5.2ms postprocess per image at shape (1, 3, 640, 640)\n",
      "\n"
     ]
    },
    {
     "name": "stdout",
     "output_type": "stream",
     "text": [
      "NO-Safety Vest\n",
      "Person\n",
      "Person\n",
      "Hardhat\n",
      "NO-Safety Vest\n",
      "NO-Hardhat\n",
      "NO-Mask\n",
      "NO-Mask\n",
      "NO-Mask\n"
     ]
    },
    {
     "name": "stderr",
     "output_type": "stream",
     "text": [
      "0: 384x640 1 Hardhat, 1 NO-Hardhat, 2 NO-Masks, 2 NO-Safety Vests, 2 Persons, 1890.1ms\n",
      "Speed: 5.0ms preprocess, 1890.1ms inference, 0.0ms postprocess per image at shape (1, 3, 640, 640)\n",
      "\n"
     ]
    },
    {
     "name": "stdout",
     "output_type": "stream",
     "text": [
      "NO-Safety Vest\n",
      "Person\n",
      "Person\n",
      "Hardhat\n",
      "NO-Safety Vest\n",
      "NO-Hardhat\n",
      "NO-Mask\n",
      "NO-Mask\n"
     ]
    },
    {
     "name": "stderr",
     "output_type": "stream",
     "text": [
      "0: 384x640 1 Hardhat, 1 NO-Hardhat, 3 NO-Masks, 2 NO-Safety Vests, 2 Persons, 1 Safety Vest, 1861.9ms\n",
      "Speed: 14.8ms preprocess, 1861.9ms inference, 0.0ms postprocess per image at shape (1, 3, 640, 640)\n",
      "\n"
     ]
    },
    {
     "name": "stdout",
     "output_type": "stream",
     "text": [
      "NO-Safety Vest\n",
      "Person\n",
      "Person\n",
      "Hardhat\n",
      "NO-Hardhat\n",
      "NO-Safety Vest\n",
      "Safety Vest\n",
      "NO-Mask\n",
      "NO-Mask\n",
      "NO-Mask\n"
     ]
    },
    {
     "name": "stderr",
     "output_type": "stream",
     "text": [
      "0: 384x640 1 Hardhat, 1 NO-Hardhat, 3 NO-Masks, 2 NO-Safety Vests, 2 Persons, 1 Safety Vest, 1875.3ms\n",
      "Speed: 5.0ms preprocess, 1875.3ms inference, 5.0ms postprocess per image at shape (1, 3, 640, 640)\n",
      "\n"
     ]
    },
    {
     "name": "stdout",
     "output_type": "stream",
     "text": [
      "Person\n",
      "NO-Safety Vest\n",
      "Hardhat\n",
      "Person\n",
      "NO-Hardhat\n",
      "Safety Vest\n",
      "NO-Mask\n",
      "NO-Mask\n",
      "NO-Mask\n",
      "NO-Safety Vest\n"
     ]
    },
    {
     "name": "stderr",
     "output_type": "stream",
     "text": [
      "0: 384x640 1 Hardhat, 1 NO-Hardhat, 3 NO-Masks, 1 NO-Safety Vest, 2 Persons, 1 Safety Vest, 1735.1ms\n",
      "Speed: 9.7ms preprocess, 1735.1ms inference, 0.0ms postprocess per image at shape (1, 3, 640, 640)\n",
      "\n"
     ]
    },
    {
     "name": "stdout",
     "output_type": "stream",
     "text": [
      "Person\n",
      "NO-Safety Vest\n",
      "Hardhat\n",
      "Person\n",
      "NO-Hardhat\n",
      "Safety Vest\n",
      "NO-Mask\n",
      "NO-Mask\n",
      "NO-Mask\n"
     ]
    },
    {
     "name": "stderr",
     "output_type": "stream",
     "text": [
      "0: 384x640 1 Hardhat, 1 NO-Hardhat, 2 NO-Masks, 1 NO-Safety Vest, 2 Persons, 1 Safety Vest, 1635.0ms\n",
      "Speed: 5.2ms preprocess, 1635.0ms inference, 2.5ms postprocess per image at shape (1, 3, 640, 640)\n",
      "\n"
     ]
    },
    {
     "name": "stdout",
     "output_type": "stream",
     "text": [
      "Safety Vest\n",
      "NO-Safety Vest\n",
      "Person\n",
      "Hardhat\n",
      "Person\n",
      "NO-Hardhat\n",
      "NO-Mask\n",
      "NO-Mask\n"
     ]
    },
    {
     "name": "stderr",
     "output_type": "stream",
     "text": [
      "0: 384x640 1 Hardhat, 1 NO-Hardhat, 2 NO-Masks, 1 NO-Safety Vest, 2 Persons, 1 Safety Vest, 1681.5ms\n",
      "Speed: 13.5ms preprocess, 1681.5ms inference, 0.0ms postprocess per image at shape (1, 3, 640, 640)\n",
      "\n"
     ]
    },
    {
     "name": "stdout",
     "output_type": "stream",
     "text": [
      "Safety Vest\n",
      "NO-Safety Vest\n",
      "Person\n",
      "Hardhat\n",
      "Person\n",
      "NO-Hardhat\n",
      "NO-Mask\n",
      "NO-Mask\n"
     ]
    },
    {
     "name": "stderr",
     "output_type": "stream",
     "text": [
      "0: 384x640 1 Hardhat, 1 NO-Hardhat, 1 NO-Mask, 1 NO-Safety Vest, 2 Persons, 1 Safety Vest, 1625.1ms\n",
      "Speed: 5.0ms preprocess, 1625.1ms inference, 0.0ms postprocess per image at shape (1, 3, 640, 640)\n",
      "\n"
     ]
    },
    {
     "name": "stdout",
     "output_type": "stream",
     "text": [
      "Safety Vest\n",
      "NO-Safety Vest\n",
      "Person\n",
      "Person\n",
      "Hardhat\n",
      "NO-Hardhat\n",
      "NO-Mask\n"
     ]
    },
    {
     "name": "stderr",
     "output_type": "stream",
     "text": [
      "0: 384x640 1 Hardhat, 1 NO-Hardhat, 2 NO-Masks, 1 NO-Safety Vest, 2 Persons, 1 Safety Vest, 1724.9ms\n",
      "Speed: 15.3ms preprocess, 1724.9ms inference, 6.0ms postprocess per image at shape (1, 3, 640, 640)\n",
      "\n"
     ]
    },
    {
     "name": "stdout",
     "output_type": "stream",
     "text": [
      "Safety Vest\n",
      "NO-Safety Vest\n",
      "Person\n",
      "Person\n",
      "Hardhat\n",
      "NO-Hardhat\n",
      "NO-Mask\n",
      "NO-Mask\n"
     ]
    },
    {
     "name": "stderr",
     "output_type": "stream",
     "text": [
      "0: 384x640 1 Hardhat, 1 NO-Hardhat, 2 NO-Masks, 1 NO-Safety Vest, 2 Persons, 1 Safety Vest, 1870.0ms\n",
      "Speed: 5.0ms preprocess, 1870.0ms inference, 3.5ms postprocess per image at shape (1, 3, 640, 640)\n",
      "\n"
     ]
    },
    {
     "name": "stdout",
     "output_type": "stream",
     "text": [
      "Safety Vest\n",
      "NO-Safety Vest\n",
      "Person\n",
      "Person\n",
      "Hardhat\n",
      "NO-Hardhat\n",
      "NO-Mask\n",
      "NO-Mask\n"
     ]
    },
    {
     "name": "stderr",
     "output_type": "stream",
     "text": [
      "0: 384x640 1 Hardhat, 1 NO-Hardhat, 2 NO-Masks, 1 NO-Safety Vest, 2 Persons, 1 Safety Vest, 1899.9ms\n",
      "Speed: 5.0ms preprocess, 1899.9ms inference, 5.0ms postprocess per image at shape (1, 3, 640, 640)\n",
      "\n"
     ]
    },
    {
     "name": "stdout",
     "output_type": "stream",
     "text": [
      "Safety Vest\n",
      "NO-Safety Vest\n",
      "Person\n",
      "Hardhat\n",
      "Person\n",
      "NO-Hardhat\n",
      "NO-Mask\n",
      "NO-Mask\n"
     ]
    },
    {
     "name": "stderr",
     "output_type": "stream",
     "text": [
      "0: 384x640 1 Hardhat, 1 NO-Hardhat, 2 NO-Masks, 1 NO-Safety Vest, 2 Persons, 1 Safety Vest, 1869.9ms\n",
      "Speed: 15.4ms preprocess, 1869.9ms inference, 0.0ms postprocess per image at shape (1, 3, 640, 640)\n",
      "\n"
     ]
    },
    {
     "name": "stdout",
     "output_type": "stream",
     "text": [
      "Safety Vest\n",
      "NO-Safety Vest\n",
      "Hardhat\n",
      "Person\n",
      "Person\n",
      "NO-Hardhat\n",
      "NO-Mask\n",
      "NO-Mask\n"
     ]
    },
    {
     "name": "stderr",
     "output_type": "stream",
     "text": [
      "0: 384x640 1 Hardhat, 1 NO-Hardhat, 1 NO-Mask, 1 NO-Safety Vest, 2 Persons, 1 Safety Vest, 1865.2ms\n",
      "Speed: 14.9ms preprocess, 1865.2ms inference, 0.0ms postprocess per image at shape (1, 3, 640, 640)\n",
      "\n"
     ]
    },
    {
     "name": "stdout",
     "output_type": "stream",
     "text": [
      "Safety Vest\n",
      "NO-Safety Vest\n",
      "Hardhat\n",
      "Person\n",
      "Person\n",
      "NO-Hardhat\n",
      "NO-Mask\n"
     ]
    },
    {
     "name": "stderr",
     "output_type": "stream",
     "text": [
      "0: 384x640 1 Hardhat, 1 NO-Hardhat, 1 NO-Mask, 1 NO-Safety Vest, 2 Persons, 1 Safety Vest, 1682.3ms\n",
      "Speed: 0.0ms preprocess, 1682.3ms inference, 1.8ms postprocess per image at shape (1, 3, 640, 640)\n",
      "\n"
     ]
    },
    {
     "name": "stdout",
     "output_type": "stream",
     "text": [
      "NO-Safety Vest\n",
      "Safety Vest\n",
      "Person\n",
      "Person\n",
      "Hardhat\n",
      "NO-Hardhat\n",
      "NO-Mask\n"
     ]
    },
    {
     "name": "stderr",
     "output_type": "stream",
     "text": [
      "0: 384x640 1 Hardhat, 1 NO-Hardhat, 1 NO-Mask, 1 NO-Safety Vest, 2 Persons, 1 Safety Cone, 1 Safety Vest, 1669.7ms\n",
      "Speed: 5.1ms preprocess, 1669.7ms inference, 0.0ms postprocess per image at shape (1, 3, 640, 640)\n",
      "\n"
     ]
    },
    {
     "name": "stdout",
     "output_type": "stream",
     "text": [
      "Safety Vest\n",
      "NO-Safety Vest\n",
      "Hardhat\n",
      "Person\n",
      "Person\n",
      "NO-Hardhat\n",
      "NO-Mask\n",
      "Safety Cone\n"
     ]
    },
    {
     "name": "stderr",
     "output_type": "stream",
     "text": [
      "0: 384x640 1 Hardhat, 1 NO-Hardhat, 1 NO-Mask, 1 NO-Safety Vest, 2 Persons, 1 Safety Vest, 1672.3ms\n",
      "Speed: 7.6ms preprocess, 1672.3ms inference, 0.0ms postprocess per image at shape (1, 3, 640, 640)\n",
      "\n"
     ]
    },
    {
     "name": "stdout",
     "output_type": "stream",
     "text": [
      "Hardhat\n",
      "Safety Vest\n",
      "NO-Safety Vest\n",
      "Person\n",
      "Person\n",
      "NO-Hardhat\n",
      "NO-Mask\n"
     ]
    },
    {
     "name": "stderr",
     "output_type": "stream",
     "text": [
      "0: 384x640 1 Hardhat, 1 NO-Hardhat, 1 NO-Mask, 1 NO-Safety Vest, 2 Persons, 1 Safety Vest, 1645.8ms\n",
      "Speed: 15.3ms preprocess, 1645.8ms inference, 4.0ms postprocess per image at shape (1, 3, 640, 640)\n",
      "\n"
     ]
    },
    {
     "name": "stdout",
     "output_type": "stream",
     "text": [
      "Hardhat\n",
      "NO-Safety Vest\n",
      "Person\n",
      "Safety Vest\n",
      "Person\n",
      "NO-Hardhat\n",
      "NO-Mask\n"
     ]
    },
    {
     "name": "stderr",
     "output_type": "stream",
     "text": [
      "0: 384x640 1 Hardhat, 1 NO-Hardhat, 1 NO-Mask, 1 NO-Safety Vest, 2 Persons, 1 Safety Vest, 2360.0ms\n",
      "Speed: 10.1ms preprocess, 2360.0ms inference, 0.0ms postprocess per image at shape (1, 3, 640, 640)\n",
      "\n"
     ]
    },
    {
     "name": "stdout",
     "output_type": "stream",
     "text": [
      "Hardhat\n",
      "NO-Safety Vest\n",
      "Person\n",
      "Safety Vest\n",
      "Person\n",
      "NO-Hardhat\n",
      "NO-Mask\n"
     ]
    },
    {
     "name": "stderr",
     "output_type": "stream",
     "text": [
      "0: 384x640 1 Hardhat, 1 NO-Hardhat, 1 NO-Mask, 1 NO-Safety Vest, 2 Persons, 1 Safety Vest, 2056.8ms\n",
      "Speed: 5.0ms preprocess, 2056.8ms inference, 16.1ms postprocess per image at shape (1, 3, 640, 640)\n",
      "\n"
     ]
    },
    {
     "name": "stdout",
     "output_type": "stream",
     "text": [
      "Hardhat\n",
      "NO-Safety Vest\n",
      "Person\n",
      "Safety Vest\n",
      "Person\n",
      "NO-Hardhat\n",
      "NO-Mask\n"
     ]
    },
    {
     "name": "stderr",
     "output_type": "stream",
     "text": [
      "0: 384x640 1 Hardhat, 1 NO-Hardhat, 1 NO-Mask, 1 NO-Safety Vest, 2 Persons, 1 Safety Vest, 1861.0ms\n",
      "Speed: 9.2ms preprocess, 1861.0ms inference, 15.6ms postprocess per image at shape (1, 3, 640, 640)\n",
      "\n"
     ]
    },
    {
     "name": "stdout",
     "output_type": "stream",
     "text": [
      "Hardhat\n",
      "NO-Safety Vest\n",
      "Safety Vest\n",
      "Person\n",
      "Person\n",
      "NO-Hardhat\n",
      "NO-Mask\n"
     ]
    },
    {
     "name": "stderr",
     "output_type": "stream",
     "text": [
      "0: 384x640 1 Hardhat, 1 NO-Hardhat, 1 NO-Mask, 1 NO-Safety Vest, 2 Persons, 1 Safety Vest, 1840.6ms\n",
      "Speed: 6.4ms preprocess, 1840.6ms inference, 15.6ms postprocess per image at shape (1, 3, 640, 640)\n",
      "\n"
     ]
    },
    {
     "name": "stdout",
     "output_type": "stream",
     "text": [
      "Hardhat\n",
      "Safety Vest\n",
      "NO-Safety Vest\n",
      "Person\n",
      "Person\n",
      "NO-Hardhat\n",
      "NO-Mask\n"
     ]
    },
    {
     "name": "stderr",
     "output_type": "stream",
     "text": [
      "0: 384x640 1 Hardhat, 1 NO-Hardhat, 1 NO-Mask, 1 NO-Safety Vest, 2 Persons, 1 Safety Vest, 1827.8ms\n",
      "Speed: 15.0ms preprocess, 1827.8ms inference, 0.0ms postprocess per image at shape (1, 3, 640, 640)\n",
      "\n"
     ]
    },
    {
     "name": "stdout",
     "output_type": "stream",
     "text": [
      "Safety Vest\n",
      "Hardhat\n",
      "NO-Safety Vest\n",
      "Person\n",
      "Person\n",
      "NO-Hardhat\n",
      "NO-Mask\n"
     ]
    },
    {
     "name": "stderr",
     "output_type": "stream",
     "text": [
      "0: 384x640 1 Hardhat, 1 NO-Hardhat, 1 NO-Mask, 1 NO-Safety Vest, 2 Persons, 1 Safety Cone, 1 Safety Vest, 1633.9ms\n",
      "Speed: 6.4ms preprocess, 1633.9ms inference, 0.0ms postprocess per image at shape (1, 3, 640, 640)\n",
      "\n"
     ]
    },
    {
     "name": "stdout",
     "output_type": "stream",
     "text": [
      "Safety Vest\n",
      "Hardhat\n",
      "NO-Safety Vest\n",
      "Person\n",
      "Person\n",
      "NO-Hardhat\n",
      "NO-Mask\n",
      "Safety Cone\n"
     ]
    },
    {
     "name": "stderr",
     "output_type": "stream",
     "text": [
      "0: 384x640 1 Hardhat, 1 NO-Hardhat, 1 NO-Mask, 1 NO-Safety Vest, 2 Persons, 1 Safety Vest, 1647.2ms\n",
      "Speed: 15.7ms preprocess, 1647.2ms inference, 0.0ms postprocess per image at shape (1, 3, 640, 640)\n",
      "\n"
     ]
    },
    {
     "name": "stdout",
     "output_type": "stream",
     "text": [
      "Safety Vest\n",
      "Hardhat\n",
      "Person\n",
      "NO-Safety Vest\n",
      "Person\n",
      "NO-Hardhat\n",
      "NO-Mask\n"
     ]
    },
    {
     "name": "stderr",
     "output_type": "stream",
     "text": [
      "0: 384x640 1 Hardhat, 1 NO-Hardhat, 1 NO-Mask, 1 NO-Safety Vest, 2 Persons, 1 Safety Vest, 1607.1ms\n",
      "Speed: 0.0ms preprocess, 1607.1ms inference, 0.0ms postprocess per image at shape (1, 3, 640, 640)\n",
      "\n"
     ]
    },
    {
     "name": "stdout",
     "output_type": "stream",
     "text": [
      "Hardhat\n",
      "Safety Vest\n",
      "NO-Safety Vest\n",
      "Person\n",
      "Person\n",
      "NO-Hardhat\n",
      "NO-Mask\n"
     ]
    },
    {
     "name": "stderr",
     "output_type": "stream",
     "text": [
      "0: 384x640 1 Hardhat, 1 NO-Hardhat, 2 NO-Masks, 1 NO-Safety Vest, 2 Persons, 1 Safety Vest, 1613.3ms\n",
      "Speed: 0.0ms preprocess, 1613.3ms inference, 0.0ms postprocess per image at shape (1, 3, 640, 640)\n",
      "\n"
     ]
    },
    {
     "name": "stdout",
     "output_type": "stream",
     "text": [
      "Hardhat\n",
      "Safety Vest\n",
      "NO-Safety Vest\n",
      "Person\n",
      "Person\n",
      "NO-Hardhat\n",
      "NO-Mask\n",
      "NO-Mask\n"
     ]
    },
    {
     "name": "stderr",
     "output_type": "stream",
     "text": [
      "0: 384x640 1 Hardhat, 1 NO-Hardhat, 2 NO-Masks, 1 NO-Safety Vest, 2 Persons, 1 Safety Vest, 2170.6ms\n",
      "Speed: 0.0ms preprocess, 2170.6ms inference, 0.0ms postprocess per image at shape (1, 3, 640, 640)\n",
      "\n"
     ]
    },
    {
     "name": "stdout",
     "output_type": "stream",
     "text": [
      "Safety Vest\n",
      "Hardhat\n",
      "NO-Safety Vest\n",
      "Person\n",
      "Person\n",
      "NO-Hardhat\n",
      "NO-Mask\n",
      "NO-Mask\n"
     ]
    },
    {
     "name": "stderr",
     "output_type": "stream",
     "text": [
      "0: 384x640 2 NO-Hardhats, 2 NO-Masks, 2 NO-Safety Vests, 2 Persons, 1 machinery, 1932.5ms\n",
      "Speed: 4.6ms preprocess, 1932.5ms inference, 7.5ms postprocess per image at shape (1, 3, 640, 640)\n",
      "\n"
     ]
    },
    {
     "name": "stdout",
     "output_type": "stream",
     "text": [
      "Person\n",
      "NO-Mask\n",
      "NO-Safety Vest\n",
      "NO-Safety Vest\n",
      "Person\n",
      "NO-Hardhat\n",
      "NO-Hardhat\n",
      "NO-Mask\n",
      "machinery\n"
     ]
    },
    {
     "name": "stderr",
     "output_type": "stream",
     "text": [
      "0: 384x640 2 NO-Hardhats, 2 NO-Masks, 2 NO-Safety Vests, 2 Persons, 2100.1ms\n",
      "Speed: 5.1ms preprocess, 2100.1ms inference, 0.0ms postprocess per image at shape (1, 3, 640, 640)\n",
      "\n"
     ]
    },
    {
     "name": "stdout",
     "output_type": "stream",
     "text": [
      "Person\n",
      "NO-Mask\n",
      "NO-Safety Vest\n",
      "NO-Safety Vest\n",
      "Person\n",
      "NO-Hardhat\n",
      "NO-Hardhat\n",
      "NO-Mask\n"
     ]
    },
    {
     "name": "stderr",
     "output_type": "stream",
     "text": [
      "0: 384x640 2 NO-Hardhats, 2 NO-Masks, 2 NO-Safety Vests, 2 Persons, 1891.2ms\n",
      "Speed: 8.6ms preprocess, 1891.2ms inference, 5.0ms postprocess per image at shape (1, 3, 640, 640)\n",
      "\n"
     ]
    },
    {
     "name": "stdout",
     "output_type": "stream",
     "text": [
      "Person\n",
      "NO-Mask\n",
      "NO-Safety Vest\n",
      "NO-Safety Vest\n",
      "Person\n",
      "NO-Hardhat\n",
      "NO-Hardhat\n",
      "NO-Mask\n"
     ]
    },
    {
     "name": "stderr",
     "output_type": "stream",
     "text": [
      "0: 384x640 2 NO-Hardhats, 2 NO-Masks, 2 NO-Safety Vests, 2 Persons, 1705.2ms\n",
      "Speed: 10.2ms preprocess, 1705.2ms inference, 2.5ms postprocess per image at shape (1, 3, 640, 640)\n",
      "\n"
     ]
    },
    {
     "name": "stdout",
     "output_type": "stream",
     "text": [
      "Person\n",
      "NO-Mask\n",
      "NO-Safety Vest\n",
      "NO-Safety Vest\n",
      "Person\n",
      "NO-Hardhat\n",
      "NO-Hardhat\n",
      "NO-Mask\n"
     ]
    },
    {
     "name": "stderr",
     "output_type": "stream",
     "text": [
      "0: 384x640 2 NO-Hardhats, 2 NO-Masks, 2 NO-Safety Vests, 3 Persons, 1605.0ms\n",
      "Speed: 5.0ms preprocess, 1605.0ms inference, 6.3ms postprocess per image at shape (1, 3, 640, 640)\n",
      "\n"
     ]
    },
    {
     "name": "stdout",
     "output_type": "stream",
     "text": [
      "Person\n",
      "NO-Mask\n",
      "NO-Safety Vest\n",
      "NO-Safety Vest\n",
      "Person\n",
      "NO-Hardhat\n",
      "NO-Hardhat\n",
      "NO-Mask\n",
      "Person\n"
     ]
    },
    {
     "name": "stderr",
     "output_type": "stream",
     "text": [
      "0: 384x640 2 NO-Hardhats, 2 NO-Masks, 2 NO-Safety Vests, 3 Persons, 1 machinery, 1629.6ms\n",
      "Speed: 12.6ms preprocess, 1629.6ms inference, 3.5ms postprocess per image at shape (1, 3, 640, 640)\n",
      "\n"
     ]
    },
    {
     "name": "stdout",
     "output_type": "stream",
     "text": [
      "Person\n",
      "NO-Safety Vest\n",
      "NO-Mask\n",
      "NO-Safety Vest\n",
      "Person\n",
      "NO-Hardhat\n",
      "NO-Hardhat\n",
      "machinery\n",
      "NO-Mask\n",
      "Person\n"
     ]
    },
    {
     "name": "stderr",
     "output_type": "stream",
     "text": [
      "0: 384x640 2 NO-Hardhats, 2 NO-Masks, 2 NO-Safety Vests, 2 Persons, 1 machinery, 1649.1ms\n",
      "Speed: 0.0ms preprocess, 1649.1ms inference, 0.0ms postprocess per image at shape (1, 3, 640, 640)\n",
      "\n"
     ]
    },
    {
     "name": "stdout",
     "output_type": "stream",
     "text": [
      "Person\n",
      "NO-Safety Vest\n",
      "NO-Mask\n",
      "NO-Safety Vest\n",
      "Person\n",
      "NO-Hardhat\n",
      "NO-Hardhat\n",
      "NO-Mask\n",
      "machinery\n"
     ]
    },
    {
     "name": "stderr",
     "output_type": "stream",
     "text": [
      "0: 384x640 2 NO-Hardhats, 2 NO-Masks, 2 NO-Safety Vests, 2 Persons, 1 machinery, 1802.7ms\n",
      "Speed: 0.0ms preprocess, 1802.7ms inference, 0.0ms postprocess per image at shape (1, 3, 640, 640)\n",
      "\n"
     ]
    },
    {
     "name": "stdout",
     "output_type": "stream",
     "text": [
      "Person\n",
      "NO-Mask\n",
      "NO-Safety Vest\n",
      "NO-Safety Vest\n",
      "Person\n",
      "NO-Hardhat\n",
      "NO-Hardhat\n",
      "NO-Mask\n",
      "machinery\n"
     ]
    },
    {
     "name": "stderr",
     "output_type": "stream",
     "text": [
      "0: 384x640 2 NO-Hardhats, 2 NO-Masks, 2 NO-Safety Vests, 2 Persons, 1 machinery, 1865.0ms\n",
      "Speed: 15.2ms preprocess, 1865.0ms inference, 5.0ms postprocess per image at shape (1, 3, 640, 640)\n",
      "\n"
     ]
    },
    {
     "name": "stdout",
     "output_type": "stream",
     "text": [
      "Person\n",
      "NO-Mask\n",
      "NO-Safety Vest\n",
      "NO-Safety Vest\n",
      "Person\n",
      "NO-Hardhat\n",
      "NO-Hardhat\n",
      "NO-Mask\n",
      "machinery\n"
     ]
    },
    {
     "name": "stderr",
     "output_type": "stream",
     "text": [
      "0: 384x640 2 NO-Hardhats, 2 NO-Masks, 2 NO-Safety Vests, 2 Persons, 1 machinery, 1870.3ms\n",
      "Speed: 4.5ms preprocess, 1870.3ms inference, 0.0ms postprocess per image at shape (1, 3, 640, 640)\n",
      "\n"
     ]
    },
    {
     "name": "stdout",
     "output_type": "stream",
     "text": [
      "Person\n",
      "NO-Mask\n",
      "NO-Safety Vest\n",
      "Person\n",
      "NO-Safety Vest\n",
      "NO-Hardhat\n",
      "NO-Hardhat\n",
      "NO-Mask\n",
      "machinery\n"
     ]
    },
    {
     "name": "stderr",
     "output_type": "stream",
     "text": [
      "0: 384x640 2 NO-Hardhats, 2 NO-Masks, 2 NO-Safety Vests, 2 Persons, 1 machinery, 1865.8ms\n",
      "Speed: 9.0ms preprocess, 1865.8ms inference, 5.0ms postprocess per image at shape (1, 3, 640, 640)\n",
      "\n"
     ]
    },
    {
     "name": "stdout",
     "output_type": "stream",
     "text": [
      "Person\n",
      "NO-Mask\n",
      "NO-Safety Vest\n",
      "Person\n",
      "NO-Safety Vest\n",
      "NO-Hardhat\n",
      "NO-Hardhat\n",
      "NO-Mask\n",
      "machinery\n"
     ]
    },
    {
     "name": "stderr",
     "output_type": "stream",
     "text": [
      "0: 384x640 2 NO-Hardhats, 2 NO-Masks, 2 NO-Safety Vests, 2 Persons, 1 machinery, 1794.7ms\n",
      "Speed: 0.0ms preprocess, 1794.7ms inference, 0.0ms postprocess per image at shape (1, 3, 640, 640)\n",
      "\n"
     ]
    },
    {
     "name": "stdout",
     "output_type": "stream",
     "text": [
      "Person\n",
      "NO-Mask\n",
      "NO-Safety Vest\n",
      "Person\n",
      "NO-Safety Vest\n",
      "NO-Hardhat\n",
      "NO-Hardhat\n",
      "NO-Mask\n",
      "machinery\n"
     ]
    },
    {
     "name": "stderr",
     "output_type": "stream",
     "text": [
      "0: 384x640 1 Hardhat, 2 NO-Hardhats, 2 NO-Masks, 2 NO-Safety Vests, 2 Persons, 1670.4ms\n",
      "Speed: 0.0ms preprocess, 1670.4ms inference, 2.5ms postprocess per image at shape (1, 3, 640, 640)\n",
      "\n"
     ]
    },
    {
     "name": "stdout",
     "output_type": "stream",
     "text": [
      "Person\n",
      "NO-Mask\n",
      "NO-Safety Vest\n",
      "Person\n",
      "NO-Safety Vest\n",
      "NO-Hardhat\n",
      "Hardhat\n",
      "NO-Hardhat\n",
      "NO-Mask\n"
     ]
    },
    {
     "name": "stderr",
     "output_type": "stream",
     "text": [
      "0: 384x640 1 Hardhat, 2 NO-Hardhats, 2 NO-Masks, 2 NO-Safety Vests, 2 Persons, 1664.2ms\n",
      "Speed: 6.1ms preprocess, 1664.2ms inference, 0.0ms postprocess per image at shape (1, 3, 640, 640)\n",
      "\n"
     ]
    },
    {
     "name": "stdout",
     "output_type": "stream",
     "text": [
      "Person\n",
      "NO-Mask\n",
      "NO-Safety Vest\n",
      "Person\n",
      "NO-Safety Vest\n",
      "Hardhat\n",
      "NO-Hardhat\n",
      "NO-Mask\n",
      "NO-Hardhat\n"
     ]
    },
    {
     "name": "stderr",
     "output_type": "stream",
     "text": [
      "0: 384x640 1 Hardhat, 2 NO-Hardhats, 2 NO-Masks, 3 NO-Safety Vests, 2 Persons, 1660.1ms\n",
      "Speed: 5.0ms preprocess, 1660.1ms inference, 0.0ms postprocess per image at shape (1, 3, 640, 640)\n",
      "\n"
     ]
    },
    {
     "name": "stdout",
     "output_type": "stream",
     "text": [
      "Person\n",
      "NO-Mask\n",
      "NO-Safety Vest\n",
      "Person\n",
      "NO-Safety Vest\n",
      "Hardhat\n",
      "NO-Hardhat\n",
      "NO-Mask\n",
      "NO-Safety Vest\n",
      "NO-Hardhat\n"
     ]
    },
    {
     "name": "stderr",
     "output_type": "stream",
     "text": [
      "0: 384x640 1 Hardhat, 2 NO-Hardhats, 2 NO-Masks, 3 NO-Safety Vests, 2 Persons, 1635.0ms\n",
      "Speed: 12.1ms preprocess, 1635.0ms inference, 0.0ms postprocess per image at shape (1, 3, 640, 640)\n",
      "\n"
     ]
    },
    {
     "name": "stdout",
     "output_type": "stream",
     "text": [
      "Person\n",
      "NO-Mask\n",
      "NO-Safety Vest\n",
      "Person\n",
      "Hardhat\n",
      "NO-Safety Vest\n",
      "NO-Hardhat\n",
      "NO-Hardhat\n",
      "NO-Mask\n",
      "NO-Safety Vest\n"
     ]
    },
    {
     "name": "stderr",
     "output_type": "stream",
     "text": [
      "0: 384x640 1 Hardhat, 2 NO-Hardhats, 2 NO-Masks, 2 NO-Safety Vests, 2 Persons, 1850.0ms\n",
      "Speed: 5.0ms preprocess, 1850.0ms inference, 3.5ms postprocess per image at shape (1, 3, 640, 640)\n",
      "\n"
     ]
    },
    {
     "name": "stdout",
     "output_type": "stream",
     "text": [
      "Person\n",
      "NO-Mask\n",
      "NO-Safety Vest\n",
      "Person\n",
      "NO-Safety Vest\n",
      "Hardhat\n",
      "NO-Hardhat\n",
      "NO-Mask\n",
      "NO-Hardhat\n"
     ]
    },
    {
     "name": "stderr",
     "output_type": "stream",
     "text": [
      "0: 384x640 1 Hardhat, 2 NO-Hardhats, 2 NO-Masks, 2 NO-Safety Vests, 2 Persons, 2286.5ms\n",
      "Speed: 7.0ms preprocess, 2286.5ms inference, 3.1ms postprocess per image at shape (1, 3, 640, 640)\n",
      "\n"
     ]
    },
    {
     "name": "stdout",
     "output_type": "stream",
     "text": [
      "Person\n",
      "NO-Mask\n",
      "NO-Safety Vest\n",
      "Person\n",
      "NO-Safety Vest\n",
      "Hardhat\n",
      "NO-Hardhat\n",
      "NO-Mask\n",
      "NO-Hardhat\n"
     ]
    },
    {
     "name": "stderr",
     "output_type": "stream",
     "text": [
      "0: 384x640 1 Hardhat, 2 NO-Hardhats, 2 NO-Masks, 2 NO-Safety Vests, 2 Persons, 1 machinery, 2026.4ms\n",
      "Speed: 10.6ms preprocess, 2026.4ms inference, 4.0ms postprocess per image at shape (1, 3, 640, 640)\n",
      "\n"
     ]
    },
    {
     "name": "stdout",
     "output_type": "stream",
     "text": [
      "Person\n",
      "NO-Mask\n",
      "NO-Safety Vest\n",
      "Person\n",
      "NO-Safety Vest\n",
      "Hardhat\n",
      "NO-Hardhat\n",
      "NO-Mask\n",
      "NO-Hardhat\n",
      "machinery\n"
     ]
    },
    {
     "name": "stderr",
     "output_type": "stream",
     "text": [
      "0: 384x640 1 Hardhat, 1 NO-Hardhat, 2 NO-Masks, 2 NO-Safety Vests, 2 Persons, 1 machinery, 1895.1ms\n",
      "Speed: 0.0ms preprocess, 1895.1ms inference, 0.0ms postprocess per image at shape (1, 3, 640, 640)\n",
      "\n"
     ]
    },
    {
     "name": "stdout",
     "output_type": "stream",
     "text": [
      "Person\n",
      "NO-Mask\n",
      "NO-Safety Vest\n",
      "Person\n",
      "NO-Safety Vest\n",
      "Hardhat\n",
      "NO-Hardhat\n",
      "NO-Mask\n",
      "machinery\n"
     ]
    },
    {
     "name": "stderr",
     "output_type": "stream",
     "text": [
      "0: 384x640 1 Hardhat, 2 NO-Hardhats, 2 NO-Masks, 2 NO-Safety Vests, 2 Persons, 1 machinery, 1775.2ms\n",
      "Speed: 0.0ms preprocess, 1775.2ms inference, 0.0ms postprocess per image at shape (1, 3, 640, 640)\n",
      "\n"
     ]
    },
    {
     "name": "stdout",
     "output_type": "stream",
     "text": [
      "Person\n",
      "NO-Mask\n",
      "NO-Safety Vest\n",
      "Person\n",
      "Hardhat\n",
      "NO-Safety Vest\n",
      "NO-Hardhat\n",
      "NO-Mask\n",
      "NO-Hardhat\n",
      "machinery\n"
     ]
    },
    {
     "name": "stderr",
     "output_type": "stream",
     "text": [
      "0: 384x640 1 Hardhat, 1 NO-Hardhat, 2 NO-Masks, 2 NO-Safety Vests, 2 Persons, 1655.1ms\n",
      "Speed: 9.7ms preprocess, 1655.1ms inference, 5.0ms postprocess per image at shape (1, 3, 640, 640)\n",
      "\n"
     ]
    },
    {
     "name": "stdout",
     "output_type": "stream",
     "text": [
      "Person\n",
      "NO-Mask\n",
      "NO-Safety Vest\n",
      "Person\n",
      "Hardhat\n",
      "NO-Safety Vest\n",
      "NO-Hardhat\n",
      "NO-Mask\n"
     ]
    },
    {
     "name": "stderr",
     "output_type": "stream",
     "text": [
      "0: 384x640 1 Hardhat, 1 NO-Hardhat, 2 NO-Masks, 2 NO-Safety Vests, 2 Persons, 1 machinery, 1625.7ms\n",
      "Speed: 10.4ms preprocess, 1625.7ms inference, 0.0ms postprocess per image at shape (1, 3, 640, 640)\n",
      "\n"
     ]
    },
    {
     "name": "stdout",
     "output_type": "stream",
     "text": [
      "Person\n",
      "NO-Mask\n",
      "NO-Safety Vest\n",
      "Person\n",
      "Hardhat\n",
      "NO-Safety Vest\n",
      "NO-Hardhat\n",
      "NO-Mask\n",
      "machinery\n"
     ]
    },
    {
     "name": "stderr",
     "output_type": "stream",
     "text": [
      "0: 384x640 1 Hardhat, 1 NO-Hardhat, 2 NO-Masks, 2 NO-Safety Vests, 2 Persons, 1 machinery, 1629.8ms\n",
      "Speed: 10.3ms preprocess, 1629.8ms inference, 0.0ms postprocess per image at shape (1, 3, 640, 640)\n",
      "\n"
     ]
    },
    {
     "name": "stdout",
     "output_type": "stream",
     "text": [
      "Person\n",
      "NO-Mask\n",
      "NO-Safety Vest\n",
      "Person\n",
      "Hardhat\n",
      "NO-Safety Vest\n",
      "NO-Hardhat\n",
      "NO-Mask\n",
      "machinery\n"
     ]
    },
    {
     "name": "stderr",
     "output_type": "stream",
     "text": [
      "0: 384x640 1 Hardhat, 1 NO-Hardhat, 2 NO-Masks, 3 NO-Safety Vests, 2 Persons, 1 machinery, 1749.7ms\n",
      "Speed: 10.3ms preprocess, 1749.7ms inference, 0.0ms postprocess per image at shape (1, 3, 640, 640)\n",
      "\n"
     ]
    },
    {
     "name": "stdout",
     "output_type": "stream",
     "text": [
      "Person\n",
      "NO-Mask\n",
      "NO-Safety Vest\n",
      "Person\n",
      "Hardhat\n",
      "NO-Safety Vest\n",
      "NO-Hardhat\n",
      "NO-Mask\n",
      "machinery\n",
      "NO-Safety Vest\n"
     ]
    },
    {
     "name": "stderr",
     "output_type": "stream",
     "text": [
      "0: 384x640 1 Hardhat, 1 NO-Hardhat, 2 NO-Masks, 2 NO-Safety Vests, 2 Persons, 1 machinery, 1860.2ms\n",
      "Speed: 0.0ms preprocess, 1860.2ms inference, 5.0ms postprocess per image at shape (1, 3, 640, 640)\n",
      "\n"
     ]
    },
    {
     "name": "stdout",
     "output_type": "stream",
     "text": [
      "Person\n",
      "NO-Mask\n",
      "NO-Safety Vest\n",
      "Person\n",
      "Hardhat\n",
      "NO-Safety Vest\n",
      "NO-Hardhat\n",
      "NO-Mask\n",
      "machinery\n"
     ]
    },
    {
     "name": "stderr",
     "output_type": "stream",
     "text": [
      "0: 384x640 1 Hardhat, 1 NO-Hardhat, 2 NO-Masks, 2 NO-Safety Vests, 2 Persons, 1 machinery, 2011.4ms\n",
      "Speed: 8.0ms preprocess, 2011.4ms inference, 0.0ms postprocess per image at shape (1, 3, 640, 640)\n",
      "\n"
     ]
    },
    {
     "name": "stdout",
     "output_type": "stream",
     "text": [
      "Person\n",
      "NO-Mask\n",
      "NO-Safety Vest\n",
      "Person\n",
      "Hardhat\n",
      "NO-Safety Vest\n",
      "NO-Hardhat\n",
      "NO-Mask\n",
      "machinery\n"
     ]
    },
    {
     "name": "stderr",
     "output_type": "stream",
     "text": [
      "0: 384x640 1 Hardhat, 1 NO-Hardhat, 2 NO-Masks, 2 NO-Safety Vests, 2 Persons, 1 machinery, 1899.7ms\n",
      "Speed: 15.1ms preprocess, 1899.7ms inference, 5.0ms postprocess per image at shape (1, 3, 640, 640)\n",
      "\n"
     ]
    },
    {
     "name": "stdout",
     "output_type": "stream",
     "text": [
      "Person\n",
      "NO-Mask\n",
      "NO-Safety Vest\n",
      "Person\n",
      "Hardhat\n",
      "NO-Safety Vest\n",
      "NO-Hardhat\n",
      "machinery\n",
      "NO-Mask\n"
     ]
    },
    {
     "name": "stderr",
     "output_type": "stream",
     "text": [
      "0: 384x640 1 Hardhat, 1 NO-Hardhat, 2 NO-Masks, 2 NO-Safety Vests, 2 Persons, 1 machinery, 1840.0ms\n",
      "Speed: 10.1ms preprocess, 1840.0ms inference, 5.1ms postprocess per image at shape (1, 3, 640, 640)\n",
      "\n"
     ]
    },
    {
     "name": "stdout",
     "output_type": "stream",
     "text": [
      "Person\n",
      "NO-Mask\n",
      "NO-Safety Vest\n",
      "NO-Safety Vest\n",
      "Person\n",
      "Hardhat\n",
      "NO-Hardhat\n",
      "NO-Mask\n",
      "machinery\n"
     ]
    },
    {
     "name": "stderr",
     "output_type": "stream",
     "text": [
      "0: 384x640 1 Hardhat, 1 NO-Hardhat, 2 NO-Masks, 2 NO-Safety Vests, 2 Persons, 1624.4ms\n",
      "Speed: 8.7ms preprocess, 1624.4ms inference, 0.5ms postprocess per image at shape (1, 3, 640, 640)\n",
      "\n"
     ]
    },
    {
     "name": "stdout",
     "output_type": "stream",
     "text": [
      "Person\n",
      "NO-Safety Vest\n",
      "NO-Mask\n",
      "NO-Safety Vest\n",
      "Hardhat\n",
      "Person\n",
      "NO-Hardhat\n",
      "NO-Mask\n"
     ]
    },
    {
     "name": "stderr",
     "output_type": "stream",
     "text": [
      "0: 384x640 1 Hardhat, 1 NO-Hardhat, 2 NO-Masks, 2 NO-Safety Vests, 2 Persons, 1 machinery, 1640.0ms\n",
      "Speed: 0.0ms preprocess, 1640.0ms inference, 0.0ms postprocess per image at shape (1, 3, 640, 640)\n",
      "\n"
     ]
    },
    {
     "name": "stdout",
     "output_type": "stream",
     "text": [
      "Person\n",
      "NO-Safety Vest\n",
      "Hardhat\n",
      "NO-Mask\n",
      "NO-Safety Vest\n",
      "Person\n",
      "NO-Hardhat\n",
      "NO-Mask\n",
      "machinery\n"
     ]
    },
    {
     "name": "stderr",
     "output_type": "stream",
     "text": [
      "0: 384x640 1 Hardhat, 1 NO-Hardhat, 2 NO-Masks, 2 NO-Safety Vests, 2 Persons, 1 machinery, 1774.5ms\n",
      "Speed: 5.1ms preprocess, 1774.5ms inference, 0.0ms postprocess per image at shape (1, 3, 640, 640)\n",
      "\n"
     ]
    },
    {
     "name": "stdout",
     "output_type": "stream",
     "text": [
      "Person\n",
      "NO-Safety Vest\n",
      "NO-Mask\n",
      "Hardhat\n",
      "NO-Safety Vest\n",
      "Person\n",
      "NO-Hardhat\n",
      "NO-Mask\n",
      "machinery\n"
     ]
    },
    {
     "name": "stderr",
     "output_type": "stream",
     "text": [
      "0: 384x640 1 Hardhat, 1 NO-Hardhat, 2 NO-Masks, 2 NO-Safety Vests, 2 Persons, 1 machinery, 1655.2ms\n",
      "Speed: 0.0ms preprocess, 1655.2ms inference, 0.0ms postprocess per image at shape (1, 3, 640, 640)\n",
      "\n"
     ]
    },
    {
     "name": "stdout",
     "output_type": "stream",
     "text": [
      "NO-Mask\n",
      "Person\n",
      "NO-Safety Vest\n",
      "Hardhat\n",
      "NO-Safety Vest\n",
      "Person\n",
      "NO-Hardhat\n",
      "NO-Mask\n",
      "machinery\n"
     ]
    },
    {
     "name": "stderr",
     "output_type": "stream",
     "text": [
      "0: 384x640 1 Hardhat, 1 NO-Hardhat, 2 NO-Masks, 2 NO-Safety Vests, 2 Persons, 1 machinery, 1809.7ms\n",
      "Speed: 14.9ms preprocess, 1809.7ms inference, 0.0ms postprocess per image at shape (1, 3, 640, 640)\n",
      "\n"
     ]
    },
    {
     "name": "stdout",
     "output_type": "stream",
     "text": [
      "NO-Mask\n",
      "NO-Safety Vest\n",
      "Person\n",
      "Hardhat\n",
      "Person\n",
      "NO-Hardhat\n",
      "NO-Mask\n",
      "machinery\n",
      "NO-Safety Vest\n"
     ]
    },
    {
     "name": "stderr",
     "output_type": "stream",
     "text": [
      "0: 384x640 1 Hardhat, 1 NO-Hardhat, 2 NO-Masks, 2 NO-Safety Vests, 2 Persons, 1 machinery, 1891.8ms\n",
      "Speed: 1.5ms preprocess, 1891.8ms inference, 6.5ms postprocess per image at shape (1, 3, 640, 640)\n",
      "\n"
     ]
    },
    {
     "name": "stdout",
     "output_type": "stream",
     "text": [
      "NO-Mask\n",
      "NO-Safety Vest\n",
      "NO-Safety Vest\n",
      "Person\n",
      "Person\n",
      "Hardhat\n",
      "NO-Hardhat\n",
      "NO-Mask\n",
      "machinery\n"
     ]
    },
    {
     "name": "stderr",
     "output_type": "stream",
     "text": [
      "0: 384x640 1 Hardhat, 1 NO-Hardhat, 2 NO-Masks, 2 NO-Safety Vests, 2 Persons, 1 machinery, 1876.4ms\n",
      "Speed: 8.1ms preprocess, 1876.4ms inference, 0.0ms postprocess per image at shape (1, 3, 640, 640)\n",
      "\n"
     ]
    },
    {
     "name": "stdout",
     "output_type": "stream",
     "text": [
      "Person\n",
      "NO-Safety Vest\n",
      "NO-Mask\n",
      "NO-Safety Vest\n",
      "Person\n",
      "Hardhat\n",
      "NO-Hardhat\n",
      "NO-Mask\n",
      "machinery\n"
     ]
    },
    {
     "name": "stderr",
     "output_type": "stream",
     "text": [
      "0: 384x640 1 Hardhat, 1 NO-Hardhat, 2 NO-Masks, 2 NO-Safety Vests, 2 Persons, 1 machinery, 1879.9ms\n",
      "Speed: 5.0ms preprocess, 1879.9ms inference, 5.0ms postprocess per image at shape (1, 3, 640, 640)\n",
      "\n"
     ]
    },
    {
     "name": "stdout",
     "output_type": "stream",
     "text": [
      "Person\n",
      "NO-Mask\n",
      "NO-Safety Vest\n",
      "NO-Safety Vest\n",
      "Person\n",
      "Hardhat\n",
      "NO-Hardhat\n",
      "NO-Mask\n",
      "machinery\n"
     ]
    },
    {
     "name": "stderr",
     "output_type": "stream",
     "text": [
      "0: 384x640 1 Hardhat, 1 NO-Hardhat, 2 NO-Masks, 2 NO-Safety Vests, 2 Persons, 1 machinery, 1754.8ms\n",
      "Speed: 10.1ms preprocess, 1754.8ms inference, 0.0ms postprocess per image at shape (1, 3, 640, 640)\n",
      "\n"
     ]
    },
    {
     "name": "stdout",
     "output_type": "stream",
     "text": [
      "Person\n",
      "NO-Safety Vest\n",
      "NO-Mask\n",
      "NO-Safety Vest\n",
      "Person\n",
      "Hardhat\n",
      "NO-Hardhat\n",
      "NO-Mask\n",
      "machinery\n"
     ]
    },
    {
     "name": "stderr",
     "output_type": "stream",
     "text": [
      "0: 384x640 1 Hardhat, 1 NO-Hardhat, 2 NO-Masks, 2 NO-Safety Vests, 2 Persons, 1 machinery, 1635.2ms\n",
      "Speed: 0.0ms preprocess, 1635.2ms inference, 0.0ms postprocess per image at shape (1, 3, 640, 640)\n",
      "\n"
     ]
    },
    {
     "name": "stdout",
     "output_type": "stream",
     "text": [
      "NO-Safety Vest\n",
      "Person\n",
      "NO-Mask\n",
      "NO-Safety Vest\n",
      "Person\n",
      "Hardhat\n",
      "NO-Hardhat\n",
      "NO-Mask\n",
      "machinery\n"
     ]
    },
    {
     "name": "stderr",
     "output_type": "stream",
     "text": [
      "0: 384x640 1 Hardhat, 1 NO-Hardhat, 2 NO-Masks, 2 NO-Safety Vests, 2 Persons, 1 machinery, 1655.4ms\n",
      "Speed: 5.0ms preprocess, 1655.4ms inference, 0.0ms postprocess per image at shape (1, 3, 640, 640)\n",
      "\n"
     ]
    },
    {
     "name": "stdout",
     "output_type": "stream",
     "text": [
      "NO-Safety Vest\n",
      "Person\n",
      "NO-Safety Vest\n",
      "NO-Mask\n",
      "Person\n",
      "Hardhat\n",
      "NO-Hardhat\n",
      "NO-Mask\n",
      "machinery\n"
     ]
    },
    {
     "name": "stderr",
     "output_type": "stream",
     "text": [
      "0: 384x640 1 Hardhat, 2 NO-Hardhats, 2 NO-Masks, 2 NO-Safety Vests, 2 Persons, 1 machinery, 1639.0ms\n",
      "Speed: 5.0ms preprocess, 1639.0ms inference, 0.0ms postprocess per image at shape (1, 3, 640, 640)\n",
      "\n"
     ]
    },
    {
     "name": "stdout",
     "output_type": "stream",
     "text": [
      "NO-Safety Vest\n",
      "Person\n",
      "NO-Safety Vest\n",
      "NO-Mask\n",
      "Person\n",
      "Hardhat\n",
      "NO-Hardhat\n",
      "NO-Mask\n",
      "machinery\n",
      "NO-Hardhat\n"
     ]
    },
    {
     "name": "stderr",
     "output_type": "stream",
     "text": [
      "0: 384x640 1 Hardhat, 2 NO-Hardhats, 2 NO-Masks, 2 NO-Safety Vests, 2 Persons, 1 machinery, 1684.5ms\n",
      "Speed: 15.3ms preprocess, 1684.5ms inference, 0.0ms postprocess per image at shape (1, 3, 640, 640)\n",
      "\n"
     ]
    },
    {
     "name": "stdout",
     "output_type": "stream",
     "text": [
      "NO-Safety Vest\n",
      "Person\n",
      "NO-Mask\n",
      "NO-Safety Vest\n",
      "Person\n",
      "Hardhat\n",
      "NO-Hardhat\n",
      "NO-Mask\n",
      "machinery\n",
      "NO-Hardhat\n"
     ]
    },
    {
     "name": "stderr",
     "output_type": "stream",
     "text": [
      "0: 384x640 1 Hardhat, 2 NO-Hardhats, 2 NO-Masks, 2 NO-Safety Vests, 2 Persons, 1 machinery, 1869.8ms\n",
      "Speed: 5.0ms preprocess, 1869.8ms inference, 4.1ms postprocess per image at shape (1, 3, 640, 640)\n",
      "\n"
     ]
    },
    {
     "name": "stdout",
     "output_type": "stream",
     "text": [
      "NO-Safety Vest\n",
      "Person\n",
      "NO-Mask\n",
      "NO-Safety Vest\n",
      "Person\n",
      "Hardhat\n",
      "NO-Hardhat\n",
      "NO-Mask\n",
      "machinery\n",
      "NO-Hardhat\n"
     ]
    },
    {
     "name": "stderr",
     "output_type": "stream",
     "text": [
      "0: 384x640 1 Hardhat, 1 NO-Hardhat, 2 NO-Masks, 2 NO-Safety Vests, 2 Persons, 1 machinery, 1855.3ms\n",
      "Speed: 8.0ms preprocess, 1855.3ms inference, 5.0ms postprocess per image at shape (1, 3, 640, 640)\n",
      "\n"
     ]
    },
    {
     "name": "stdout",
     "output_type": "stream",
     "text": [
      "NO-Safety Vest\n",
      "Person\n",
      "NO-Safety Vest\n",
      "NO-Mask\n",
      "Person\n",
      "Hardhat\n",
      "NO-Hardhat\n",
      "NO-Mask\n",
      "machinery\n"
     ]
    },
    {
     "name": "stderr",
     "output_type": "stream",
     "text": [
      "0: 384x640 1 Hardhat, 2 NO-Hardhats, 2 NO-Masks, 2 NO-Safety Vests, 2 Persons, 1 machinery, 1860.4ms\n",
      "Speed: 6.0ms preprocess, 1860.4ms inference, 0.0ms postprocess per image at shape (1, 3, 640, 640)\n",
      "\n"
     ]
    },
    {
     "name": "stdout",
     "output_type": "stream",
     "text": [
      "NO-Safety Vest\n",
      "Person\n",
      "NO-Mask\n",
      "NO-Safety Vest\n",
      "Person\n",
      "Hardhat\n",
      "NO-Hardhat\n",
      "NO-Mask\n",
      "machinery\n",
      "NO-Hardhat\n"
     ]
    },
    {
     "name": "stderr",
     "output_type": "stream",
     "text": [
      "0: 384x640 1 Hardhat, 2 NO-Hardhats, 2 NO-Masks, 2 NO-Safety Vests, 2 Persons, 1 machinery, 1995.0ms\n",
      "Speed: 5.1ms preprocess, 1995.0ms inference, 5.0ms postprocess per image at shape (1, 3, 640, 640)\n",
      "\n"
     ]
    },
    {
     "name": "stdout",
     "output_type": "stream",
     "text": [
      "NO-Safety Vest\n",
      "Person\n",
      "NO-Mask\n",
      "NO-Safety Vest\n",
      "Person\n",
      "Hardhat\n",
      "NO-Hardhat\n",
      "NO-Mask\n",
      "machinery\n",
      "NO-Hardhat\n"
     ]
    },
    {
     "name": "stderr",
     "output_type": "stream",
     "text": [
      "0: 384x640 1 Hardhat, 2 NO-Hardhats, 2 NO-Masks, 2 NO-Safety Vests, 2 Persons, 1 machinery, 2020.5ms\n",
      "Speed: 5.0ms preprocess, 2020.5ms inference, 0.0ms postprocess per image at shape (1, 3, 640, 640)\n",
      "\n"
     ]
    },
    {
     "name": "stdout",
     "output_type": "stream",
     "text": [
      "NO-Safety Vest\n",
      "Person\n",
      "NO-Mask\n",
      "NO-Safety Vest\n",
      "Person\n",
      "Hardhat\n",
      "NO-Hardhat\n",
      "NO-Mask\n",
      "machinery\n",
      "NO-Hardhat\n"
     ]
    },
    {
     "name": "stderr",
     "output_type": "stream",
     "text": [
      "0: 384x640 1 Hardhat, 2 NO-Hardhats, 2 NO-Masks, 2 NO-Safety Vests, 2 Persons, 1 machinery, 1691.2ms\n",
      "Speed: 7.5ms preprocess, 1691.2ms inference, 0.0ms postprocess per image at shape (1, 3, 640, 640)\n",
      "\n"
     ]
    },
    {
     "name": "stdout",
     "output_type": "stream",
     "text": [
      "NO-Safety Vest\n",
      "Person\n",
      "NO-Mask\n",
      "NO-Safety Vest\n",
      "Person\n",
      "Hardhat\n",
      "NO-Hardhat\n",
      "NO-Mask\n",
      "machinery\n",
      "NO-Hardhat\n"
     ]
    },
    {
     "name": "stderr",
     "output_type": "stream",
     "text": [
      "0: 384x640 1 Hardhat, 2 NO-Hardhats, 2 NO-Masks, 2 NO-Safety Vests, 2 Persons, 1 machinery, 1605.0ms\n",
      "Speed: 5.1ms preprocess, 1605.0ms inference, 0.0ms postprocess per image at shape (1, 3, 640, 640)\n",
      "\n"
     ]
    },
    {
     "name": "stdout",
     "output_type": "stream",
     "text": [
      "NO-Safety Vest\n",
      "Person\n",
      "NO-Mask\n",
      "NO-Safety Vest\n",
      "Person\n",
      "Hardhat\n",
      "NO-Hardhat\n",
      "NO-Mask\n",
      "machinery\n",
      "NO-Hardhat\n"
     ]
    },
    {
     "name": "stderr",
     "output_type": "stream",
     "text": [
      "0: 384x640 1 Hardhat, 2 NO-Hardhats, 2 NO-Masks, 2 NO-Safety Vests, 2 Persons, 1 machinery, 1629.7ms\n",
      "Speed: 0.0ms preprocess, 1629.7ms inference, 0.0ms postprocess per image at shape (1, 3, 640, 640)\n",
      "\n"
     ]
    },
    {
     "name": "stdout",
     "output_type": "stream",
     "text": [
      "NO-Safety Vest\n",
      "Person\n",
      "NO-Mask\n",
      "NO-Safety Vest\n",
      "Person\n",
      "NO-Hardhat\n",
      "Hardhat\n",
      "machinery\n",
      "NO-Mask\n",
      "NO-Hardhat\n"
     ]
    },
    {
     "name": "stderr",
     "output_type": "stream",
     "text": [
      "0: 384x640 1 Hardhat, 2 NO-Hardhats, 2 NO-Masks, 2 NO-Safety Vests, 2 Persons, 1 machinery, 1769.8ms\n",
      "Speed: 8.1ms preprocess, 1769.8ms inference, 5.0ms postprocess per image at shape (1, 3, 640, 640)\n",
      "\n"
     ]
    },
    {
     "name": "stdout",
     "output_type": "stream",
     "text": [
      "NO-Safety Vest\n",
      "Person\n",
      "NO-Mask\n",
      "NO-Safety Vest\n",
      "Person\n",
      "NO-Hardhat\n",
      "Hardhat\n",
      "machinery\n",
      "NO-Mask\n",
      "NO-Hardhat\n"
     ]
    },
    {
     "name": "stderr",
     "output_type": "stream",
     "text": [
      "0: 384x640 1 Hardhat, 2 NO-Hardhats, 2 NO-Masks, 2 NO-Safety Vests, 2 Persons, 1 machinery, 1854.6ms\n",
      "Speed: 15.4ms preprocess, 1854.6ms inference, 4.0ms postprocess per image at shape (1, 3, 640, 640)\n",
      "\n"
     ]
    },
    {
     "name": "stdout",
     "output_type": "stream",
     "text": [
      "NO-Safety Vest\n",
      "Person\n",
      "NO-Mask\n",
      "NO-Safety Vest\n",
      "Person\n",
      "NO-Hardhat\n",
      "Hardhat\n",
      "machinery\n",
      "NO-Mask\n",
      "NO-Hardhat\n"
     ]
    },
    {
     "name": "stderr",
     "output_type": "stream",
     "text": [
      "0: 384x640 1 Hardhat, 2 NO-Hardhats, 2 NO-Masks, 2 NO-Safety Vests, 2 Persons, 1 machinery, 1897.4ms\n",
      "Speed: 10.0ms preprocess, 1897.4ms inference, 0.0ms postprocess per image at shape (1, 3, 640, 640)\n",
      "\n"
     ]
    },
    {
     "name": "stdout",
     "output_type": "stream",
     "text": [
      "NO-Safety Vest\n",
      "Person\n",
      "NO-Mask\n",
      "NO-Safety Vest\n",
      "Person\n",
      "Hardhat\n",
      "NO-Hardhat\n",
      "machinery\n",
      "NO-Mask\n",
      "NO-Hardhat\n"
     ]
    },
    {
     "name": "stderr",
     "output_type": "stream",
     "text": [
      "0: 384x640 1 Hardhat, 2 NO-Hardhats, 2 NO-Masks, 2 NO-Safety Vests, 2 Persons, 1 machinery, 1850.1ms\n",
      "Speed: 5.0ms preprocess, 1850.1ms inference, 5.0ms postprocess per image at shape (1, 3, 640, 640)\n",
      "\n"
     ]
    },
    {
     "name": "stdout",
     "output_type": "stream",
     "text": [
      "NO-Safety Vest\n",
      "Person\n",
      "NO-Mask\n",
      "NO-Safety Vest\n",
      "Person\n",
      "Hardhat\n",
      "NO-Hardhat\n",
      "NO-Hardhat\n",
      "machinery\n",
      "NO-Mask\n"
     ]
    },
    {
     "name": "stderr",
     "output_type": "stream",
     "text": [
      "0: 384x640 1 Hardhat, 2 NO-Hardhats, 2 NO-Masks, 2 NO-Safety Vests, 2 Persons, 1 machinery, 1819.9ms\n",
      "Speed: 15.1ms preprocess, 1819.9ms inference, 0.0ms postprocess per image at shape (1, 3, 640, 640)\n",
      "\n"
     ]
    },
    {
     "name": "stdout",
     "output_type": "stream",
     "text": [
      "NO-Safety Vest\n",
      "Person\n",
      "NO-Mask\n",
      "NO-Safety Vest\n",
      "Person\n",
      "Hardhat\n",
      "NO-Hardhat\n",
      "NO-Hardhat\n",
      "machinery\n",
      "NO-Mask\n"
     ]
    },
    {
     "name": "stderr",
     "output_type": "stream",
     "text": [
      "0: 384x640 1 Hardhat, 2 NO-Hardhats, 2 NO-Masks, 2 NO-Safety Vests, 2 Persons, 1 machinery, 1634.6ms\n",
      "Speed: 10.4ms preprocess, 1634.6ms inference, 5.1ms postprocess per image at shape (1, 3, 640, 640)\n",
      "\n"
     ]
    },
    {
     "name": "stdout",
     "output_type": "stream",
     "text": [
      "NO-Safety Vest\n",
      "Person\n",
      "NO-Mask\n",
      "NO-Safety Vest\n",
      "Person\n",
      "Hardhat\n",
      "NO-Hardhat\n",
      "NO-Hardhat\n",
      "machinery\n",
      "NO-Mask\n"
     ]
    },
    {
     "name": "stderr",
     "output_type": "stream",
     "text": [
      "0: 384x640 1 Hardhat, 2 NO-Hardhats, 2 NO-Masks, 2 NO-Safety Vests, 2 Persons, 1 machinery, 1637.2ms\n",
      "Speed: 11.6ms preprocess, 1637.2ms inference, 7.5ms postprocess per image at shape (1, 3, 640, 640)\n",
      "\n"
     ]
    },
    {
     "name": "stdout",
     "output_type": "stream",
     "text": [
      "NO-Safety Vest\n",
      "Person\n",
      "NO-Mask\n",
      "NO-Safety Vest\n",
      "Person\n",
      "Hardhat\n",
      "NO-Hardhat\n",
      "NO-Hardhat\n",
      "machinery\n",
      "NO-Mask\n"
     ]
    },
    {
     "name": "stderr",
     "output_type": "stream",
     "text": [
      "0: 384x640 1 Hardhat, 2 NO-Hardhats, 2 NO-Masks, 2 NO-Safety Vests, 2 Persons, 1 machinery, 1625.0ms\n",
      "Speed: 14.6ms preprocess, 1625.0ms inference, 0.0ms postprocess per image at shape (1, 3, 640, 640)\n",
      "\n"
     ]
    },
    {
     "name": "stdout",
     "output_type": "stream",
     "text": [
      "NO-Safety Vest\n",
      "Person\n",
      "NO-Mask\n",
      "NO-Safety Vest\n",
      "Person\n",
      "Hardhat\n",
      "NO-Hardhat\n",
      "machinery\n",
      "NO-Mask\n",
      "NO-Hardhat\n"
     ]
    },
    {
     "name": "stderr",
     "output_type": "stream",
     "text": [
      "0: 384x640 1 Hardhat, 2 NO-Hardhats, 2 NO-Masks, 2 NO-Safety Vests, 2 Persons, 1 machinery, 1630.0ms\n",
      "Speed: 2.6ms preprocess, 1630.0ms inference, 0.0ms postprocess per image at shape (1, 3, 640, 640)\n",
      "\n"
     ]
    },
    {
     "name": "stdout",
     "output_type": "stream",
     "text": [
      "NO-Safety Vest\n",
      "Person\n",
      "NO-Mask\n",
      "NO-Safety Vest\n",
      "Person\n",
      "Hardhat\n",
      "NO-Hardhat\n",
      "machinery\n",
      "NO-Mask\n",
      "NO-Hardhat\n"
     ]
    },
    {
     "name": "stderr",
     "output_type": "stream",
     "text": [
      "0: 384x640 1 Hardhat, 2 NO-Hardhats, 2 NO-Masks, 2 NO-Safety Vests, 2 Persons, 1 machinery, 1769.6ms\n",
      "Speed: 0.0ms preprocess, 1769.6ms inference, 0.0ms postprocess per image at shape (1, 3, 640, 640)\n",
      "\n"
     ]
    },
    {
     "name": "stdout",
     "output_type": "stream",
     "text": [
      "NO-Safety Vest\n",
      "Person\n",
      "NO-Mask\n",
      "NO-Safety Vest\n",
      "Person\n",
      "Hardhat\n",
      "NO-Hardhat\n",
      "machinery\n",
      "NO-Mask\n",
      "NO-Hardhat\n"
     ]
    },
    {
     "name": "stderr",
     "output_type": "stream",
     "text": [
      "0: 384x640 1 Hardhat, 2 NO-Hardhats, 2 NO-Masks, 2 NO-Safety Vests, 2 Persons, 1 machinery, 1878.4ms\n",
      "Speed: 0.0ms preprocess, 1878.4ms inference, 0.0ms postprocess per image at shape (1, 3, 640, 640)\n",
      "\n"
     ]
    },
    {
     "name": "stdout",
     "output_type": "stream",
     "text": [
      "NO-Safety Vest\n",
      "Person\n",
      "NO-Mask\n",
      "NO-Safety Vest\n",
      "Person\n",
      "Hardhat\n",
      "NO-Hardhat\n",
      "NO-Mask\n",
      "machinery\n",
      "NO-Hardhat\n"
     ]
    },
    {
     "name": "stderr",
     "output_type": "stream",
     "text": [
      "0: 384x640 1 Hardhat, 2 NO-Hardhats, 2 NO-Masks, 2 NO-Safety Vests, 2 Persons, 1 machinery, 1884.8ms\n",
      "Speed: 10.1ms preprocess, 1884.8ms inference, 6.1ms postprocess per image at shape (1, 3, 640, 640)\n",
      "\n"
     ]
    },
    {
     "name": "stdout",
     "output_type": "stream",
     "text": [
      "NO-Safety Vest\n",
      "Person\n",
      "NO-Mask\n",
      "NO-Safety Vest\n",
      "Person\n",
      "Hardhat\n",
      "NO-Hardhat\n",
      "NO-Hardhat\n",
      "NO-Mask\n",
      "machinery\n"
     ]
    },
    {
     "name": "stderr",
     "output_type": "stream",
     "text": [
      "0: 384x640 1 Hardhat, 1 NO-Hardhat, 2 NO-Masks, 2 NO-Safety Vests, 2 Persons, 1844.8ms\n",
      "Speed: 14.9ms preprocess, 1844.8ms inference, 5.0ms postprocess per image at shape (1, 3, 640, 640)\n",
      "\n"
     ]
    },
    {
     "name": "stdout",
     "output_type": "stream",
     "text": [
      "Hardhat\n",
      "NO-Safety Vest\n",
      "Person\n",
      "NO-Safety Vest\n",
      "NO-Mask\n",
      "Person\n",
      "NO-Hardhat\n",
      "NO-Mask\n"
     ]
    },
    {
     "name": "stderr",
     "output_type": "stream",
     "text": [
      "0: 384x640 1 Hardhat, 1 NO-Hardhat, 2 NO-Masks, 2 NO-Safety Vests, 2 Persons, 1791.1ms\n",
      "Speed: 7.2ms preprocess, 1791.1ms inference, 0.0ms postprocess per image at shape (1, 3, 640, 640)\n",
      "\n"
     ]
    },
    {
     "name": "stdout",
     "output_type": "stream",
     "text": [
      "Hardhat\n",
      "NO-Safety Vest\n",
      "Person\n",
      "NO-Safety Vest\n",
      "NO-Mask\n",
      "Person\n",
      "NO-Hardhat\n",
      "NO-Mask\n"
     ]
    },
    {
     "name": "stderr",
     "output_type": "stream",
     "text": [
      "0: 384x640 1 Hardhat, 1 NO-Hardhat, 2 NO-Masks, 2 NO-Safety Vests, 2 Persons, 1649.8ms\n",
      "Speed: 15.2ms preprocess, 1649.8ms inference, 0.0ms postprocess per image at shape (1, 3, 640, 640)\n",
      "\n"
     ]
    },
    {
     "name": "stdout",
     "output_type": "stream",
     "text": [
      "Hardhat\n",
      "NO-Safety Vest\n",
      "Person\n",
      "NO-Safety Vest\n",
      "NO-Mask\n",
      "Person\n",
      "NO-Hardhat\n",
      "NO-Mask\n"
     ]
    },
    {
     "name": "stderr",
     "output_type": "stream",
     "text": [
      "0: 384x640 1 Hardhat, 1 NO-Hardhat, 2 NO-Masks, 2 NO-Safety Vests, 2 Persons, 1670.0ms\n",
      "Speed: 10.1ms preprocess, 1670.0ms inference, 0.0ms postprocess per image at shape (1, 3, 640, 640)\n",
      "\n"
     ]
    },
    {
     "name": "stdout",
     "output_type": "stream",
     "text": [
      "NO-Safety Vest\n",
      "Hardhat\n",
      "Person\n",
      "NO-Safety Vest\n",
      "NO-Mask\n",
      "Person\n",
      "NO-Hardhat\n",
      "NO-Mask\n"
     ]
    },
    {
     "name": "stderr",
     "output_type": "stream",
     "text": [
      "0: 384x640 1 Hardhat, 1 NO-Hardhat, 2 NO-Masks, 2 NO-Safety Vests, 2 Persons, 1630.1ms\n",
      "Speed: 0.0ms preprocess, 1630.1ms inference, 0.0ms postprocess per image at shape (1, 3, 640, 640)\n",
      "\n"
     ]
    },
    {
     "name": "stdout",
     "output_type": "stream",
     "text": [
      "NO-Safety Vest\n",
      "Hardhat\n",
      "Person\n",
      "NO-Mask\n",
      "NO-Safety Vest\n",
      "Person\n",
      "NO-Hardhat\n",
      "NO-Mask\n"
     ]
    },
    {
     "name": "stderr",
     "output_type": "stream",
     "text": [
      "0: 384x640 1 Hardhat, 1 NO-Hardhat, 2 NO-Masks, 2 NO-Safety Vests, 2 Persons, 1603.4ms\n",
      "Speed: 10.0ms preprocess, 1603.4ms inference, 0.0ms postprocess per image at shape (1, 3, 640, 640)\n",
      "\n"
     ]
    },
    {
     "name": "stdout",
     "output_type": "stream",
     "text": [
      "Hardhat\n",
      "NO-Safety Vest\n",
      "Person\n",
      "NO-Safety Vest\n",
      "NO-Mask\n",
      "Person\n",
      "NO-Hardhat\n",
      "NO-Mask\n"
     ]
    },
    {
     "name": "stderr",
     "output_type": "stream",
     "text": [
      "0: 384x640 1 Hardhat, 1 NO-Hardhat, 2 NO-Masks, 2 NO-Safety Vests, 2 Persons, 1816.0ms\n",
      "Speed: 10.6ms preprocess, 1816.0ms inference, 5.0ms postprocess per image at shape (1, 3, 640, 640)\n",
      "\n"
     ]
    },
    {
     "name": "stdout",
     "output_type": "stream",
     "text": [
      "Hardhat\n",
      "Person\n",
      "NO-Safety Vest\n",
      "NO-Safety Vest\n",
      "Person\n",
      "NO-Mask\n",
      "NO-Hardhat\n",
      "NO-Mask\n"
     ]
    },
    {
     "name": "stderr",
     "output_type": "stream",
     "text": [
      "0: 384x640 1 Hardhat, 1 NO-Hardhat, 2 NO-Masks, 2 NO-Safety Vests, 2 Persons, 1860.0ms\n",
      "Speed: 19.9ms preprocess, 1860.0ms inference, 5.0ms postprocess per image at shape (1, 3, 640, 640)\n",
      "\n"
     ]
    },
    {
     "name": "stdout",
     "output_type": "stream",
     "text": [
      "NO-Safety Vest\n",
      "Person\n",
      "Hardhat\n",
      "NO-Safety Vest\n",
      "Person\n",
      "NO-Mask\n",
      "NO-Hardhat\n",
      "NO-Mask\n"
     ]
    },
    {
     "name": "stderr",
     "output_type": "stream",
     "text": [
      "0: 384x640 1 Hardhat, 1 NO-Hardhat, 2 NO-Masks, 2 NO-Safety Vests, 2 Persons, 1875.2ms\n",
      "Speed: 4.9ms preprocess, 1875.2ms inference, 0.0ms postprocess per image at shape (1, 3, 640, 640)\n",
      "\n"
     ]
    },
    {
     "name": "stdout",
     "output_type": "stream",
     "text": [
      "Person\n",
      "Hardhat\n",
      "NO-Safety Vest\n",
      "NO-Mask\n",
      "NO-Safety Vest\n",
      "Person\n",
      "NO-Hardhat\n",
      "NO-Mask\n"
     ]
    },
    {
     "name": "stderr",
     "output_type": "stream",
     "text": [
      "0: 384x640 1 Hardhat, 1 NO-Hardhat, 2 NO-Masks, 2 NO-Safety Vests, 2 Persons, 1884.3ms\n",
      "Speed: 7.6ms preprocess, 1884.3ms inference, 0.0ms postprocess per image at shape (1, 3, 640, 640)\n",
      "\n"
     ]
    },
    {
     "name": "stdout",
     "output_type": "stream",
     "text": [
      "Hardhat\n",
      "Person\n",
      "NO-Safety Vest\n",
      "NO-Mask\n",
      "Person\n",
      "NO-Safety Vest\n",
      "NO-Hardhat\n",
      "NO-Mask\n"
     ]
    },
    {
     "name": "stderr",
     "output_type": "stream",
     "text": [
      "0: 384x640 2 Hardhats, 1 NO-Hardhat, 2 NO-Masks, 2 NO-Safety Vests, 3 Persons, 1750.9ms\n",
      "Speed: 5.0ms preprocess, 1750.9ms inference, 4.0ms postprocess per image at shape (1, 3, 640, 640)\n",
      "\n"
     ]
    },
    {
     "name": "stdout",
     "output_type": "stream",
     "text": [
      "Person\n",
      "NO-Safety Vest\n",
      "Hardhat\n",
      "Person\n",
      "NO-Safety Vest\n",
      "NO-Mask\n",
      "NO-Hardhat\n",
      "Hardhat\n",
      "Person\n",
      "NO-Mask\n"
     ]
    },
    {
     "name": "stderr",
     "output_type": "stream",
     "text": [
      "0: 384x640 1 Hardhat, 1 NO-Hardhat, 1 NO-Mask, 2 NO-Safety Vests, 2 Persons, 1635.1ms\n",
      "Speed: 15.7ms preprocess, 1635.1ms inference, 4.6ms postprocess per image at shape (1, 3, 640, 640)\n",
      "\n"
     ]
    },
    {
     "name": "stdout",
     "output_type": "stream",
     "text": [
      "NO-Safety Vest\n",
      "Person\n",
      "Person\n",
      "NO-Hardhat\n",
      "NO-Safety Vest\n",
      "Hardhat\n",
      "NO-Mask\n"
     ]
    },
    {
     "name": "stderr",
     "output_type": "stream",
     "text": [
      "0: 384x640 1 Hardhat, 2 NO-Hardhats, 1 NO-Mask, 1 NO-Safety Vest, 2 Persons, 1659.7ms\n",
      "Speed: 5.1ms preprocess, 1659.7ms inference, 0.0ms postprocess per image at shape (1, 3, 640, 640)\n",
      "\n"
     ]
    },
    {
     "name": "stdout",
     "output_type": "stream",
     "text": [
      "NO-Safety Vest\n",
      "Person\n",
      "Person\n",
      "NO-Hardhat\n",
      "NO-Hardhat\n",
      "Hardhat\n",
      "NO-Mask\n"
     ]
    },
    {
     "name": "stderr",
     "output_type": "stream",
     "text": [
      "0: 384x640 1 Hardhat, 1 NO-Hardhat, 2 NO-Masks, 2 NO-Safety Vests, 2 Persons, 1639.4ms\n",
      "Speed: 5.2ms preprocess, 1639.4ms inference, 0.0ms postprocess per image at shape (1, 3, 640, 640)\n",
      "\n"
     ]
    },
    {
     "name": "stdout",
     "output_type": "stream",
     "text": [
      "Person\n",
      "NO-Safety Vest\n",
      "Person\n",
      "Hardhat\n",
      "NO-Hardhat\n",
      "NO-Mask\n",
      "NO-Safety Vest\n",
      "NO-Mask\n"
     ]
    },
    {
     "name": "stderr",
     "output_type": "stream",
     "text": [
      "0: 384x640 1 Hardhat, 1 NO-Hardhat, 2 NO-Masks, 2 NO-Safety Vests, 2 Persons, 1652.5ms\n",
      "Speed: 0.0ms preprocess, 1652.5ms inference, 2.5ms postprocess per image at shape (1, 3, 640, 640)\n",
      "\n"
     ]
    },
    {
     "name": "stdout",
     "output_type": "stream",
     "text": [
      "NO-Safety Vest\n",
      "Person\n",
      "Person\n",
      "NO-Safety Vest\n",
      "Hardhat\n",
      "NO-Hardhat\n",
      "NO-Mask\n",
      "NO-Mask\n"
     ]
    },
    {
     "name": "stderr",
     "output_type": "stream",
     "text": [
      "0: 384x640 1 Hardhat, 1 NO-Hardhat, 2 NO-Masks, 2 NO-Safety Vests, 2 Persons, 1839.9ms\n",
      "Speed: 5.0ms preprocess, 1839.9ms inference, 0.0ms postprocess per image at shape (1, 3, 640, 640)\n",
      "\n"
     ]
    },
    {
     "name": "stdout",
     "output_type": "stream",
     "text": [
      "NO-Safety Vest\n",
      "Person\n",
      "Person\n",
      "Hardhat\n",
      "NO-Hardhat\n",
      "NO-Safety Vest\n",
      "NO-Mask\n",
      "NO-Mask\n"
     ]
    },
    {
     "name": "stderr",
     "output_type": "stream",
     "text": [
      "0: 384x640 1 Mask, 1 NO-Hardhat, 1 NO-Mask, 2 NO-Safety Vests, 2 Persons, 1885.2ms\n",
      "Speed: 9.6ms preprocess, 1885.2ms inference, 0.0ms postprocess per image at shape (1, 3, 640, 640)\n",
      "\n"
     ]
    },
    {
     "name": "stdout",
     "output_type": "stream",
     "text": [
      "NO-Safety Vest\n",
      "Person\n",
      "Person\n",
      "NO-Hardhat\n",
      "Mask\n",
      "NO-Safety Vest\n",
      "NO-Mask\n"
     ]
    },
    {
     "name": "stderr",
     "output_type": "stream",
     "text": [
      "0: 384x640 1 Mask, 1 NO-Hardhat, 1 NO-Mask, 1 NO-Safety Vest, 2 Persons, 1880.2ms\n",
      "Speed: 9.8ms preprocess, 1880.2ms inference, 2.5ms postprocess per image at shape (1, 3, 640, 640)\n",
      "\n"
     ]
    },
    {
     "name": "stdout",
     "output_type": "stream",
     "text": [
      "NO-Safety Vest\n",
      "Person\n",
      "Person\n",
      "Mask\n",
      "NO-Hardhat\n",
      "NO-Mask\n"
     ]
    },
    {
     "name": "stderr",
     "output_type": "stream",
     "text": [
      "0: 384x640 1 Mask, 1 NO-Hardhat, 1 NO-Mask, 2 NO-Safety Vests, 2 Persons, 1876.0ms\n",
      "Speed: 10.1ms preprocess, 1876.0ms inference, 0.0ms postprocess per image at shape (1, 3, 640, 640)\n",
      "\n"
     ]
    },
    {
     "name": "stdout",
     "output_type": "stream",
     "text": [
      "NO-Safety Vest\n",
      "Person\n",
      "Person\n",
      "Mask\n",
      "NO-Hardhat\n",
      "NO-Mask\n",
      "NO-Safety Vest\n"
     ]
    },
    {
     "name": "stderr",
     "output_type": "stream",
     "text": [
      "0: 384x640 1 Mask, 1 NO-Hardhat, 1 NO-Mask, 2 NO-Safety Vests, 2 Persons, 1710.3ms\n",
      "Speed: 0.0ms preprocess, 1710.3ms inference, 0.0ms postprocess per image at shape (1, 3, 640, 640)\n",
      "\n"
     ]
    },
    {
     "name": "stdout",
     "output_type": "stream",
     "text": [
      "Mask\n",
      "NO-Safety Vest\n",
      "Person\n",
      "Person\n",
      "NO-Hardhat\n",
      "NO-Safety Vest\n",
      "NO-Mask\n"
     ]
    },
    {
     "name": "stderr",
     "output_type": "stream",
     "text": [
      "0: 384x640 1 Mask, 1 NO-Hardhat, 2 NO-Masks, 2 NO-Safety Vests, 2 Persons, 1992.9ms\n",
      "Speed: 5.0ms preprocess, 1992.9ms inference, 2.6ms postprocess per image at shape (1, 3, 640, 640)\n",
      "\n"
     ]
    },
    {
     "name": "stdout",
     "output_type": "stream",
     "text": [
      "Mask\n",
      "NO-Safety Vest\n",
      "Person\n",
      "Person\n",
      "NO-Hardhat\n",
      "NO-Safety Vest\n",
      "NO-Mask\n",
      "NO-Mask\n"
     ]
    },
    {
     "name": "stderr",
     "output_type": "stream",
     "text": [
      "0: 384x640 1 Mask, 1 NO-Hardhat, 2 NO-Masks, 2 NO-Safety Vests, 2 Persons, 1775.2ms\n",
      "Speed: 0.0ms preprocess, 1775.2ms inference, 4.5ms postprocess per image at shape (1, 3, 640, 640)\n",
      "\n"
     ]
    },
    {
     "name": "stdout",
     "output_type": "stream",
     "text": [
      "Mask\n",
      "NO-Safety Vest\n",
      "Person\n",
      "Person\n",
      "NO-Hardhat\n",
      "NO-Safety Vest\n",
      "NO-Mask\n",
      "NO-Mask\n"
     ]
    },
    {
     "name": "stderr",
     "output_type": "stream",
     "text": [
      "0: 384x640 1 Mask, 1 NO-Hardhat, 2 NO-Masks, 2 NO-Safety Vests, 2 Persons, 1557.7ms\n",
      "Speed: 14.9ms preprocess, 1557.7ms inference, 2.0ms postprocess per image at shape (1, 3, 640, 640)\n",
      "\n"
     ]
    },
    {
     "name": "stdout",
     "output_type": "stream",
     "text": [
      "Mask\n",
      "NO-Safety Vest\n",
      "Person\n",
      "Person\n",
      "NO-Hardhat\n",
      "NO-Safety Vest\n",
      "NO-Mask\n",
      "NO-Mask\n"
     ]
    },
    {
     "name": "stderr",
     "output_type": "stream",
     "text": [
      "0: 384x640 1 Mask, 1 NO-Hardhat, 2 NO-Masks, 2 NO-Safety Vests, 2 Persons, 1800.1ms\n",
      "Speed: 4.5ms preprocess, 1800.1ms inference, 0.0ms postprocess per image at shape (1, 3, 640, 640)\n",
      "\n"
     ]
    },
    {
     "name": "stdout",
     "output_type": "stream",
     "text": [
      "NO-Safety Vest\n",
      "Mask\n",
      "Person\n",
      "Person\n",
      "NO-Hardhat\n",
      "NO-Safety Vest\n",
      "NO-Mask\n",
      "NO-Mask\n"
     ]
    },
    {
     "name": "stderr",
     "output_type": "stream",
     "text": [
      "0: 384x640 1 Mask, 1 NO-Hardhat, 2 NO-Masks, 2 NO-Safety Vests, 2 Persons, 1859.6ms\n",
      "Speed: 5.0ms preprocess, 1859.6ms inference, 5.0ms postprocess per image at shape (1, 3, 640, 640)\n",
      "\n"
     ]
    },
    {
     "name": "stdout",
     "output_type": "stream",
     "text": [
      "NO-Safety Vest\n",
      "Person\n",
      "Mask\n",
      "Person\n",
      "NO-Hardhat\n",
      "NO-Safety Vest\n",
      "NO-Mask\n",
      "NO-Mask\n"
     ]
    },
    {
     "name": "stderr",
     "output_type": "stream",
     "text": [
      "0: 384x640 1 Mask, 1 NO-Hardhat, 2 NO-Masks, 2 NO-Safety Vests, 2 Persons, 1874.8ms\n",
      "Speed: 14.9ms preprocess, 1874.8ms inference, 5.0ms postprocess per image at shape (1, 3, 640, 640)\n",
      "\n"
     ]
    },
    {
     "name": "stdout",
     "output_type": "stream",
     "text": [
      "NO-Safety Vest\n",
      "Person\n",
      "Mask\n",
      "Person\n",
      "NO-Hardhat\n",
      "NO-Safety Vest\n",
      "NO-Mask\n",
      "NO-Mask\n"
     ]
    },
    {
     "name": "stderr",
     "output_type": "stream",
     "text": [
      "0: 384x640 1 Mask, 1 NO-Hardhat, 1 NO-Mask, 2 NO-Safety Vests, 2 Persons, 1894.1ms\n",
      "Speed: 6.0ms preprocess, 1894.1ms inference, 5.0ms postprocess per image at shape (1, 3, 640, 640)\n",
      "\n"
     ]
    },
    {
     "name": "stdout",
     "output_type": "stream",
     "text": [
      "NO-Safety Vest\n",
      "Mask\n",
      "Person\n",
      "Person\n",
      "NO-Hardhat\n",
      "NO-Safety Vest\n",
      "NO-Mask\n"
     ]
    },
    {
     "name": "stderr",
     "output_type": "stream",
     "text": [
      "0: 384x640 1 Mask, 1 NO-Hardhat, 1 NO-Mask, 2 NO-Safety Vests, 2 Persons, 1813.2ms\n",
      "Speed: 8.6ms preprocess, 1813.2ms inference, 2.4ms postprocess per image at shape (1, 3, 640, 640)\n",
      "\n"
     ]
    },
    {
     "name": "stdout",
     "output_type": "stream",
     "text": [
      "NO-Safety Vest\n",
      "Person\n",
      "Person\n",
      "Mask\n",
      "NO-Hardhat\n",
      "NO-Safety Vest\n",
      "NO-Mask\n"
     ]
    },
    {
     "name": "stderr",
     "output_type": "stream",
     "text": [
      "0: 384x640 1 Mask, 1 NO-Hardhat, 1 NO-Mask, 2 NO-Safety Vests, 2 Persons, 1680.3ms\n",
      "Speed: 5.2ms preprocess, 1680.3ms inference, 0.0ms postprocess per image at shape (1, 3, 640, 640)\n",
      "\n"
     ]
    },
    {
     "name": "stdout",
     "output_type": "stream",
     "text": [
      "NO-Safety Vest\n",
      "Person\n",
      "Person\n",
      "Mask\n",
      "NO-Hardhat\n",
      "NO-Safety Vest\n",
      "NO-Mask\n"
     ]
    },
    {
     "name": "stderr",
     "output_type": "stream",
     "text": [
      "0: 384x640 1 Mask, 1 NO-Hardhat, 2 NO-Masks, 2 NO-Safety Vests, 2 Persons, 1670.1ms\n",
      "Speed: 5.0ms preprocess, 1670.1ms inference, 0.0ms postprocess per image at shape (1, 3, 640, 640)\n",
      "\n"
     ]
    },
    {
     "name": "stdout",
     "output_type": "stream",
     "text": [
      "NO-Safety Vest\n",
      "Person\n",
      "Mask\n",
      "Person\n",
      "NO-Safety Vest\n",
      "NO-Hardhat\n",
      "NO-Mask\n",
      "NO-Mask\n"
     ]
    },
    {
     "name": "stderr",
     "output_type": "stream",
     "text": [
      "0: 384x640 1 Mask, 1 NO-Hardhat, 2 NO-Masks, 2 NO-Safety Vests, 2 Persons, 1621.3ms\n",
      "Speed: 7.6ms preprocess, 1621.3ms inference, 0.0ms postprocess per image at shape (1, 3, 640, 640)\n",
      "\n"
     ]
    },
    {
     "name": "stdout",
     "output_type": "stream",
     "text": [
      "NO-Safety Vest\n",
      "Person\n",
      "Mask\n",
      "Person\n",
      "NO-Safety Vest\n",
      "NO-Mask\n",
      "NO-Hardhat\n",
      "NO-Mask\n"
     ]
    },
    {
     "name": "stderr",
     "output_type": "stream",
     "text": [
      "0: 384x640 1 Mask, 1 NO-Hardhat, 2 NO-Masks, 2 NO-Safety Vests, 2 Persons, 1634.9ms\n",
      "Speed: 9.7ms preprocess, 1634.9ms inference, 5.1ms postprocess per image at shape (1, 3, 640, 640)\n",
      "\n"
     ]
    },
    {
     "name": "stdout",
     "output_type": "stream",
     "text": [
      "NO-Safety Vest\n",
      "Person\n",
      "Mask\n",
      "Person\n",
      "NO-Safety Vest\n",
      "NO-Hardhat\n",
      "NO-Mask\n",
      "NO-Mask\n"
     ]
    },
    {
     "name": "stderr",
     "output_type": "stream",
     "text": [
      "0: 384x640 1 Mask, 1 NO-Hardhat, 2 NO-Masks, 2 NO-Safety Vests, 2 Persons, 1784.8ms\n",
      "Speed: 5.0ms preprocess, 1784.8ms inference, 5.0ms postprocess per image at shape (1, 3, 640, 640)\n",
      "\n"
     ]
    },
    {
     "name": "stdout",
     "output_type": "stream",
     "text": [
      "NO-Safety Vest\n",
      "Person\n",
      "Person\n",
      "Mask\n",
      "NO-Safety Vest\n",
      "NO-Mask\n",
      "NO-Hardhat\n",
      "NO-Mask\n"
     ]
    },
    {
     "name": "stderr",
     "output_type": "stream",
     "text": [
      "0: 384x640 1 Mask, 1 NO-Hardhat, 2 NO-Masks, 2 NO-Safety Vests, 2 Persons, 1852.1ms\n",
      "Speed: 5.0ms preprocess, 1852.1ms inference, 2.6ms postprocess per image at shape (1, 3, 640, 640)\n",
      "\n"
     ]
    },
    {
     "name": "stdout",
     "output_type": "stream",
     "text": [
      "NO-Safety Vest\n",
      "Person\n",
      "Person\n",
      "NO-Safety Vest\n",
      "NO-Mask\n",
      "NO-Hardhat\n",
      "Mask\n",
      "NO-Mask\n"
     ]
    },
    {
     "name": "stderr",
     "output_type": "stream",
     "text": [
      "0: 384x640 1 Mask, 1 NO-Hardhat, 2 NO-Masks, 2 NO-Safety Vests, 2 Persons, 1899.7ms\n",
      "Speed: 0.0ms preprocess, 1899.7ms inference, 9.9ms postprocess per image at shape (1, 3, 640, 640)\n",
      "\n"
     ]
    },
    {
     "name": "stdout",
     "output_type": "stream",
     "text": [
      "NO-Safety Vest\n",
      "Person\n",
      "Person\n",
      "NO-Safety Vest\n",
      "Mask\n",
      "NO-Mask\n",
      "NO-Hardhat\n",
      "NO-Mask\n"
     ]
    },
    {
     "name": "stderr",
     "output_type": "stream",
     "text": [
      "0: 384x640 1 Mask, 1 NO-Hardhat, 2 NO-Masks, 2 NO-Safety Vests, 2 Persons, 1885.0ms\n",
      "Speed: 8.0ms preprocess, 1885.0ms inference, 0.0ms postprocess per image at shape (1, 3, 640, 640)\n",
      "\n"
     ]
    },
    {
     "name": "stdout",
     "output_type": "stream",
     "text": [
      "NO-Safety Vest\n",
      "Mask\n",
      "Person\n",
      "Person\n",
      "NO-Safety Vest\n",
      "NO-Hardhat\n",
      "NO-Mask\n",
      "NO-Mask\n"
     ]
    },
    {
     "name": "stderr",
     "output_type": "stream",
     "text": [
      "0: 384x640 1 Mask, 1 NO-Hardhat, 2 NO-Masks, 2 NO-Safety Vests, 2 Persons, 1770.8ms\n",
      "Speed: 5.0ms preprocess, 1770.8ms inference, 0.0ms postprocess per image at shape (1, 3, 640, 640)\n",
      "\n"
     ]
    },
    {
     "name": "stdout",
     "output_type": "stream",
     "text": [
      "NO-Safety Vest\n",
      "Person\n",
      "Person\n",
      "Mask\n",
      "NO-Safety Vest\n",
      "NO-Mask\n",
      "NO-Hardhat\n",
      "NO-Mask\n"
     ]
    },
    {
     "name": "stderr",
     "output_type": "stream",
     "text": [
      "0: 384x640 1 Hardhat, 1 Mask, 1 NO-Hardhat, 2 NO-Masks, 2 NO-Safety Vests, 2 Persons, 1615.2ms\n",
      "Speed: 5.0ms preprocess, 1615.2ms inference, 2.5ms postprocess per image at shape (1, 3, 640, 640)\n",
      "\n"
     ]
    },
    {
     "name": "stdout",
     "output_type": "stream",
     "text": [
      "Person\n",
      "NO-Safety Vest\n",
      "Person\n",
      "NO-Safety Vest\n",
      "NO-Mask\n",
      "NO-Hardhat\n",
      "Mask\n",
      "NO-Mask\n",
      "Hardhat\n"
     ]
    },
    {
     "name": "stderr",
     "output_type": "stream",
     "text": [
      "0: 384x640 1 Hardhat, 1 Mask, 1 NO-Hardhat, 2 NO-Masks, 2 NO-Safety Vests, 2 Persons, 1660.8ms\n",
      "Speed: 5.1ms preprocess, 1660.8ms inference, 0.0ms postprocess per image at shape (1, 3, 640, 640)\n",
      "\n"
     ]
    },
    {
     "name": "stdout",
     "output_type": "stream",
     "text": [
      "Person\n",
      "NO-Safety Vest\n",
      "Person\n",
      "NO-Safety Vest\n",
      "NO-Mask\n",
      "NO-Hardhat\n",
      "Hardhat\n",
      "NO-Mask\n",
      "Mask\n"
     ]
    },
    {
     "name": "stderr",
     "output_type": "stream",
     "text": [
      "0: 384x640 1 Hardhat, 1 NO-Hardhat, 2 NO-Masks, 2 NO-Safety Vests, 2 Persons, 1669.6ms\n",
      "Speed: 5.1ms preprocess, 1669.6ms inference, 5.0ms postprocess per image at shape (1, 3, 640, 640)\n",
      "\n"
     ]
    },
    {
     "name": "stdout",
     "output_type": "stream",
     "text": [
      "Person\n",
      "NO-Safety Vest\n",
      "Person\n",
      "NO-Safety Vest\n",
      "NO-Mask\n",
      "Hardhat\n",
      "NO-Hardhat\n",
      "NO-Mask\n"
     ]
    },
    {
     "name": "stderr",
     "output_type": "stream",
     "text": [
      "0: 384x640 1 Hardhat, 1 NO-Hardhat, 2 NO-Masks, 2 NO-Safety Vests, 2 Persons, 1660.2ms\n",
      "Speed: 0.0ms preprocess, 1660.2ms inference, 0.0ms postprocess per image at shape (1, 3, 640, 640)\n",
      "\n"
     ]
    },
    {
     "name": "stdout",
     "output_type": "stream",
     "text": [
      "NO-Safety Vest\n",
      "Person\n",
      "Hardhat\n",
      "Person\n",
      "NO-Mask\n",
      "NO-Safety Vest\n",
      "NO-Hardhat\n",
      "NO-Mask\n"
     ]
    },
    {
     "name": "stderr",
     "output_type": "stream",
     "text": [
      "0: 384x640 1 Hardhat, 1 NO-Hardhat, 2 NO-Masks, 2 NO-Safety Vests, 2 Persons, 1815.0ms\n",
      "Speed: 5.0ms preprocess, 1815.0ms inference, 4.0ms postprocess per image at shape (1, 3, 640, 640)\n",
      "\n"
     ]
    },
    {
     "name": "stdout",
     "output_type": "stream",
     "text": [
      "NO-Safety Vest\n",
      "Person\n",
      "Person\n",
      "NO-Mask\n",
      "Hardhat\n",
      "NO-Safety Vest\n",
      "NO-Hardhat\n",
      "NO-Mask\n"
     ]
    },
    {
     "name": "stderr",
     "output_type": "stream",
     "text": [
      "0: 384x640 1 Hardhat, 1 NO-Hardhat, 2 NO-Masks, 2 NO-Safety Vests, 2 Persons, 1850.1ms\n",
      "Speed: 10.1ms preprocess, 1850.1ms inference, 5.0ms postprocess per image at shape (1, 3, 640, 640)\n",
      "\n"
     ]
    },
    {
     "name": "stdout",
     "output_type": "stream",
     "text": [
      "NO-Safety Vest\n",
      "Person\n",
      "Person\n",
      "NO-Mask\n",
      "NO-Safety Vest\n",
      "Hardhat\n",
      "NO-Hardhat\n",
      "NO-Mask\n"
     ]
    },
    {
     "name": "stderr",
     "output_type": "stream",
     "text": [
      "0: 384x640 1 Hardhat, 1 NO-Hardhat, 2 NO-Masks, 2 NO-Safety Vests, 2 Persons, 1875.0ms\n",
      "Speed: 14.9ms preprocess, 1875.0ms inference, 5.1ms postprocess per image at shape (1, 3, 640, 640)\n",
      "\n"
     ]
    },
    {
     "name": "stdout",
     "output_type": "stream",
     "text": [
      "NO-Safety Vest\n",
      "Person\n",
      "Person\n",
      "NO-Mask\n",
      "NO-Safety Vest\n",
      "NO-Hardhat\n",
      "Hardhat\n",
      "NO-Mask\n"
     ]
    },
    {
     "name": "stderr",
     "output_type": "stream",
     "text": [
      "0: 384x640 1 Hardhat, 1 NO-Hardhat, 2 NO-Masks, 2 NO-Safety Vests, 2 Persons, 1917.1ms\n",
      "Speed: 9.1ms preprocess, 1917.1ms inference, 4.0ms postprocess per image at shape (1, 3, 640, 640)\n",
      "\n"
     ]
    },
    {
     "name": "stdout",
     "output_type": "stream",
     "text": [
      "NO-Safety Vest\n",
      "Person\n",
      "Person\n",
      "NO-Mask\n",
      "Hardhat\n",
      "NO-Safety Vest\n",
      "NO-Hardhat\n",
      "NO-Mask\n"
     ]
    },
    {
     "name": "stderr",
     "output_type": "stream",
     "text": [
      "0: 384x640 1 Hardhat, 1 NO-Hardhat, 2 NO-Masks, 2 NO-Safety Vests, 2 Persons, 1763.8ms\n",
      "Speed: 6.4ms preprocess, 1763.8ms inference, 0.0ms postprocess per image at shape (1, 3, 640, 640)\n",
      "\n"
     ]
    },
    {
     "name": "stdout",
     "output_type": "stream",
     "text": [
      "NO-Safety Vest\n",
      "Person\n",
      "Person\n",
      "NO-Mask\n",
      "NO-Safety Vest\n",
      "Hardhat\n",
      "NO-Hardhat\n",
      "NO-Mask\n"
     ]
    },
    {
     "name": "stderr",
     "output_type": "stream",
     "text": [
      "0: 384x640 1 Hardhat, 1 NO-Hardhat, 2 NO-Masks, 2 NO-Safety Vests, 2 Persons, 1620.1ms\n",
      "Speed: 19.0ms preprocess, 1620.1ms inference, 0.0ms postprocess per image at shape (1, 3, 640, 640)\n",
      "\n"
     ]
    },
    {
     "name": "stdout",
     "output_type": "stream",
     "text": [
      "NO-Safety Vest\n",
      "Person\n",
      "Person\n",
      "NO-Mask\n",
      "Hardhat\n",
      "NO-Safety Vest\n",
      "NO-Hardhat\n",
      "NO-Mask\n"
     ]
    },
    {
     "name": "stderr",
     "output_type": "stream",
     "text": [
      "0: 384x640 1 Hardhat, 1 NO-Hardhat, 2 NO-Masks, 2 NO-Safety Vests, 2 Persons, 1630.0ms\n",
      "Speed: 5.0ms preprocess, 1630.0ms inference, 0.0ms postprocess per image at shape (1, 3, 640, 640)\n",
      "\n"
     ]
    },
    {
     "name": "stdout",
     "output_type": "stream",
     "text": [
      "NO-Safety Vest\n",
      "Person\n",
      "Person\n",
      "NO-Mask\n",
      "Hardhat\n",
      "NO-Safety Vest\n",
      "NO-Hardhat\n",
      "NO-Mask\n"
     ]
    },
    {
     "name": "stderr",
     "output_type": "stream",
     "text": [
      "0: 384x640 1 Hardhat, 1 NO-Hardhat, 2 NO-Masks, 2 NO-Safety Vests, 2 Persons, 1610.0ms\n",
      "Speed: 0.5ms preprocess, 1610.0ms inference, 0.0ms postprocess per image at shape (1, 3, 640, 640)\n",
      "\n"
     ]
    },
    {
     "name": "stdout",
     "output_type": "stream",
     "text": [
      "NO-Safety Vest\n",
      "Person\n",
      "Person\n",
      "NO-Mask\n",
      "Hardhat\n",
      "NO-Safety Vest\n",
      "NO-Hardhat\n",
      "NO-Mask\n"
     ]
    },
    {
     "name": "stderr",
     "output_type": "stream",
     "text": [
      "0: 384x640 1 Hardhat, 1 NO-Hardhat, 2 NO-Masks, 2 NO-Safety Vests, 2 Persons, 1704.8ms\n",
      "Speed: 10.2ms preprocess, 1704.8ms inference, 0.0ms postprocess per image at shape (1, 3, 640, 640)\n",
      "\n"
     ]
    },
    {
     "name": "stdout",
     "output_type": "stream",
     "text": [
      "NO-Safety Vest\n",
      "Person\n",
      "Person\n",
      "Hardhat\n",
      "NO-Mask\n",
      "NO-Safety Vest\n",
      "NO-Hardhat\n",
      "NO-Mask\n"
     ]
    },
    {
     "name": "stderr",
     "output_type": "stream",
     "text": [
      "0: 384x640 1 Hardhat, 1 Mask, 1 NO-Hardhat, 2 NO-Masks, 2 NO-Safety Vests, 2 Persons, 1839.6ms\n",
      "Speed: 5.1ms preprocess, 1839.6ms inference, 3.0ms postprocess per image at shape (1, 3, 640, 640)\n",
      "\n"
     ]
    },
    {
     "name": "stdout",
     "output_type": "stream",
     "text": [
      "NO-Safety Vest\n",
      "Person\n",
      "Person\n",
      "NO-Mask\n",
      "NO-Safety Vest\n",
      "NO-Hardhat\n",
      "NO-Mask\n",
      "Mask\n",
      "Hardhat\n"
     ]
    },
    {
     "name": "stderr",
     "output_type": "stream",
     "text": [
      "0: 384x640 1 Hardhat, 1 NO-Hardhat, 2 NO-Masks, 2 NO-Safety Vests, 2 Persons, 1869.9ms\n",
      "Speed: 5.0ms preprocess, 1869.9ms inference, 0.0ms postprocess per image at shape (1, 3, 640, 640)\n",
      "\n"
     ]
    },
    {
     "name": "stdout",
     "output_type": "stream",
     "text": [
      "Hardhat\n",
      "NO-Safety Vest\n",
      "Person\n",
      "Person\n",
      "NO-Safety Vest\n",
      "NO-Mask\n",
      "NO-Hardhat\n",
      "NO-Mask\n"
     ]
    },
    {
     "name": "stderr",
     "output_type": "stream",
     "text": [
      "0: 384x640 1 Hardhat, 1 NO-Hardhat, 2 NO-Masks, 2 NO-Safety Vests, 2 Persons, 2572.3ms\n",
      "Speed: 5.1ms preprocess, 2572.3ms inference, 15.6ms postprocess per image at shape (1, 3, 640, 640)\n",
      "\n"
     ]
    },
    {
     "name": "stdout",
     "output_type": "stream",
     "text": [
      "Hardhat\n",
      "Person\n",
      "NO-Safety Vest\n",
      "Person\n",
      "NO-Safety Vest\n",
      "NO-Mask\n",
      "NO-Hardhat\n",
      "NO-Mask\n"
     ]
    },
    {
     "name": "stderr",
     "output_type": "stream",
     "text": [
      "0: 384x640 1 Hardhat, 1 NO-Hardhat, 2 NO-Masks, 2 NO-Safety Vests, 2 Persons, 2161.9ms\n",
      "Speed: 15.6ms preprocess, 2161.9ms inference, 7.0ms postprocess per image at shape (1, 3, 640, 640)\n",
      "\n"
     ]
    },
    {
     "name": "stdout",
     "output_type": "stream",
     "text": [
      "Hardhat\n",
      "Person\n",
      "NO-Safety Vest\n",
      "Person\n",
      "NO-Safety Vest\n",
      "NO-Mask\n",
      "NO-Hardhat\n",
      "NO-Mask\n"
     ]
    },
    {
     "name": "stderr",
     "output_type": "stream",
     "text": [
      "0: 384x640 1 Hardhat, 1 NO-Hardhat, 2 NO-Masks, 2 NO-Safety Vests, 2 Persons, 1759.4ms\n",
      "Speed: 17.4ms preprocess, 1759.4ms inference, 0.0ms postprocess per image at shape (1, 3, 640, 640)\n",
      "\n"
     ]
    },
    {
     "name": "stdout",
     "output_type": "stream",
     "text": [
      "Hardhat\n",
      "NO-Safety Vest\n",
      "Person\n",
      "Person\n",
      "NO-Safety Vest\n",
      "NO-Mask\n",
      "NO-Hardhat\n",
      "NO-Mask\n"
     ]
    },
    {
     "name": "stderr",
     "output_type": "stream",
     "text": [
      "0: 384x640 1 Hardhat, 1 NO-Hardhat, 2 NO-Masks, 2 NO-Safety Vests, 3 Persons, 1790.0ms\n",
      "Speed: 5.1ms preprocess, 1790.0ms inference, 5.0ms postprocess per image at shape (1, 3, 640, 640)\n",
      "\n"
     ]
    },
    {
     "name": "stdout",
     "output_type": "stream",
     "text": [
      "Hardhat\n",
      "NO-Safety Vest\n",
      "Person\n",
      "Person\n",
      "NO-Safety Vest\n",
      "Person\n",
      "NO-Mask\n",
      "NO-Hardhat\n",
      "NO-Mask\n"
     ]
    },
    {
     "name": "stderr",
     "output_type": "stream",
     "text": [
      "0: 384x640 1 Hardhat, 1 NO-Hardhat, 2 NO-Masks, 2 NO-Safety Vests, 2 Persons, 1799.9ms\n",
      "Speed: 5.1ms preprocess, 1799.9ms inference, 0.0ms postprocess per image at shape (1, 3, 640, 640)\n",
      "\n"
     ]
    },
    {
     "name": "stdout",
     "output_type": "stream",
     "text": [
      "Person\n",
      "Hardhat\n",
      "NO-Safety Vest\n",
      "Person\n",
      "NO-Mask\n",
      "NO-Safety Vest\n",
      "NO-Hardhat\n",
      "NO-Mask\n"
     ]
    },
    {
     "name": "stderr",
     "output_type": "stream",
     "text": [
      "0: 384x640 1 Hardhat, 1 NO-Hardhat, 2 NO-Masks, 2 NO-Safety Vests, 2 Persons, 1689.9ms\n",
      "Speed: 5.1ms preprocess, 1689.9ms inference, 3.5ms postprocess per image at shape (1, 3, 640, 640)\n",
      "\n"
     ]
    },
    {
     "name": "stdout",
     "output_type": "stream",
     "text": [
      "Person\n",
      "Hardhat\n",
      "NO-Safety Vest\n",
      "NO-Safety Vest\n",
      "Person\n",
      "NO-Mask\n",
      "NO-Hardhat\n",
      "NO-Mask\n"
     ]
    },
    {
     "name": "stderr",
     "output_type": "stream",
     "text": [
      "0: 384x640 1 Hardhat, 1 NO-Hardhat, 2 NO-Masks, 2 NO-Safety Vests, 2 Persons, 1862.8ms\n",
      "Speed: 9.8ms preprocess, 1862.8ms inference, 0.0ms postprocess per image at shape (1, 3, 640, 640)\n",
      "\n"
     ]
    },
    {
     "name": "stdout",
     "output_type": "stream",
     "text": [
      "Person\n",
      "Hardhat\n",
      "NO-Safety Vest\n",
      "NO-Safety Vest\n",
      "NO-Mask\n",
      "Person\n",
      "NO-Hardhat\n",
      "NO-Mask\n"
     ]
    },
    {
     "name": "stderr",
     "output_type": "stream",
     "text": [
      "0: 384x640 1 Hardhat, 1 NO-Hardhat, 2 NO-Masks, 2 NO-Safety Vests, 2 Persons, 1889.2ms\n",
      "Speed: 15.8ms preprocess, 1889.2ms inference, 5.0ms postprocess per image at shape (1, 3, 640, 640)\n",
      "\n"
     ]
    },
    {
     "name": "stdout",
     "output_type": "stream",
     "text": [
      "Person\n",
      "Hardhat\n",
      "NO-Safety Vest\n",
      "NO-Safety Vest\n",
      "NO-Mask\n",
      "Person\n",
      "NO-Hardhat\n",
      "NO-Mask\n"
     ]
    },
    {
     "name": "stderr",
     "output_type": "stream",
     "text": [
      "0: 384x640 1 Hardhat, 1 NO-Hardhat, 2 NO-Masks, 2 NO-Safety Vests, 2 Persons, 1875.2ms\n",
      "Speed: 12.6ms preprocess, 1875.2ms inference, 8.0ms postprocess per image at shape (1, 3, 640, 640)\n",
      "\n"
     ]
    },
    {
     "name": "stdout",
     "output_type": "stream",
     "text": [
      "Hardhat\n",
      "Person\n",
      "NO-Safety Vest\n",
      "NO-Safety Vest\n",
      "NO-Mask\n",
      "Person\n",
      "NO-Hardhat\n",
      "NO-Mask\n"
     ]
    },
    {
     "name": "stderr",
     "output_type": "stream",
     "text": [
      "0: 384x640 1 Hardhat, 1 NO-Hardhat, 2 NO-Masks, 2 NO-Safety Vests, 2 Persons, 1877.5ms\n",
      "Speed: 17.8ms preprocess, 1877.5ms inference, 0.0ms postprocess per image at shape (1, 3, 640, 640)\n",
      "\n"
     ]
    },
    {
     "name": "stdout",
     "output_type": "stream",
     "text": [
      "Hardhat\n",
      "Person\n",
      "NO-Safety Vest\n",
      "NO-Safety Vest\n",
      "NO-Mask\n",
      "Person\n",
      "NO-Hardhat\n",
      "NO-Mask\n"
     ]
    },
    {
     "name": "stderr",
     "output_type": "stream",
     "text": [
      "0: 384x640 1 Hardhat, 1 NO-Hardhat, 2 NO-Masks, 2 NO-Safety Vests, 2 Persons, 1685.0ms\n",
      "Speed: 0.0ms preprocess, 1685.0ms inference, 0.0ms postprocess per image at shape (1, 3, 640, 640)\n",
      "\n"
     ]
    },
    {
     "name": "stdout",
     "output_type": "stream",
     "text": [
      "Hardhat\n",
      "NO-Safety Vest\n",
      "Person\n",
      "NO-Safety Vest\n",
      "NO-Mask\n",
      "Person\n",
      "NO-Hardhat\n",
      "NO-Mask\n"
     ]
    },
    {
     "name": "stderr",
     "output_type": "stream",
     "text": [
      "0: 384x640 1 Hardhat, 1 NO-Hardhat, 2 NO-Masks, 2 NO-Safety Vests, 2 Persons, 1630.9ms\n",
      "Speed: 12.2ms preprocess, 1630.9ms inference, 4.1ms postprocess per image at shape (1, 3, 640, 640)\n",
      "\n"
     ]
    },
    {
     "name": "stdout",
     "output_type": "stream",
     "text": [
      "Hardhat\n",
      "Person\n",
      "NO-Safety Vest\n",
      "NO-Safety Vest\n",
      "NO-Mask\n",
      "Person\n",
      "NO-Hardhat\n",
      "NO-Mask\n"
     ]
    },
    {
     "name": "stderr",
     "output_type": "stream",
     "text": [
      "0: 384x640 1 Hardhat, 1 NO-Hardhat, 2 NO-Masks, 2 NO-Safety Vests, 2 Persons, 1704.8ms\n",
      "Speed: 15.0ms preprocess, 1704.8ms inference, 1.9ms postprocess per image at shape (1, 3, 640, 640)\n",
      "\n"
     ]
    },
    {
     "name": "stdout",
     "output_type": "stream",
     "text": [
      "Hardhat\n",
      "Person\n",
      "NO-Safety Vest\n",
      "NO-Safety Vest\n",
      "Person\n",
      "NO-Mask\n",
      "NO-Hardhat\n",
      "NO-Mask\n"
     ]
    },
    {
     "name": "stderr",
     "output_type": "stream",
     "text": [
      "0: 384x640 1 Hardhat, 1 NO-Hardhat, 2 NO-Masks, 2 NO-Safety Vests, 2 Persons, 1674.8ms\n",
      "Speed: 5.0ms preprocess, 1674.8ms inference, 0.0ms postprocess per image at shape (1, 3, 640, 640)\n",
      "\n"
     ]
    },
    {
     "name": "stdout",
     "output_type": "stream",
     "text": [
      "Hardhat\n",
      "NO-Safety Vest\n",
      "Person\n",
      "NO-Safety Vest\n",
      "Person\n",
      "NO-Mask\n",
      "NO-Hardhat\n",
      "NO-Mask\n"
     ]
    },
    {
     "name": "stderr",
     "output_type": "stream",
     "text": [
      "0: 384x640 1 Hardhat, 1 NO-Hardhat, 2 NO-Masks, 2 NO-Safety Vests, 2 Persons, 1729.6ms\n",
      "Speed: 0.0ms preprocess, 1729.6ms inference, 5.0ms postprocess per image at shape (1, 3, 640, 640)\n",
      "\n"
     ]
    },
    {
     "name": "stdout",
     "output_type": "stream",
     "text": [
      "Hardhat\n",
      "NO-Safety Vest\n",
      "Person\n",
      "NO-Safety Vest\n",
      "Person\n",
      "NO-Mask\n",
      "NO-Hardhat\n",
      "NO-Mask\n"
     ]
    },
    {
     "name": "stderr",
     "output_type": "stream",
     "text": [
      "0: 384x640 1 Hardhat, 1 NO-Hardhat, 2 NO-Masks, 2 NO-Safety Vests, 2 Persons, 1860.4ms\n",
      "Speed: 5.0ms preprocess, 1860.4ms inference, 0.0ms postprocess per image at shape (1, 3, 640, 640)\n",
      "\n"
     ]
    },
    {
     "name": "stdout",
     "output_type": "stream",
     "text": [
      "Hardhat\n",
      "NO-Safety Vest\n",
      "Person\n",
      "NO-Safety Vest\n",
      "Person\n",
      "NO-Mask\n",
      "NO-Hardhat\n",
      "NO-Mask\n"
     ]
    },
    {
     "name": "stderr",
     "output_type": "stream",
     "text": [
      "0: 384x640 1 Hardhat, 1 NO-Hardhat, 2 NO-Masks, 2 NO-Safety Vests, 2 Persons, 1883.5ms\n",
      "Speed: 8.6ms preprocess, 1883.5ms inference, 0.0ms postprocess per image at shape (1, 3, 640, 640)\n",
      "\n"
     ]
    },
    {
     "name": "stdout",
     "output_type": "stream",
     "text": [
      "Hardhat\n",
      "Person\n",
      "NO-Safety Vest\n",
      "NO-Safety Vest\n",
      "Person\n",
      "NO-Mask\n",
      "NO-Hardhat\n",
      "NO-Mask\n"
     ]
    },
    {
     "name": "stderr",
     "output_type": "stream",
     "text": [
      "0: 384x640 1 Hardhat, 1 NO-Hardhat, 2 NO-Masks, 2 NO-Safety Vests, 2 Persons, 1895.1ms\n",
      "Speed: 5.0ms preprocess, 1895.1ms inference, 0.0ms postprocess per image at shape (1, 3, 640, 640)\n",
      "\n"
     ]
    },
    {
     "name": "stdout",
     "output_type": "stream",
     "text": [
      "Hardhat\n",
      "Person\n",
      "NO-Safety Vest\n",
      "NO-Safety Vest\n",
      "Person\n",
      "NO-Mask\n",
      "NO-Hardhat\n",
      "NO-Mask\n"
     ]
    },
    {
     "name": "stderr",
     "output_type": "stream",
     "text": [
      "0: 384x640 1 Hardhat, 1 NO-Hardhat, 2 NO-Masks, 2 NO-Safety Vests, 2 Persons, 1844.1ms\n",
      "Speed: 5.0ms preprocess, 1844.1ms inference, 0.0ms postprocess per image at shape (1, 3, 640, 640)\n",
      "\n"
     ]
    },
    {
     "name": "stdout",
     "output_type": "stream",
     "text": [
      "Hardhat\n",
      "Person\n",
      "NO-Safety Vest\n",
      "NO-Safety Vest\n",
      "Person\n",
      "NO-Mask\n",
      "NO-Hardhat\n",
      "NO-Mask\n"
     ]
    },
    {
     "name": "stderr",
     "output_type": "stream",
     "text": [
      "0: 384x640 1 Hardhat, 1 NO-Hardhat, 2 NO-Masks, 2 NO-Safety Vests, 2 Persons, 1660.4ms\n",
      "Speed: 5.0ms preprocess, 1660.4ms inference, 4.5ms postprocess per image at shape (1, 3, 640, 640)\n",
      "\n"
     ]
    },
    {
     "name": "stdout",
     "output_type": "stream",
     "text": [
      "Hardhat\n",
      "NO-Safety Vest\n",
      "Person\n",
      "NO-Safety Vest\n",
      "Person\n",
      "NO-Mask\n",
      "NO-Hardhat\n",
      "NO-Mask\n"
     ]
    },
    {
     "name": "stderr",
     "output_type": "stream",
     "text": [
      "0: 384x640 1 Hardhat, 1 NO-Hardhat, 2 NO-Masks, 2 NO-Safety Vests, 2 Persons, 1681.7ms\n",
      "Speed: 10.0ms preprocess, 1681.7ms inference, 8.1ms postprocess per image at shape (1, 3, 640, 640)\n",
      "\n"
     ]
    },
    {
     "name": "stdout",
     "output_type": "stream",
     "text": [
      "Hardhat\n",
      "NO-Safety Vest\n",
      "Person\n",
      "NO-Safety Vest\n",
      "Person\n",
      "NO-Mask\n",
      "NO-Hardhat\n",
      "NO-Mask\n"
     ]
    },
    {
     "name": "stderr",
     "output_type": "stream",
     "text": [
      "0: 384x640 1 Hardhat, 1 NO-Hardhat, 2 NO-Masks, 2 NO-Safety Vests, 2 Persons, 1619.7ms\n",
      "Speed: 0.0ms preprocess, 1619.7ms inference, 0.0ms postprocess per image at shape (1, 3, 640, 640)\n",
      "\n"
     ]
    },
    {
     "name": "stdout",
     "output_type": "stream",
     "text": [
      "Hardhat\n",
      "NO-Safety Vest\n",
      "Person\n",
      "NO-Safety Vest\n",
      "Person\n",
      "NO-Mask\n",
      "NO-Hardhat\n",
      "NO-Mask\n"
     ]
    },
    {
     "name": "stderr",
     "output_type": "stream",
     "text": [
      "0: 384x640 1 Hardhat, 1 NO-Hardhat, 2 NO-Masks, 2 NO-Safety Vests, 2 Persons, 1665.1ms\n",
      "Speed: 5.4ms preprocess, 1665.1ms inference, 1.5ms postprocess per image at shape (1, 3, 640, 640)\n",
      "\n"
     ]
    },
    {
     "name": "stdout",
     "output_type": "stream",
     "text": [
      "Hardhat\n",
      "NO-Safety Vest\n",
      "Person\n",
      "NO-Safety Vest\n",
      "Person\n",
      "NO-Mask\n",
      "NO-Hardhat\n",
      "NO-Mask\n"
     ]
    },
    {
     "name": "stderr",
     "output_type": "stream",
     "text": [
      "0: 384x640 1 Hardhat, 1 NO-Hardhat, 2 NO-Masks, 2 NO-Safety Vests, 2 Persons, 1879.6ms\n",
      "Speed: 5.5ms preprocess, 1879.6ms inference, 6.0ms postprocess per image at shape (1, 3, 640, 640)\n",
      "\n"
     ]
    },
    {
     "name": "stdout",
     "output_type": "stream",
     "text": [
      "Hardhat\n",
      "NO-Safety Vest\n",
      "NO-Safety Vest\n",
      "Person\n",
      "Person\n",
      "NO-Mask\n",
      "NO-Hardhat\n",
      "NO-Mask\n"
     ]
    },
    {
     "name": "stderr",
     "output_type": "stream",
     "text": [
      "0: 384x640 1 Hardhat, 1 NO-Hardhat, 2 NO-Masks, 2 NO-Safety Vests, 2 Persons, 1904.6ms\n",
      "Speed: 3.6ms preprocess, 1904.6ms inference, 5.0ms postprocess per image at shape (1, 3, 640, 640)\n",
      "\n"
     ]
    },
    {
     "name": "stdout",
     "output_type": "stream",
     "text": [
      "Hardhat\n",
      "NO-Safety Vest\n",
      "NO-Safety Vest\n",
      "Person\n",
      "Person\n",
      "NO-Mask\n",
      "NO-Hardhat\n",
      "NO-Mask\n"
     ]
    },
    {
     "name": "stderr",
     "output_type": "stream",
     "text": [
      "0: 384x640 1 Hardhat, 1 NO-Hardhat, 2 NO-Masks, 2 NO-Safety Vests, 2 Persons, 2135.2ms\n",
      "Speed: 14.7ms preprocess, 2135.2ms inference, 0.0ms postprocess per image at shape (1, 3, 640, 640)\n",
      "\n"
     ]
    },
    {
     "name": "stdout",
     "output_type": "stream",
     "text": [
      "Hardhat\n",
      "NO-Safety Vest\n",
      "NO-Safety Vest\n",
      "Person\n",
      "Person\n",
      "NO-Mask\n",
      "NO-Hardhat\n",
      "NO-Mask\n"
     ]
    },
    {
     "name": "stderr",
     "output_type": "stream",
     "text": [
      "0: 384x640 1 Hardhat, 1 NO-Hardhat, 2 NO-Masks, 2 NO-Safety Vests, 2 Persons, 2291.9ms\n",
      "Speed: 10.1ms preprocess, 2291.9ms inference, 8.0ms postprocess per image at shape (1, 3, 640, 640)\n",
      "\n"
     ]
    },
    {
     "name": "stdout",
     "output_type": "stream",
     "text": [
      "Hardhat\n",
      "NO-Safety Vest\n",
      "NO-Safety Vest\n",
      "Person\n",
      "Person\n",
      "NO-Mask\n",
      "NO-Hardhat\n",
      "NO-Mask\n"
     ]
    },
    {
     "name": "stderr",
     "output_type": "stream",
     "text": [
      "0: 384x640 1 Hardhat, 1 NO-Hardhat, 2 NO-Masks, 2 NO-Safety Vests, 2 Persons, 1921.0ms\n",
      "Speed: 10.2ms preprocess, 1921.0ms inference, 4.0ms postprocess per image at shape (1, 3, 640, 640)\n",
      "\n"
     ]
    },
    {
     "name": "stdout",
     "output_type": "stream",
     "text": [
      "Hardhat\n",
      "NO-Safety Vest\n",
      "NO-Safety Vest\n",
      "Person\n",
      "Person\n",
      "NO-Mask\n",
      "NO-Hardhat\n",
      "NO-Mask\n"
     ]
    },
    {
     "name": "stderr",
     "output_type": "stream",
     "text": [
      "0: 384x640 1 Hardhat, 1 NO-Hardhat, 2 NO-Masks, 2 NO-Safety Vests, 2 Persons, 2035.1ms\n",
      "Speed: 10.1ms preprocess, 2035.1ms inference, 5.0ms postprocess per image at shape (1, 3, 640, 640)\n",
      "\n"
     ]
    },
    {
     "name": "stdout",
     "output_type": "stream",
     "text": [
      "Hardhat\n",
      "NO-Safety Vest\n",
      "NO-Safety Vest\n",
      "Person\n",
      "Person\n",
      "NO-Mask\n",
      "NO-Hardhat\n",
      "NO-Mask\n"
     ]
    },
    {
     "name": "stderr",
     "output_type": "stream",
     "text": [
      "0: 384x640 1 Hardhat, 1 NO-Hardhat, 2 NO-Masks, 2 NO-Safety Vests, 2 Persons, 1989.7ms\n",
      "Speed: 6.1ms preprocess, 1989.7ms inference, 3.9ms postprocess per image at shape (1, 3, 640, 640)\n",
      "\n"
     ]
    },
    {
     "name": "stdout",
     "output_type": "stream",
     "text": [
      "Hardhat\n",
      "NO-Safety Vest\n",
      "NO-Safety Vest\n",
      "Person\n",
      "Person\n",
      "NO-Mask\n",
      "NO-Hardhat\n",
      "NO-Mask\n"
     ]
    },
    {
     "name": "stderr",
     "output_type": "stream",
     "text": [
      "0: 384x640 1 Hardhat, 1 NO-Hardhat, 2 NO-Masks, 2 NO-Safety Vests, 2 Persons, 1890.0ms\n",
      "Speed: 3.2ms preprocess, 1890.0ms inference, 0.0ms postprocess per image at shape (1, 3, 640, 640)\n",
      "\n"
     ]
    },
    {
     "name": "stdout",
     "output_type": "stream",
     "text": [
      "Hardhat\n",
      "NO-Safety Vest\n",
      "NO-Safety Vest\n",
      "Person\n",
      "Person\n",
      "NO-Mask\n",
      "NO-Hardhat\n",
      "NO-Mask\n"
     ]
    },
    {
     "name": "stderr",
     "output_type": "stream",
     "text": [
      "0: 384x640 1 Hardhat, 1 NO-Hardhat, 2 NO-Masks, 2 NO-Safety Vests, 2 Persons, 2016.8ms\n",
      "Speed: 10.1ms preprocess, 2016.8ms inference, 3.1ms postprocess per image at shape (1, 3, 640, 640)\n",
      "\n"
     ]
    },
    {
     "name": "stdout",
     "output_type": "stream",
     "text": [
      "Hardhat\n",
      "NO-Safety Vest\n",
      "NO-Safety Vest\n",
      "Person\n",
      "Person\n",
      "NO-Mask\n",
      "NO-Hardhat\n",
      "NO-Mask\n"
     ]
    },
    {
     "name": "stderr",
     "output_type": "stream",
     "text": [
      "0: 384x640 1 Hardhat, 1 NO-Hardhat, 2 NO-Masks, 2 NO-Safety Vests, 2 Persons, 2197.3ms\n",
      "Speed: 15.9ms preprocess, 2197.3ms inference, 0.0ms postprocess per image at shape (1, 3, 640, 640)\n",
      "\n"
     ]
    },
    {
     "name": "stdout",
     "output_type": "stream",
     "text": [
      "Hardhat\n",
      "NO-Safety Vest\n",
      "NO-Safety Vest\n",
      "Person\n",
      "Person\n",
      "NO-Mask\n",
      "NO-Hardhat\n",
      "NO-Mask\n"
     ]
    },
    {
     "name": "stderr",
     "output_type": "stream",
     "text": [
      "0: 384x640 1 Hardhat, 1 NO-Hardhat, 2 NO-Masks, 2 NO-Safety Vests, 2 Persons, 2226.6ms\n",
      "Speed: 6.4ms preprocess, 2226.6ms inference, 0.0ms postprocess per image at shape (1, 3, 640, 640)\n",
      "\n"
     ]
    },
    {
     "name": "stdout",
     "output_type": "stream",
     "text": [
      "Hardhat\n",
      "NO-Safety Vest\n",
      "NO-Safety Vest\n",
      "Person\n",
      "Person\n",
      "NO-Mask\n",
      "NO-Hardhat\n",
      "NO-Mask\n"
     ]
    },
    {
     "name": "stderr",
     "output_type": "stream",
     "text": [
      "0: 384x640 1 Hardhat, 1 NO-Hardhat, 2 NO-Masks, 2 NO-Safety Vests, 2 Persons, 1939.9ms\n",
      "Speed: 5.0ms preprocess, 1939.9ms inference, 0.0ms postprocess per image at shape (1, 3, 640, 640)\n",
      "\n"
     ]
    },
    {
     "name": "stdout",
     "output_type": "stream",
     "text": [
      "Hardhat\n",
      "NO-Safety Vest\n",
      "NO-Safety Vest\n",
      "Person\n",
      "Person\n",
      "NO-Mask\n",
      "NO-Hardhat\n",
      "NO-Mask\n"
     ]
    },
    {
     "name": "stderr",
     "output_type": "stream",
     "text": [
      "0: 384x640 1 Hardhat, 1 NO-Hardhat, 2 NO-Masks, 2 NO-Safety Vests, 2 Persons, 1758.9ms\n",
      "Speed: 3.1ms preprocess, 1758.9ms inference, 5.0ms postprocess per image at shape (1, 3, 640, 640)\n",
      "\n"
     ]
    },
    {
     "name": "stdout",
     "output_type": "stream",
     "text": [
      "Hardhat\n",
      "NO-Safety Vest\n",
      "NO-Safety Vest\n",
      "Person\n",
      "Person\n",
      "NO-Mask\n",
      "NO-Hardhat\n",
      "NO-Mask\n"
     ]
    },
    {
     "name": "stderr",
     "output_type": "stream",
     "text": [
      "0: 384x640 1 Hardhat, 1 NO-Hardhat, 2 NO-Masks, 2 NO-Safety Vests, 2 Persons, 1509.9ms\n",
      "Speed: 15.4ms preprocess, 1509.9ms inference, 0.0ms postprocess per image at shape (1, 3, 640, 640)\n",
      "\n"
     ]
    },
    {
     "name": "stdout",
     "output_type": "stream",
     "text": [
      "Hardhat\n",
      "NO-Safety Vest\n",
      "NO-Safety Vest\n",
      "Person\n",
      "Person\n",
      "NO-Mask\n",
      "NO-Hardhat\n",
      "NO-Mask\n"
     ]
    },
    {
     "name": "stderr",
     "output_type": "stream",
     "text": [
      "0: 384x640 1 Hardhat, 1 NO-Hardhat, 2 NO-Masks, 2 NO-Safety Vests, 2 Persons, 1555.0ms\n",
      "Speed: 9.8ms preprocess, 1555.0ms inference, 0.0ms postprocess per image at shape (1, 3, 640, 640)\n",
      "\n"
     ]
    },
    {
     "name": "stdout",
     "output_type": "stream",
     "text": [
      "Hardhat\n",
      "NO-Safety Vest\n",
      "NO-Safety Vest\n",
      "Person\n",
      "Person\n",
      "NO-Mask\n",
      "NO-Hardhat\n",
      "NO-Mask\n"
     ]
    },
    {
     "name": "stderr",
     "output_type": "stream",
     "text": [
      "0: 384x640 1 Hardhat, 1 NO-Hardhat, 2 NO-Masks, 2 NO-Safety Vests, 2 Persons, 1510.1ms\n",
      "Speed: 3.6ms preprocess, 1510.1ms inference, 0.0ms postprocess per image at shape (1, 3, 640, 640)\n",
      "\n"
     ]
    },
    {
     "name": "stdout",
     "output_type": "stream",
     "text": [
      "Hardhat\n",
      "NO-Safety Vest\n",
      "NO-Safety Vest\n",
      "Person\n",
      "Person\n",
      "NO-Mask\n",
      "NO-Hardhat\n",
      "NO-Mask\n"
     ]
    },
    {
     "name": "stderr",
     "output_type": "stream",
     "text": [
      "0: 384x640 1 Hardhat, 1 NO-Hardhat, 2 NO-Masks, 2 NO-Safety Vests, 2 Persons, 1745.4ms\n",
      "Speed: 8.0ms preprocess, 1745.4ms inference, 0.0ms postprocess per image at shape (1, 3, 640, 640)\n",
      "\n"
     ]
    },
    {
     "name": "stdout",
     "output_type": "stream",
     "text": [
      "Hardhat\n",
      "NO-Safety Vest\n",
      "NO-Safety Vest\n",
      "Person\n",
      "Person\n",
      "NO-Mask\n",
      "NO-Hardhat\n",
      "NO-Mask\n"
     ]
    },
    {
     "name": "stderr",
     "output_type": "stream",
     "text": [
      "0: 384x640 1 Hardhat, 1 NO-Hardhat, 2 NO-Masks, 2 NO-Safety Vests, 2 Persons, 1846.1ms\n",
      "Speed: 5.0ms preprocess, 1846.1ms inference, 0.0ms postprocess per image at shape (1, 3, 640, 640)\n",
      "\n"
     ]
    },
    {
     "name": "stdout",
     "output_type": "stream",
     "text": [
      "Hardhat\n",
      "NO-Safety Vest\n",
      "NO-Safety Vest\n",
      "Person\n",
      "Person\n",
      "NO-Mask\n",
      "NO-Hardhat\n",
      "NO-Mask\n"
     ]
    },
    {
     "name": "stderr",
     "output_type": "stream",
     "text": [
      "0: 384x640 1 Hardhat, 1 NO-Hardhat, 2 NO-Masks, 2 NO-Safety Vests, 2 Persons, 1830.8ms\n",
      "Speed: 3.9ms preprocess, 1830.8ms inference, 0.0ms postprocess per image at shape (1, 3, 640, 640)\n",
      "\n"
     ]
    },
    {
     "name": "stdout",
     "output_type": "stream",
     "text": [
      "Hardhat\n",
      "NO-Safety Vest\n",
      "NO-Safety Vest\n",
      "Person\n",
      "Person\n",
      "NO-Mask\n",
      "NO-Hardhat\n",
      "NO-Mask\n"
     ]
    },
    {
     "name": "stderr",
     "output_type": "stream",
     "text": [
      "0: 384x640 1 Hardhat, 1 NO-Hardhat, 2 NO-Masks, 2 NO-Safety Vests, 2 Persons, 1846.7ms\n",
      "Speed: 4.0ms preprocess, 1846.7ms inference, 0.0ms postprocess per image at shape (1, 3, 640, 640)\n",
      "\n"
     ]
    },
    {
     "name": "stdout",
     "output_type": "stream",
     "text": [
      "Hardhat\n",
      "NO-Safety Vest\n",
      "NO-Safety Vest\n",
      "Person\n",
      "Person\n",
      "NO-Mask\n",
      "NO-Hardhat\n",
      "NO-Mask\n"
     ]
    },
    {
     "name": "stderr",
     "output_type": "stream",
     "text": [
      "0: 384x640 1 Hardhat, 1 NO-Hardhat, 2 NO-Masks, 2 NO-Safety Vests, 2 Persons, 1860.0ms\n",
      "Speed: 5.0ms preprocess, 1860.0ms inference, 0.0ms postprocess per image at shape (1, 3, 640, 640)\n",
      "\n"
     ]
    },
    {
     "name": "stdout",
     "output_type": "stream",
     "text": [
      "Hardhat\n",
      "NO-Safety Vest\n",
      "NO-Safety Vest\n",
      "Person\n",
      "Person\n",
      "NO-Mask\n",
      "NO-Hardhat\n",
      "NO-Mask\n"
     ]
    },
    {
     "name": "stderr",
     "output_type": "stream",
     "text": [
      "0: 384x640 1 Hardhat, 1 NO-Hardhat, 2 NO-Masks, 2 NO-Safety Vests, 2 Persons, 1550.0ms\n",
      "Speed: 2.7ms preprocess, 1550.0ms inference, 2.5ms postprocess per image at shape (1, 3, 640, 640)\n",
      "\n"
     ]
    },
    {
     "name": "stdout",
     "output_type": "stream",
     "text": [
      "Hardhat\n",
      "NO-Safety Vest\n",
      "NO-Safety Vest\n",
      "Person\n",
      "Person\n",
      "NO-Mask\n",
      "NO-Hardhat\n",
      "NO-Mask\n"
     ]
    },
    {
     "name": "stderr",
     "output_type": "stream",
     "text": [
      "0: 384x640 1 Hardhat, 1 NO-Hardhat, 2 NO-Masks, 2 NO-Safety Vests, 2 Persons, 1479.1ms\n",
      "Speed: 11.1ms preprocess, 1479.1ms inference, 0.0ms postprocess per image at shape (1, 3, 640, 640)\n",
      "\n"
     ]
    },
    {
     "name": "stdout",
     "output_type": "stream",
     "text": [
      "Hardhat\n",
      "NO-Safety Vest\n",
      "NO-Safety Vest\n",
      "Person\n",
      "Person\n",
      "NO-Mask\n",
      "NO-Hardhat\n",
      "NO-Mask\n"
     ]
    },
    {
     "name": "stderr",
     "output_type": "stream",
     "text": [
      "0: 384x640 1 Hardhat, 1 NO-Hardhat, 2 NO-Masks, 2 NO-Safety Vests, 2 Persons, 1521.4ms\n",
      "Speed: 3.8ms preprocess, 1521.4ms inference, 5.1ms postprocess per image at shape (1, 3, 640, 640)\n",
      "\n"
     ]
    },
    {
     "name": "stdout",
     "output_type": "stream",
     "text": [
      "Hardhat\n",
      "NO-Safety Vest\n",
      "NO-Safety Vest\n",
      "Person\n",
      "Person\n",
      "NO-Mask\n",
      "NO-Hardhat\n",
      "NO-Mask\n"
     ]
    },
    {
     "name": "stderr",
     "output_type": "stream",
     "text": [
      "0: 384x640 1 Hardhat, 1 NO-Hardhat, 2 NO-Masks, 2 NO-Safety Vests, 2 Persons, 1520.2ms\n",
      "Speed: 5.0ms preprocess, 1520.2ms inference, 5.0ms postprocess per image at shape (1, 3, 640, 640)\n",
      "\n"
     ]
    },
    {
     "name": "stdout",
     "output_type": "stream",
     "text": [
      "Hardhat\n",
      "NO-Safety Vest\n",
      "NO-Safety Vest\n",
      "Person\n",
      "Person\n",
      "NO-Mask\n",
      "NO-Hardhat\n",
      "NO-Mask\n"
     ]
    },
    {
     "name": "stderr",
     "output_type": "stream",
     "text": [
      "0: 384x640 1 Hardhat, 1 NO-Hardhat, 2 NO-Masks, 2 NO-Safety Vests, 2 Persons, 1699.7ms\n",
      "Speed: 5.0ms preprocess, 1699.7ms inference, 5.6ms postprocess per image at shape (1, 3, 640, 640)\n",
      "\n"
     ]
    },
    {
     "name": "stdout",
     "output_type": "stream",
     "text": [
      "Hardhat\n",
      "NO-Safety Vest\n",
      "NO-Safety Vest\n",
      "Person\n",
      "Person\n",
      "NO-Mask\n",
      "NO-Hardhat\n",
      "NO-Mask\n"
     ]
    },
    {
     "name": "stderr",
     "output_type": "stream",
     "text": [
      "0: 384x640 1 Hardhat, 1 NO-Hardhat, 2 NO-Masks, 2 NO-Safety Vests, 2 Persons, 1854.1ms\n",
      "Speed: 1.0ms preprocess, 1854.1ms inference, 4.5ms postprocess per image at shape (1, 3, 640, 640)\n",
      "\n"
     ]
    },
    {
     "name": "stdout",
     "output_type": "stream",
     "text": [
      "Hardhat\n",
      "NO-Safety Vest\n",
      "NO-Safety Vest\n",
      "Person\n",
      "Person\n",
      "NO-Mask\n",
      "NO-Hardhat\n",
      "NO-Mask\n"
     ]
    },
    {
     "name": "stderr",
     "output_type": "stream",
     "text": [
      "0: 384x640 1 Hardhat, 1 NO-Hardhat, 2 NO-Masks, 2 NO-Safety Vests, 2 Persons, 1870.4ms\n",
      "Speed: 5.6ms preprocess, 1870.4ms inference, 5.1ms postprocess per image at shape (1, 3, 640, 640)\n",
      "\n"
     ]
    },
    {
     "name": "stdout",
     "output_type": "stream",
     "text": [
      "Hardhat\n",
      "NO-Safety Vest\n",
      "NO-Safety Vest\n",
      "Person\n",
      "Person\n",
      "NO-Mask\n",
      "NO-Hardhat\n",
      "NO-Mask\n"
     ]
    },
    {
     "name": "stderr",
     "output_type": "stream",
     "text": [
      "0: 384x640 1 Hardhat, 1 NO-Hardhat, 2 NO-Masks, 2 NO-Safety Vests, 2 Persons, 1888.2ms\n",
      "Speed: 4.8ms preprocess, 1888.2ms inference, 0.0ms postprocess per image at shape (1, 3, 640, 640)\n",
      "\n"
     ]
    },
    {
     "name": "stdout",
     "output_type": "stream",
     "text": [
      "Hardhat\n",
      "NO-Safety Vest\n",
      "NO-Safety Vest\n",
      "Person\n",
      "Person\n",
      "NO-Mask\n",
      "NO-Hardhat\n",
      "NO-Mask\n"
     ]
    },
    {
     "name": "stderr",
     "output_type": "stream",
     "text": [
      "0: 384x640 1 Hardhat, 1 NO-Hardhat, 2 NO-Masks, 2 NO-Safety Vests, 2 Persons, 1905.0ms\n",
      "Speed: 5.0ms preprocess, 1905.0ms inference, 0.0ms postprocess per image at shape (1, 3, 640, 640)\n",
      "\n"
     ]
    },
    {
     "name": "stdout",
     "output_type": "stream",
     "text": [
      "Hardhat\n",
      "NO-Safety Vest\n",
      "NO-Safety Vest\n",
      "Person\n",
      "Person\n",
      "NO-Mask\n",
      "NO-Hardhat\n",
      "NO-Mask\n"
     ]
    },
    {
     "name": "stderr",
     "output_type": "stream",
     "text": [
      "0: 384x640 1 Hardhat, 1 NO-Hardhat, 2 NO-Masks, 2 NO-Safety Vests, 2 Persons, 1574.3ms\n",
      "Speed: 9.8ms preprocess, 1574.3ms inference, 5.5ms postprocess per image at shape (1, 3, 640, 640)\n",
      "\n"
     ]
    },
    {
     "name": "stdout",
     "output_type": "stream",
     "text": [
      "Hardhat\n",
      "NO-Safety Vest\n",
      "NO-Safety Vest\n",
      "Person\n",
      "Person\n",
      "NO-Mask\n",
      "NO-Hardhat\n",
      "NO-Mask\n"
     ]
    },
    {
     "name": "stderr",
     "output_type": "stream",
     "text": [
      "0: 384x640 1 Hardhat, 1 NO-Hardhat, 2 NO-Masks, 2 NO-Safety Vests, 2 Persons, 1486.3ms\n",
      "Speed: 10.4ms preprocess, 1486.3ms inference, 3.6ms postprocess per image at shape (1, 3, 640, 640)\n",
      "\n"
     ]
    },
    {
     "name": "stdout",
     "output_type": "stream",
     "text": [
      "Hardhat\n",
      "NO-Safety Vest\n",
      "NO-Safety Vest\n",
      "Person\n",
      "Person\n",
      "NO-Mask\n",
      "NO-Hardhat\n",
      "NO-Mask\n"
     ]
    },
    {
     "name": "stderr",
     "output_type": "stream",
     "text": [
      "0: 384x640 1 Hardhat, 1 NO-Hardhat, 2 NO-Masks, 2 NO-Safety Vests, 2 Persons, 1521.0ms\n",
      "Speed: 2.9ms preprocess, 1521.0ms inference, 0.0ms postprocess per image at shape (1, 3, 640, 640)\n",
      "\n"
     ]
    },
    {
     "name": "stdout",
     "output_type": "stream",
     "text": [
      "Hardhat\n",
      "NO-Safety Vest\n",
      "NO-Safety Vest\n",
      "Person\n",
      "Person\n",
      "NO-Mask\n",
      "NO-Hardhat\n",
      "NO-Mask\n"
     ]
    },
    {
     "name": "stderr",
     "output_type": "stream",
     "text": [
      "0: 384x640 1 Hardhat, 1 NO-Hardhat, 2 NO-Masks, 2 NO-Safety Vests, 2 Persons, 1550.1ms\n",
      "Speed: 5.0ms preprocess, 1550.1ms inference, 5.1ms postprocess per image at shape (1, 3, 640, 640)\n",
      "\n"
     ]
    },
    {
     "name": "stdout",
     "output_type": "stream",
     "text": [
      "Hardhat\n",
      "NO-Safety Vest\n",
      "NO-Safety Vest\n",
      "Person\n",
      "Person\n",
      "NO-Mask\n",
      "NO-Hardhat\n",
      "NO-Mask\n"
     ]
    },
    {
     "name": "stderr",
     "output_type": "stream",
     "text": [
      "0: 384x640 1 Hardhat, 1 NO-Hardhat, 2 NO-Masks, 2 NO-Safety Vests, 2 Persons, 1706.7ms\n",
      "Speed: 8.6ms preprocess, 1706.7ms inference, 5.0ms postprocess per image at shape (1, 3, 640, 640)\n",
      "\n"
     ]
    },
    {
     "name": "stdout",
     "output_type": "stream",
     "text": [
      "Hardhat\n",
      "NO-Safety Vest\n",
      "NO-Safety Vest\n",
      "Person\n",
      "Person\n",
      "NO-Mask\n",
      "NO-Hardhat\n",
      "NO-Mask\n"
     ]
    },
    {
     "name": "stderr",
     "output_type": "stream",
     "text": [
      "0: 384x640 1 Hardhat, 1 NO-Hardhat, 2 NO-Masks, 2 NO-Safety Vests, 2 Persons, 1908.1ms\n",
      "Speed: 6.0ms preprocess, 1908.1ms inference, 4.1ms postprocess per image at shape (1, 3, 640, 640)\n",
      "\n"
     ]
    },
    {
     "name": "stdout",
     "output_type": "stream",
     "text": [
      "Hardhat\n",
      "NO-Safety Vest\n",
      "NO-Safety Vest\n",
      "Person\n",
      "Person\n",
      "NO-Mask\n",
      "NO-Hardhat\n",
      "NO-Mask\n"
     ]
    },
    {
     "name": "stderr",
     "output_type": "stream",
     "text": [
      "0: 384x640 1 Hardhat, 1 NO-Hardhat, 2 NO-Masks, 2 NO-Safety Vests, 2 Persons, 1870.2ms\n",
      "Speed: 5.0ms preprocess, 1870.2ms inference, 0.0ms postprocess per image at shape (1, 3, 640, 640)\n",
      "\n"
     ]
    },
    {
     "name": "stdout",
     "output_type": "stream",
     "text": [
      "Hardhat\n",
      "NO-Safety Vest\n",
      "NO-Safety Vest\n",
      "Person\n",
      "Person\n",
      "NO-Mask\n",
      "NO-Hardhat\n",
      "NO-Mask\n"
     ]
    },
    {
     "name": "stderr",
     "output_type": "stream",
     "text": [
      "0: 384x640 1 Hardhat, 1 NO-Hardhat, 2 NO-Masks, 2 NO-Safety Vests, 2 Persons, 2095.4ms\n",
      "Speed: 9.2ms preprocess, 2095.4ms inference, 3.0ms postprocess per image at shape (1, 3, 640, 640)\n",
      "\n"
     ]
    },
    {
     "name": "stdout",
     "output_type": "stream",
     "text": [
      "Hardhat\n",
      "NO-Safety Vest\n",
      "NO-Safety Vest\n",
      "Person\n",
      "Person\n",
      "NO-Mask\n",
      "NO-Hardhat\n",
      "NO-Mask\n"
     ]
    },
    {
     "name": "stderr",
     "output_type": "stream",
     "text": [
      "0: 384x640 1 Hardhat, 1 NO-Hardhat, 2 NO-Masks, 2 NO-Safety Vests, 2 Persons, 2106.4ms\n",
      "Speed: 5.0ms preprocess, 2106.4ms inference, 4.0ms postprocess per image at shape (1, 3, 640, 640)\n",
      "\n"
     ]
    },
    {
     "name": "stdout",
     "output_type": "stream",
     "text": [
      "Hardhat\n",
      "NO-Safety Vest\n",
      "NO-Safety Vest\n",
      "Person\n",
      "Person\n",
      "NO-Mask\n",
      "NO-Hardhat\n",
      "NO-Mask\n"
     ]
    },
    {
     "name": "stderr",
     "output_type": "stream",
     "text": [
      "0: 384x640 1 Hardhat, 1 NO-Hardhat, 2 NO-Masks, 2 NO-Safety Vests, 2 Persons, 1598.8ms\n",
      "Speed: 6.1ms preprocess, 1598.8ms inference, 0.0ms postprocess per image at shape (1, 3, 640, 640)\n",
      "\n"
     ]
    },
    {
     "name": "stdout",
     "output_type": "stream",
     "text": [
      "Hardhat\n",
      "NO-Safety Vest\n",
      "NO-Safety Vest\n",
      "Person\n",
      "Person\n",
      "NO-Mask\n",
      "NO-Hardhat\n",
      "NO-Mask\n"
     ]
    },
    {
     "name": "stderr",
     "output_type": "stream",
     "text": [
      "0: 384x640 1 Hardhat, 1 NO-Hardhat, 2 NO-Masks, 2 NO-Safety Vests, 2 Persons, 1591.1ms\n",
      "Speed: 0.0ms preprocess, 1591.1ms inference, 5.1ms postprocess per image at shape (1, 3, 640, 640)\n",
      "\n"
     ]
    },
    {
     "name": "stdout",
     "output_type": "stream",
     "text": [
      "Hardhat\n",
      "NO-Safety Vest\n",
      "NO-Safety Vest\n",
      "Person\n",
      "Person\n",
      "NO-Mask\n",
      "NO-Hardhat\n",
      "NO-Mask\n"
     ]
    },
    {
     "name": "stderr",
     "output_type": "stream",
     "text": [
      "0: 384x640 1 Hardhat, 1 NO-Hardhat, 2 NO-Masks, 2 NO-Safety Vests, 2 Persons, 1845.4ms\n",
      "Speed: 0.0ms preprocess, 1845.4ms inference, 2.0ms postprocess per image at shape (1, 3, 640, 640)\n",
      "\n"
     ]
    },
    {
     "name": "stdout",
     "output_type": "stream",
     "text": [
      "Hardhat\n",
      "NO-Safety Vest\n",
      "NO-Safety Vest\n",
      "Person\n",
      "Person\n",
      "NO-Mask\n",
      "NO-Hardhat\n",
      "NO-Mask\n"
     ]
    },
    {
     "name": "stderr",
     "output_type": "stream",
     "text": [
      "0: 384x640 1 Hardhat, 1 NO-Hardhat, 2 NO-Masks, 2 NO-Safety Vests, 2 Persons, 1599.9ms\n",
      "Speed: 4.5ms preprocess, 1599.9ms inference, 2.0ms postprocess per image at shape (1, 3, 640, 640)\n",
      "\n"
     ]
    },
    {
     "name": "stdout",
     "output_type": "stream",
     "text": [
      "Hardhat\n",
      "NO-Safety Vest\n",
      "NO-Safety Vest\n",
      "Person\n",
      "Person\n",
      "NO-Mask\n",
      "NO-Hardhat\n",
      "NO-Mask\n"
     ]
    },
    {
     "name": "stderr",
     "output_type": "stream",
     "text": [
      "0: 384x640 1 Hardhat, 1 NO-Hardhat, 2 NO-Masks, 2 NO-Safety Vests, 2 Persons, 1709.8ms\n",
      "Speed: 4.0ms preprocess, 1709.8ms inference, 2.0ms postprocess per image at shape (1, 3, 640, 640)\n",
      "\n"
     ]
    },
    {
     "name": "stdout",
     "output_type": "stream",
     "text": [
      "Hardhat\n",
      "NO-Safety Vest\n",
      "NO-Safety Vest\n",
      "Person\n",
      "Person\n",
      "NO-Mask\n",
      "NO-Hardhat\n",
      "NO-Mask\n"
     ]
    },
    {
     "name": "stderr",
     "output_type": "stream",
     "text": [
      "0: 384x640 1 Hardhat, 1 NO-Hardhat, 2 NO-Masks, 2 NO-Safety Vests, 2 Persons, 1741.7ms\n",
      "Speed: 4.3ms preprocess, 1741.7ms inference, 2.5ms postprocess per image at shape (1, 3, 640, 640)\n",
      "\n"
     ]
    },
    {
     "name": "stdout",
     "output_type": "stream",
     "text": [
      "Hardhat\n",
      "NO-Safety Vest\n",
      "NO-Safety Vest\n",
      "Person\n",
      "Person\n",
      "NO-Mask\n",
      "NO-Hardhat\n",
      "NO-Mask\n"
     ]
    },
    {
     "name": "stderr",
     "output_type": "stream",
     "text": [
      "0: 384x640 1 Hardhat, 1 NO-Hardhat, 2 NO-Masks, 2 NO-Safety Vests, 2 Persons, 1731.5ms\n",
      "Speed: 3.5ms preprocess, 1731.5ms inference, 2.0ms postprocess per image at shape (1, 3, 640, 640)\n",
      "\n"
     ]
    },
    {
     "name": "stdout",
     "output_type": "stream",
     "text": [
      "Hardhat\n",
      "NO-Safety Vest\n",
      "NO-Safety Vest\n",
      "Person\n",
      "Person\n",
      "NO-Mask\n",
      "NO-Hardhat\n",
      "NO-Mask\n"
     ]
    },
    {
     "name": "stderr",
     "output_type": "stream",
     "text": [
      "0: 384x640 1 Hardhat, 1 NO-Hardhat, 2 NO-Masks, 2 NO-Safety Vests, 2 Persons, 1736.6ms\n",
      "Speed: 4.4ms preprocess, 1736.6ms inference, 2.0ms postprocess per image at shape (1, 3, 640, 640)\n",
      "\n"
     ]
    },
    {
     "name": "stdout",
     "output_type": "stream",
     "text": [
      "Hardhat\n",
      "NO-Safety Vest\n",
      "NO-Safety Vest\n",
      "Person\n",
      "Person\n",
      "NO-Mask\n",
      "NO-Hardhat\n",
      "NO-Mask\n"
     ]
    },
    {
     "name": "stderr",
     "output_type": "stream",
     "text": [
      "0: 384x640 1 Hardhat, 1 NO-Hardhat, 2 NO-Masks, 2 NO-Safety Vests, 2 Persons, 1546.6ms\n",
      "Speed: 4.7ms preprocess, 1546.6ms inference, 1.6ms postprocess per image at shape (1, 3, 640, 640)\n",
      "\n"
     ]
    },
    {
     "name": "stdout",
     "output_type": "stream",
     "text": [
      "Hardhat\n",
      "NO-Safety Vest\n",
      "NO-Safety Vest\n",
      "Person\n",
      "Person\n",
      "NO-Mask\n",
      "NO-Hardhat\n",
      "NO-Mask\n"
     ]
    },
    {
     "name": "stderr",
     "output_type": "stream",
     "text": [
      "0: 384x640 1 Hardhat, 1 NO-Hardhat, 2 NO-Masks, 2 NO-Safety Vests, 2 Persons, 1524.4ms\n",
      "Speed: 4.2ms preprocess, 1524.4ms inference, 2.0ms postprocess per image at shape (1, 3, 640, 640)\n",
      "\n"
     ]
    },
    {
     "name": "stdout",
     "output_type": "stream",
     "text": [
      "Hardhat\n",
      "NO-Safety Vest\n",
      "NO-Safety Vest\n",
      "Person\n",
      "Person\n",
      "NO-Mask\n",
      "NO-Hardhat\n",
      "NO-Mask\n"
     ]
    },
    {
     "name": "stderr",
     "output_type": "stream",
     "text": [
      "0: 384x640 1 Hardhat, 1 NO-Hardhat, 2 NO-Masks, 2 NO-Safety Vests, 2 Persons, 1519.4ms\n",
      "Speed: 3.5ms preprocess, 1519.4ms inference, 2.5ms postprocess per image at shape (1, 3, 640, 640)\n",
      "\n"
     ]
    },
    {
     "name": "stdout",
     "output_type": "stream",
     "text": [
      "Hardhat\n",
      "NO-Safety Vest\n",
      "NO-Safety Vest\n",
      "Person\n",
      "Person\n",
      "NO-Mask\n",
      "NO-Hardhat\n",
      "NO-Mask\n"
     ]
    },
    {
     "name": "stderr",
     "output_type": "stream",
     "text": [
      "0: 384x640 1 Hardhat, 1 NO-Hardhat, 2 NO-Masks, 2 NO-Safety Vests, 2 Persons, 1925.5ms\n",
      "Speed: 6.1ms preprocess, 1925.5ms inference, 2.4ms postprocess per image at shape (1, 3, 640, 640)\n",
      "\n"
     ]
    },
    {
     "name": "stdout",
     "output_type": "stream",
     "text": [
      "Hardhat\n",
      "NO-Safety Vest\n",
      "NO-Safety Vest\n",
      "Person\n",
      "Person\n",
      "NO-Mask\n",
      "NO-Hardhat\n",
      "NO-Mask\n"
     ]
    },
    {
     "name": "stderr",
     "output_type": "stream",
     "text": [
      "0: 384x640 1 Hardhat, 1 NO-Hardhat, 2 NO-Masks, 2 NO-Safety Vests, 2 Persons, 1633.5ms\n",
      "Speed: 3.5ms preprocess, 1633.5ms inference, 2.0ms postprocess per image at shape (1, 3, 640, 640)\n",
      "\n"
     ]
    },
    {
     "name": "stdout",
     "output_type": "stream",
     "text": [
      "Hardhat\n",
      "NO-Safety Vest\n",
      "NO-Safety Vest\n",
      "Person\n",
      "Person\n",
      "NO-Mask\n",
      "NO-Hardhat\n",
      "NO-Mask\n"
     ]
    },
    {
     "name": "stderr",
     "output_type": "stream",
     "text": [
      "0: 384x640 1 Hardhat, 1 NO-Hardhat, 2 NO-Masks, 1 NO-Safety Vest, 2 Persons, 1 Safety Vest, 1 machinery, 1714.3ms\n",
      "Speed: 3.6ms preprocess, 1714.3ms inference, 2.0ms postprocess per image at shape (1, 3, 640, 640)\n",
      "\n"
     ]
    },
    {
     "name": "stdout",
     "output_type": "stream",
     "text": [
      "Person\n",
      "Safety Vest\n",
      "NO-Safety Vest\n",
      "Hardhat\n",
      "NO-Mask\n",
      "Person\n",
      "NO-Hardhat\n",
      "machinery\n",
      "NO-Mask\n"
     ]
    },
    {
     "name": "stderr",
     "output_type": "stream",
     "text": [
      "0: 384x640 1 Hardhat, 1 NO-Hardhat, 2 NO-Masks, 1 NO-Safety Vest, 2 Persons, 1 Safety Vest, 1 machinery, 1814.8ms\n",
      "Speed: 4.1ms preprocess, 1814.8ms inference, 3.0ms postprocess per image at shape (1, 3, 640, 640)\n",
      "\n"
     ]
    },
    {
     "name": "stdout",
     "output_type": "stream",
     "text": [
      "Person\n",
      "Safety Vest\n",
      "NO-Safety Vest\n",
      "Hardhat\n",
      "NO-Mask\n",
      "Person\n",
      "NO-Hardhat\n",
      "machinery\n",
      "NO-Mask\n"
     ]
    },
    {
     "name": "stderr",
     "output_type": "stream",
     "text": [
      "0: 384x640 1 Hardhat, 1 NO-Hardhat, 2 NO-Masks, 1 NO-Safety Vest, 2 Persons, 1 Safety Vest, 1 machinery, 1962.2ms\n",
      "Speed: 4.5ms preprocess, 1962.2ms inference, 2.0ms postprocess per image at shape (1, 3, 640, 640)\n",
      "\n"
     ]
    },
    {
     "name": "stdout",
     "output_type": "stream",
     "text": [
      "Person\n",
      "Safety Vest\n",
      "NO-Safety Vest\n",
      "Hardhat\n",
      "NO-Mask\n",
      "Person\n",
      "NO-Hardhat\n",
      "machinery\n",
      "NO-Mask\n"
     ]
    },
    {
     "name": "stderr",
     "output_type": "stream",
     "text": [
      "0: 384x640 1 Hardhat, 1 NO-Hardhat, 2 NO-Masks, 1 NO-Safety Vest, 2 Persons, 1 Safety Vest, 1 machinery, 1821.5ms\n",
      "Speed: 4.5ms preprocess, 1821.5ms inference, 3.1ms postprocess per image at shape (1, 3, 640, 640)\n",
      "\n"
     ]
    },
    {
     "name": "stdout",
     "output_type": "stream",
     "text": [
      "Person\n",
      "Safety Vest\n",
      "NO-Safety Vest\n",
      "Hardhat\n",
      "NO-Mask\n",
      "Person\n",
      "NO-Hardhat\n",
      "machinery\n",
      "NO-Mask\n"
     ]
    },
    {
     "name": "stderr",
     "output_type": "stream",
     "text": [
      "0: 384x640 1 Hardhat, 1 NO-Hardhat, 2 NO-Masks, 1 NO-Safety Vest, 2 Persons, 1 Safety Vest, 1 machinery, 1794.9ms\n",
      "Speed: 5.6ms preprocess, 1794.9ms inference, 2.5ms postprocess per image at shape (1, 3, 640, 640)\n",
      "\n"
     ]
    },
    {
     "name": "stdout",
     "output_type": "stream",
     "text": [
      "Person\n",
      "Safety Vest\n",
      "NO-Safety Vest\n",
      "Hardhat\n",
      "NO-Mask\n",
      "Person\n",
      "NO-Hardhat\n",
      "machinery\n",
      "NO-Mask\n"
     ]
    },
    {
     "name": "stderr",
     "output_type": "stream",
     "text": [
      "0: 384x640 1 Hardhat, 1 NO-Hardhat, 2 NO-Masks, 1 NO-Safety Vest, 2 Persons, 1 Safety Vest, 1 machinery, 1606.5ms\n",
      "Speed: 3.0ms preprocess, 1606.5ms inference, 2.0ms postprocess per image at shape (1, 3, 640, 640)\n",
      "\n"
     ]
    },
    {
     "name": "stdout",
     "output_type": "stream",
     "text": [
      "Person\n",
      "Safety Vest\n",
      "NO-Safety Vest\n",
      "Hardhat\n",
      "NO-Mask\n",
      "Person\n",
      "NO-Hardhat\n",
      "machinery\n",
      "NO-Mask\n"
     ]
    },
    {
     "name": "stderr",
     "output_type": "stream",
     "text": [
      "0: 384x640 1 Hardhat, 1 NO-Hardhat, 2 NO-Masks, 1 NO-Safety Vest, 2 Persons, 1 Safety Vest, 1 machinery, 1601.2ms\n",
      "Speed: 3.5ms preprocess, 1601.2ms inference, 1.0ms postprocess per image at shape (1, 3, 640, 640)\n",
      "\n"
     ]
    },
    {
     "name": "stdout",
     "output_type": "stream",
     "text": [
      "Person\n",
      "Safety Vest\n",
      "NO-Safety Vest\n",
      "Hardhat\n",
      "NO-Mask\n",
      "Person\n",
      "NO-Hardhat\n",
      "machinery\n",
      "NO-Mask\n"
     ]
    },
    {
     "name": "stderr",
     "output_type": "stream",
     "text": [
      "0: 384x640 1 Hardhat, 1 NO-Hardhat, 2 NO-Masks, 1 NO-Safety Vest, 2 Persons, 1 Safety Vest, 1 machinery, 1587.5ms\n",
      "Speed: 3.5ms preprocess, 1587.5ms inference, 1.5ms postprocess per image at shape (1, 3, 640, 640)\n",
      "\n"
     ]
    },
    {
     "name": "stdout",
     "output_type": "stream",
     "text": [
      "Person\n",
      "Safety Vest\n",
      "NO-Safety Vest\n",
      "Hardhat\n",
      "Person\n",
      "NO-Mask\n",
      "NO-Hardhat\n",
      "machinery\n",
      "NO-Mask\n"
     ]
    },
    {
     "name": "stderr",
     "output_type": "stream",
     "text": [
      "0: 384x640 1 Hardhat, 1 NO-Hardhat, 2 NO-Masks, 1 NO-Safety Vest, 2 Persons, 1 Safety Vest, 1 machinery, 1793.7ms\n",
      "Speed: 4.6ms preprocess, 1793.7ms inference, 2.0ms postprocess per image at shape (1, 3, 640, 640)\n",
      "\n"
     ]
    },
    {
     "name": "stdout",
     "output_type": "stream",
     "text": [
      "Person\n",
      "Safety Vest\n",
      "Hardhat\n",
      "NO-Safety Vest\n",
      "Person\n",
      "NO-Mask\n",
      "NO-Hardhat\n",
      "machinery\n",
      "NO-Mask\n"
     ]
    },
    {
     "name": "stderr",
     "output_type": "stream",
     "text": [
      "0: 384x640 1 Hardhat, 1 NO-Hardhat, 2 NO-Masks, 1 NO-Safety Vest, 2 Persons, 1 Safety Vest, 1 machinery, 2248.0ms\n",
      "Speed: 4.1ms preprocess, 2248.0ms inference, 3.0ms postprocess per image at shape (1, 3, 640, 640)\n",
      "\n"
     ]
    },
    {
     "name": "stdout",
     "output_type": "stream",
     "text": [
      "Person\n",
      "NO-Safety Vest\n",
      "Hardhat\n",
      "Safety Vest\n",
      "Person\n",
      "NO-Mask\n",
      "NO-Hardhat\n",
      "machinery\n",
      "NO-Mask\n"
     ]
    },
    {
     "name": "stderr",
     "output_type": "stream",
     "text": [
      "0: 384x640 1 Hardhat, 1 NO-Hardhat, 2 NO-Masks, 1 NO-Safety Vest, 2 Persons, 1 Safety Vest, 1 machinery, 2179.9ms\n",
      "Speed: 5.3ms preprocess, 2179.9ms inference, 2.0ms postprocess per image at shape (1, 3, 640, 640)\n",
      "\n"
     ]
    },
    {
     "name": "stdout",
     "output_type": "stream",
     "text": [
      "Person\n",
      "NO-Safety Vest\n",
      "Hardhat\n",
      "Safety Vest\n",
      "Person\n",
      "NO-Mask\n",
      "NO-Hardhat\n",
      "machinery\n",
      "NO-Mask\n"
     ]
    },
    {
     "name": "stderr",
     "output_type": "stream",
     "text": [
      "0: 384x640 1 Hardhat, 1 NO-Hardhat, 2 NO-Masks, 1 NO-Safety Vest, 2 Persons, 1 Safety Vest, 1 machinery, 1970.6ms\n",
      "Speed: 4.2ms preprocess, 1970.6ms inference, 2.0ms postprocess per image at shape (1, 3, 640, 640)\n",
      "\n"
     ]
    },
    {
     "name": "stdout",
     "output_type": "stream",
     "text": [
      "Person\n",
      "NO-Safety Vest\n",
      "Hardhat\n",
      "Safety Vest\n",
      "Person\n",
      "NO-Mask\n",
      "NO-Hardhat\n",
      "machinery\n",
      "NO-Mask\n"
     ]
    },
    {
     "name": "stderr",
     "output_type": "stream",
     "text": [
      "0: 384x640 1 Hardhat, 1 NO-Hardhat, 2 NO-Masks, 2 NO-Safety Vests, 2 Persons, 1 Safety Vest, 1 machinery, 2502.5ms\n",
      "Speed: 8.2ms preprocess, 2502.5ms inference, 7.1ms postprocess per image at shape (1, 3, 640, 640)\n",
      "\n"
     ]
    },
    {
     "name": "stdout",
     "output_type": "stream",
     "text": [
      "Person\n",
      "NO-Safety Vest\n",
      "Hardhat\n",
      "Person\n",
      "Safety Vest\n",
      "NO-Mask\n",
      "NO-Hardhat\n",
      "NO-Mask\n",
      "machinery\n",
      "NO-Safety Vest\n"
     ]
    },
    {
     "name": "stderr",
     "output_type": "stream",
     "text": [
      "0: 384x640 1 Hardhat, 1 NO-Hardhat, 2 NO-Masks, 2 NO-Safety Vests, 2 Persons, 1 Safety Vest, 1 machinery, 2382.3ms\n",
      "Speed: 6.3ms preprocess, 2382.3ms inference, 4.8ms postprocess per image at shape (1, 3, 640, 640)\n",
      "\n"
     ]
    },
    {
     "name": "stdout",
     "output_type": "stream",
     "text": [
      "Person\n",
      "NO-Safety Vest\n",
      "Hardhat\n",
      "Person\n",
      "NO-Mask\n",
      "NO-Hardhat\n",
      "NO-Safety Vest\n",
      "Safety Vest\n",
      "machinery\n",
      "NO-Mask\n"
     ]
    },
    {
     "name": "stderr",
     "output_type": "stream",
     "text": [
      "0: 384x640 1 Hardhat, 1 NO-Hardhat, 2 NO-Masks, 1 NO-Safety Vest, 2 Persons, 1 Safety Vest, 1 machinery, 1949.4ms\n",
      "Speed: 5.7ms preprocess, 1949.4ms inference, 3.0ms postprocess per image at shape (1, 3, 640, 640)\n",
      "\n"
     ]
    },
    {
     "name": "stdout",
     "output_type": "stream",
     "text": [
      "Person\n",
      "NO-Safety Vest\n",
      "Person\n",
      "Hardhat\n",
      "NO-Mask\n",
      "Safety Vest\n",
      "NO-Hardhat\n",
      "machinery\n",
      "NO-Mask\n"
     ]
    },
    {
     "name": "stderr",
     "output_type": "stream",
     "text": [
      "0: 384x640 1 Hardhat, 1 NO-Hardhat, 2 NO-Masks, 1 NO-Safety Vest, 2 Persons, 1 Safety Vest, 1 machinery, 1637.8ms\n",
      "Speed: 5.8ms preprocess, 1637.8ms inference, 2.0ms postprocess per image at shape (1, 3, 640, 640)\n",
      "\n"
     ]
    },
    {
     "name": "stdout",
     "output_type": "stream",
     "text": [
      "Person\n",
      "NO-Safety Vest\n",
      "Safety Vest\n",
      "Hardhat\n",
      "Person\n",
      "NO-Mask\n",
      "NO-Hardhat\n",
      "NO-Mask\n",
      "machinery\n"
     ]
    },
    {
     "name": "stderr",
     "output_type": "stream",
     "text": [
      "0: 384x640 1 Hardhat, 1 NO-Hardhat, 2 NO-Masks, 1 NO-Safety Vest, 2 Persons, 1 Safety Vest, 1 machinery, 1656.6ms\n",
      "Speed: 3.5ms preprocess, 1656.6ms inference, 2.0ms postprocess per image at shape (1, 3, 640, 640)\n",
      "\n"
     ]
    },
    {
     "name": "stdout",
     "output_type": "stream",
     "text": [
      "Person\n",
      "NO-Safety Vest\n",
      "Hardhat\n",
      "Person\n",
      "NO-Mask\n",
      "Safety Vest\n",
      "NO-Hardhat\n",
      "NO-Mask\n",
      "machinery\n"
     ]
    },
    {
     "name": "stderr",
     "output_type": "stream",
     "text": [
      "0: 384x640 1 Hardhat, 1 NO-Hardhat, 2 NO-Masks, 1 NO-Safety Vest, 2 Persons, 1 Safety Vest, 1 machinery, 1802.3ms\n",
      "Speed: 4.4ms preprocess, 1802.3ms inference, 3.8ms postprocess per image at shape (1, 3, 640, 640)\n",
      "\n"
     ]
    },
    {
     "name": "stdout",
     "output_type": "stream",
     "text": [
      "Person\n",
      "Hardhat\n",
      "NO-Safety Vest\n",
      "NO-Mask\n",
      "Person\n",
      "Safety Vest\n",
      "NO-Hardhat\n",
      "machinery\n",
      "NO-Mask\n"
     ]
    },
    {
     "name": "stderr",
     "output_type": "stream",
     "text": [
      "0: 384x640 1 Hardhat, 1 NO-Hardhat, 2 NO-Masks, 2 NO-Safety Vests, 2 Persons, 1 Safety Vest, 1 machinery, 1834.9ms\n",
      "Speed: 5.1ms preprocess, 1834.9ms inference, 4.9ms postprocess per image at shape (1, 3, 640, 640)\n",
      "\n"
     ]
    },
    {
     "name": "stdout",
     "output_type": "stream",
     "text": [
      "Person\n",
      "Hardhat\n",
      "NO-Safety Vest\n",
      "NO-Mask\n",
      "Person\n",
      "NO-Hardhat\n",
      "Safety Vest\n",
      "NO-Safety Vest\n",
      "machinery\n",
      "NO-Mask\n"
     ]
    },
    {
     "name": "stderr",
     "output_type": "stream",
     "text": [
      "0: 384x640 1 Hardhat, 1 NO-Hardhat, 2 NO-Masks, 2 NO-Safety Vests, 2 Persons, 1 Safety Vest, 1 machinery, 2187.1ms\n",
      "Speed: 4.1ms preprocess, 2187.1ms inference, 3.2ms postprocess per image at shape (1, 3, 640, 640)\n",
      "\n"
     ]
    },
    {
     "name": "stdout",
     "output_type": "stream",
     "text": [
      "Person\n",
      "Hardhat\n",
      "NO-Safety Vest\n",
      "NO-Mask\n",
      "Person\n",
      "NO-Hardhat\n",
      "Safety Vest\n",
      "NO-Safety Vest\n",
      "machinery\n",
      "NO-Mask\n"
     ]
    },
    {
     "name": "stderr",
     "output_type": "stream",
     "text": [
      "0: 384x640 1 Hardhat, 1 NO-Hardhat, 2 NO-Masks, 2 NO-Safety Vests, 2 Persons, 1 Safety Vest, 1 machinery, 2220.1ms\n",
      "Speed: 5.9ms preprocess, 2220.1ms inference, 3.0ms postprocess per image at shape (1, 3, 640, 640)\n",
      "\n"
     ]
    },
    {
     "name": "stdout",
     "output_type": "stream",
     "text": [
      "Person\n",
      "Hardhat\n",
      "NO-Safety Vest\n",
      "NO-Mask\n",
      "Person\n",
      "NO-Hardhat\n",
      "NO-Safety Vest\n",
      "Safety Vest\n",
      "machinery\n",
      "NO-Mask\n"
     ]
    },
    {
     "name": "stderr",
     "output_type": "stream",
     "text": [
      "0: 384x640 1 Hardhat, 1 NO-Hardhat, 2 NO-Masks, 2 NO-Safety Vests, 2 Persons, 1 Safety Vest, 1 machinery, 1717.0ms\n",
      "Speed: 5.0ms preprocess, 1717.0ms inference, 2.5ms postprocess per image at shape (1, 3, 640, 640)\n",
      "\n"
     ]
    },
    {
     "name": "stdout",
     "output_type": "stream",
     "text": [
      "Person\n",
      "Hardhat\n",
      "NO-Safety Vest\n",
      "NO-Mask\n",
      "Person\n",
      "NO-Hardhat\n",
      "Safety Vest\n",
      "NO-Safety Vest\n",
      "machinery\n",
      "NO-Mask\n"
     ]
    },
    {
     "name": "stderr",
     "output_type": "stream",
     "text": [
      "0: 384x640 1 Hardhat, 1 NO-Hardhat, 2 NO-Masks, 2 NO-Safety Vests, 2 Persons, 1 Safety Vest, 1 machinery, 1645.4ms\n",
      "Speed: 3.6ms preprocess, 1645.4ms inference, 2.0ms postprocess per image at shape (1, 3, 640, 640)\n",
      "\n"
     ]
    },
    {
     "name": "stdout",
     "output_type": "stream",
     "text": [
      "Person\n",
      "Hardhat\n",
      "NO-Safety Vest\n",
      "NO-Mask\n",
      "Person\n",
      "NO-Hardhat\n",
      "NO-Safety Vest\n",
      "machinery\n",
      "Safety Vest\n",
      "NO-Mask\n"
     ]
    },
    {
     "name": "stderr",
     "output_type": "stream",
     "text": [
      "0: 384x640 1 Hardhat, 1 NO-Hardhat, 2 NO-Masks, 2 NO-Safety Vests, 2 Persons, 1 Safety Vest, 1 machinery, 1593.6ms\n",
      "Speed: 4.5ms preprocess, 1593.6ms inference, 2.4ms postprocess per image at shape (1, 3, 640, 640)\n",
      "\n"
     ]
    },
    {
     "name": "stdout",
     "output_type": "stream",
     "text": [
      "Person\n",
      "Hardhat\n",
      "NO-Safety Vest\n",
      "NO-Mask\n",
      "Person\n",
      "NO-Hardhat\n",
      "NO-Safety Vest\n",
      "machinery\n",
      "Safety Vest\n",
      "NO-Mask\n"
     ]
    },
    {
     "name": "stderr",
     "output_type": "stream",
     "text": [
      "0: 384x640 1 Hardhat, 1 NO-Hardhat, 2 NO-Masks, 2 NO-Safety Vests, 2 Persons, 1 Safety Vest, 1 machinery, 1596.8ms\n",
      "Speed: 4.0ms preprocess, 1596.8ms inference, 3.0ms postprocess per image at shape (1, 3, 640, 640)\n",
      "\n"
     ]
    },
    {
     "name": "stdout",
     "output_type": "stream",
     "text": [
      "Person\n",
      "Hardhat\n",
      "NO-Safety Vest\n",
      "NO-Mask\n",
      "Person\n",
      "NO-Hardhat\n",
      "Safety Vest\n",
      "NO-Safety Vest\n",
      "machinery\n",
      "NO-Mask\n"
     ]
    },
    {
     "name": "stderr",
     "output_type": "stream",
     "text": [
      "0: 384x640 1 Hardhat, 1 NO-Hardhat, 2 NO-Masks, 2 NO-Safety Vests, 2 Persons, 1 Safety Vest, 1 machinery, 1789.8ms\n",
      "Speed: 5.2ms preprocess, 1789.8ms inference, 3.0ms postprocess per image at shape (1, 3, 640, 640)\n",
      "\n"
     ]
    },
    {
     "name": "stdout",
     "output_type": "stream",
     "text": [
      "Person\n",
      "Hardhat\n",
      "NO-Safety Vest\n",
      "NO-Mask\n",
      "Person\n",
      "NO-Hardhat\n",
      "Safety Vest\n",
      "NO-Safety Vest\n",
      "machinery\n",
      "NO-Mask\n"
     ]
    },
    {
     "name": "stderr",
     "output_type": "stream",
     "text": [
      "0: 384x640 1 Hardhat, 1 NO-Hardhat, 2 NO-Masks, 2 NO-Safety Vests, 2 Persons, 1 Safety Vest, 1 machinery, 1818.1ms\n",
      "Speed: 5.0ms preprocess, 1818.1ms inference, 2.5ms postprocess per image at shape (1, 3, 640, 640)\n",
      "\n"
     ]
    },
    {
     "name": "stdout",
     "output_type": "stream",
     "text": [
      "Person\n",
      "Hardhat\n",
      "NO-Safety Vest\n",
      "NO-Mask\n",
      "Person\n",
      "NO-Hardhat\n",
      "Safety Vest\n",
      "NO-Safety Vest\n",
      "machinery\n",
      "NO-Mask\n"
     ]
    },
    {
     "name": "stderr",
     "output_type": "stream",
     "text": [
      "0: 384x640 1 Hardhat, 1 NO-Hardhat, 2 NO-Masks, 2 NO-Safety Vests, 2 Persons, 1 Safety Vest, 1 machinery, 1823.3ms\n",
      "Speed: 4.0ms preprocess, 1823.3ms inference, 2.0ms postprocess per image at shape (1, 3, 640, 640)\n",
      "\n"
     ]
    },
    {
     "name": "stdout",
     "output_type": "stream",
     "text": [
      "Person\n",
      "Hardhat\n",
      "NO-Safety Vest\n",
      "NO-Mask\n",
      "Person\n",
      "NO-Hardhat\n",
      "Safety Vest\n",
      "machinery\n",
      "NO-Safety Vest\n",
      "NO-Mask\n"
     ]
    },
    {
     "name": "stderr",
     "output_type": "stream",
     "text": [
      "0: 384x640 1 Hardhat, 1 NO-Hardhat, 2 NO-Masks, 2 NO-Safety Vests, 2 Persons, 1 Safety Vest, 1 machinery, 1841.9ms\n",
      "Speed: 4.5ms preprocess, 1841.9ms inference, 3.0ms postprocess per image at shape (1, 3, 640, 640)\n",
      "\n"
     ]
    },
    {
     "name": "stdout",
     "output_type": "stream",
     "text": [
      "Person\n",
      "Hardhat\n",
      "NO-Safety Vest\n",
      "NO-Mask\n",
      "Person\n",
      "NO-Hardhat\n",
      "Safety Vest\n",
      "machinery\n",
      "NO-Mask\n",
      "NO-Safety Vest\n"
     ]
    },
    {
     "name": "stderr",
     "output_type": "stream",
     "text": [
      "0: 384x640 1 Hardhat, 1 NO-Hardhat, 2 NO-Masks, 2 NO-Safety Vests, 2 Persons, 1 Safety Vest, 1 machinery, 1715.0ms\n",
      "Speed: 4.0ms preprocess, 1715.0ms inference, 2.6ms postprocess per image at shape (1, 3, 640, 640)\n",
      "\n"
     ]
    },
    {
     "name": "stdout",
     "output_type": "stream",
     "text": [
      "Person\n",
      "Hardhat\n",
      "NO-Safety Vest\n",
      "NO-Mask\n",
      "Person\n",
      "NO-Hardhat\n",
      "Safety Vest\n",
      "machinery\n",
      "NO-Safety Vest\n",
      "NO-Mask\n"
     ]
    },
    {
     "name": "stderr",
     "output_type": "stream",
     "text": [
      "0: 384x640 1 Hardhat, 1 NO-Hardhat, 2 NO-Masks, 2 NO-Safety Vests, 2 Persons, 1 Safety Vest, 1 machinery, 1606.5ms\n",
      "Speed: 3.6ms preprocess, 1606.5ms inference, 2.4ms postprocess per image at shape (1, 3, 640, 640)\n",
      "\n"
     ]
    },
    {
     "name": "stdout",
     "output_type": "stream",
     "text": [
      "Person\n",
      "Hardhat\n",
      "NO-Safety Vest\n",
      "NO-Mask\n",
      "Person\n",
      "NO-Hardhat\n",
      "Safety Vest\n",
      "machinery\n",
      "NO-Safety Vest\n",
      "NO-Mask\n"
     ]
    },
    {
     "name": "stderr",
     "output_type": "stream",
     "text": [
      "0: 384x640 1 Hardhat, 1 NO-Hardhat, 2 NO-Masks, 2 NO-Safety Vests, 2 Persons, 1 Safety Vest, 1 machinery, 1585.9ms\n",
      "Speed: 4.0ms preprocess, 1585.9ms inference, 2.0ms postprocess per image at shape (1, 3, 640, 640)\n",
      "\n"
     ]
    },
    {
     "name": "stdout",
     "output_type": "stream",
     "text": [
      "Person\n",
      "Hardhat\n",
      "NO-Safety Vest\n",
      "NO-Mask\n",
      "Person\n",
      "NO-Hardhat\n",
      "NO-Safety Vest\n",
      "machinery\n",
      "NO-Mask\n",
      "Safety Vest\n"
     ]
    },
    {
     "name": "stderr",
     "output_type": "stream",
     "text": [
      "0: 384x640 1 Hardhat, 1 NO-Hardhat, 2 NO-Masks, 2 NO-Safety Vests, 2 Persons, 1 machinery, 1568.6ms\n",
      "Speed: 3.7ms preprocess, 1568.6ms inference, 2.0ms postprocess per image at shape (1, 3, 640, 640)\n",
      "\n"
     ]
    },
    {
     "name": "stdout",
     "output_type": "stream",
     "text": [
      "Person\n",
      "Hardhat\n",
      "NO-Safety Vest\n",
      "NO-Mask\n",
      "Person\n",
      "NO-Hardhat\n",
      "NO-Safety Vest\n",
      "machinery\n",
      "NO-Mask\n"
     ]
    },
    {
     "name": "stderr",
     "output_type": "stream",
     "text": [
      "0: 384x640 1 Hardhat, 1 NO-Hardhat, 2 NO-Masks, 2 NO-Safety Vests, 2 Persons, 1 machinery, 1598.1ms\n",
      "Speed: 4.0ms preprocess, 1598.1ms inference, 3.0ms postprocess per image at shape (1, 3, 640, 640)\n",
      "\n"
     ]
    },
    {
     "name": "stdout",
     "output_type": "stream",
     "text": [
      "Person\n",
      "Hardhat\n",
      "NO-Safety Vest\n",
      "NO-Mask\n",
      "Person\n",
      "NO-Hardhat\n",
      "NO-Safety Vest\n",
      "machinery\n",
      "NO-Mask\n"
     ]
    },
    {
     "name": "stderr",
     "output_type": "stream",
     "text": [
      "0: 384x640 1 Hardhat, 1 NO-Hardhat, 2 NO-Masks, 2 NO-Safety Vests, 2 Persons, 1 machinery, 1934.3ms\n",
      "Speed: 3.6ms preprocess, 1934.3ms inference, 2.0ms postprocess per image at shape (1, 3, 640, 640)\n",
      "\n"
     ]
    },
    {
     "name": "stdout",
     "output_type": "stream",
     "text": [
      "Person\n",
      "Hardhat\n",
      "NO-Safety Vest\n",
      "NO-Mask\n",
      "Person\n",
      "NO-Hardhat\n",
      "machinery\n",
      "NO-Safety Vest\n",
      "NO-Mask\n"
     ]
    },
    {
     "name": "stderr",
     "output_type": "stream",
     "text": [
      "0: 384x640 1 Hardhat, 1 NO-Hardhat, 2 NO-Masks, 2 NO-Safety Vests, 2 Persons, 1 machinery, 1842.1ms\n",
      "Speed: 4.1ms preprocess, 1842.1ms inference, 2.5ms postprocess per image at shape (1, 3, 640, 640)\n",
      "\n"
     ]
    },
    {
     "name": "stdout",
     "output_type": "stream",
     "text": [
      "Person\n",
      "Hardhat\n",
      "NO-Safety Vest\n",
      "NO-Mask\n",
      "Person\n",
      "NO-Hardhat\n",
      "machinery\n",
      "NO-Mask\n",
      "NO-Safety Vest\n"
     ]
    },
    {
     "name": "stderr",
     "output_type": "stream",
     "text": [
      "0: 384x640 1 Hardhat, 1 NO-Hardhat, 2 NO-Masks, 2 NO-Safety Vests, 2 Persons, 1 machinery, 1828.9ms\n",
      "Speed: 5.0ms preprocess, 1828.9ms inference, 3.0ms postprocess per image at shape (1, 3, 640, 640)\n",
      "\n"
     ]
    },
    {
     "name": "stdout",
     "output_type": "stream",
     "text": [
      "Person\n",
      "Hardhat\n",
      "NO-Safety Vest\n",
      "NO-Mask\n",
      "Person\n",
      "NO-Hardhat\n",
      "machinery\n",
      "NO-Safety Vest\n",
      "NO-Mask\n"
     ]
    },
    {
     "name": "stderr",
     "output_type": "stream",
     "text": [
      "0: 384x640 1 Hardhat, 1 NO-Hardhat, 2 NO-Masks, 2 NO-Safety Vests, 2 Persons, 1 Safety Vest, 1 machinery, 1817.3ms\n",
      "Speed: 4.0ms preprocess, 1817.3ms inference, 3.0ms postprocess per image at shape (1, 3, 640, 640)\n",
      "\n"
     ]
    },
    {
     "name": "stdout",
     "output_type": "stream",
     "text": [
      "Person\n",
      "Hardhat\n",
      "NO-Safety Vest\n",
      "NO-Mask\n",
      "Person\n",
      "NO-Hardhat\n",
      "machinery\n",
      "NO-Safety Vest\n",
      "NO-Mask\n",
      "Safety Vest\n"
     ]
    },
    {
     "name": "stderr",
     "output_type": "stream",
     "text": [
      "0: 384x640 1 Hardhat, 1 NO-Hardhat, 2 NO-Masks, 2 NO-Safety Vests, 2 Persons, 1 Safety Vest, 1 machinery, 1718.9ms\n",
      "Speed: 4.5ms preprocess, 1718.9ms inference, 2.1ms postprocess per image at shape (1, 3, 640, 640)\n",
      "\n"
     ]
    },
    {
     "name": "stdout",
     "output_type": "stream",
     "text": [
      "Person\n",
      "Hardhat\n",
      "NO-Safety Vest\n",
      "NO-Mask\n",
      "Person\n",
      "NO-Hardhat\n",
      "machinery\n",
      "NO-Mask\n",
      "Safety Vest\n",
      "NO-Safety Vest\n"
     ]
    },
    {
     "name": "stderr",
     "output_type": "stream",
     "text": [
      "0: 384x640 1 Hardhat, 1 NO-Hardhat, 2 NO-Masks, 1 NO-Safety Vest, 2 Persons, 1 Safety Vest, 1 machinery, 1599.9ms\n",
      "Speed: 3.5ms preprocess, 1599.9ms inference, 2.0ms postprocess per image at shape (1, 3, 640, 640)\n",
      "\n"
     ]
    },
    {
     "name": "stdout",
     "output_type": "stream",
     "text": [
      "Person\n",
      "NO-Safety Vest\n",
      "Hardhat\n",
      "NO-Mask\n",
      "Person\n",
      "NO-Hardhat\n",
      "machinery\n",
      "Safety Vest\n",
      "NO-Mask\n"
     ]
    },
    {
     "name": "stderr",
     "output_type": "stream",
     "text": [
      "0: 384x640 1 Hardhat, 1 NO-Hardhat, 2 NO-Masks, 2 NO-Safety Vests, 2 Persons, 1 Safety Vest, 1 machinery, 1597.8ms\n",
      "Speed: 4.0ms preprocess, 1597.8ms inference, 2.0ms postprocess per image at shape (1, 3, 640, 640)\n",
      "\n"
     ]
    },
    {
     "name": "stdout",
     "output_type": "stream",
     "text": [
      "Person\n",
      "NO-Safety Vest\n",
      "Hardhat\n",
      "NO-Mask\n",
      "Person\n",
      "NO-Hardhat\n",
      "machinery\n",
      "Safety Vest\n",
      "NO-Mask\n",
      "NO-Safety Vest\n"
     ]
    },
    {
     "name": "stderr",
     "output_type": "stream",
     "text": [
      "0: 384x640 1 Hardhat, 1 NO-Hardhat, 2 NO-Masks, 1 NO-Safety Vest, 2 Persons, 1 Safety Vest, 1 machinery, 1603.0ms\n",
      "Speed: 4.0ms preprocess, 1603.0ms inference, 2.0ms postprocess per image at shape (1, 3, 640, 640)\n",
      "\n"
     ]
    },
    {
     "name": "stdout",
     "output_type": "stream",
     "text": [
      "Person\n",
      "NO-Safety Vest\n",
      "Hardhat\n",
      "NO-Mask\n",
      "Person\n",
      "Safety Vest\n",
      "NO-Hardhat\n",
      "machinery\n",
      "NO-Mask\n"
     ]
    },
    {
     "name": "stderr",
     "output_type": "stream",
     "text": [
      "0: 384x640 1 Hardhat, 1 NO-Hardhat, 2 NO-Masks, 1 NO-Safety Vest, 2 Persons, 1 Safety Vest, 1 machinery, 1592.7ms\n",
      "Speed: 3.0ms preprocess, 1592.7ms inference, 2.4ms postprocess per image at shape (1, 3, 640, 640)\n",
      "\n"
     ]
    },
    {
     "name": "stdout",
     "output_type": "stream",
     "text": [
      "Person\n",
      "NO-Safety Vest\n",
      "Hardhat\n",
      "NO-Mask\n",
      "Person\n",
      "Safety Vest\n",
      "NO-Hardhat\n",
      "machinery\n",
      "NO-Mask\n"
     ]
    },
    {
     "name": "stderr",
     "output_type": "stream",
     "text": [
      "0: 384x640 1 Hardhat, 1 NO-Hardhat, 2 NO-Masks, 1 NO-Safety Vest, 2 Persons, 1 Safety Vest, 1 machinery, 1764.5ms\n",
      "Speed: 4.3ms preprocess, 1764.5ms inference, 2.0ms postprocess per image at shape (1, 3, 640, 640)\n",
      "\n"
     ]
    },
    {
     "name": "stdout",
     "output_type": "stream",
     "text": [
      "Person\n",
      "NO-Safety Vest\n",
      "Hardhat\n",
      "NO-Mask\n",
      "Person\n",
      "Safety Vest\n",
      "NO-Hardhat\n",
      "machinery\n",
      "NO-Mask\n"
     ]
    },
    {
     "name": "stderr",
     "output_type": "stream",
     "text": [
      "0: 384x640 1 Hardhat, 1 NO-Hardhat, 2 NO-Masks, 1 NO-Safety Vest, 2 Persons, 1 Safety Vest, 1 machinery, 1814.8ms\n",
      "Speed: 4.0ms preprocess, 1814.8ms inference, 2.0ms postprocess per image at shape (1, 3, 640, 640)\n",
      "\n"
     ]
    },
    {
     "name": "stdout",
     "output_type": "stream",
     "text": [
      "Person\n",
      "Hardhat\n",
      "NO-Safety Vest\n",
      "NO-Mask\n",
      "Person\n",
      "NO-Hardhat\n",
      "Safety Vest\n",
      "machinery\n",
      "NO-Mask\n"
     ]
    },
    {
     "name": "stderr",
     "output_type": "stream",
     "text": [
      "0: 384x640 1 Hardhat, 1 NO-Hardhat, 2 NO-Masks, 2 NO-Safety Vests, 2 Persons, 1 Safety Vest, 1 machinery, 1817.5ms\n",
      "Speed: 4.4ms preprocess, 1817.5ms inference, 3.0ms postprocess per image at shape (1, 3, 640, 640)\n",
      "\n"
     ]
    },
    {
     "name": "stdout",
     "output_type": "stream",
     "text": [
      "Person\n",
      "Hardhat\n",
      "NO-Safety Vest\n",
      "NO-Mask\n",
      "Person\n",
      "NO-Hardhat\n",
      "machinery\n",
      "Safety Vest\n",
      "NO-Mask\n",
      "NO-Safety Vest\n"
     ]
    },
    {
     "name": "stderr",
     "output_type": "stream",
     "text": [
      "0: 384x640 1 Hardhat, 1 NO-Hardhat, 2 NO-Masks, 2 NO-Safety Vests, 2 Persons, 1 Safety Vest, 1 machinery, 1838.4ms\n",
      "Speed: 3.5ms preprocess, 1838.4ms inference, 3.4ms postprocess per image at shape (1, 3, 640, 640)\n",
      "\n"
     ]
    },
    {
     "name": "stdout",
     "output_type": "stream",
     "text": [
      "Person\n",
      "NO-Safety Vest\n",
      "Hardhat\n",
      "NO-Mask\n",
      "Person\n",
      "NO-Safety Vest\n",
      "NO-Hardhat\n",
      "machinery\n",
      "NO-Mask\n",
      "Safety Vest\n"
     ]
    },
    {
     "name": "stderr",
     "output_type": "stream",
     "text": [
      "0: 384x640 1 Hardhat, 1 NO-Hardhat, 2 NO-Masks, 2 NO-Safety Vests, 2 Persons, 1 Safety Vest, 1 machinery, 1714.6ms\n",
      "Speed: 5.5ms preprocess, 1714.6ms inference, 2.0ms postprocess per image at shape (1, 3, 640, 640)\n",
      "\n"
     ]
    },
    {
     "name": "stdout",
     "output_type": "stream",
     "text": [
      "Person\n",
      "NO-Safety Vest\n",
      "Hardhat\n",
      "NO-Mask\n",
      "Person\n",
      "NO-Hardhat\n",
      "machinery\n",
      "Safety Vest\n",
      "NO-Safety Vest\n",
      "NO-Mask\n"
     ]
    },
    {
     "name": "stderr",
     "output_type": "stream",
     "text": [
      "0: 384x640 1 Hardhat, 1 NO-Hardhat, 2 NO-Masks, 2 NO-Safety Vests, 2 Persons, 1 Safety Vest, 1 machinery, 1755.8ms\n",
      "Speed: 3.6ms preprocess, 1755.8ms inference, 3.6ms postprocess per image at shape (1, 3, 640, 640)\n",
      "\n"
     ]
    },
    {
     "name": "stdout",
     "output_type": "stream",
     "text": [
      "Person\n",
      "NO-Safety Vest\n",
      "Hardhat\n",
      "NO-Mask\n",
      "Person\n",
      "NO-Hardhat\n",
      "machinery\n",
      "Safety Vest\n",
      "NO-Mask\n",
      "NO-Safety Vest\n"
     ]
    },
    {
     "name": "stderr",
     "output_type": "stream",
     "text": [
      "0: 384x640 1 Hardhat, 1 NO-Hardhat, 2 NO-Masks, 2 NO-Safety Vests, 2 Persons, 1 Safety Vest, 1 machinery, 1611.9ms\n",
      "Speed: 5.5ms preprocess, 1611.9ms inference, 2.0ms postprocess per image at shape (1, 3, 640, 640)\n",
      "\n"
     ]
    },
    {
     "name": "stdout",
     "output_type": "stream",
     "text": [
      "Person\n",
      "NO-Safety Vest\n",
      "Hardhat\n",
      "NO-Mask\n",
      "Person\n",
      "NO-Hardhat\n",
      "machinery\n",
      "Safety Vest\n",
      "NO-Mask\n",
      "NO-Safety Vest\n"
     ]
    },
    {
     "name": "stderr",
     "output_type": "stream",
     "text": [
      "0: 384x640 1 Hardhat, 1 NO-Hardhat, 2 NO-Masks, 2 NO-Safety Vests, 2 Persons, 1 Safety Vest, 1 machinery, 1590.3ms\n",
      "Speed: 3.5ms preprocess, 1590.3ms inference, 2.0ms postprocess per image at shape (1, 3, 640, 640)\n",
      "\n"
     ]
    },
    {
     "name": "stdout",
     "output_type": "stream",
     "text": [
      "Person\n",
      "NO-Safety Vest\n",
      "Hardhat\n",
      "NO-Mask\n",
      "Person\n",
      "NO-Hardhat\n",
      "machinery\n",
      "Safety Vest\n",
      "NO-Safety Vest\n",
      "NO-Mask\n"
     ]
    },
    {
     "name": "stderr",
     "output_type": "stream",
     "text": [
      "0: 384x640 1 Hardhat, 1 NO-Hardhat, 2 NO-Masks, 2 NO-Safety Vests, 2 Persons, 1 Safety Vest, 1 machinery, 1579.6ms\n",
      "Speed: 4.6ms preprocess, 1579.6ms inference, 2.9ms postprocess per image at shape (1, 3, 640, 640)\n",
      "\n"
     ]
    },
    {
     "name": "stdout",
     "output_type": "stream",
     "text": [
      "Person\n",
      "NO-Safety Vest\n",
      "Hardhat\n",
      "NO-Mask\n",
      "Person\n",
      "NO-Hardhat\n",
      "NO-Safety Vest\n",
      "machinery\n",
      "Safety Vest\n",
      "NO-Mask\n"
     ]
    },
    {
     "name": "stderr",
     "output_type": "stream",
     "text": [
      "0: 384x640 1 Hardhat, 1 NO-Hardhat, 2 NO-Masks, 2 NO-Safety Vests, 2 Persons, 1 Safety Vest, 1 machinery, 1780.9ms\n",
      "Speed: 5.0ms preprocess, 1780.9ms inference, 2.0ms postprocess per image at shape (1, 3, 640, 640)\n",
      "\n"
     ]
    },
    {
     "name": "stdout",
     "output_type": "stream",
     "text": [
      "Person\n",
      "NO-Safety Vest\n",
      "Hardhat\n",
      "NO-Mask\n",
      "Person\n",
      "NO-Hardhat\n",
      "NO-Safety Vest\n",
      "machinery\n",
      "Safety Vest\n",
      "NO-Mask\n"
     ]
    },
    {
     "name": "stderr",
     "output_type": "stream",
     "text": [
      "0: 384x640 1 Hardhat, 1 NO-Hardhat, 2 NO-Masks, 2 NO-Safety Vests, 2 Persons, 1 Safety Vest, 1 machinery, 1825.8ms\n",
      "Speed: 4.9ms preprocess, 1825.8ms inference, 3.0ms postprocess per image at shape (1, 3, 640, 640)\n",
      "\n"
     ]
    },
    {
     "name": "stdout",
     "output_type": "stream",
     "text": [
      "Person\n",
      "NO-Safety Vest\n",
      "Hardhat\n",
      "NO-Mask\n",
      "Person\n",
      "NO-Hardhat\n",
      "Safety Vest\n",
      "NO-Safety Vest\n",
      "machinery\n",
      "NO-Mask\n"
     ]
    },
    {
     "name": "stderr",
     "output_type": "stream",
     "text": [
      "0: 384x640 1 Hardhat, 1 NO-Hardhat, 2 NO-Masks, 2 NO-Safety Vests, 2 Persons, 1 Safety Vest, 1 machinery, 1827.9ms\n",
      "Speed: 4.5ms preprocess, 1827.9ms inference, 2.0ms postprocess per image at shape (1, 3, 640, 640)\n",
      "\n"
     ]
    },
    {
     "name": "stdout",
     "output_type": "stream",
     "text": [
      "Person\n",
      "NO-Safety Vest\n",
      "Hardhat\n",
      "NO-Mask\n",
      "Person\n",
      "NO-Hardhat\n",
      "Safety Vest\n",
      "NO-Safety Vest\n",
      "machinery\n",
      "NO-Mask\n"
     ]
    },
    {
     "name": "stderr",
     "output_type": "stream",
     "text": [
      "0: 384x640 1 Hardhat, 1 NO-Hardhat, 2 NO-Masks, 2 NO-Safety Vests, 2 Persons, 1 Safety Vest, 1 machinery, 1815.4ms\n",
      "Speed: 4.5ms preprocess, 1815.4ms inference, 2.5ms postprocess per image at shape (1, 3, 640, 640)\n",
      "\n"
     ]
    },
    {
     "name": "stdout",
     "output_type": "stream",
     "text": [
      "Person\n",
      "NO-Safety Vest\n",
      "Hardhat\n",
      "NO-Mask\n",
      "Person\n",
      "NO-Hardhat\n",
      "NO-Safety Vest\n",
      "machinery\n",
      "NO-Mask\n",
      "Safety Vest\n"
     ]
    },
    {
     "name": "stderr",
     "output_type": "stream",
     "text": [
      "0: 384x640 1 Hardhat, 1 NO-Hardhat, 2 NO-Masks, 2 NO-Safety Vests, 2 Persons, 1 machinery, 1693.6ms\n",
      "Speed: 4.1ms preprocess, 1693.6ms inference, 2.0ms postprocess per image at shape (1, 3, 640, 640)\n",
      "\n"
     ]
    },
    {
     "name": "stdout",
     "output_type": "stream",
     "text": [
      "Person\n",
      "NO-Safety Vest\n",
      "Hardhat\n",
      "NO-Mask\n",
      "Person\n",
      "NO-Hardhat\n",
      "NO-Safety Vest\n",
      "machinery\n",
      "NO-Mask\n"
     ]
    },
    {
     "name": "stderr",
     "output_type": "stream",
     "text": [
      "0: 384x640 1 Hardhat, 1 NO-Hardhat, 2 NO-Masks, 2 NO-Safety Vests, 2 Persons, 1 machinery, 1576.0ms\n",
      "Speed: 3.5ms preprocess, 1576.0ms inference, 1.0ms postprocess per image at shape (1, 3, 640, 640)\n",
      "\n"
     ]
    },
    {
     "name": "stdout",
     "output_type": "stream",
     "text": [
      "Person\n",
      "NO-Safety Vest\n",
      "Hardhat\n",
      "NO-Mask\n",
      "Person\n",
      "NO-Safety Vest\n",
      "NO-Hardhat\n",
      "machinery\n",
      "NO-Mask\n"
     ]
    },
    {
     "name": "stderr",
     "output_type": "stream",
     "text": [
      "0: 384x640 1 Hardhat, 1 NO-Hardhat, 2 NO-Masks, 2 NO-Safety Vests, 2 Persons, 1 Safety Vest, 1 machinery, 1624.0ms\n",
      "Speed: 3.6ms preprocess, 1624.0ms inference, 2.0ms postprocess per image at shape (1, 3, 640, 640)\n",
      "\n"
     ]
    },
    {
     "name": "stdout",
     "output_type": "stream",
     "text": [
      "Person\n",
      "NO-Safety Vest\n",
      "Hardhat\n",
      "NO-Mask\n",
      "Person\n",
      "NO-Hardhat\n",
      "NO-Safety Vest\n",
      "Safety Vest\n",
      "machinery\n",
      "NO-Mask\n"
     ]
    },
    {
     "name": "stderr",
     "output_type": "stream",
     "text": [
      "0: 384x640 1 Hardhat, 1 NO-Hardhat, 2 NO-Masks, 2 NO-Safety Vests, 2 Persons, 1 Safety Vest, 1 machinery, 1597.4ms\n",
      "Speed: 4.5ms preprocess, 1597.4ms inference, 2.5ms postprocess per image at shape (1, 3, 640, 640)\n",
      "\n"
     ]
    },
    {
     "name": "stdout",
     "output_type": "stream",
     "text": [
      "Person\n",
      "NO-Safety Vest\n",
      "Hardhat\n",
      "NO-Mask\n",
      "Person\n",
      "Safety Vest\n",
      "NO-Hardhat\n",
      "machinery\n",
      "NO-Safety Vest\n",
      "NO-Mask\n"
     ]
    },
    {
     "name": "stderr",
     "output_type": "stream",
     "text": [
      "0: 384x640 1 Hardhat, 1 NO-Hardhat, 2 NO-Masks, 1 NO-Safety Vest, 2 Persons, 1 Safety Vest, 1 machinery, 1605.6ms\n",
      "Speed: 4.0ms preprocess, 1605.6ms inference, 1.0ms postprocess per image at shape (1, 3, 640, 640)\n",
      "\n"
     ]
    },
    {
     "name": "stdout",
     "output_type": "stream",
     "text": [
      "Person\n",
      "NO-Safety Vest\n",
      "Hardhat\n",
      "NO-Mask\n",
      "Person\n",
      "Safety Vest\n",
      "NO-Hardhat\n",
      "machinery\n",
      "NO-Mask\n"
     ]
    },
    {
     "name": "stderr",
     "output_type": "stream",
     "text": [
      "0: 384x640 1 Hardhat, 1 NO-Hardhat, 2 NO-Masks, 1 NO-Safety Vest, 2 Persons, 1 Safety Vest, 1 machinery, 1762.3ms\n",
      "Speed: 4.2ms preprocess, 1762.3ms inference, 3.0ms postprocess per image at shape (1, 3, 640, 640)\n",
      "\n"
     ]
    },
    {
     "name": "stdout",
     "output_type": "stream",
     "text": [
      "Person\n",
      "NO-Safety Vest\n",
      "Hardhat\n",
      "NO-Mask\n",
      "Person\n",
      "Safety Vest\n",
      "NO-Hardhat\n",
      "machinery\n",
      "NO-Mask\n"
     ]
    },
    {
     "name": "stderr",
     "output_type": "stream",
     "text": [
      "0: 384x640 1 Hardhat, 1 NO-Hardhat, 2 NO-Masks, 1 NO-Safety Vest, 2 Persons, 1 Safety Vest, 1 machinery, 1833.5ms\n",
      "Speed: 4.7ms preprocess, 1833.5ms inference, 3.0ms postprocess per image at shape (1, 3, 640, 640)\n",
      "\n"
     ]
    },
    {
     "name": "stdout",
     "output_type": "stream",
     "text": [
      "Person\n",
      "NO-Safety Vest\n",
      "Safety Vest\n",
      "Hardhat\n",
      "NO-Mask\n",
      "Person\n",
      "NO-Hardhat\n",
      "machinery\n",
      "NO-Mask\n"
     ]
    },
    {
     "name": "stderr",
     "output_type": "stream",
     "text": [
      "0: 384x640 1 Hardhat, 1 NO-Hardhat, 2 NO-Masks, 1 NO-Safety Vest, 2 Persons, 1 Safety Vest, 1 machinery, 1961.7ms\n",
      "Speed: 4.6ms preprocess, 1961.7ms inference, 3.0ms postprocess per image at shape (1, 3, 640, 640)\n",
      "\n"
     ]
    },
    {
     "name": "stdout",
     "output_type": "stream",
     "text": [
      "Person\n",
      "Safety Vest\n",
      "NO-Safety Vest\n",
      "Hardhat\n",
      "NO-Mask\n",
      "Person\n",
      "NO-Hardhat\n",
      "machinery\n",
      "NO-Mask\n"
     ]
    },
    {
     "name": "stderr",
     "output_type": "stream",
     "text": [
      "0: 384x640 1 Hardhat, 1 NO-Hardhat, 2 NO-Masks, 1 NO-Safety Vest, 2 Persons, 1 Safety Vest, 1 machinery, 1807.8ms\n",
      "Speed: 5.2ms preprocess, 1807.8ms inference, 3.3ms postprocess per image at shape (1, 3, 640, 640)\n",
      "\n"
     ]
    },
    {
     "name": "stdout",
     "output_type": "stream",
     "text": [
      "Person\n",
      "NO-Safety Vest\n",
      "Hardhat\n",
      "Safety Vest\n",
      "NO-Mask\n",
      "Person\n",
      "NO-Hardhat\n",
      "machinery\n",
      "NO-Mask\n"
     ]
    },
    {
     "name": "stderr",
     "output_type": "stream",
     "text": [
      "0: 384x640 1 Hardhat, 1 NO-Hardhat, 2 NO-Masks, 1 NO-Safety Vest, 2 Persons, 1 Safety Vest, 1 machinery, 1719.3ms\n",
      "Speed: 4.6ms preprocess, 1719.3ms inference, 2.0ms postprocess per image at shape (1, 3, 640, 640)\n",
      "\n"
     ]
    },
    {
     "name": "stdout",
     "output_type": "stream",
     "text": [
      "Person\n",
      "NO-Safety Vest\n",
      "Safety Vest\n",
      "Hardhat\n",
      "NO-Mask\n",
      "Person\n",
      "NO-Hardhat\n",
      "machinery\n",
      "NO-Mask\n"
     ]
    },
    {
     "name": "stderr",
     "output_type": "stream",
     "text": [
      "0: 384x640 1 Hardhat, 1 NO-Hardhat, 2 NO-Masks, 1 NO-Safety Vest, 2 Persons, 1 Safety Vest, 1 machinery, 1598.4ms\n",
      "Speed: 4.1ms preprocess, 1598.4ms inference, 2.9ms postprocess per image at shape (1, 3, 640, 640)\n",
      "\n"
     ]
    },
    {
     "name": "stdout",
     "output_type": "stream",
     "text": [
      "Person\n",
      "NO-Safety Vest\n",
      "Safety Vest\n",
      "Hardhat\n",
      "NO-Mask\n",
      "Person\n",
      "NO-Hardhat\n",
      "machinery\n",
      "NO-Mask\n"
     ]
    },
    {
     "name": "stderr",
     "output_type": "stream",
     "text": [
      "0: 384x640 1 Hardhat, 1 NO-Hardhat, 2 NO-Masks, 1 NO-Safety Vest, 2 Persons, 1 Safety Vest, 1 machinery, 1608.6ms\n",
      "Speed: 3.6ms preprocess, 1608.6ms inference, 2.0ms postprocess per image at shape (1, 3, 640, 640)\n",
      "\n"
     ]
    },
    {
     "name": "stdout",
     "output_type": "stream",
     "text": [
      "Person\n",
      "Safety Vest\n",
      "NO-Safety Vest\n",
      "Hardhat\n",
      "NO-Mask\n",
      "Person\n",
      "NO-Hardhat\n",
      "machinery\n",
      "NO-Mask\n"
     ]
    },
    {
     "name": "stderr",
     "output_type": "stream",
     "text": [
      "0: 384x640 1 Hardhat, 1 NO-Hardhat, 2 NO-Masks, 1 NO-Safety Vest, 2 Persons, 1 Safety Vest, 1 machinery, 1602.0ms\n",
      "Speed: 4.0ms preprocess, 1602.0ms inference, 1.5ms postprocess per image at shape (1, 3, 640, 640)\n",
      "\n"
     ]
    },
    {
     "name": "stdout",
     "output_type": "stream",
     "text": [
      "Person\n",
      "Safety Vest\n",
      "NO-Safety Vest\n",
      "Hardhat\n",
      "NO-Mask\n",
      "Person\n",
      "NO-Hardhat\n",
      "machinery\n",
      "NO-Mask\n"
     ]
    },
    {
     "name": "stderr",
     "output_type": "stream",
     "text": [
      "0: 384x640 1 Hardhat, 1 NO-Hardhat, 2 NO-Masks, 1 NO-Safety Vest, 2 Persons, 1 Safety Vest, 1 machinery, 1574.5ms\n",
      "Speed: 4.7ms preprocess, 1574.5ms inference, 2.0ms postprocess per image at shape (1, 3, 640, 640)\n",
      "\n"
     ]
    },
    {
     "name": "stdout",
     "output_type": "stream",
     "text": [
      "Person\n",
      "Safety Vest\n",
      "NO-Safety Vest\n",
      "Hardhat\n",
      "NO-Mask\n",
      "Person\n",
      "NO-Hardhat\n",
      "machinery\n",
      "NO-Mask\n"
     ]
    },
    {
     "name": "stderr",
     "output_type": "stream",
     "text": [
      "0: 384x640 1 Hardhat, 1 NO-Hardhat, 2 NO-Masks, 1 NO-Safety Vest, 2 Persons, 1 Safety Vest, 1 machinery, 1759.8ms\n",
      "Speed: 3.0ms preprocess, 1759.8ms inference, 3.0ms postprocess per image at shape (1, 3, 640, 640)\n",
      "\n"
     ]
    },
    {
     "name": "stdout",
     "output_type": "stream",
     "text": [
      "Person\n",
      "Safety Vest\n",
      "NO-Safety Vest\n",
      "Hardhat\n",
      "NO-Mask\n",
      "Person\n",
      "NO-Hardhat\n",
      "machinery\n",
      "NO-Mask\n"
     ]
    },
    {
     "name": "stderr",
     "output_type": "stream",
     "text": [
      "0: 384x640 1 Hardhat, 1 NO-Hardhat, 2 NO-Masks, 1 NO-Safety Vest, 2 Persons, 1 Safety Vest, 1 machinery, 1825.7ms\n",
      "Speed: 4.6ms preprocess, 1825.7ms inference, 2.5ms postprocess per image at shape (1, 3, 640, 640)\n",
      "\n"
     ]
    },
    {
     "name": "stdout",
     "output_type": "stream",
     "text": [
      "Person\n",
      "Safety Vest\n",
      "NO-Safety Vest\n",
      "Hardhat\n",
      "NO-Mask\n",
      "Person\n",
      "NO-Hardhat\n",
      "machinery\n",
      "NO-Mask\n"
     ]
    },
    {
     "name": "stderr",
     "output_type": "stream",
     "text": [
      "0: 384x640 1 Hardhat, 1 NO-Hardhat, 2 NO-Masks, 1 NO-Safety Vest, 2 Persons, 1 Safety Vest, 1 machinery, 1811.6ms\n",
      "Speed: 4.6ms preprocess, 1811.6ms inference, 3.6ms postprocess per image at shape (1, 3, 640, 640)\n",
      "\n"
     ]
    },
    {
     "name": "stdout",
     "output_type": "stream",
     "text": [
      "Person\n",
      "Safety Vest\n",
      "NO-Safety Vest\n",
      "Hardhat\n",
      "NO-Mask\n",
      "Person\n",
      "NO-Hardhat\n",
      "machinery\n",
      "NO-Mask\n"
     ]
    },
    {
     "name": "stderr",
     "output_type": "stream",
     "text": [
      "0: 384x640 1 Hardhat, 1 NO-Hardhat, 2 NO-Masks, 1 NO-Safety Vest, 2 Persons, 1 Safety Vest, 1 machinery, 1829.3ms\n",
      "Speed: 4.5ms preprocess, 1829.3ms inference, 3.0ms postprocess per image at shape (1, 3, 640, 640)\n",
      "\n"
     ]
    },
    {
     "name": "stdout",
     "output_type": "stream",
     "text": [
      "Person\n",
      "Safety Vest\n",
      "NO-Safety Vest\n",
      "Hardhat\n",
      "NO-Mask\n",
      "Person\n",
      "NO-Hardhat\n",
      "machinery\n",
      "NO-Mask\n"
     ]
    },
    {
     "name": "stderr",
     "output_type": "stream",
     "text": [
      "0: 384x640 1 Hardhat, 1 NO-Hardhat, 2 NO-Masks, 1 NO-Safety Vest, 2 Persons, 1 Safety Vest, 1 machinery, 1730.2ms\n",
      "Speed: 3.6ms preprocess, 1730.2ms inference, 2.5ms postprocess per image at shape (1, 3, 640, 640)\n",
      "\n"
     ]
    },
    {
     "name": "stdout",
     "output_type": "stream",
     "text": [
      "Person\n",
      "Safety Vest\n",
      "Hardhat\n",
      "NO-Safety Vest\n",
      "NO-Mask\n",
      "Person\n",
      "NO-Hardhat\n",
      "machinery\n",
      "NO-Mask\n"
     ]
    },
    {
     "name": "stderr",
     "output_type": "stream",
     "text": [
      "0: 384x640 1 Hardhat, 1 NO-Hardhat, 2 NO-Masks, 1 NO-Safety Vest, 2 Persons, 1 Safety Vest, 1 machinery, 1912.9ms\n",
      "Speed: 4.4ms preprocess, 1912.9ms inference, 5.2ms postprocess per image at shape (1, 3, 640, 640)\n",
      "\n"
     ]
    },
    {
     "name": "stdout",
     "output_type": "stream",
     "text": [
      "Person\n",
      "Safety Vest\n",
      "Hardhat\n",
      "NO-Safety Vest\n",
      "NO-Mask\n",
      "Person\n",
      "NO-Hardhat\n",
      "machinery\n",
      "NO-Mask\n"
     ]
    },
    {
     "name": "stderr",
     "output_type": "stream",
     "text": [
      "0: 384x640 1 Hardhat, 1 NO-Hardhat, 2 NO-Masks, 1 NO-Safety Vest, 2 Persons, 1 Safety Vest, 1 machinery, 1818.7ms\n",
      "Speed: 6.6ms preprocess, 1818.7ms inference, 2.6ms postprocess per image at shape (1, 3, 640, 640)\n",
      "\n"
     ]
    },
    {
     "name": "stdout",
     "output_type": "stream",
     "text": [
      "Person\n",
      "Safety Vest\n",
      "Hardhat\n",
      "NO-Safety Vest\n",
      "NO-Mask\n",
      "Person\n",
      "NO-Hardhat\n",
      "machinery\n",
      "NO-Mask\n"
     ]
    },
    {
     "name": "stderr",
     "output_type": "stream",
     "text": [
      "0: 384x640 1 Hardhat, 1 NO-Hardhat, 2 NO-Masks, 1 NO-Safety Vest, 2 Persons, 1 Safety Vest, 1 machinery, 1606.0ms\n",
      "Speed: 3.0ms preprocess, 1606.0ms inference, 2.0ms postprocess per image at shape (1, 3, 640, 640)\n",
      "\n"
     ]
    },
    {
     "name": "stdout",
     "output_type": "stream",
     "text": [
      "Person\n",
      "Safety Vest\n",
      "Hardhat\n",
      "NO-Safety Vest\n",
      "NO-Mask\n",
      "Person\n",
      "NO-Hardhat\n",
      "machinery\n",
      "NO-Mask\n"
     ]
    },
    {
     "name": "stderr",
     "output_type": "stream",
     "text": [
      "0: 384x640 1 Hardhat, 1 NO-Hardhat, 2 NO-Masks, 1 NO-Safety Vest, 2 Persons, 1 Safety Vest, 1 machinery, 1627.9ms\n",
      "Speed: 4.1ms preprocess, 1627.9ms inference, 2.6ms postprocess per image at shape (1, 3, 640, 640)\n",
      "\n"
     ]
    },
    {
     "name": "stdout",
     "output_type": "stream",
     "text": [
      "Person\n",
      "Safety Vest\n",
      "Hardhat\n",
      "NO-Safety Vest\n",
      "NO-Mask\n",
      "Person\n",
      "NO-Hardhat\n",
      "machinery\n",
      "NO-Mask\n"
     ]
    },
    {
     "name": "stderr",
     "output_type": "stream",
     "text": [
      "0: 384x640 1 Hardhat, 1 NO-Hardhat, 2 NO-Masks, 1 NO-Safety Vest, 2 Persons, 1 Safety Vest, 1 machinery, 1779.2ms\n",
      "Speed: 4.4ms preprocess, 1779.2ms inference, 2.5ms postprocess per image at shape (1, 3, 640, 640)\n",
      "\n"
     ]
    },
    {
     "name": "stdout",
     "output_type": "stream",
     "text": [
      "Person\n",
      "Safety Vest\n",
      "Hardhat\n",
      "NO-Safety Vest\n",
      "NO-Mask\n",
      "Person\n",
      "NO-Hardhat\n",
      "machinery\n",
      "NO-Mask\n"
     ]
    },
    {
     "name": "stderr",
     "output_type": "stream",
     "text": [
      "0: 384x640 1 Hardhat, 1 NO-Hardhat, 2 NO-Masks, 1 NO-Safety Vest, 2 Persons, 1 Safety Vest, 1 machinery, 1826.4ms\n",
      "Speed: 4.1ms preprocess, 1826.4ms inference, 2.0ms postprocess per image at shape (1, 3, 640, 640)\n",
      "\n"
     ]
    },
    {
     "name": "stdout",
     "output_type": "stream",
     "text": [
      "Person\n",
      "Safety Vest\n",
      "Hardhat\n",
      "NO-Safety Vest\n",
      "NO-Mask\n",
      "Person\n",
      "NO-Hardhat\n",
      "machinery\n",
      "NO-Mask\n"
     ]
    },
    {
     "name": "stderr",
     "output_type": "stream",
     "text": [
      "0: 384x640 1 Hardhat, 1 NO-Hardhat, 2 NO-Masks, 1 NO-Safety Vest, 2 Persons, 1 Safety Vest, 1 machinery, 1801.0ms\n",
      "Speed: 4.3ms preprocess, 1801.0ms inference, 2.0ms postprocess per image at shape (1, 3, 640, 640)\n",
      "\n"
     ]
    },
    {
     "name": "stdout",
     "output_type": "stream",
     "text": [
      "Person\n",
      "Safety Vest\n",
      "Hardhat\n",
      "NO-Safety Vest\n",
      "NO-Mask\n",
      "Person\n",
      "NO-Hardhat\n",
      "machinery\n",
      "NO-Mask\n"
     ]
    },
    {
     "name": "stderr",
     "output_type": "stream",
     "text": [
      "0: 384x640 1 Hardhat, 1 NO-Hardhat, 2 NO-Masks, 1 NO-Safety Vest, 2 Persons, 1 Safety Vest, 1 machinery, 1811.7ms\n",
      "Speed: 4.1ms preprocess, 1811.7ms inference, 3.0ms postprocess per image at shape (1, 3, 640, 640)\n",
      "\n"
     ]
    },
    {
     "name": "stdout",
     "output_type": "stream",
     "text": [
      "Person\n",
      "Safety Vest\n",
      "Hardhat\n",
      "NO-Safety Vest\n",
      "NO-Mask\n",
      "Person\n",
      "NO-Hardhat\n",
      "machinery\n",
      "NO-Mask\n"
     ]
    },
    {
     "name": "stderr",
     "output_type": "stream",
     "text": [
      "0: 384x640 1 Hardhat, 1 NO-Hardhat, 2 NO-Masks, 1 NO-Safety Vest, 2 Persons, 1 Safety Vest, 1 machinery, 1736.4ms\n",
      "Speed: 6.5ms preprocess, 1736.4ms inference, 2.5ms postprocess per image at shape (1, 3, 640, 640)\n",
      "\n"
     ]
    },
    {
     "name": "stdout",
     "output_type": "stream",
     "text": [
      "Person\n",
      "Safety Vest\n",
      "Hardhat\n",
      "NO-Safety Vest\n",
      "NO-Mask\n",
      "Person\n",
      "NO-Hardhat\n",
      "machinery\n",
      "NO-Mask\n"
     ]
    },
    {
     "name": "stderr",
     "output_type": "stream",
     "text": [
      "0: 384x640 1 Hardhat, 1 NO-Hardhat, 2 NO-Masks, 1 NO-Safety Vest, 2 Persons, 1 Safety Vest, 1 machinery, 1584.3ms\n",
      "Speed: 4.0ms preprocess, 1584.3ms inference, 2.5ms postprocess per image at shape (1, 3, 640, 640)\n",
      "\n"
     ]
    },
    {
     "name": "stdout",
     "output_type": "stream",
     "text": [
      "Person\n",
      "Safety Vest\n",
      "Hardhat\n",
      "NO-Safety Vest\n",
      "NO-Mask\n",
      "Person\n",
      "NO-Hardhat\n",
      "machinery\n",
      "NO-Mask\n"
     ]
    },
    {
     "name": "stderr",
     "output_type": "stream",
     "text": [
      "0: 384x640 1 Hardhat, 1 NO-Hardhat, 2 NO-Masks, 1 NO-Safety Vest, 2 Persons, 1 Safety Vest, 1 machinery, 1608.3ms\n",
      "Speed: 2.5ms preprocess, 1608.3ms inference, 2.0ms postprocess per image at shape (1, 3, 640, 640)\n",
      "\n"
     ]
    },
    {
     "name": "stdout",
     "output_type": "stream",
     "text": [
      "Person\n",
      "Safety Vest\n",
      "Hardhat\n",
      "NO-Safety Vest\n",
      "NO-Mask\n",
      "Person\n",
      "NO-Hardhat\n",
      "machinery\n",
      "NO-Mask\n"
     ]
    },
    {
     "name": "stderr",
     "output_type": "stream",
     "text": [
      "0: 384x640 1 Hardhat, 1 NO-Hardhat, 2 NO-Masks, 1 NO-Safety Vest, 2 Persons, 1 Safety Vest, 1 machinery, 1605.7ms\n",
      "Speed: 3.5ms preprocess, 1605.7ms inference, 2.5ms postprocess per image at shape (1, 3, 640, 640)\n",
      "\n"
     ]
    },
    {
     "name": "stdout",
     "output_type": "stream",
     "text": [
      "Person\n",
      "Safety Vest\n",
      "Hardhat\n",
      "NO-Safety Vest\n",
      "NO-Mask\n",
      "Person\n",
      "NO-Hardhat\n",
      "machinery\n",
      "NO-Mask\n"
     ]
    },
    {
     "name": "stderr",
     "output_type": "stream",
     "text": [
      "0: 384x640 1 Hardhat, 1 NO-Hardhat, 2 NO-Masks, 1 NO-Safety Vest, 2 Persons, 1 Safety Vest, 1 machinery, 1599.0ms\n",
      "Speed: 4.0ms preprocess, 1599.0ms inference, 2.0ms postprocess per image at shape (1, 3, 640, 640)\n",
      "\n"
     ]
    },
    {
     "name": "stdout",
     "output_type": "stream",
     "text": [
      "Person\n",
      "Safety Vest\n",
      "Hardhat\n",
      "NO-Safety Vest\n",
      "NO-Mask\n",
      "Person\n",
      "NO-Hardhat\n",
      "machinery\n",
      "NO-Mask\n"
     ]
    },
    {
     "name": "stderr",
     "output_type": "stream",
     "text": [
      "0: 384x640 1 Hardhat, 1 NO-Hardhat, 2 NO-Masks, 1 NO-Safety Vest, 2 Persons, 1 Safety Vest, 1 machinery, 1777.2ms\n",
      "Speed: 3.5ms preprocess, 1777.2ms inference, 2.6ms postprocess per image at shape (1, 3, 640, 640)\n",
      "\n"
     ]
    },
    {
     "name": "stdout",
     "output_type": "stream",
     "text": [
      "Person\n",
      "Safety Vest\n",
      "Hardhat\n",
      "NO-Safety Vest\n",
      "NO-Mask\n",
      "Person\n",
      "NO-Hardhat\n",
      "machinery\n",
      "NO-Mask\n"
     ]
    },
    {
     "name": "stderr",
     "output_type": "stream",
     "text": [
      "0: 384x640 1 Hardhat, 1 NO-Hardhat, 2 NO-Masks, 1 NO-Safety Vest, 2 Persons, 1 Safety Vest, 1 machinery, 1931.7ms\n",
      "Speed: 4.0ms preprocess, 1931.7ms inference, 2.5ms postprocess per image at shape (1, 3, 640, 640)\n",
      "\n"
     ]
    },
    {
     "name": "stdout",
     "output_type": "stream",
     "text": [
      "Person\n",
      "Safety Vest\n",
      "Hardhat\n",
      "NO-Safety Vest\n",
      "NO-Mask\n",
      "Person\n",
      "NO-Hardhat\n",
      "machinery\n",
      "NO-Mask\n"
     ]
    },
    {
     "name": "stderr",
     "output_type": "stream",
     "text": [
      "0: 384x640 1 Hardhat, 1 NO-Hardhat, 2 NO-Masks, 1 NO-Safety Vest, 2 Persons, 1 Safety Vest, 1 machinery, 1962.3ms\n",
      "Speed: 5.1ms preprocess, 1962.3ms inference, 2.0ms postprocess per image at shape (1, 3, 640, 640)\n",
      "\n"
     ]
    },
    {
     "name": "stdout",
     "output_type": "stream",
     "text": [
      "Person\n",
      "Safety Vest\n",
      "Hardhat\n",
      "NO-Safety Vest\n",
      "NO-Mask\n",
      "Person\n",
      "NO-Hardhat\n",
      "machinery\n",
      "NO-Mask\n"
     ]
    },
    {
     "name": "stderr",
     "output_type": "stream",
     "text": [
      "0: 384x640 1 Hardhat, 1 NO-Hardhat, 2 NO-Masks, 1 NO-Safety Vest, 2 Persons, 1 Safety Vest, 1 machinery, 1814.1ms\n",
      "Speed: 5.5ms preprocess, 1814.1ms inference, 3.3ms postprocess per image at shape (1, 3, 640, 640)\n",
      "\n"
     ]
    },
    {
     "name": "stdout",
     "output_type": "stream",
     "text": [
      "Person\n",
      "Safety Vest\n",
      "Hardhat\n",
      "NO-Safety Vest\n",
      "NO-Mask\n",
      "Person\n",
      "NO-Hardhat\n",
      "machinery\n",
      "NO-Mask\n"
     ]
    },
    {
     "name": "stderr",
     "output_type": "stream",
     "text": [
      "0: 384x640 1 Hardhat, 1 NO-Hardhat, 2 NO-Masks, 1 NO-Safety Vest, 2 Persons, 1 Safety Vest, 1 machinery, 1692.4ms\n",
      "Speed: 5.5ms preprocess, 1692.4ms inference, 2.0ms postprocess per image at shape (1, 3, 640, 640)\n",
      "\n"
     ]
    },
    {
     "name": "stdout",
     "output_type": "stream",
     "text": [
      "Person\n",
      "Safety Vest\n",
      "Hardhat\n",
      "NO-Safety Vest\n",
      "NO-Mask\n",
      "Person\n",
      "NO-Hardhat\n",
      "machinery\n",
      "NO-Mask\n"
     ]
    },
    {
     "name": "stderr",
     "output_type": "stream",
     "text": [
      "0: 384x640 1 Hardhat, 1 NO-Hardhat, 2 NO-Masks, 1 NO-Safety Vest, 2 Persons, 1 Safety Vest, 1 machinery, 1605.5ms\n",
      "Speed: 3.5ms preprocess, 1605.5ms inference, 2.1ms postprocess per image at shape (1, 3, 640, 640)\n",
      "\n"
     ]
    },
    {
     "name": "stdout",
     "output_type": "stream",
     "text": [
      "Person\n",
      "Safety Vest\n",
      "Hardhat\n",
      "NO-Safety Vest\n",
      "NO-Mask\n",
      "Person\n",
      "NO-Hardhat\n",
      "machinery\n",
      "NO-Mask\n"
     ]
    },
    {
     "name": "stderr",
     "output_type": "stream",
     "text": [
      "0: 384x640 1 Hardhat, 1 NO-Hardhat, 2 NO-Masks, 1 NO-Safety Vest, 2 Persons, 1 Safety Vest, 1 machinery, 1579.7ms\n",
      "Speed: 4.0ms preprocess, 1579.7ms inference, 2.6ms postprocess per image at shape (1, 3, 640, 640)\n",
      "\n"
     ]
    },
    {
     "name": "stdout",
     "output_type": "stream",
     "text": [
      "Person\n",
      "Safety Vest\n",
      "Hardhat\n",
      "NO-Safety Vest\n",
      "NO-Mask\n",
      "Person\n",
      "NO-Hardhat\n",
      "machinery\n",
      "NO-Mask\n"
     ]
    },
    {
     "name": "stderr",
     "output_type": "stream",
     "text": [
      "0: 384x640 1 Hardhat, 1 NO-Hardhat, 2 NO-Masks, 1 NO-Safety Vest, 2 Persons, 1 Safety Vest, 1 machinery, 1595.7ms\n",
      "Speed: 4.0ms preprocess, 1595.7ms inference, 2.0ms postprocess per image at shape (1, 3, 640, 640)\n",
      "\n"
     ]
    },
    {
     "name": "stdout",
     "output_type": "stream",
     "text": [
      "Person\n",
      "Safety Vest\n",
      "Hardhat\n",
      "NO-Safety Vest\n",
      "NO-Mask\n",
      "Person\n",
      "NO-Hardhat\n",
      "machinery\n",
      "NO-Mask\n"
     ]
    },
    {
     "name": "stderr",
     "output_type": "stream",
     "text": [
      "0: 384x640 1 Hardhat, 1 NO-Hardhat, 2 NO-Masks, 1 NO-Safety Vest, 2 Persons, 1 Safety Vest, 1 machinery, 1636.3ms\n",
      "Speed: 4.0ms preprocess, 1636.3ms inference, 3.0ms postprocess per image at shape (1, 3, 640, 640)\n",
      "\n"
     ]
    },
    {
     "name": "stdout",
     "output_type": "stream",
     "text": [
      "Person\n",
      "Safety Vest\n",
      "Hardhat\n",
      "NO-Safety Vest\n",
      "NO-Mask\n",
      "Person\n",
      "NO-Hardhat\n",
      "machinery\n",
      "NO-Mask\n"
     ]
    },
    {
     "name": "stderr",
     "output_type": "stream",
     "text": [
      "0: 384x640 1 Hardhat, 1 NO-Hardhat, 2 NO-Masks, 1 NO-Safety Vest, 2 Persons, 1 Safety Vest, 1 machinery, 1781.6ms\n",
      "Speed: 4.9ms preprocess, 1781.6ms inference, 2.5ms postprocess per image at shape (1, 3, 640, 640)\n",
      "\n"
     ]
    },
    {
     "name": "stdout",
     "output_type": "stream",
     "text": [
      "Person\n",
      "Safety Vest\n",
      "Hardhat\n",
      "NO-Safety Vest\n",
      "NO-Mask\n",
      "Person\n",
      "NO-Hardhat\n",
      "machinery\n",
      "NO-Mask\n"
     ]
    },
    {
     "name": "stderr",
     "output_type": "stream",
     "text": [
      "0: 384x640 1 Hardhat, 1 NO-Hardhat, 2 NO-Masks, 1 NO-Safety Vest, 2 Persons, 1 Safety Vest, 1 machinery, 1830.8ms\n",
      "Speed: 5.0ms preprocess, 1830.8ms inference, 2.6ms postprocess per image at shape (1, 3, 640, 640)\n",
      "\n"
     ]
    },
    {
     "name": "stdout",
     "output_type": "stream",
     "text": [
      "Person\n",
      "Safety Vest\n",
      "Hardhat\n",
      "NO-Safety Vest\n",
      "NO-Mask\n",
      "Person\n",
      "NO-Hardhat\n",
      "machinery\n",
      "NO-Mask\n"
     ]
    },
    {
     "name": "stderr",
     "output_type": "stream",
     "text": [
      "0: 384x640 1 Hardhat, 1 NO-Hardhat, 2 NO-Masks, 1 NO-Safety Vest, 2 Persons, 1 Safety Vest, 1 machinery, 1793.2ms\n",
      "Speed: 5.6ms preprocess, 1793.2ms inference, 3.0ms postprocess per image at shape (1, 3, 640, 640)\n",
      "\n"
     ]
    },
    {
     "name": "stdout",
     "output_type": "stream",
     "text": [
      "Person\n",
      "Safety Vest\n",
      "Hardhat\n",
      "NO-Safety Vest\n",
      "NO-Mask\n",
      "Person\n",
      "NO-Hardhat\n",
      "machinery\n",
      "NO-Mask\n"
     ]
    },
    {
     "name": "stderr",
     "output_type": "stream",
     "text": [
      "0: 384x640 1 Hardhat, 1 NO-Hardhat, 2 NO-Masks, 1 NO-Safety Vest, 2 Persons, 1 Safety Vest, 1 machinery, 1815.1ms\n",
      "Speed: 4.0ms preprocess, 1815.1ms inference, 2.1ms postprocess per image at shape (1, 3, 640, 640)\n",
      "\n"
     ]
    },
    {
     "name": "stdout",
     "output_type": "stream",
     "text": [
      "Person\n",
      "Safety Vest\n",
      "Hardhat\n",
      "NO-Safety Vest\n",
      "NO-Mask\n",
      "Person\n",
      "NO-Hardhat\n",
      "machinery\n",
      "NO-Mask\n"
     ]
    },
    {
     "name": "stderr",
     "output_type": "stream",
     "text": [
      "0: 384x640 1 Hardhat, 1 NO-Hardhat, 2 NO-Masks, 1 NO-Safety Vest, 2 Persons, 1 Safety Vest, 1 machinery, 1643.9ms\n",
      "Speed: 5.9ms preprocess, 1643.9ms inference, 1.5ms postprocess per image at shape (1, 3, 640, 640)\n",
      "\n"
     ]
    },
    {
     "name": "stdout",
     "output_type": "stream",
     "text": [
      "Person\n",
      "Safety Vest\n",
      "Hardhat\n",
      "NO-Safety Vest\n",
      "NO-Mask\n",
      "Person\n",
      "NO-Hardhat\n",
      "machinery\n",
      "NO-Mask\n"
     ]
    },
    {
     "name": "stderr",
     "output_type": "stream",
     "text": [
      "0: 384x640 1 Hardhat, 1 NO-Hardhat, 2 NO-Masks, 1 NO-Safety Vest, 2 Persons, 1 Safety Vest, 1 machinery, 1596.2ms\n",
      "Speed: 4.0ms preprocess, 1596.2ms inference, 2.0ms postprocess per image at shape (1, 3, 640, 640)\n",
      "\n"
     ]
    },
    {
     "name": "stdout",
     "output_type": "stream",
     "text": [
      "Person\n",
      "Safety Vest\n",
      "Hardhat\n",
      "NO-Safety Vest\n",
      "NO-Mask\n",
      "Person\n",
      "NO-Hardhat\n",
      "machinery\n",
      "NO-Mask\n"
     ]
    },
    {
     "name": "stderr",
     "output_type": "stream",
     "text": [
      "0: 384x640 1 Hardhat, 1 NO-Hardhat, 2 NO-Masks, 1 NO-Safety Vest, 2 Persons, 1 Safety Vest, 1 machinery, 1592.0ms\n",
      "Speed: 3.9ms preprocess, 1592.0ms inference, 1.0ms postprocess per image at shape (1, 3, 640, 640)\n",
      "\n"
     ]
    },
    {
     "name": "stdout",
     "output_type": "stream",
     "text": [
      "Person\n",
      "Safety Vest\n",
      "Hardhat\n",
      "NO-Safety Vest\n",
      "NO-Mask\n",
      "Person\n",
      "NO-Hardhat\n",
      "machinery\n",
      "NO-Mask\n"
     ]
    },
    {
     "name": "stderr",
     "output_type": "stream",
     "text": [
      "0: 384x640 1 Hardhat, 1 NO-Hardhat, 2 NO-Masks, 1 NO-Safety Vest, 2 Persons, 1 Safety Vest, 1 machinery, 1582.4ms\n",
      "Speed: 5.0ms preprocess, 1582.4ms inference, 2.0ms postprocess per image at shape (1, 3, 640, 640)\n",
      "\n"
     ]
    },
    {
     "name": "stdout",
     "output_type": "stream",
     "text": [
      "Person\n",
      "Safety Vest\n",
      "Hardhat\n",
      "NO-Safety Vest\n",
      "NO-Mask\n",
      "Person\n",
      "NO-Hardhat\n",
      "machinery\n",
      "NO-Mask\n"
     ]
    },
    {
     "name": "stderr",
     "output_type": "stream",
     "text": [
      "0: 384x640 1 Hardhat, 1 NO-Hardhat, 2 NO-Masks, 1 NO-Safety Vest, 2 Persons, 1 Safety Vest, 1 machinery, 1612.6ms\n",
      "Speed: 3.6ms preprocess, 1612.6ms inference, 2.0ms postprocess per image at shape (1, 3, 640, 640)\n",
      "\n"
     ]
    },
    {
     "name": "stdout",
     "output_type": "stream",
     "text": [
      "Person\n",
      "Safety Vest\n",
      "Hardhat\n",
      "NO-Safety Vest\n",
      "NO-Mask\n",
      "Person\n",
      "NO-Hardhat\n",
      "machinery\n",
      "NO-Mask\n"
     ]
    },
    {
     "name": "stderr",
     "output_type": "stream",
     "text": [
      "0: 384x640 1 Hardhat, 1 NO-Hardhat, 2 NO-Masks, 1 NO-Safety Vest, 2 Persons, 1 Safety Vest, 1 machinery, 1783.9ms\n",
      "Speed: 4.0ms preprocess, 1783.9ms inference, 3.5ms postprocess per image at shape (1, 3, 640, 640)\n",
      "\n"
     ]
    },
    {
     "name": "stdout",
     "output_type": "stream",
     "text": [
      "Person\n",
      "Safety Vest\n",
      "Hardhat\n",
      "NO-Safety Vest\n",
      "NO-Mask\n",
      "Person\n",
      "NO-Hardhat\n",
      "machinery\n",
      "NO-Mask\n"
     ]
    },
    {
     "name": "stderr",
     "output_type": "stream",
     "text": [
      "0: 384x640 1 Hardhat, 1 NO-Hardhat, 2 NO-Masks, 1 NO-Safety Vest, 2 Persons, 1 Safety Vest, 1942.3ms\n",
      "Speed: 4.5ms preprocess, 1942.3ms inference, 3.0ms postprocess per image at shape (1, 3, 640, 640)\n",
      "\n"
     ]
    },
    {
     "name": "stdout",
     "output_type": "stream",
     "text": [
      "Person\n",
      "NO-Safety Vest\n",
      "Person\n",
      "Hardhat\n",
      "Safety Vest\n",
      "NO-Hardhat\n",
      "NO-Mask\n",
      "NO-Mask\n"
     ]
    },
    {
     "name": "stderr",
     "output_type": "stream",
     "text": [
      "0: 384x640 1 Hardhat, 1 NO-Hardhat, 2 NO-Masks, 1 NO-Safety Vest, 2 Persons, 1 Safety Vest, 1811.8ms\n",
      "Speed: 4.0ms preprocess, 1811.8ms inference, 2.5ms postprocess per image at shape (1, 3, 640, 640)\n",
      "\n"
     ]
    },
    {
     "name": "stdout",
     "output_type": "stream",
     "text": [
      "Person\n",
      "NO-Safety Vest\n",
      "Person\n",
      "Hardhat\n",
      "Safety Vest\n",
      "NO-Hardhat\n",
      "NO-Mask\n",
      "NO-Mask\n"
     ]
    },
    {
     "name": "stderr",
     "output_type": "stream",
     "text": [
      "0: 384x640 1 Hardhat, 1 NO-Hardhat, 2 NO-Masks, 1 NO-Safety Vest, 2 Persons, 1 Safety Vest, 1829.6ms\n",
      "Speed: 4.0ms preprocess, 1829.6ms inference, 2.0ms postprocess per image at shape (1, 3, 640, 640)\n",
      "\n"
     ]
    },
    {
     "name": "stdout",
     "output_type": "stream",
     "text": [
      "Person\n",
      "NO-Safety Vest\n",
      "Person\n",
      "Hardhat\n",
      "Safety Vest\n",
      "NO-Hardhat\n",
      "NO-Mask\n",
      "NO-Mask\n"
     ]
    },
    {
     "name": "stderr",
     "output_type": "stream",
     "text": [
      "0: 384x640 1 Hardhat, 1 NO-Hardhat, 2 NO-Masks, 1 NO-Safety Vest, 2 Persons, 1 Safety Vest, 1714.4ms\n",
      "Speed: 5.0ms preprocess, 1714.4ms inference, 2.6ms postprocess per image at shape (1, 3, 640, 640)\n",
      "\n"
     ]
    },
    {
     "name": "stdout",
     "output_type": "stream",
     "text": [
      "Person\n",
      "NO-Safety Vest\n",
      "Person\n",
      "Hardhat\n",
      "Safety Vest\n",
      "NO-Hardhat\n",
      "NO-Mask\n",
      "NO-Mask\n"
     ]
    },
    {
     "name": "stderr",
     "output_type": "stream",
     "text": [
      "0: 384x640 1 Hardhat, 1 NO-Hardhat, 2 NO-Masks, 1 NO-Safety Vest, 2 Persons, 1 Safety Vest, 1591.1ms\n",
      "Speed: 4.4ms preprocess, 1591.1ms inference, 2.6ms postprocess per image at shape (1, 3, 640, 640)\n",
      "\n"
     ]
    },
    {
     "name": "stdout",
     "output_type": "stream",
     "text": [
      "Person\n",
      "NO-Safety Vest\n",
      "Person\n",
      "Hardhat\n",
      "Safety Vest\n",
      "NO-Hardhat\n",
      "NO-Mask\n",
      "NO-Mask\n"
     ]
    },
    {
     "name": "stderr",
     "output_type": "stream",
     "text": [
      "0: 384x640 1 Hardhat, 1 NO-Hardhat, 2 NO-Masks, 1 NO-Safety Vest, 2 Persons, 1 Safety Vest, 1583.0ms\n",
      "Speed: 4.0ms preprocess, 1583.0ms inference, 2.0ms postprocess per image at shape (1, 3, 640, 640)\n",
      "\n"
     ]
    },
    {
     "name": "stdout",
     "output_type": "stream",
     "text": [
      "Person\n",
      "NO-Safety Vest\n",
      "Person\n",
      "Hardhat\n",
      "Safety Vest\n",
      "NO-Hardhat\n",
      "NO-Mask\n",
      "NO-Mask\n"
     ]
    },
    {
     "name": "stderr",
     "output_type": "stream",
     "text": [
      "0: 384x640 1 Hardhat, 1 NO-Hardhat, 2 NO-Masks, 1 NO-Safety Vest, 2 Persons, 1 Safety Vest, 1592.8ms\n",
      "Speed: 3.6ms preprocess, 1592.8ms inference, 2.0ms postprocess per image at shape (1, 3, 640, 640)\n",
      "\n"
     ]
    },
    {
     "name": "stdout",
     "output_type": "stream",
     "text": [
      "Person\n",
      "NO-Safety Vest\n",
      "Hardhat\n",
      "Person\n",
      "Safety Vest\n",
      "NO-Hardhat\n",
      "NO-Mask\n",
      "NO-Mask\n"
     ]
    },
    {
     "name": "stderr",
     "output_type": "stream",
     "text": [
      "0: 384x640 1 Hardhat, 1 NO-Hardhat, 2 NO-Masks, 1 NO-Safety Vest, 2 Persons, 1 Safety Vest, 1578.8ms\n",
      "Speed: 4.5ms preprocess, 1578.8ms inference, 2.1ms postprocess per image at shape (1, 3, 640, 640)\n",
      "\n"
     ]
    },
    {
     "name": "stdout",
     "output_type": "stream",
     "text": [
      "Person\n",
      "NO-Safety Vest\n",
      "Person\n",
      "Hardhat\n",
      "Safety Vest\n",
      "NO-Hardhat\n",
      "NO-Mask\n",
      "NO-Mask\n"
     ]
    },
    {
     "name": "stderr",
     "output_type": "stream",
     "text": [
      "0: 384x640 1 Hardhat, 1 NO-Hardhat, 2 NO-Masks, 1 NO-Safety Vest, 2 Persons, 1 Safety Vest, 1767.3ms\n",
      "Speed: 4.7ms preprocess, 1767.3ms inference, 3.4ms postprocess per image at shape (1, 3, 640, 640)\n",
      "\n"
     ]
    },
    {
     "name": "stdout",
     "output_type": "stream",
     "text": [
      "Person\n",
      "NO-Safety Vest\n",
      "Person\n",
      "Hardhat\n",
      "Safety Vest\n",
      "NO-Hardhat\n",
      "NO-Mask\n",
      "NO-Mask\n"
     ]
    },
    {
     "name": "stderr",
     "output_type": "stream",
     "text": [
      "0: 384x640 1 Hardhat, 1 NO-Hardhat, 2 NO-Masks, 1 NO-Safety Vest, 2 Persons, 1 Safety Vest, 1815.0ms\n",
      "Speed: 4.5ms preprocess, 1815.0ms inference, 2.0ms postprocess per image at shape (1, 3, 640, 640)\n",
      "\n"
     ]
    },
    {
     "name": "stdout",
     "output_type": "stream",
     "text": [
      "Person\n",
      "NO-Safety Vest\n",
      "Hardhat\n",
      "Person\n",
      "Safety Vest\n",
      "NO-Hardhat\n",
      "NO-Mask\n",
      "NO-Mask\n"
     ]
    },
    {
     "name": "stderr",
     "output_type": "stream",
     "text": [
      "0: 384x640 1 Hardhat, 1 NO-Hardhat, 2 NO-Masks, 1 NO-Safety Vest, 2 Persons, 1 Safety Vest, 1824.6ms\n",
      "Speed: 6.2ms preprocess, 1824.6ms inference, 2.1ms postprocess per image at shape (1, 3, 640, 640)\n",
      "\n"
     ]
    },
    {
     "name": "stdout",
     "output_type": "stream",
     "text": [
      "Person\n",
      "NO-Safety Vest\n",
      "Hardhat\n",
      "Person\n",
      "Safety Vest\n",
      "NO-Hardhat\n",
      "NO-Mask\n",
      "NO-Mask\n"
     ]
    },
    {
     "name": "stderr",
     "output_type": "stream",
     "text": [
      "0: 384x640 1 Hardhat, 1 NO-Hardhat, 2 NO-Masks, 1 NO-Safety Vest, 2 Persons, 1 Safety Vest, 1819.6ms\n",
      "Speed: 4.0ms preprocess, 1819.6ms inference, 2.0ms postprocess per image at shape (1, 3, 640, 640)\n",
      "\n"
     ]
    },
    {
     "name": "stdout",
     "output_type": "stream",
     "text": [
      "Person\n",
      "NO-Safety Vest\n",
      "Hardhat\n",
      "Person\n",
      "Safety Vest\n",
      "NO-Hardhat\n",
      "NO-Mask\n",
      "NO-Mask\n"
     ]
    },
    {
     "name": "stderr",
     "output_type": "stream",
     "text": [
      "0: 384x640 1 Hardhat, 1 NO-Hardhat, 2 NO-Masks, 1 NO-Safety Vest, 2 Persons, 1 Safety Vest, 1673.3ms\n",
      "Speed: 4.5ms preprocess, 1673.3ms inference, 2.0ms postprocess per image at shape (1, 3, 640, 640)\n",
      "\n"
     ]
    },
    {
     "name": "stdout",
     "output_type": "stream",
     "text": [
      "Person\n",
      "NO-Safety Vest\n",
      "Hardhat\n",
      "Person\n",
      "Safety Vest\n",
      "NO-Hardhat\n",
      "NO-Mask\n",
      "NO-Mask\n"
     ]
    },
    {
     "name": "stderr",
     "output_type": "stream",
     "text": [
      "0: 384x640 1 Hardhat, 1 NO-Hardhat, 2 NO-Masks, 1 NO-Safety Vest, 2 Persons, 1 Safety Vest, 1610.4ms\n",
      "Speed: 3.0ms preprocess, 1610.4ms inference, 2.5ms postprocess per image at shape (1, 3, 640, 640)\n",
      "\n"
     ]
    },
    {
     "name": "stdout",
     "output_type": "stream",
     "text": [
      "Person\n",
      "NO-Safety Vest\n",
      "Hardhat\n",
      "Person\n",
      "Safety Vest\n",
      "NO-Hardhat\n",
      "NO-Mask\n",
      "NO-Mask\n"
     ]
    },
    {
     "name": "stderr",
     "output_type": "stream",
     "text": [
      "0: 384x640 1 Hardhat, 1 NO-Hardhat, 2 NO-Masks, 1 NO-Safety Vest, 2 Persons, 1 Safety Vest, 1589.4ms\n",
      "Speed: 3.0ms preprocess, 1589.4ms inference, 3.0ms postprocess per image at shape (1, 3, 640, 640)\n",
      "\n"
     ]
    },
    {
     "name": "stdout",
     "output_type": "stream",
     "text": [
      "Person\n",
      "NO-Safety Vest\n",
      "Hardhat\n",
      "Person\n",
      "Safety Vest\n",
      "NO-Hardhat\n",
      "NO-Mask\n",
      "NO-Mask\n"
     ]
    },
    {
     "name": "stderr",
     "output_type": "stream",
     "text": [
      "0: 384x640 1 Hardhat, 1 NO-Hardhat, 2 NO-Masks, 1 NO-Safety Vest, 2 Persons, 1 Safety Vest, 1603.1ms\n",
      "Speed: 3.5ms preprocess, 1603.1ms inference, 2.4ms postprocess per image at shape (1, 3, 640, 640)\n",
      "\n"
     ]
    },
    {
     "name": "stdout",
     "output_type": "stream",
     "text": [
      "Person\n",
      "NO-Safety Vest\n",
      "Hardhat\n",
      "Person\n",
      "NO-Hardhat\n",
      "Safety Vest\n",
      "NO-Mask\n",
      "NO-Mask\n"
     ]
    },
    {
     "name": "stderr",
     "output_type": "stream",
     "text": [
      "0: 384x640 1 Hardhat, 1 NO-Hardhat, 2 NO-Masks, 1 NO-Safety Vest, 2 Persons, 1 Safety Vest, 1596.0ms\n",
      "Speed: 3.0ms preprocess, 1596.0ms inference, 3.2ms postprocess per image at shape (1, 3, 640, 640)\n",
      "\n"
     ]
    },
    {
     "name": "stdout",
     "output_type": "stream",
     "text": [
      "Person\n",
      "NO-Safety Vest\n",
      "Hardhat\n",
      "Person\n",
      "Safety Vest\n",
      "NO-Hardhat\n",
      "NO-Mask\n",
      "NO-Mask\n"
     ]
    },
    {
     "name": "stderr",
     "output_type": "stream",
     "text": [
      "0: 384x640 1 Hardhat, 1 NO-Hardhat, 2 NO-Masks, 1 NO-Safety Vest, 2 Persons, 1 Safety Vest, 1890.6ms\n",
      "Speed: 3.6ms preprocess, 1890.6ms inference, 3.0ms postprocess per image at shape (1, 3, 640, 640)\n",
      "\n"
     ]
    },
    {
     "name": "stdout",
     "output_type": "stream",
     "text": [
      "Person\n",
      "NO-Safety Vest\n",
      "Hardhat\n",
      "Person\n",
      "Safety Vest\n",
      "NO-Hardhat\n",
      "NO-Mask\n",
      "NO-Mask\n"
     ]
    },
    {
     "name": "stderr",
     "output_type": "stream",
     "text": [
      "0: 384x640 1 Hardhat, 1 NO-Hardhat, 2 NO-Masks, 1 NO-Safety Vest, 2 Persons, 1 Safety Vest, 1868.7ms\n",
      "Speed: 4.0ms preprocess, 1868.7ms inference, 2.5ms postprocess per image at shape (1, 3, 640, 640)\n",
      "\n"
     ]
    },
    {
     "name": "stdout",
     "output_type": "stream",
     "text": [
      "Person\n",
      "NO-Safety Vest\n",
      "Hardhat\n",
      "Person\n",
      "NO-Hardhat\n",
      "Safety Vest\n",
      "NO-Mask\n",
      "NO-Mask\n"
     ]
    },
    {
     "name": "stderr",
     "output_type": "stream",
     "text": [
      "0: 384x640 1 Hardhat, 1 NO-Hardhat, 2 NO-Masks, 1 NO-Safety Vest, 2 Persons, 1 Safety Vest, 1842.0ms\n",
      "Speed: 4.6ms preprocess, 1842.0ms inference, 3.0ms postprocess per image at shape (1, 3, 640, 640)\n",
      "\n"
     ]
    },
    {
     "name": "stdout",
     "output_type": "stream",
     "text": [
      "Person\n",
      "NO-Safety Vest\n",
      "Hardhat\n",
      "Person\n",
      "NO-Hardhat\n",
      "Safety Vest\n",
      "NO-Mask\n",
      "NO-Mask\n"
     ]
    },
    {
     "name": "stderr",
     "output_type": "stream",
     "text": [
      "0: 384x640 1 Hardhat, 1 NO-Hardhat, 2 NO-Masks, 1 NO-Safety Vest, 2 Persons, 1 Safety Vest, 1887.3ms\n",
      "Speed: 3.2ms preprocess, 1887.3ms inference, 3.0ms postprocess per image at shape (1, 3, 640, 640)\n",
      "\n"
     ]
    },
    {
     "name": "stdout",
     "output_type": "stream",
     "text": [
      "Person\n",
      "NO-Safety Vest\n",
      "Hardhat\n",
      "Person\n",
      "NO-Hardhat\n",
      "Safety Vest\n",
      "NO-Mask\n",
      "NO-Mask\n"
     ]
    },
    {
     "name": "stderr",
     "output_type": "stream",
     "text": [
      "0: 384x640 1 Hardhat, 1 NO-Hardhat, 2 NO-Masks, 1 NO-Safety Vest, 2 Persons, 1 Safety Vest, 1743.7ms\n",
      "Speed: 5.8ms preprocess, 1743.7ms inference, 2.0ms postprocess per image at shape (1, 3, 640, 640)\n",
      "\n"
     ]
    },
    {
     "name": "stdout",
     "output_type": "stream",
     "text": [
      "Person\n",
      "NO-Safety Vest\n",
      "Hardhat\n",
      "Person\n",
      "NO-Hardhat\n",
      "Safety Vest\n",
      "NO-Mask\n",
      "NO-Mask\n"
     ]
    },
    {
     "name": "stderr",
     "output_type": "stream",
     "text": [
      "0: 384x640 1 Hardhat, 1 NO-Hardhat, 2 NO-Masks, 1 NO-Safety Vest, 2 Persons, 1 Safety Vest, 1619.5ms\n",
      "Speed: 4.5ms preprocess, 1619.5ms inference, 3.6ms postprocess per image at shape (1, 3, 640, 640)\n",
      "\n"
     ]
    },
    {
     "name": "stdout",
     "output_type": "stream",
     "text": [
      "Person\n",
      "NO-Safety Vest\n",
      "Hardhat\n",
      "Person\n",
      "NO-Hardhat\n",
      "Safety Vest\n",
      "NO-Mask\n",
      "NO-Mask\n"
     ]
    },
    {
     "name": "stderr",
     "output_type": "stream",
     "text": [
      "0: 384x640 1 Hardhat, 1 NO-Hardhat, 2 NO-Masks, 1 NO-Safety Vest, 2 Persons, 1 Safety Vest, 2150.7ms\n",
      "Speed: 4.0ms preprocess, 2150.7ms inference, 3.5ms postprocess per image at shape (1, 3, 640, 640)\n",
      "\n"
     ]
    },
    {
     "name": "stdout",
     "output_type": "stream",
     "text": [
      "Person\n",
      "NO-Safety Vest\n",
      "Hardhat\n",
      "Person\n",
      "NO-Hardhat\n",
      "Safety Vest\n",
      "NO-Mask\n",
      "NO-Mask\n"
     ]
    },
    {
     "name": "stderr",
     "output_type": "stream",
     "text": [
      "0: 384x640 1 Hardhat, 1 NO-Hardhat, 2 NO-Masks, 1 NO-Safety Vest, 2 Persons, 1 Safety Vest, 2402.1ms\n",
      "Speed: 11.9ms preprocess, 2402.1ms inference, 4.0ms postprocess per image at shape (1, 3, 640, 640)\n",
      "\n"
     ]
    },
    {
     "name": "stdout",
     "output_type": "stream",
     "text": [
      "Person\n",
      "NO-Safety Vest\n",
      "Hardhat\n",
      "Person\n",
      "NO-Hardhat\n",
      "Safety Vest\n",
      "NO-Mask\n",
      "NO-Mask\n"
     ]
    },
    {
     "name": "stderr",
     "output_type": "stream",
     "text": [
      "0: 384x640 1 Hardhat, 1 NO-Hardhat, 2 NO-Masks, 1 NO-Safety Vest, 2 Persons, 1 Safety Vest, 2153.8ms\n",
      "Speed: 7.4ms preprocess, 2153.8ms inference, 1.0ms postprocess per image at shape (1, 3, 640, 640)\n",
      "\n"
     ]
    },
    {
     "name": "stdout",
     "output_type": "stream",
     "text": [
      "Person\n",
      "NO-Safety Vest\n",
      "Hardhat\n",
      "Person\n",
      "NO-Hardhat\n",
      "Safety Vest\n",
      "NO-Mask\n",
      "NO-Mask\n"
     ]
    },
    {
     "name": "stderr",
     "output_type": "stream",
     "text": [
      "0: 384x640 1 Hardhat, 1 NO-Hardhat, 2 NO-Masks, 1 NO-Safety Vest, 2 Persons, 1 Safety Vest, 2088.9ms\n",
      "Speed: 8.5ms preprocess, 2088.9ms inference, 2.6ms postprocess per image at shape (1, 3, 640, 640)\n",
      "\n"
     ]
    },
    {
     "name": "stdout",
     "output_type": "stream",
     "text": [
      "Person\n",
      "NO-Safety Vest\n",
      "Hardhat\n",
      "Person\n",
      "NO-Hardhat\n",
      "Safety Vest\n",
      "NO-Mask\n",
      "NO-Mask\n"
     ]
    },
    {
     "name": "stderr",
     "output_type": "stream",
     "text": [
      "0: 384x640 1 Hardhat, 1 NO-Hardhat, 2 NO-Masks, 1 NO-Safety Vest, 2 Persons, 1 Safety Vest, 1884.4ms\n",
      "Speed: 7.8ms preprocess, 1884.4ms inference, 3.0ms postprocess per image at shape (1, 3, 640, 640)\n",
      "\n"
     ]
    },
    {
     "name": "stdout",
     "output_type": "stream",
     "text": [
      "Person\n",
      "NO-Safety Vest\n",
      "Hardhat\n",
      "Person\n",
      "NO-Hardhat\n",
      "Safety Vest\n",
      "NO-Mask\n",
      "NO-Mask\n"
     ]
    },
    {
     "name": "stderr",
     "output_type": "stream",
     "text": [
      "0: 384x640 1 Hardhat, 1 NO-Hardhat, 2 NO-Masks, 1 NO-Safety Vest, 2 Persons, 1 Safety Vest, 1877.4ms\n",
      "Speed: 4.5ms preprocess, 1877.4ms inference, 3.5ms postprocess per image at shape (1, 3, 640, 640)\n",
      "\n"
     ]
    },
    {
     "name": "stdout",
     "output_type": "stream",
     "text": [
      "Person\n",
      "NO-Safety Vest\n",
      "Hardhat\n",
      "Person\n",
      "NO-Hardhat\n",
      "Safety Vest\n",
      "NO-Mask\n",
      "NO-Mask\n"
     ]
    },
    {
     "name": "stderr",
     "output_type": "stream",
     "text": [
      "0: 384x640 1 Hardhat, 1 NO-Hardhat, 2 NO-Masks, 1 NO-Safety Vest, 2 Persons, 1 Safety Vest, 1886.9ms\n",
      "Speed: 5.1ms preprocess, 1886.9ms inference, 2.5ms postprocess per image at shape (1, 3, 640, 640)\n",
      "\n"
     ]
    },
    {
     "name": "stdout",
     "output_type": "stream",
     "text": [
      "Person\n",
      "NO-Safety Vest\n",
      "Hardhat\n",
      "Person\n",
      "NO-Hardhat\n",
      "Safety Vest\n",
      "NO-Mask\n",
      "NO-Mask\n"
     ]
    },
    {
     "name": "stderr",
     "output_type": "stream",
     "text": [
      "0: 384x640 1 Hardhat, 1 NO-Hardhat, 2 NO-Masks, 1 NO-Safety Vest, 2 Persons, 1 Safety Vest, 2005.6ms\n",
      "Speed: 7.0ms preprocess, 2005.6ms inference, 3.7ms postprocess per image at shape (1, 3, 640, 640)\n",
      "\n"
     ]
    },
    {
     "name": "stdout",
     "output_type": "stream",
     "text": [
      "Person\n",
      "NO-Safety Vest\n",
      "Hardhat\n",
      "Person\n",
      "NO-Hardhat\n",
      "Safety Vest\n",
      "NO-Mask\n",
      "NO-Mask\n"
     ]
    },
    {
     "name": "stderr",
     "output_type": "stream",
     "text": [
      "0: 384x640 1 Hardhat, 1 NO-Hardhat, 2 NO-Masks, 1 NO-Safety Vest, 2 Persons, 1 Safety Vest, 2128.4ms\n",
      "Speed: 4.6ms preprocess, 2128.4ms inference, 4.6ms postprocess per image at shape (1, 3, 640, 640)\n",
      "\n"
     ]
    },
    {
     "name": "stdout",
     "output_type": "stream",
     "text": [
      "Person\n",
      "NO-Safety Vest\n",
      "Hardhat\n",
      "Person\n",
      "Safety Vest\n",
      "NO-Hardhat\n",
      "NO-Mask\n",
      "NO-Mask\n"
     ]
    },
    {
     "name": "stderr",
     "output_type": "stream",
     "text": [
      "0: 384x640 1 Hardhat, 1 NO-Hardhat, 2 NO-Masks, 1 NO-Safety Vest, 2 Persons, 1 Safety Vest, 2303.9ms\n",
      "Speed: 5.0ms preprocess, 2303.9ms inference, 4.9ms postprocess per image at shape (1, 3, 640, 640)\n",
      "\n"
     ]
    },
    {
     "name": "stdout",
     "output_type": "stream",
     "text": [
      "Person\n",
      "NO-Safety Vest\n",
      "Hardhat\n",
      "Person\n",
      "NO-Hardhat\n",
      "Safety Vest\n",
      "NO-Mask\n",
      "NO-Mask\n"
     ]
    },
    {
     "name": "stderr",
     "output_type": "stream",
     "text": [
      "0: 384x640 1 Hardhat, 1 NO-Hardhat, 2 NO-Masks, 1 NO-Safety Vest, 2 Persons, 1 Safety Vest, 2080.1ms\n",
      "Speed: 5.9ms preprocess, 2080.1ms inference, 2.0ms postprocess per image at shape (1, 3, 640, 640)\n",
      "\n"
     ]
    },
    {
     "name": "stdout",
     "output_type": "stream",
     "text": [
      "Person\n",
      "NO-Safety Vest\n",
      "Hardhat\n",
      "Person\n",
      "NO-Hardhat\n",
      "Safety Vest\n",
      "NO-Mask\n",
      "NO-Mask\n"
     ]
    },
    {
     "name": "stderr",
     "output_type": "stream",
     "text": [
      "0: 384x640 1 Hardhat, 1 NO-Hardhat, 2 NO-Masks, 1 NO-Safety Vest, 2 Persons, 1 Safety Vest, 1816.2ms\n",
      "Speed: 5.0ms preprocess, 1816.2ms inference, 2.0ms postprocess per image at shape (1, 3, 640, 640)\n",
      "\n"
     ]
    },
    {
     "name": "stdout",
     "output_type": "stream",
     "text": [
      "Person\n",
      "NO-Safety Vest\n",
      "Hardhat\n",
      "Person\n",
      "NO-Hardhat\n",
      "Safety Vest\n",
      "NO-Mask\n",
      "NO-Mask\n"
     ]
    },
    {
     "name": "stderr",
     "output_type": "stream",
     "text": [
      "0: 384x640 1 Hardhat, 1 NO-Hardhat, 2 NO-Masks, 1 NO-Safety Vest, 2 Persons, 1 Safety Vest, 1818.5ms\n",
      "Speed: 4.0ms preprocess, 1818.5ms inference, 3.1ms postprocess per image at shape (1, 3, 640, 640)\n",
      "\n"
     ]
    },
    {
     "name": "stdout",
     "output_type": "stream",
     "text": [
      "Person\n",
      "NO-Safety Vest\n",
      "Hardhat\n",
      "Person\n",
      "NO-Hardhat\n",
      "Safety Vest\n",
      "NO-Mask\n",
      "NO-Mask\n"
     ]
    },
    {
     "name": "stderr",
     "output_type": "stream",
     "text": [
      "0: 384x640 1 Hardhat, 1 NO-Hardhat, 2 NO-Masks, 1 NO-Safety Vest, 2 Persons, 1 Safety Vest, 1823.7ms\n",
      "Speed: 5.3ms preprocess, 1823.7ms inference, 3.0ms postprocess per image at shape (1, 3, 640, 640)\n",
      "\n"
     ]
    },
    {
     "name": "stdout",
     "output_type": "stream",
     "text": [
      "Person\n",
      "NO-Safety Vest\n",
      "Hardhat\n",
      "Person\n",
      "NO-Hardhat\n",
      "Safety Vest\n",
      "NO-Mask\n",
      "NO-Mask\n"
     ]
    },
    {
     "name": "stderr",
     "output_type": "stream",
     "text": [
      "0: 384x640 1 Hardhat, 1 NO-Hardhat, 2 NO-Masks, 1 NO-Safety Vest, 2 Persons, 1 Safety Vest, 1668.5ms\n",
      "Speed: 4.5ms preprocess, 1668.5ms inference, 3.0ms postprocess per image at shape (1, 3, 640, 640)\n",
      "\n"
     ]
    },
    {
     "name": "stdout",
     "output_type": "stream",
     "text": [
      "Person\n",
      "NO-Safety Vest\n",
      "Hardhat\n",
      "Person\n",
      "NO-Hardhat\n",
      "Safety Vest\n",
      "NO-Mask\n",
      "NO-Mask\n"
     ]
    },
    {
     "name": "stderr",
     "output_type": "stream",
     "text": [
      "0: 384x640 1 Hardhat, 1 NO-Hardhat, 2 NO-Masks, 1 NO-Safety Vest, 2 Persons, 1 Safety Vest, 1587.3ms\n",
      "Speed: 3.6ms preprocess, 1587.3ms inference, 1.5ms postprocess per image at shape (1, 3, 640, 640)\n",
      "\n"
     ]
    },
    {
     "name": "stdout",
     "output_type": "stream",
     "text": [
      "Person\n",
      "NO-Safety Vest\n",
      "Hardhat\n",
      "Person\n",
      "NO-Hardhat\n",
      "Safety Vest\n",
      "NO-Mask\n",
      "NO-Mask\n"
     ]
    },
    {
     "name": "stderr",
     "output_type": "stream",
     "text": [
      "0: 384x640 1 Hardhat, 1 NO-Hardhat, 2 NO-Masks, 1 NO-Safety Vest, 2 Persons, 1 Safety Vest, 1789.1ms\n",
      "Speed: 4.0ms preprocess, 1789.1ms inference, 2.0ms postprocess per image at shape (1, 3, 640, 640)\n",
      "\n"
     ]
    },
    {
     "name": "stdout",
     "output_type": "stream",
     "text": [
      "Person\n",
      "NO-Safety Vest\n",
      "Hardhat\n",
      "Person\n",
      "NO-Hardhat\n",
      "Safety Vest\n",
      "NO-Mask\n",
      "NO-Mask\n"
     ]
    },
    {
     "name": "stderr",
     "output_type": "stream",
     "text": [
      "0: 384x640 1 Hardhat, 1 NO-Hardhat, 2 NO-Masks, 1 NO-Safety Vest, 2 Persons, 1 Safety Vest, 1633.1ms\n",
      "Speed: 4.0ms preprocess, 1633.1ms inference, 2.0ms postprocess per image at shape (1, 3, 640, 640)\n",
      "\n"
     ]
    },
    {
     "name": "stdout",
     "output_type": "stream",
     "text": [
      "Person\n",
      "NO-Safety Vest\n",
      "Hardhat\n",
      "Person\n",
      "NO-Hardhat\n",
      "Safety Vest\n",
      "NO-Mask\n",
      "NO-Mask\n"
     ]
    },
    {
     "name": "stderr",
     "output_type": "stream",
     "text": [
      "0: 384x640 1 Hardhat, 1 NO-Hardhat, 2 NO-Masks, 1 NO-Safety Vest, 2 Persons, 1 Safety Vest, 1705.2ms\n",
      "Speed: 3.5ms preprocess, 1705.2ms inference, 3.0ms postprocess per image at shape (1, 3, 640, 640)\n",
      "\n"
     ]
    },
    {
     "name": "stdout",
     "output_type": "stream",
     "text": [
      "Person\n",
      "NO-Safety Vest\n",
      "Hardhat\n",
      "Person\n",
      "NO-Hardhat\n",
      "Safety Vest\n",
      "NO-Mask\n",
      "NO-Mask\n"
     ]
    },
    {
     "name": "stderr",
     "output_type": "stream",
     "text": [
      "0: 384x640 1 Hardhat, 1 NO-Hardhat, 2 NO-Masks, 1 NO-Safety Vest, 2 Persons, 1 Safety Vest, 1980.2ms\n",
      "Speed: 5.8ms preprocess, 1980.2ms inference, 3.0ms postprocess per image at shape (1, 3, 640, 640)\n",
      "\n"
     ]
    },
    {
     "name": "stdout",
     "output_type": "stream",
     "text": [
      "Person\n",
      "NO-Safety Vest\n",
      "Hardhat\n",
      "Person\n",
      "NO-Hardhat\n",
      "Safety Vest\n",
      "NO-Mask\n",
      "NO-Mask\n"
     ]
    },
    {
     "name": "stderr",
     "output_type": "stream",
     "text": [
      "0: 384x640 1 Hardhat, 1 NO-Hardhat, 2 NO-Masks, 1 NO-Safety Vest, 2 Persons, 1 Safety Vest, 1835.1ms\n",
      "Speed: 4.0ms preprocess, 1835.1ms inference, 2.0ms postprocess per image at shape (1, 3, 640, 640)\n",
      "\n"
     ]
    },
    {
     "name": "stdout",
     "output_type": "stream",
     "text": [
      "Person\n",
      "NO-Safety Vest\n",
      "Hardhat\n",
      "Person\n",
      "NO-Hardhat\n",
      "Safety Vest\n",
      "NO-Mask\n",
      "NO-Mask\n"
     ]
    },
    {
     "name": "stderr",
     "output_type": "stream",
     "text": [
      "0: 384x640 1 Hardhat, 1 NO-Hardhat, 2 NO-Masks, 1 NO-Safety Vest, 2 Persons, 1 Safety Vest, 1837.3ms\n",
      "Speed: 4.5ms preprocess, 1837.3ms inference, 3.0ms postprocess per image at shape (1, 3, 640, 640)\n",
      "\n"
     ]
    },
    {
     "name": "stdout",
     "output_type": "stream",
     "text": [
      "Person\n",
      "NO-Safety Vest\n",
      "Hardhat\n",
      "Person\n",
      "NO-Hardhat\n",
      "Safety Vest\n",
      "NO-Mask\n",
      "NO-Mask\n"
     ]
    },
    {
     "name": "stderr",
     "output_type": "stream",
     "text": [
      "0: 384x640 1 Hardhat, 1 NO-Hardhat, 2 NO-Masks, 1 NO-Safety Vest, 2 Persons, 1 Safety Vest, 1847.0ms\n",
      "Speed: 4.9ms preprocess, 1847.0ms inference, 4.0ms postprocess per image at shape (1, 3, 640, 640)\n",
      "\n"
     ]
    },
    {
     "name": "stdout",
     "output_type": "stream",
     "text": [
      "Person\n",
      "NO-Safety Vest\n",
      "Hardhat\n",
      "Person\n",
      "NO-Hardhat\n",
      "Safety Vest\n",
      "NO-Mask\n",
      "NO-Mask\n"
     ]
    },
    {
     "name": "stderr",
     "output_type": "stream",
     "text": [
      "0: 384x640 1 Hardhat, 1 NO-Hardhat, 2 NO-Masks, 1 NO-Safety Vest, 2 Persons, 1 Safety Vest, 1679.8ms\n",
      "Speed: 4.5ms preprocess, 1679.8ms inference, 2.0ms postprocess per image at shape (1, 3, 640, 640)\n",
      "\n"
     ]
    },
    {
     "name": "stdout",
     "output_type": "stream",
     "text": [
      "Person\n",
      "NO-Safety Vest\n",
      "Hardhat\n",
      "Person\n",
      "NO-Hardhat\n",
      "Safety Vest\n",
      "NO-Mask\n",
      "NO-Mask\n"
     ]
    },
    {
     "name": "stderr",
     "output_type": "stream",
     "text": [
      "0: 384x640 1 Hardhat, 1 NO-Hardhat, 2 NO-Masks, 1 NO-Safety Vest, 2 Persons, 1 Safety Vest, 1676.4ms\n",
      "Speed: 3.9ms preprocess, 1676.4ms inference, 2.5ms postprocess per image at shape (1, 3, 640, 640)\n",
      "\n"
     ]
    },
    {
     "name": "stdout",
     "output_type": "stream",
     "text": [
      "Person\n",
      "NO-Safety Vest\n",
      "Hardhat\n",
      "Person\n",
      "NO-Hardhat\n",
      "NO-Mask\n",
      "Safety Vest\n",
      "NO-Mask\n"
     ]
    },
    {
     "name": "stderr",
     "output_type": "stream",
     "text": [
      "0: 384x640 1 Hardhat, 1 NO-Hardhat, 2 NO-Masks, 1 NO-Safety Vest, 2 Persons, 1 Safety Vest, 1623.0ms\n",
      "Speed: 4.0ms preprocess, 1623.0ms inference, 2.0ms postprocess per image at shape (1, 3, 640, 640)\n",
      "\n"
     ]
    },
    {
     "name": "stdout",
     "output_type": "stream",
     "text": [
      "Person\n",
      "NO-Safety Vest\n",
      "Hardhat\n",
      "Person\n",
      "NO-Hardhat\n",
      "NO-Mask\n",
      "Safety Vest\n",
      "NO-Mask\n"
     ]
    },
    {
     "name": "stderr",
     "output_type": "stream",
     "text": [
      "0: 384x640 1 Hardhat, 1 NO-Hardhat, 2 NO-Masks, 1 NO-Safety Vest, 2 Persons, 1 Safety Vest, 1589.4ms\n",
      "Speed: 5.8ms preprocess, 1589.4ms inference, 2.0ms postprocess per image at shape (1, 3, 640, 640)\n",
      "\n"
     ]
    },
    {
     "name": "stdout",
     "output_type": "stream",
     "text": [
      "Person\n",
      "NO-Safety Vest\n",
      "Hardhat\n",
      "Person\n",
      "NO-Hardhat\n",
      "Safety Vest\n",
      "NO-Mask\n",
      "NO-Mask\n"
     ]
    },
    {
     "name": "stderr",
     "output_type": "stream",
     "text": [
      "0: 384x640 1 Hardhat, 1 NO-Hardhat, 2 NO-Masks, 1 NO-Safety Vest, 2 Persons, 1 Safety Vest, 1762.0ms\n",
      "Speed: 3.0ms preprocess, 1762.0ms inference, 2.6ms postprocess per image at shape (1, 3, 640, 640)\n",
      "\n"
     ]
    },
    {
     "name": "stdout",
     "output_type": "stream",
     "text": [
      "Person\n",
      "NO-Safety Vest\n",
      "Hardhat\n",
      "Person\n",
      "NO-Hardhat\n",
      "Safety Vest\n",
      "NO-Mask\n",
      "NO-Mask\n"
     ]
    },
    {
     "name": "stderr",
     "output_type": "stream",
     "text": [
      "0: 384x640 1 Hardhat, 1 NO-Hardhat, 2 NO-Masks, 1 NO-Safety Vest, 2 Persons, 1 Safety Vest, 1814.3ms\n",
      "Speed: 4.5ms preprocess, 1814.3ms inference, 3.1ms postprocess per image at shape (1, 3, 640, 640)\n",
      "\n"
     ]
    },
    {
     "name": "stdout",
     "output_type": "stream",
     "text": [
      "Person\n",
      "NO-Safety Vest\n",
      "Hardhat\n",
      "Person\n",
      "NO-Hardhat\n",
      "Safety Vest\n",
      "NO-Mask\n",
      "NO-Mask\n"
     ]
    },
    {
     "name": "stderr",
     "output_type": "stream",
     "text": [
      "0: 384x640 1 Hardhat, 1 NO-Hardhat, 2 NO-Masks, 1 NO-Safety Vest, 2 Persons, 1 Safety Vest, 1839.0ms\n",
      "Speed: 4.0ms preprocess, 1839.0ms inference, 2.5ms postprocess per image at shape (1, 3, 640, 640)\n",
      "\n"
     ]
    },
    {
     "name": "stdout",
     "output_type": "stream",
     "text": [
      "Person\n",
      "NO-Safety Vest\n",
      "Hardhat\n",
      "Person\n",
      "NO-Hardhat\n",
      "Safety Vest\n",
      "NO-Mask\n",
      "NO-Mask\n"
     ]
    },
    {
     "name": "stderr",
     "output_type": "stream",
     "text": [
      "0: 384x640 1 Hardhat, 1 NO-Hardhat, 2 NO-Masks, 1 NO-Safety Vest, 2 Persons, 1 Safety Vest, 1809.2ms\n",
      "Speed: 5.9ms preprocess, 1809.2ms inference, 3.5ms postprocess per image at shape (1, 3, 640, 640)\n",
      "\n"
     ]
    },
    {
     "name": "stdout",
     "output_type": "stream",
     "text": [
      "Person\n",
      "NO-Safety Vest\n",
      "Hardhat\n",
      "Person\n",
      "NO-Hardhat\n",
      "Safety Vest\n",
      "NO-Mask\n",
      "NO-Mask\n"
     ]
    },
    {
     "name": "stderr",
     "output_type": "stream",
     "text": [
      "0: 384x640 1 Hardhat, 1 NO-Hardhat, 2 NO-Masks, 1 NO-Safety Vest, 2 Persons, 1 Safety Vest, 1775.5ms\n",
      "Speed: 4.5ms preprocess, 1775.5ms inference, 2.0ms postprocess per image at shape (1, 3, 640, 640)\n",
      "\n"
     ]
    },
    {
     "name": "stdout",
     "output_type": "stream",
     "text": [
      "Person\n",
      "NO-Safety Vest\n",
      "Hardhat\n",
      "Person\n",
      "NO-Hardhat\n",
      "Safety Vest\n",
      "NO-Mask\n",
      "NO-Mask\n"
     ]
    },
    {
     "name": "stderr",
     "output_type": "stream",
     "text": [
      "0: 384x640 1 Hardhat, 1 NO-Hardhat, 2 NO-Masks, 1 NO-Safety Vest, 2 Persons, 1 Safety Vest, 1631.7ms\n",
      "Speed: 3.0ms preprocess, 1631.7ms inference, 2.0ms postprocess per image at shape (1, 3, 640, 640)\n",
      "\n"
     ]
    },
    {
     "name": "stdout",
     "output_type": "stream",
     "text": [
      "Person\n",
      "NO-Safety Vest\n",
      "Hardhat\n",
      "Person\n",
      "NO-Hardhat\n",
      "Safety Vest\n",
      "NO-Mask\n",
      "NO-Mask\n"
     ]
    },
    {
     "name": "stderr",
     "output_type": "stream",
     "text": [
      "0: 384x640 1 Hardhat, 1 NO-Hardhat, 2 NO-Masks, 1 NO-Safety Vest, 2 Persons, 1 Safety Vest, 1597.5ms\n",
      "Speed: 5.0ms preprocess, 1597.5ms inference, 2.0ms postprocess per image at shape (1, 3, 640, 640)\n",
      "\n"
     ]
    },
    {
     "name": "stdout",
     "output_type": "stream",
     "text": [
      "Person\n",
      "NO-Safety Vest\n",
      "Hardhat\n",
      "Person\n",
      "NO-Hardhat\n",
      "Safety Vest\n",
      "NO-Mask\n",
      "NO-Mask\n"
     ]
    },
    {
     "name": "stderr",
     "output_type": "stream",
     "text": [
      "0: 384x640 1 Hardhat, 1 NO-Hardhat, 2 NO-Masks, 1 NO-Safety Vest, 2 Persons, 1 Safety Vest, 1586.7ms\n",
      "Speed: 3.0ms preprocess, 1586.7ms inference, 2.0ms postprocess per image at shape (1, 3, 640, 640)\n",
      "\n"
     ]
    },
    {
     "name": "stdout",
     "output_type": "stream",
     "text": [
      "Person\n",
      "NO-Safety Vest\n",
      "Hardhat\n",
      "Person\n",
      "NO-Hardhat\n",
      "NO-Mask\n",
      "Safety Vest\n",
      "NO-Mask\n"
     ]
    },
    {
     "name": "stderr",
     "output_type": "stream",
     "text": [
      "0: 384x640 1 Hardhat, 1 NO-Hardhat, 2 NO-Masks, 1 NO-Safety Vest, 2 Persons, 1 Safety Vest, 1598.8ms\n",
      "Speed: 4.0ms preprocess, 1598.8ms inference, 2.0ms postprocess per image at shape (1, 3, 640, 640)\n",
      "\n"
     ]
    },
    {
     "name": "stdout",
     "output_type": "stream",
     "text": [
      "Person\n",
      "NO-Safety Vest\n",
      "Hardhat\n",
      "Person\n",
      "NO-Hardhat\n",
      "NO-Mask\n",
      "Safety Vest\n",
      "NO-Mask\n"
     ]
    },
    {
     "name": "stderr",
     "output_type": "stream",
     "text": [
      "0: 384x640 1 Hardhat, 1 NO-Hardhat, 2 NO-Masks, 1 NO-Safety Vest, 2 Persons, 1 Safety Vest, 1917.2ms\n",
      "Speed: 3.5ms preprocess, 1917.2ms inference, 2.6ms postprocess per image at shape (1, 3, 640, 640)\n",
      "\n"
     ]
    },
    {
     "name": "stdout",
     "output_type": "stream",
     "text": [
      "Person\n",
      "NO-Safety Vest\n",
      "Hardhat\n",
      "Person\n",
      "NO-Hardhat\n",
      "NO-Mask\n",
      "Safety Vest\n",
      "NO-Mask\n"
     ]
    },
    {
     "name": "stderr",
     "output_type": "stream",
     "text": [
      "0: 384x640 1 Hardhat, 1 NO-Hardhat, 2 NO-Masks, 1 NO-Safety Vest, 2 Persons, 1 Safety Vest, 1842.5ms\n",
      "Speed: 4.3ms preprocess, 1842.5ms inference, 3.5ms postprocess per image at shape (1, 3, 640, 640)\n",
      "\n"
     ]
    },
    {
     "name": "stdout",
     "output_type": "stream",
     "text": [
      "Person\n",
      "NO-Safety Vest\n",
      "Hardhat\n",
      "Person\n",
      "NO-Hardhat\n",
      "NO-Mask\n",
      "Safety Vest\n",
      "NO-Mask\n"
     ]
    },
    {
     "name": "stderr",
     "output_type": "stream",
     "text": [
      "0: 384x640 1 Hardhat, 1 NO-Hardhat, 2 NO-Masks, 2 NO-Safety Vests, 2 Persons, 1 Safety Vest, 1841.7ms\n",
      "Speed: 4.0ms preprocess, 1841.7ms inference, 3.0ms postprocess per image at shape (1, 3, 640, 640)\n",
      "\n"
     ]
    },
    {
     "name": "stdout",
     "output_type": "stream",
     "text": [
      "Person\n",
      "NO-Safety Vest\n",
      "Hardhat\n",
      "Person\n",
      "NO-Hardhat\n",
      "NO-Mask\n",
      "Safety Vest\n",
      "NO-Mask\n",
      "NO-Safety Vest\n"
     ]
    },
    {
     "name": "stderr",
     "output_type": "stream",
     "text": [
      "0: 384x640 1 Hardhat, 1 NO-Hardhat, 2 NO-Masks, 2 NO-Safety Vests, 2 Persons, 1 Safety Vest, 1802.6ms\n",
      "Speed: 5.0ms preprocess, 1802.6ms inference, 3.0ms postprocess per image at shape (1, 3, 640, 640)\n",
      "\n"
     ]
    },
    {
     "name": "stdout",
     "output_type": "stream",
     "text": [
      "Person\n",
      "NO-Safety Vest\n",
      "Hardhat\n",
      "Person\n",
      "NO-Hardhat\n",
      "NO-Mask\n",
      "NO-Mask\n",
      "Safety Vest\n",
      "NO-Safety Vest\n"
     ]
    },
    {
     "name": "stderr",
     "output_type": "stream",
     "text": [
      "0: 384x640 1 Hardhat, 1 NO-Hardhat, 2 NO-Masks, 1 NO-Safety Vest, 2 Persons, 1 Safety Vest, 1765.5ms\n",
      "Speed: 3.5ms preprocess, 1765.5ms inference, 2.0ms postprocess per image at shape (1, 3, 640, 640)\n",
      "\n"
     ]
    },
    {
     "name": "stdout",
     "output_type": "stream",
     "text": [
      "Person\n",
      "NO-Safety Vest\n",
      "Hardhat\n",
      "Person\n",
      "NO-Hardhat\n",
      "NO-Mask\n",
      "Safety Vest\n",
      "NO-Mask\n"
     ]
    },
    {
     "name": "stderr",
     "output_type": "stream",
     "text": [
      "0: 384x640 1 Hardhat, 1 NO-Hardhat, 2 NO-Masks, 1 NO-Safety Vest, 2 Persons, 1 Safety Vest, 1570.9ms\n",
      "Speed: 4.3ms preprocess, 1570.9ms inference, 2.5ms postprocess per image at shape (1, 3, 640, 640)\n",
      "\n"
     ]
    },
    {
     "name": "stdout",
     "output_type": "stream",
     "text": [
      "Person\n",
      "NO-Safety Vest\n",
      "Hardhat\n",
      "Person\n",
      "NO-Hardhat\n",
      "NO-Mask\n",
      "Safety Vest\n",
      "NO-Mask\n"
     ]
    },
    {
     "name": "stderr",
     "output_type": "stream",
     "text": [
      "0: 384x640 1 Hardhat, 1 NO-Hardhat, 2 NO-Masks, 1 NO-Safety Vest, 2 Persons, 1 Safety Vest, 1605.4ms\n",
      "Speed: 4.5ms preprocess, 1605.4ms inference, 3.0ms postprocess per image at shape (1, 3, 640, 640)\n",
      "\n"
     ]
    },
    {
     "name": "stdout",
     "output_type": "stream",
     "text": [
      "Person\n",
      "NO-Safety Vest\n",
      "Hardhat\n",
      "Person\n",
      "NO-Hardhat\n",
      "NO-Mask\n",
      "Safety Vest\n",
      "NO-Mask\n"
     ]
    },
    {
     "name": "stderr",
     "output_type": "stream",
     "text": [
      "0: 384x640 1 Hardhat, 1 NO-Hardhat, 2 NO-Masks, 1 NO-Safety Vest, 2 Persons, 1 Safety Vest, 1606.8ms\n",
      "Speed: 4.0ms preprocess, 1606.8ms inference, 1.9ms postprocess per image at shape (1, 3, 640, 640)\n",
      "\n"
     ]
    },
    {
     "name": "stdout",
     "output_type": "stream",
     "text": [
      "Person\n",
      "NO-Safety Vest\n",
      "Hardhat\n",
      "Person\n",
      "NO-Hardhat\n",
      "NO-Mask\n",
      "Safety Vest\n",
      "NO-Mask\n"
     ]
    },
    {
     "name": "stderr",
     "output_type": "stream",
     "text": [
      "0: 384x640 1 Hardhat, 1 NO-Hardhat, 2 NO-Masks, 1 NO-Safety Vest, 2 Persons, 1 Safety Vest, 1603.0ms\n",
      "Speed: 3.0ms preprocess, 1603.0ms inference, 2.0ms postprocess per image at shape (1, 3, 640, 640)\n",
      "\n"
     ]
    },
    {
     "name": "stdout",
     "output_type": "stream",
     "text": [
      "Person\n",
      "NO-Safety Vest\n",
      "Hardhat\n",
      "Person\n",
      "NO-Hardhat\n",
      "NO-Mask\n",
      "Safety Vest\n",
      "NO-Mask\n"
     ]
    },
    {
     "name": "stderr",
     "output_type": "stream",
     "text": [
      "0: 384x640 1 Hardhat, 1 NO-Hardhat, 2 NO-Masks, 1 NO-Safety Vest, 2 Persons, 1 Safety Vest, 1760.6ms\n",
      "Speed: 4.0ms preprocess, 1760.6ms inference, 3.8ms postprocess per image at shape (1, 3, 640, 640)\n",
      "\n"
     ]
    },
    {
     "name": "stdout",
     "output_type": "stream",
     "text": [
      "Person\n",
      "NO-Safety Vest\n",
      "Hardhat\n",
      "Person\n",
      "NO-Hardhat\n",
      "NO-Mask\n",
      "Safety Vest\n",
      "NO-Mask\n"
     ]
    },
    {
     "name": "stderr",
     "output_type": "stream",
     "text": [
      "0: 384x640 1 Hardhat, 1 NO-Hardhat, 2 NO-Masks, 1 NO-Safety Vest, 2 Persons, 1 Safety Vest, 1805.9ms\n",
      "Speed: 4.5ms preprocess, 1805.9ms inference, 2.5ms postprocess per image at shape (1, 3, 640, 640)\n",
      "\n"
     ]
    },
    {
     "name": "stdout",
     "output_type": "stream",
     "text": [
      "Person\n",
      "NO-Safety Vest\n",
      "Hardhat\n",
      "Person\n",
      "NO-Hardhat\n",
      "NO-Mask\n",
      "Safety Vest\n",
      "NO-Mask\n"
     ]
    },
    {
     "name": "stderr",
     "output_type": "stream",
     "text": [
      "0: 384x640 1 Hardhat, 1 NO-Hardhat, 2 NO-Masks, 1 NO-Safety Vest, 2 Persons, 1 Safety Vest, 1817.7ms\n",
      "Speed: 6.1ms preprocess, 1817.7ms inference, 3.0ms postprocess per image at shape (1, 3, 640, 640)\n",
      "\n"
     ]
    },
    {
     "name": "stdout",
     "output_type": "stream",
     "text": [
      "Person\n",
      "NO-Safety Vest\n",
      "Hardhat\n",
      "Person\n",
      "NO-Hardhat\n",
      "NO-Mask\n",
      "Safety Vest\n",
      "NO-Mask\n"
     ]
    },
    {
     "name": "stderr",
     "output_type": "stream",
     "text": [
      "0: 384x640 1 Hardhat, 1 NO-Hardhat, 2 NO-Masks, 1 NO-Safety Vest, 2 Persons, 1 Safety Vest, 1810.5ms\n",
      "Speed: 4.5ms preprocess, 1810.5ms inference, 3.0ms postprocess per image at shape (1, 3, 640, 640)\n",
      "\n"
     ]
    },
    {
     "name": "stdout",
     "output_type": "stream",
     "text": [
      "Person\n",
      "NO-Safety Vest\n",
      "Hardhat\n",
      "Person\n",
      "NO-Hardhat\n",
      "NO-Mask\n",
      "Safety Vest\n",
      "NO-Mask\n"
     ]
    },
    {
     "name": "stderr",
     "output_type": "stream",
     "text": [
      "0: 384x640 1 Hardhat, 1 NO-Hardhat, 2 NO-Masks, 1 NO-Safety Vest, 2 Persons, 1 Safety Vest, 1756.2ms\n",
      "Speed: 4.0ms preprocess, 1756.2ms inference, 2.0ms postprocess per image at shape (1, 3, 640, 640)\n",
      "\n"
     ]
    },
    {
     "name": "stdout",
     "output_type": "stream",
     "text": [
      "Person\n",
      "NO-Safety Vest\n",
      "Hardhat\n",
      "Person\n",
      "NO-Hardhat\n",
      "NO-Mask\n",
      "Safety Vest\n",
      "NO-Mask\n"
     ]
    },
    {
     "name": "stderr",
     "output_type": "stream",
     "text": [
      "0: 384x640 1 Hardhat, 1 NO-Hardhat, 2 NO-Masks, 1 NO-Safety Vest, 2 Persons, 1 Safety Vest, 1764.7ms\n",
      "Speed: 4.0ms preprocess, 1764.7ms inference, 2.5ms postprocess per image at shape (1, 3, 640, 640)\n",
      "\n"
     ]
    },
    {
     "name": "stdout",
     "output_type": "stream",
     "text": [
      "Person\n",
      "NO-Safety Vest\n",
      "Hardhat\n",
      "Person\n",
      "NO-Hardhat\n",
      "NO-Mask\n",
      "Safety Vest\n",
      "NO-Mask\n"
     ]
    },
    {
     "name": "stderr",
     "output_type": "stream",
     "text": [
      "0: 384x640 1 Hardhat, 1 NO-Hardhat, 2 NO-Masks, 1 NO-Safety Vest, 2 Persons, 1 Safety Vest, 1585.5ms\n",
      "Speed: 4.0ms preprocess, 1585.5ms inference, 2.0ms postprocess per image at shape (1, 3, 640, 640)\n",
      "\n"
     ]
    },
    {
     "name": "stdout",
     "output_type": "stream",
     "text": [
      "Person\n",
      "NO-Safety Vest\n",
      "Hardhat\n",
      "Person\n",
      "NO-Hardhat\n",
      "NO-Mask\n",
      "Safety Vest\n",
      "NO-Mask\n"
     ]
    },
    {
     "name": "stderr",
     "output_type": "stream",
     "text": [
      "0: 384x640 1 Hardhat, 1 NO-Hardhat, 2 NO-Masks, 1 NO-Safety Vest, 2 Persons, 1 Safety Vest, 1612.5ms\n",
      "Speed: 4.7ms preprocess, 1612.5ms inference, 2.0ms postprocess per image at shape (1, 3, 640, 640)\n",
      "\n"
     ]
    },
    {
     "name": "stdout",
     "output_type": "stream",
     "text": [
      "Person\n",
      "NO-Safety Vest\n",
      "Hardhat\n",
      "Person\n",
      "NO-Hardhat\n",
      "NO-Mask\n",
      "Safety Vest\n",
      "NO-Mask\n"
     ]
    },
    {
     "name": "stderr",
     "output_type": "stream",
     "text": [
      "0: 384x640 1 Hardhat, 1 NO-Hardhat, 2 NO-Masks, 1 NO-Safety Vest, 2 Persons, 1 Safety Vest, 1664.4ms\n",
      "Speed: 4.9ms preprocess, 1664.4ms inference, 2.0ms postprocess per image at shape (1, 3, 640, 640)\n",
      "\n"
     ]
    },
    {
     "name": "stdout",
     "output_type": "stream",
     "text": [
      "Person\n",
      "NO-Safety Vest\n",
      "Hardhat\n",
      "Person\n",
      "NO-Hardhat\n",
      "NO-Mask\n",
      "Safety Vest\n",
      "NO-Mask\n"
     ]
    },
    {
     "name": "stderr",
     "output_type": "stream",
     "text": [
      "0: 384x640 1 Hardhat, 1 NO-Hardhat, 2 NO-Masks, 1 NO-Safety Vest, 2 Persons, 1 Safety Vest, 1778.2ms\n",
      "Speed: 4.5ms preprocess, 1778.2ms inference, 2.5ms postprocess per image at shape (1, 3, 640, 640)\n",
      "\n"
     ]
    },
    {
     "name": "stdout",
     "output_type": "stream",
     "text": [
      "Person\n",
      "NO-Safety Vest\n",
      "Hardhat\n",
      "Person\n",
      "NO-Mask\n",
      "NO-Hardhat\n",
      "Safety Vest\n",
      "NO-Mask\n"
     ]
    },
    {
     "name": "stderr",
     "output_type": "stream",
     "text": [
      "0: 384x640 1 Hardhat, 1 NO-Hardhat, 2 NO-Masks, 1 NO-Safety Vest, 2 Persons, 1 Safety Vest, 1818.0ms\n",
      "Speed: 3.5ms preprocess, 1818.0ms inference, 3.0ms postprocess per image at shape (1, 3, 640, 640)\n",
      "\n"
     ]
    },
    {
     "name": "stdout",
     "output_type": "stream",
     "text": [
      "Person\n",
      "Hardhat\n",
      "NO-Safety Vest\n",
      "Person\n",
      "NO-Hardhat\n",
      "NO-Mask\n",
      "Safety Vest\n",
      "NO-Mask\n"
     ]
    },
    {
     "name": "stderr",
     "output_type": "stream",
     "text": [
      "0: 384x640 1 Hardhat, 1 NO-Hardhat, 2 NO-Masks, 1 NO-Safety Vest, 2 Persons, 1 Safety Vest, 1825.8ms\n",
      "Speed: 5.0ms preprocess, 1825.8ms inference, 2.0ms postprocess per image at shape (1, 3, 640, 640)\n",
      "\n"
     ]
    },
    {
     "name": "stdout",
     "output_type": "stream",
     "text": [
      "Person\n",
      "Hardhat\n",
      "NO-Safety Vest\n",
      "Person\n",
      "NO-Hardhat\n",
      "NO-Mask\n",
      "Safety Vest\n",
      "NO-Mask\n"
     ]
    },
    {
     "name": "stderr",
     "output_type": "stream",
     "text": [
      "0: 384x640 1 NO-Hardhat, 1 NO-Mask, 1 NO-Safety Vest, 2 Persons, 1819.0ms\n",
      "Speed: 3.5ms preprocess, 1819.0ms inference, 3.4ms postprocess per image at shape (1, 3, 640, 640)\n",
      "\n"
     ]
    },
    {
     "name": "stdout",
     "output_type": "stream",
     "text": [
      "NO-Safety Vest\n",
      "Person\n",
      "NO-Hardhat\n",
      "Person\n",
      "NO-Mask\n"
     ]
    },
    {
     "name": "stderr",
     "output_type": "stream",
     "text": [
      "0: 384x640 1 NO-Hardhat, 1 NO-Mask, 1 NO-Safety Vest, 1 Person, 1708.5ms\n",
      "Speed: 4.3ms preprocess, 1708.5ms inference, 2.0ms postprocess per image at shape (1, 3, 640, 640)\n",
      "\n"
     ]
    },
    {
     "name": "stdout",
     "output_type": "stream",
     "text": [
      "NO-Safety Vest\n",
      "Person\n",
      "NO-Hardhat\n",
      "NO-Mask\n"
     ]
    },
    {
     "name": "stderr",
     "output_type": "stream",
     "text": [
      "0: 384x640 1 NO-Hardhat, 1 NO-Mask, 1 NO-Safety Vest, 1 Person, 1592.4ms\n",
      "Speed: 4.0ms preprocess, 1592.4ms inference, 1.5ms postprocess per image at shape (1, 3, 640, 640)\n",
      "\n"
     ]
    },
    {
     "name": "stdout",
     "output_type": "stream",
     "text": [
      "NO-Safety Vest\n",
      "Person\n",
      "NO-Hardhat\n",
      "NO-Mask\n"
     ]
    },
    {
     "name": "stderr",
     "output_type": "stream",
     "text": [
      "0: 384x640 1 NO-Hardhat, 1 NO-Mask, 1 NO-Safety Vest, 1 Person, 1602.1ms\n",
      "Speed: 4.0ms preprocess, 1602.1ms inference, 2.0ms postprocess per image at shape (1, 3, 640, 640)\n",
      "\n"
     ]
    },
    {
     "name": "stdout",
     "output_type": "stream",
     "text": [
      "NO-Safety Vest\n",
      "Person\n",
      "NO-Hardhat\n",
      "NO-Mask\n"
     ]
    },
    {
     "name": "stderr",
     "output_type": "stream",
     "text": [
      "0: 384x640 1 NO-Hardhat, 1 NO-Mask, 1 NO-Safety Vest, 2 Persons, 1584.1ms\n",
      "Speed: 4.0ms preprocess, 1584.1ms inference, 2.0ms postprocess per image at shape (1, 3, 640, 640)\n",
      "\n"
     ]
    },
    {
     "name": "stdout",
     "output_type": "stream",
     "text": [
      "NO-Safety Vest\n",
      "Person\n",
      "NO-Hardhat\n",
      "NO-Mask\n",
      "Person\n"
     ]
    },
    {
     "name": "stderr",
     "output_type": "stream",
     "text": [
      "0: 384x640 1 NO-Hardhat, 1 NO-Mask, 2 NO-Safety Vests, 2 Persons, 1613.7ms\n",
      "Speed: 3.6ms preprocess, 1613.7ms inference, 2.0ms postprocess per image at shape (1, 3, 640, 640)\n",
      "\n"
     ]
    },
    {
     "name": "stdout",
     "output_type": "stream",
     "text": [
      "NO-Safety Vest\n",
      "Person\n",
      "NO-Hardhat\n",
      "Person\n",
      "NO-Mask\n",
      "NO-Safety Vest\n"
     ]
    },
    {
     "name": "stderr",
     "output_type": "stream",
     "text": [
      "0: 384x640 1 NO-Hardhat, 1 NO-Mask, 2 NO-Safety Vests, 2 Persons, 1767.9ms\n",
      "Speed: 4.1ms preprocess, 1767.9ms inference, 4.0ms postprocess per image at shape (1, 3, 640, 640)\n",
      "\n"
     ]
    },
    {
     "name": "stdout",
     "output_type": "stream",
     "text": [
      "NO-Safety Vest\n",
      "Person\n",
      "NO-Hardhat\n",
      "Person\n",
      "NO-Safety Vest\n",
      "NO-Mask\n"
     ]
    },
    {
     "name": "stderr",
     "output_type": "stream",
     "text": [
      "0: 384x640 1 NO-Hardhat, 1 NO-Mask, 3 NO-Safety Vests, 2 Persons, 1979.3ms\n",
      "Speed: 4.0ms preprocess, 1979.3ms inference, 2.0ms postprocess per image at shape (1, 3, 640, 640)\n",
      "\n"
     ]
    },
    {
     "name": "stdout",
     "output_type": "stream",
     "text": [
      "NO-Safety Vest\n",
      "Person\n",
      "NO-Safety Vest\n",
      "Person\n",
      "NO-Safety Vest\n",
      "NO-Hardhat\n",
      "NO-Mask\n"
     ]
    },
    {
     "name": "stderr",
     "output_type": "stream",
     "text": [
      "0: 384x640 1 NO-Hardhat, 1 NO-Mask, 2 NO-Safety Vests, 3 Persons, 1811.7ms\n",
      "Speed: 4.5ms preprocess, 1811.7ms inference, 2.0ms postprocess per image at shape (1, 3, 640, 640)\n",
      "\n"
     ]
    },
    {
     "name": "stdout",
     "output_type": "stream",
     "text": [
      "NO-Safety Vest\n",
      "Person\n",
      "NO-Hardhat\n",
      "Person\n",
      "NO-Safety Vest\n",
      "Person\n",
      "NO-Mask\n"
     ]
    },
    {
     "name": "stderr",
     "output_type": "stream",
     "text": [
      "0: 384x640 1 NO-Hardhat, 1 NO-Mask, 2 NO-Safety Vests, 3 Persons, 1803.0ms\n",
      "Speed: 5.6ms preprocess, 1803.0ms inference, 2.5ms postprocess per image at shape (1, 3, 640, 640)\n",
      "\n"
     ]
    },
    {
     "name": "stdout",
     "output_type": "stream",
     "text": [
      "NO-Safety Vest\n",
      "Person\n",
      "Person\n",
      "NO-Hardhat\n",
      "NO-Safety Vest\n",
      "Person\n",
      "NO-Mask\n"
     ]
    },
    {
     "name": "stderr",
     "output_type": "stream",
     "text": [
      "0: 384x640 1 NO-Hardhat, 1 NO-Mask, 2 NO-Safety Vests, 3 Persons, 1758.9ms\n",
      "Speed: 5.0ms preprocess, 1758.9ms inference, 3.0ms postprocess per image at shape (1, 3, 640, 640)\n",
      "\n"
     ]
    },
    {
     "name": "stdout",
     "output_type": "stream",
     "text": [
      "NO-Safety Vest\n",
      "Person\n",
      "NO-Hardhat\n",
      "NO-Mask\n",
      "Person\n",
      "Person\n",
      "NO-Safety Vest\n"
     ]
    },
    {
     "name": "stderr",
     "output_type": "stream",
     "text": [
      "0: 384x640 1 NO-Hardhat, 1 NO-Mask, 2 NO-Safety Vests, 2 Persons, 1592.0ms\n",
      "Speed: 3.7ms preprocess, 1592.0ms inference, 3.0ms postprocess per image at shape (1, 3, 640, 640)\n",
      "\n"
     ]
    },
    {
     "name": "stdout",
     "output_type": "stream",
     "text": [
      "NO-Safety Vest\n",
      "Person\n",
      "NO-Hardhat\n",
      "NO-Safety Vest\n",
      "NO-Mask\n",
      "Person\n"
     ]
    },
    {
     "name": "stderr",
     "output_type": "stream",
     "text": [
      "0: 384x640 1 NO-Hardhat, 1 NO-Mask, 2 NO-Safety Vests, 1 Person, 1580.8ms\n",
      "Speed: 4.6ms preprocess, 1580.8ms inference, 2.5ms postprocess per image at shape (1, 3, 640, 640)\n",
      "\n"
     ]
    },
    {
     "name": "stdout",
     "output_type": "stream",
     "text": [
      "NO-Safety Vest\n",
      "Person\n",
      "NO-Hardhat\n",
      "NO-Safety Vest\n",
      "NO-Mask\n"
     ]
    },
    {
     "name": "stderr",
     "output_type": "stream",
     "text": [
      "0: 384x640 1 NO-Hardhat, 1 NO-Mask, 2 NO-Safety Vests, 1 Person, 1582.6ms\n",
      "Speed: 3.5ms preprocess, 1582.6ms inference, 2.0ms postprocess per image at shape (1, 3, 640, 640)\n",
      "\n"
     ]
    },
    {
     "name": "stdout",
     "output_type": "stream",
     "text": [
      "NO-Safety Vest\n",
      "Person\n",
      "NO-Hardhat\n",
      "NO-Safety Vest\n",
      "NO-Mask\n"
     ]
    },
    {
     "name": "stderr",
     "output_type": "stream",
     "text": [
      "0: 384x640 1 NO-Hardhat, 1 NO-Mask, 2 NO-Safety Vests, 1 Person, 1582.5ms\n",
      "Speed: 4.4ms preprocess, 1582.5ms inference, 2.0ms postprocess per image at shape (1, 3, 640, 640)\n",
      "\n"
     ]
    },
    {
     "name": "stdout",
     "output_type": "stream",
     "text": [
      "NO-Safety Vest\n",
      "Person\n",
      "NO-Hardhat\n",
      "NO-Safety Vest\n",
      "NO-Mask\n"
     ]
    },
    {
     "name": "stderr",
     "output_type": "stream",
     "text": [
      "0: 384x640 1 NO-Hardhat, 1 NO-Mask, 1 NO-Safety Vest, 3 Persons, 1751.6ms\n",
      "Speed: 4.0ms preprocess, 1751.6ms inference, 3.0ms postprocess per image at shape (1, 3, 640, 640)\n",
      "\n"
     ]
    },
    {
     "name": "stdout",
     "output_type": "stream",
     "text": [
      "NO-Safety Vest\n",
      "Person\n",
      "NO-Hardhat\n",
      "Person\n",
      "Person\n",
      "NO-Mask\n"
     ]
    },
    {
     "name": "stderr",
     "output_type": "stream",
     "text": [
      "0: 384x640 1 NO-Hardhat, 1 NO-Mask, 1 NO-Safety Vest, 1 Person, 1829.6ms\n",
      "Speed: 4.5ms preprocess, 1829.6ms inference, 3.0ms postprocess per image at shape (1, 3, 640, 640)\n",
      "\n"
     ]
    },
    {
     "name": "stdout",
     "output_type": "stream",
     "text": [
      "NO-Safety Vest\n",
      "Person\n",
      "NO-Hardhat\n",
      "NO-Mask\n"
     ]
    },
    {
     "name": "stderr",
     "output_type": "stream",
     "text": [
      "0: 384x640 1 NO-Hardhat, 1 NO-Mask, 1 NO-Safety Vest, 1 Person, 1813.3ms\n",
      "Speed: 5.0ms preprocess, 1813.3ms inference, 3.0ms postprocess per image at shape (1, 3, 640, 640)\n",
      "\n"
     ]
    },
    {
     "name": "stdout",
     "output_type": "stream",
     "text": [
      "NO-Safety Vest\n",
      "Person\n",
      "NO-Hardhat\n",
      "NO-Mask\n"
     ]
    },
    {
     "name": "stderr",
     "output_type": "stream",
     "text": [
      "0: 384x640 1 NO-Hardhat, 1 NO-Mask, 1 NO-Safety Vest, 1 Person, 1830.5ms\n",
      "Speed: 5.2ms preprocess, 1830.5ms inference, 2.9ms postprocess per image at shape (1, 3, 640, 640)\n",
      "\n"
     ]
    },
    {
     "name": "stdout",
     "output_type": "stream",
     "text": [
      "NO-Safety Vest\n",
      "Person\n",
      "NO-Hardhat\n",
      "NO-Mask\n"
     ]
    },
    {
     "name": "stderr",
     "output_type": "stream",
     "text": [
      "0: 384x640 1 NO-Hardhat, 1 NO-Mask, 1 NO-Safety Vest, 2 Persons, 1 machinery, 1706.1ms\n",
      "Speed: 5.0ms preprocess, 1706.1ms inference, 2.0ms postprocess per image at shape (1, 3, 640, 640)\n",
      "\n"
     ]
    },
    {
     "name": "stdout",
     "output_type": "stream",
     "text": [
      "NO-Safety Vest\n",
      "Person\n",
      "Person\n",
      "NO-Hardhat\n",
      "NO-Mask\n",
      "machinery\n"
     ]
    },
    {
     "name": "stderr",
     "output_type": "stream",
     "text": [
      "0: 384x640 1 NO-Hardhat, 1 NO-Mask, 1 NO-Safety Vest, 2 Persons, 1 machinery, 1597.8ms\n",
      "Speed: 5.1ms preprocess, 1597.8ms inference, 3.1ms postprocess per image at shape (1, 3, 640, 640)\n",
      "\n"
     ]
    },
    {
     "name": "stdout",
     "output_type": "stream",
     "text": [
      "NO-Safety Vest\n",
      "Person\n",
      "Person\n",
      "NO-Hardhat\n",
      "NO-Mask\n",
      "machinery\n"
     ]
    },
    {
     "name": "stderr",
     "output_type": "stream",
     "text": [
      "0: 384x640 1 NO-Hardhat, 1 NO-Mask, 1 NO-Safety Vest, 2 Persons, 1567.2ms\n",
      "Speed: 4.2ms preprocess, 1567.2ms inference, 1.6ms postprocess per image at shape (1, 3, 640, 640)\n",
      "\n"
     ]
    },
    {
     "name": "stdout",
     "output_type": "stream",
     "text": [
      "NO-Safety Vest\n",
      "Person\n",
      "NO-Hardhat\n",
      "Person\n",
      "NO-Mask\n"
     ]
    },
    {
     "name": "stderr",
     "output_type": "stream",
     "text": [
      "0: 384x640 1 NO-Hardhat, 1 NO-Mask, 1 NO-Safety Vest, 2 Persons, 1604.7ms\n",
      "Speed: 4.3ms preprocess, 1604.7ms inference, 3.0ms postprocess per image at shape (1, 3, 640, 640)\n",
      "\n"
     ]
    },
    {
     "name": "stdout",
     "output_type": "stream",
     "text": [
      "NO-Safety Vest\n",
      "Person\n",
      "NO-Hardhat\n",
      "NO-Mask\n",
      "Person\n"
     ]
    },
    {
     "name": "stderr",
     "output_type": "stream",
     "text": [
      "0: 384x640 1 NO-Hardhat, 1 NO-Mask, 1 NO-Safety Vest, 2 Persons, 1706.3ms\n",
      "Speed: 4.0ms preprocess, 1706.3ms inference, 2.5ms postprocess per image at shape (1, 3, 640, 640)\n",
      "\n"
     ]
    },
    {
     "name": "stdout",
     "output_type": "stream",
     "text": [
      "NO-Safety Vest\n",
      "Person\n",
      "NO-Hardhat\n",
      "NO-Mask\n",
      "Person\n"
     ]
    },
    {
     "name": "stderr",
     "output_type": "stream",
     "text": [
      "0: 384x640 1 NO-Hardhat, 1 NO-Mask, 1 NO-Safety Vest, 1 Person, 1793.2ms\n",
      "Speed: 4.0ms preprocess, 1793.2ms inference, 3.0ms postprocess per image at shape (1, 3, 640, 640)\n",
      "\n"
     ]
    },
    {
     "name": "stdout",
     "output_type": "stream",
     "text": [
      "NO-Safety Vest\n",
      "Person\n",
      "NO-Hardhat\n",
      "NO-Mask\n"
     ]
    },
    {
     "name": "stderr",
     "output_type": "stream",
     "text": [
      "0: 384x640 1 NO-Hardhat, 1 NO-Mask, 1 NO-Safety Vest, 2 Persons, 1842.5ms\n",
      "Speed: 4.0ms preprocess, 1842.5ms inference, 2.3ms postprocess per image at shape (1, 3, 640, 640)\n",
      "\n"
     ]
    },
    {
     "name": "stdout",
     "output_type": "stream",
     "text": [
      "NO-Safety Vest\n",
      "Person\n",
      "NO-Hardhat\n",
      "NO-Mask\n",
      "Person\n"
     ]
    },
    {
     "name": "stderr",
     "output_type": "stream",
     "text": [
      "0: 384x640 1 NO-Hardhat, 1 NO-Mask, 1 NO-Safety Vest, 2 Persons, 1846.1ms\n",
      "Speed: 4.0ms preprocess, 1846.1ms inference, 1.5ms postprocess per image at shape (1, 3, 640, 640)\n",
      "\n"
     ]
    },
    {
     "name": "stdout",
     "output_type": "stream",
     "text": [
      "NO-Safety Vest\n",
      "Person\n",
      "NO-Hardhat\n",
      "Person\n",
      "NO-Mask\n"
     ]
    },
    {
     "name": "stderr",
     "output_type": "stream",
     "text": [
      "0: 384x640 1 NO-Hardhat, 1 NO-Mask, 1 NO-Safety Vest, 2 Persons, 1801.0ms\n",
      "Speed: 4.0ms preprocess, 1801.0ms inference, 2.5ms postprocess per image at shape (1, 3, 640, 640)\n",
      "\n"
     ]
    },
    {
     "name": "stdout",
     "output_type": "stream",
     "text": [
      "NO-Safety Vest\n",
      "Person\n",
      "NO-Hardhat\n",
      "Person\n",
      "NO-Mask\n"
     ]
    },
    {
     "name": "stderr",
     "output_type": "stream",
     "text": [
      "0: 384x640 1 NO-Hardhat, 1 NO-Mask, 1 NO-Safety Vest, 2 Persons, 1699.5ms\n",
      "Speed: 5.0ms preprocess, 1699.5ms inference, 2.0ms postprocess per image at shape (1, 3, 640, 640)\n",
      "\n"
     ]
    },
    {
     "name": "stdout",
     "output_type": "stream",
     "text": [
      "NO-Safety Vest\n",
      "Person\n",
      "NO-Hardhat\n",
      "Person\n",
      "NO-Mask\n"
     ]
    },
    {
     "name": "stderr",
     "output_type": "stream",
     "text": [
      "0: 384x640 1 NO-Hardhat, 1 NO-Mask, 1 NO-Safety Vest, 2 Persons, 1615.7ms\n",
      "Speed: 4.0ms preprocess, 1615.7ms inference, 2.3ms postprocess per image at shape (1, 3, 640, 640)\n",
      "\n"
     ]
    },
    {
     "name": "stdout",
     "output_type": "stream",
     "text": [
      "NO-Safety Vest\n",
      "Person\n",
      "NO-Hardhat\n",
      "Person\n",
      "NO-Mask\n"
     ]
    },
    {
     "name": "stderr",
     "output_type": "stream",
     "text": [
      "0: 384x640 1 NO-Hardhat, 1 NO-Mask, 1 NO-Safety Vest, 2 Persons, 1609.5ms\n",
      "Speed: 6.2ms preprocess, 1609.5ms inference, 2.0ms postprocess per image at shape (1, 3, 640, 640)\n",
      "\n"
     ]
    },
    {
     "name": "stdout",
     "output_type": "stream",
     "text": [
      "NO-Safety Vest\n",
      "Person\n",
      "NO-Hardhat\n",
      "Person\n",
      "NO-Mask\n"
     ]
    },
    {
     "name": "stderr",
     "output_type": "stream",
     "text": [
      "0: 384x640 1 NO-Hardhat, 1 NO-Mask, 1 NO-Safety Vest, 2 Persons, 1583.6ms\n",
      "Speed: 4.2ms preprocess, 1583.6ms inference, 1.6ms postprocess per image at shape (1, 3, 640, 640)\n",
      "\n"
     ]
    },
    {
     "name": "stdout",
     "output_type": "stream",
     "text": [
      "NO-Safety Vest\n",
      "Person\n",
      "NO-Hardhat\n",
      "Person\n",
      "NO-Mask\n"
     ]
    },
    {
     "name": "stderr",
     "output_type": "stream",
     "text": [
      "0: 384x640 1 NO-Hardhat, 1 NO-Mask, 1 NO-Safety Vest, 2 Persons, 1582.9ms\n",
      "Speed: 3.9ms preprocess, 1582.9ms inference, 2.0ms postprocess per image at shape (1, 3, 640, 640)\n",
      "\n"
     ]
    },
    {
     "name": "stdout",
     "output_type": "stream",
     "text": [
      "NO-Safety Vest\n",
      "Person\n",
      "Person\n",
      "NO-Hardhat\n",
      "NO-Mask\n"
     ]
    },
    {
     "name": "stderr",
     "output_type": "stream",
     "text": [
      "0: 384x640 1 NO-Hardhat, 1 NO-Mask, 1 NO-Safety Vest, 2 Persons, 1762.7ms\n",
      "Speed: 3.0ms preprocess, 1762.7ms inference, 2.5ms postprocess per image at shape (1, 3, 640, 640)\n",
      "\n"
     ]
    },
    {
     "name": "stdout",
     "output_type": "stream",
     "text": [
      "NO-Safety Vest\n",
      "Person\n",
      "NO-Hardhat\n",
      "Person\n",
      "NO-Mask\n"
     ]
    },
    {
     "name": "stderr",
     "output_type": "stream",
     "text": [
      "0: 384x640 1 NO-Hardhat, 1 NO-Mask, 1 NO-Safety Vest, 2 Persons, 1837.5ms\n",
      "Speed: 3.0ms preprocess, 1837.5ms inference, 3.5ms postprocess per image at shape (1, 3, 640, 640)\n",
      "\n"
     ]
    },
    {
     "name": "stdout",
     "output_type": "stream",
     "text": [
      "NO-Safety Vest\n",
      "Person\n",
      "Person\n",
      "NO-Hardhat\n",
      "NO-Mask\n"
     ]
    },
    {
     "name": "stderr",
     "output_type": "stream",
     "text": [
      "0: 384x640 1 NO-Hardhat, 1 NO-Mask, 1 NO-Safety Vest, 2 Persons, 2003.1ms\n",
      "Speed: 6.8ms preprocess, 2003.1ms inference, 2.5ms postprocess per image at shape (1, 3, 640, 640)\n",
      "\n"
     ]
    },
    {
     "name": "stdout",
     "output_type": "stream",
     "text": [
      "NO-Safety Vest\n",
      "Person\n",
      "Person\n",
      "NO-Hardhat\n",
      "NO-Mask\n"
     ]
    },
    {
     "name": "stderr",
     "output_type": "stream",
     "text": [
      "0: 384x640 1 NO-Hardhat, 1 NO-Mask, 1 NO-Safety Vest, 2 Persons, 1827.5ms\n",
      "Speed: 4.5ms preprocess, 1827.5ms inference, 3.0ms postprocess per image at shape (1, 3, 640, 640)\n",
      "\n"
     ]
    },
    {
     "name": "stdout",
     "output_type": "stream",
     "text": [
      "Person\n",
      "NO-Safety Vest\n",
      "Person\n",
      "NO-Hardhat\n",
      "NO-Mask\n"
     ]
    },
    {
     "name": "stderr",
     "output_type": "stream",
     "text": [
      "0: 384x640 1 NO-Hardhat, 1 NO-Mask, 1 NO-Safety Vest, 2 Persons, 1755.4ms\n",
      "Speed: 6.5ms preprocess, 1755.4ms inference, 1.5ms postprocess per image at shape (1, 3, 640, 640)\n",
      "\n"
     ]
    },
    {
     "name": "stdout",
     "output_type": "stream",
     "text": [
      "NO-Safety Vest\n",
      "Person\n",
      "Person\n",
      "NO-Hardhat\n",
      "NO-Mask\n"
     ]
    },
    {
     "name": "stderr",
     "output_type": "stream",
     "text": [
      "0: 384x640 1 NO-Hardhat, 1 NO-Mask, 1 NO-Safety Vest, 2 Persons, 1606.6ms\n",
      "Speed: 4.4ms preprocess, 1606.6ms inference, 2.0ms postprocess per image at shape (1, 3, 640, 640)\n",
      "\n"
     ]
    },
    {
     "name": "stdout",
     "output_type": "stream",
     "text": [
      "NO-Safety Vest\n",
      "Person\n",
      "Person\n",
      "NO-Hardhat\n",
      "NO-Mask\n"
     ]
    },
    {
     "name": "stderr",
     "output_type": "stream",
     "text": [
      "0: 384x640 1 NO-Hardhat, 1 NO-Mask, 1 NO-Safety Vest, 2 Persons, 1588.8ms\n",
      "Speed: 4.1ms preprocess, 1588.8ms inference, 2.0ms postprocess per image at shape (1, 3, 640, 640)\n",
      "\n"
     ]
    },
    {
     "name": "stdout",
     "output_type": "stream",
     "text": [
      "NO-Safety Vest\n",
      "Person\n",
      "Person\n",
      "NO-Hardhat\n",
      "NO-Mask\n"
     ]
    },
    {
     "name": "stderr",
     "output_type": "stream",
     "text": [
      "0: 384x640 1 NO-Hardhat, 1 NO-Mask, 1 NO-Safety Vest, 2 Persons, 1564.5ms\n",
      "Speed: 4.0ms preprocess, 1564.5ms inference, 1.0ms postprocess per image at shape (1, 3, 640, 640)\n",
      "\n"
     ]
    },
    {
     "name": "stdout",
     "output_type": "stream",
     "text": [
      "NO-Safety Vest\n",
      "Person\n",
      "Person\n",
      "NO-Hardhat\n",
      "NO-Mask\n"
     ]
    },
    {
     "name": "stderr",
     "output_type": "stream",
     "text": [
      "0: 384x640 1 NO-Hardhat, 1 NO-Mask, 1 NO-Safety Vest, 2 Persons, 1590.3ms\n",
      "Speed: 4.0ms preprocess, 1590.3ms inference, 2.5ms postprocess per image at shape (1, 3, 640, 640)\n",
      "\n"
     ]
    },
    {
     "name": "stdout",
     "output_type": "stream",
     "text": [
      "NO-Safety Vest\n",
      "Person\n",
      "Person\n",
      "NO-Hardhat\n",
      "NO-Mask\n"
     ]
    },
    {
     "name": "stderr",
     "output_type": "stream",
     "text": [
      "0: 384x640 1 NO-Hardhat, 1 NO-Mask, 1 NO-Safety Vest, 2 Persons, 1783.8ms\n",
      "Speed: 5.0ms preprocess, 1783.8ms inference, 2.6ms postprocess per image at shape (1, 3, 640, 640)\n",
      "\n"
     ]
    },
    {
     "name": "stdout",
     "output_type": "stream",
     "text": [
      "NO-Safety Vest\n",
      "Person\n",
      "Person\n",
      "NO-Hardhat\n",
      "NO-Mask\n"
     ]
    },
    {
     "name": "stderr",
     "output_type": "stream",
     "text": [
      "0: 384x640 1 NO-Hardhat, 1 NO-Mask, 1 NO-Safety Vest, 2 Persons, 1925.9ms\n",
      "Speed: 4.3ms preprocess, 1925.9ms inference, 2.2ms postprocess per image at shape (1, 3, 640, 640)\n",
      "\n"
     ]
    },
    {
     "name": "stdout",
     "output_type": "stream",
     "text": [
      "NO-Safety Vest\n",
      "Person\n",
      "NO-Hardhat\n",
      "Person\n",
      "NO-Mask\n"
     ]
    },
    {
     "name": "stderr",
     "output_type": "stream",
     "text": [
      "0: 384x640 1 NO-Hardhat, 1 NO-Mask, 1 NO-Safety Vest, 2 Persons, 1841.5ms\n",
      "Speed: 3.9ms preprocess, 1841.5ms inference, 3.0ms postprocess per image at shape (1, 3, 640, 640)\n",
      "\n"
     ]
    },
    {
     "name": "stdout",
     "output_type": "stream",
     "text": [
      "NO-Safety Vest\n",
      "Person\n",
      "Person\n",
      "NO-Hardhat\n",
      "NO-Mask\n"
     ]
    },
    {
     "name": "stderr",
     "output_type": "stream",
     "text": [
      "0: 384x640 1 NO-Hardhat, 1 NO-Mask, 1 NO-Safety Vest, 2 Persons, 1801.3ms\n",
      "Speed: 3.5ms preprocess, 1801.3ms inference, 2.5ms postprocess per image at shape (1, 3, 640, 640)\n",
      "\n"
     ]
    },
    {
     "name": "stdout",
     "output_type": "stream",
     "text": [
      "NO-Safety Vest\n",
      "Person\n",
      "Person\n",
      "NO-Hardhat\n",
      "NO-Mask\n"
     ]
    },
    {
     "name": "stderr",
     "output_type": "stream",
     "text": [
      "0: 384x640 1 NO-Hardhat, 1 NO-Mask, 1 NO-Safety Vest, 2 Persons, 1756.2ms\n",
      "Speed: 4.0ms preprocess, 1756.2ms inference, 2.0ms postprocess per image at shape (1, 3, 640, 640)\n",
      "\n"
     ]
    },
    {
     "name": "stdout",
     "output_type": "stream",
     "text": [
      "NO-Safety Vest\n",
      "Person\n",
      "NO-Hardhat\n",
      "Person\n",
      "NO-Mask\n"
     ]
    },
    {
     "name": "stderr",
     "output_type": "stream",
     "text": [
      "0: 384x640 1 NO-Hardhat, 1 NO-Mask, 1 NO-Safety Vest, 2 Persons, 1602.4ms\n",
      "Speed: 4.3ms preprocess, 1602.4ms inference, 2.6ms postprocess per image at shape (1, 3, 640, 640)\n",
      "\n"
     ]
    },
    {
     "name": "stdout",
     "output_type": "stream",
     "text": [
      "NO-Safety Vest\n",
      "Person\n",
      "Person\n",
      "NO-Hardhat\n",
      "NO-Mask\n"
     ]
    },
    {
     "name": "stderr",
     "output_type": "stream",
     "text": [
      "0: 384x640 1 NO-Hardhat, 1 NO-Mask, 1 NO-Safety Vest, 2 Persons, 1581.1ms\n",
      "Speed: 4.8ms preprocess, 1581.1ms inference, 1.8ms postprocess per image at shape (1, 3, 640, 640)\n",
      "\n"
     ]
    },
    {
     "name": "stdout",
     "output_type": "stream",
     "text": [
      "NO-Safety Vest\n",
      "Person\n",
      "NO-Hardhat\n",
      "Person\n",
      "NO-Mask\n"
     ]
    },
    {
     "name": "stderr",
     "output_type": "stream",
     "text": [
      "0: 384x640 1 NO-Hardhat, 1 NO-Mask, 1 NO-Safety Vest, 2 Persons, 1727.7ms\n",
      "Speed: 4.0ms preprocess, 1727.7ms inference, 2.0ms postprocess per image at shape (1, 3, 640, 640)\n",
      "\n"
     ]
    },
    {
     "name": "stdout",
     "output_type": "stream",
     "text": [
      "NO-Safety Vest\n",
      "Person\n",
      "Person\n",
      "NO-Hardhat\n",
      "NO-Mask\n"
     ]
    },
    {
     "name": "stderr",
     "output_type": "stream",
     "text": [
      "0: 384x640 1 NO-Hardhat, 1 NO-Mask, 1 NO-Safety Vest, 2 Persons, 1633.2ms\n",
      "Speed: 3.5ms preprocess, 1633.2ms inference, 2.0ms postprocess per image at shape (1, 3, 640, 640)\n",
      "\n"
     ]
    },
    {
     "name": "stdout",
     "output_type": "stream",
     "text": [
      "NO-Safety Vest\n",
      "Person\n",
      "NO-Hardhat\n",
      "NO-Mask\n",
      "Person\n"
     ]
    },
    {
     "name": "stderr",
     "output_type": "stream",
     "text": [
      "0: 384x640 1 NO-Hardhat, 1 NO-Mask, 1 NO-Safety Vest, 1 Person, 1759.3ms\n",
      "Speed: 4.3ms preprocess, 1759.3ms inference, 2.0ms postprocess per image at shape (1, 3, 640, 640)\n",
      "\n"
     ]
    },
    {
     "name": "stdout",
     "output_type": "stream",
     "text": [
      "NO-Safety Vest\n",
      "Person\n",
      "NO-Hardhat\n",
      "NO-Mask\n"
     ]
    },
    {
     "name": "stderr",
     "output_type": "stream",
     "text": [
      "0: 384x640 1 NO-Hardhat, 1 NO-Mask, 1 NO-Safety Vest, 1 Person, 1820.7ms\n",
      "Speed: 4.6ms preprocess, 1820.7ms inference, 3.1ms postprocess per image at shape (1, 3, 640, 640)\n",
      "\n"
     ]
    },
    {
     "name": "stdout",
     "output_type": "stream",
     "text": [
      "NO-Safety Vest\n",
      "Person\n",
      "NO-Hardhat\n",
      "NO-Mask\n"
     ]
    },
    {
     "name": "stderr",
     "output_type": "stream",
     "text": [
      "0: 384x640 1 NO-Hardhat, 1 NO-Mask, 1 NO-Safety Vest, 1 Person, 1819.2ms\n",
      "Speed: 3.8ms preprocess, 1819.2ms inference, 3.0ms postprocess per image at shape (1, 3, 640, 640)\n",
      "\n"
     ]
    },
    {
     "name": "stdout",
     "output_type": "stream",
     "text": [
      "NO-Safety Vest\n",
      "Person\n",
      "NO-Hardhat\n",
      "NO-Mask\n"
     ]
    },
    {
     "name": "stderr",
     "output_type": "stream",
     "text": [
      "0: 384x640 1 NO-Hardhat, 1 NO-Mask, 1 NO-Safety Vest, 1 Person, 1843.7ms\n",
      "Speed: 4.5ms preprocess, 1843.7ms inference, 3.2ms postprocess per image at shape (1, 3, 640, 640)\n",
      "\n"
     ]
    },
    {
     "name": "stdout",
     "output_type": "stream",
     "text": [
      "NO-Safety Vest\n",
      "Person\n",
      "NO-Hardhat\n",
      "NO-Mask\n"
     ]
    },
    {
     "name": "stderr",
     "output_type": "stream",
     "text": [
      "0: 384x640 1 NO-Hardhat, 1 NO-Mask, 1 NO-Safety Vest, 2 Persons, 1714.2ms\n",
      "Speed: 3.6ms preprocess, 1714.2ms inference, 3.0ms postprocess per image at shape (1, 3, 640, 640)\n",
      "\n"
     ]
    },
    {
     "name": "stdout",
     "output_type": "stream",
     "text": [
      "NO-Safety Vest\n",
      "Person\n",
      "NO-Hardhat\n",
      "NO-Mask\n",
      "Person\n"
     ]
    },
    {
     "name": "stderr",
     "output_type": "stream",
     "text": [
      "0: 384x640 1 NO-Hardhat, 1 NO-Mask, 1 NO-Safety Vest, 2 Persons, 1583.2ms\n",
      "Speed: 4.0ms preprocess, 1583.2ms inference, 2.5ms postprocess per image at shape (1, 3, 640, 640)\n",
      "\n"
     ]
    },
    {
     "name": "stdout",
     "output_type": "stream",
     "text": [
      "NO-Safety Vest\n",
      "Person\n",
      "NO-Hardhat\n",
      "Person\n",
      "NO-Mask\n"
     ]
    },
    {
     "name": "stderr",
     "output_type": "stream",
     "text": [
      "0: 384x640 1 NO-Hardhat, 1 NO-Mask, 1 NO-Safety Vest, 2 Persons, 1580.0ms\n",
      "Speed: 4.5ms preprocess, 1580.0ms inference, 2.8ms postprocess per image at shape (1, 3, 640, 640)\n",
      "\n"
     ]
    },
    {
     "name": "stdout",
     "output_type": "stream",
     "text": [
      "NO-Safety Vest\n",
      "Person\n",
      "NO-Hardhat\n",
      "Person\n",
      "NO-Mask\n"
     ]
    },
    {
     "name": "stderr",
     "output_type": "stream",
     "text": [
      "0: 384x640 1 NO-Hardhat, 1 NO-Mask, 1 NO-Safety Vest, 2 Persons, 1593.6ms\n",
      "Speed: 4.0ms preprocess, 1593.6ms inference, 3.0ms postprocess per image at shape (1, 3, 640, 640)\n",
      "\n"
     ]
    },
    {
     "name": "stdout",
     "output_type": "stream",
     "text": [
      "NO-Safety Vest\n",
      "Person\n",
      "NO-Hardhat\n",
      "Person\n",
      "NO-Mask\n"
     ]
    },
    {
     "name": "stderr",
     "output_type": "stream",
     "text": [
      "0: 384x640 1 NO-Hardhat, 1 NO-Mask, 1 NO-Safety Vest, 1 Person, 1586.6ms\n",
      "Speed: 4.6ms preprocess, 1586.6ms inference, 2.0ms postprocess per image at shape (1, 3, 640, 640)\n",
      "\n"
     ]
    },
    {
     "name": "stdout",
     "output_type": "stream",
     "text": [
      "NO-Safety Vest\n",
      "Person\n",
      "NO-Hardhat\n",
      "NO-Mask\n"
     ]
    },
    {
     "name": "stderr",
     "output_type": "stream",
     "text": [
      "0: 384x640 1 NO-Hardhat, 1 NO-Mask, 1 NO-Safety Vest, 2 Persons, 1762.9ms\n",
      "Speed: 4.0ms preprocess, 1762.9ms inference, 3.0ms postprocess per image at shape (1, 3, 640, 640)\n",
      "\n"
     ]
    },
    {
     "name": "stdout",
     "output_type": "stream",
     "text": [
      "NO-Safety Vest\n",
      "Person\n",
      "NO-Hardhat\n",
      "Person\n",
      "NO-Mask\n"
     ]
    },
    {
     "name": "stderr",
     "output_type": "stream",
     "text": [
      "0: 384x640 1 NO-Hardhat, 1 NO-Mask, 1 NO-Safety Vest, 1 Person, 1814.5ms\n",
      "Speed: 4.5ms preprocess, 1814.5ms inference, 2.0ms postprocess per image at shape (1, 3, 640, 640)\n",
      "\n"
     ]
    },
    {
     "name": "stdout",
     "output_type": "stream",
     "text": [
      "NO-Safety Vest\n",
      "Person\n",
      "NO-Hardhat\n",
      "NO-Mask\n"
     ]
    },
    {
     "name": "stderr",
     "output_type": "stream",
     "text": [
      "0: 384x640 1 NO-Hardhat, 1 NO-Mask, 1 NO-Safety Vest, 2 Persons, 1828.5ms\n",
      "Speed: 4.2ms preprocess, 1828.5ms inference, 4.0ms postprocess per image at shape (1, 3, 640, 640)\n",
      "\n"
     ]
    },
    {
     "name": "stdout",
     "output_type": "stream",
     "text": [
      "NO-Safety Vest\n",
      "Person\n",
      "NO-Hardhat\n",
      "Person\n",
      "NO-Mask\n"
     ]
    },
    {
     "name": "stderr",
     "output_type": "stream",
     "text": [
      "0: 384x640 1 NO-Hardhat, 1 NO-Mask, 1 NO-Safety Vest, 2 Persons, 1819.7ms\n",
      "Speed: 3.5ms preprocess, 1819.7ms inference, 3.0ms postprocess per image at shape (1, 3, 640, 640)\n",
      "\n"
     ]
    },
    {
     "name": "stdout",
     "output_type": "stream",
     "text": [
      "NO-Safety Vest\n",
      "Person\n",
      "Person\n",
      "NO-Hardhat\n",
      "NO-Mask\n"
     ]
    },
    {
     "name": "stderr",
     "output_type": "stream",
     "text": [
      "0: 384x640 1 NO-Hardhat, 1 NO-Mask, 1 NO-Safety Vest, 2 Persons, 1947.2ms\n",
      "Speed: 6.9ms preprocess, 1947.2ms inference, 2.9ms postprocess per image at shape (1, 3, 640, 640)\n",
      "\n"
     ]
    },
    {
     "name": "stdout",
     "output_type": "stream",
     "text": [
      "NO-Safety Vest\n",
      "Person\n",
      "Person\n",
      "NO-Hardhat\n",
      "NO-Mask\n"
     ]
    },
    {
     "name": "stderr",
     "output_type": "stream",
     "text": [
      "0: 384x640 1 NO-Hardhat, 1 NO-Mask, 1 NO-Safety Vest, 2 Persons, 1602.3ms\n",
      "Speed: 4.6ms preprocess, 1602.3ms inference, 2.0ms postprocess per image at shape (1, 3, 640, 640)\n",
      "\n"
     ]
    },
    {
     "name": "stdout",
     "output_type": "stream",
     "text": [
      "NO-Safety Vest\n",
      "Person\n",
      "NO-Hardhat\n",
      "Person\n",
      "NO-Mask\n"
     ]
    },
    {
     "name": "stderr",
     "output_type": "stream",
     "text": [
      "0: 384x640 1 NO-Hardhat, 1 NO-Mask, 1 NO-Safety Vest, 2 Persons, 1602.0ms\n",
      "Speed: 4.0ms preprocess, 1602.0ms inference, 2.5ms postprocess per image at shape (1, 3, 640, 640)\n",
      "\n"
     ]
    },
    {
     "name": "stdout",
     "output_type": "stream",
     "text": [
      "NO-Safety Vest\n",
      "Person\n",
      "NO-Hardhat\n",
      "Person\n",
      "NO-Mask\n"
     ]
    },
    {
     "name": "stderr",
     "output_type": "stream",
     "text": [
      "0: 384x640 1 NO-Hardhat, 1 NO-Mask, 1 NO-Safety Vest, 2 Persons, 1 machinery, 1586.0ms\n",
      "Speed: 4.6ms preprocess, 1586.0ms inference, 2.5ms postprocess per image at shape (1, 3, 640, 640)\n",
      "\n"
     ]
    },
    {
     "name": "stdout",
     "output_type": "stream",
     "text": [
      "NO-Safety Vest\n",
      "Person\n",
      "NO-Hardhat\n",
      "Person\n",
      "NO-Mask\n",
      "machinery\n"
     ]
    },
    {
     "name": "stderr",
     "output_type": "stream",
     "text": [
      "0: 384x640 1 NO-Hardhat, 1 NO-Mask, 1 NO-Safety Vest, 2 Persons, 1 machinery, 1588.9ms\n",
      "Speed: 3.5ms preprocess, 1588.9ms inference, 3.0ms postprocess per image at shape (1, 3, 640, 640)\n",
      "\n"
     ]
    },
    {
     "name": "stdout",
     "output_type": "stream",
     "text": [
      "NO-Safety Vest\n",
      "Person\n",
      "Person\n",
      "NO-Hardhat\n",
      "NO-Mask\n",
      "machinery\n"
     ]
    },
    {
     "name": "stderr",
     "output_type": "stream",
     "text": [
      "0: 384x640 1 NO-Hardhat, 1 NO-Mask, 1 NO-Safety Vest, 2 Persons, 1 machinery, 1773.0ms\n",
      "Speed: 3.6ms preprocess, 1773.0ms inference, 3.0ms postprocess per image at shape (1, 3, 640, 640)\n",
      "\n"
     ]
    },
    {
     "name": "stdout",
     "output_type": "stream",
     "text": [
      "NO-Safety Vest\n",
      "Person\n",
      "Person\n",
      "NO-Hardhat\n",
      "NO-Mask\n",
      "machinery\n"
     ]
    },
    {
     "name": "stderr",
     "output_type": "stream",
     "text": [
      "0: 384x640 1 NO-Hardhat, 1 NO-Mask, 1 NO-Safety Vest, 2 Persons, 1 machinery, 1810.8ms\n",
      "Speed: 4.0ms preprocess, 1810.8ms inference, 3.5ms postprocess per image at shape (1, 3, 640, 640)\n",
      "\n"
     ]
    },
    {
     "name": "stdout",
     "output_type": "stream",
     "text": [
      "NO-Safety Vest\n",
      "Person\n",
      "Person\n",
      "NO-Hardhat\n",
      "NO-Mask\n",
      "machinery\n"
     ]
    },
    {
     "name": "stderr",
     "output_type": "stream",
     "text": [
      "0: 384x640 1 NO-Hardhat, 1 NO-Mask, 1 NO-Safety Vest, 2 Persons, 1 machinery, 1820.4ms\n",
      "Speed: 4.0ms preprocess, 1820.4ms inference, 2.2ms postprocess per image at shape (1, 3, 640, 640)\n",
      "\n"
     ]
    },
    {
     "name": "stdout",
     "output_type": "stream",
     "text": [
      "NO-Safety Vest\n",
      "Person\n",
      "Person\n",
      "NO-Hardhat\n",
      "NO-Mask\n",
      "machinery\n"
     ]
    },
    {
     "name": "stderr",
     "output_type": "stream",
     "text": [
      "0: 384x640 1 NO-Hardhat, 1 NO-Mask, 1 NO-Safety Vest, 2 Persons, 1 machinery, 1831.8ms\n",
      "Speed: 4.1ms preprocess, 1831.8ms inference, 2.5ms postprocess per image at shape (1, 3, 640, 640)\n",
      "\n"
     ]
    },
    {
     "name": "stdout",
     "output_type": "stream",
     "text": [
      "NO-Safety Vest\n",
      "Person\n",
      "Person\n",
      "NO-Hardhat\n",
      "machinery\n",
      "NO-Mask\n"
     ]
    },
    {
     "name": "stderr",
     "output_type": "stream",
     "text": [
      "0: 384x640 1 NO-Hardhat, 1 NO-Mask, 1 NO-Safety Vest, 2 Persons, 1 machinery, 1769.6ms\n",
      "Speed: 4.0ms preprocess, 1769.6ms inference, 2.5ms postprocess per image at shape (1, 3, 640, 640)\n",
      "\n"
     ]
    },
    {
     "name": "stdout",
     "output_type": "stream",
     "text": [
      "NO-Safety Vest\n",
      "Person\n",
      "Person\n",
      "NO-Hardhat\n",
      "NO-Mask\n",
      "machinery\n"
     ]
    },
    {
     "name": "stderr",
     "output_type": "stream",
     "text": [
      "0: 384x640 1 NO-Hardhat, 1 NO-Mask, 1 NO-Safety Vest, 2 Persons, 1 machinery, 1608.4ms\n",
      "Speed: 3.6ms preprocess, 1608.4ms inference, 2.3ms postprocess per image at shape (1, 3, 640, 640)\n",
      "\n"
     ]
    },
    {
     "name": "stdout",
     "output_type": "stream",
     "text": [
      "NO-Safety Vest\n",
      "Person\n",
      "Person\n",
      "NO-Hardhat\n",
      "machinery\n",
      "NO-Mask\n"
     ]
    },
    {
     "name": "stderr",
     "output_type": "stream",
     "text": [
      "0: 384x640 1 NO-Hardhat, 1 NO-Mask, 1 NO-Safety Vest, 2 Persons, 1 machinery, 1589.1ms\n",
      "Speed: 3.5ms preprocess, 1589.1ms inference, 1.0ms postprocess per image at shape (1, 3, 640, 640)\n",
      "\n"
     ]
    },
    {
     "name": "stdout",
     "output_type": "stream",
     "text": [
      "NO-Safety Vest\n",
      "Person\n",
      "Person\n",
      "NO-Hardhat\n",
      "machinery\n",
      "NO-Mask\n"
     ]
    },
    {
     "name": "stderr",
     "output_type": "stream",
     "text": [
      "0: 384x640 1 NO-Hardhat, 1 NO-Mask, 1 NO-Safety Vest, 2 Persons, 1 machinery, 1578.2ms\n",
      "Speed: 4.2ms preprocess, 1578.2ms inference, 2.0ms postprocess per image at shape (1, 3, 640, 640)\n",
      "\n"
     ]
    },
    {
     "name": "stdout",
     "output_type": "stream",
     "text": [
      "NO-Safety Vest\n",
      "Person\n",
      "Person\n",
      "NO-Hardhat\n",
      "NO-Mask\n",
      "machinery\n"
     ]
    },
    {
     "name": "stderr",
     "output_type": "stream",
     "text": [
      "0: 384x640 1 NO-Hardhat, 1 NO-Mask, 1 NO-Safety Vest, 2 Persons, 1 machinery, 1590.8ms\n",
      "Speed: 4.0ms preprocess, 1590.8ms inference, 2.4ms postprocess per image at shape (1, 3, 640, 640)\n",
      "\n"
     ]
    },
    {
     "name": "stdout",
     "output_type": "stream",
     "text": [
      "NO-Safety Vest\n",
      "Person\n",
      "NO-Hardhat\n",
      "Person\n",
      "machinery\n",
      "NO-Mask\n"
     ]
    },
    {
     "name": "stderr",
     "output_type": "stream",
     "text": [
      "0: 384x640 1 NO-Hardhat, 1 NO-Mask, 1 NO-Safety Vest, 3 Persons, 1751.3ms\n",
      "Speed: 4.6ms preprocess, 1751.3ms inference, 2.0ms postprocess per image at shape (1, 3, 640, 640)\n",
      "\n"
     ]
    },
    {
     "name": "stdout",
     "output_type": "stream",
     "text": [
      "NO-Safety Vest\n",
      "Person\n",
      "Person\n",
      "Person\n",
      "NO-Hardhat\n",
      "NO-Mask\n"
     ]
    },
    {
     "name": "stderr",
     "output_type": "stream",
     "text": [
      "0: 384x640 1 NO-Hardhat, 1 NO-Mask, 1 NO-Safety Vest, 3 Persons, 1962.6ms\n",
      "Speed: 5.0ms preprocess, 1962.6ms inference, 2.5ms postprocess per image at shape (1, 3, 640, 640)\n",
      "\n"
     ]
    },
    {
     "name": "stdout",
     "output_type": "stream",
     "text": [
      "Person\n",
      "NO-Safety Vest\n",
      "Person\n",
      "NO-Hardhat\n",
      "Person\n",
      "NO-Mask\n"
     ]
    },
    {
     "name": "stderr",
     "output_type": "stream",
     "text": [
      "0: 384x640 1 NO-Hardhat, 1 NO-Mask, 2 NO-Safety Vests, 4 Persons, 1817.7ms\n",
      "Speed: 4.2ms preprocess, 1817.7ms inference, 2.9ms postprocess per image at shape (1, 3, 640, 640)\n",
      "\n"
     ]
    },
    {
     "name": "stdout",
     "output_type": "stream",
     "text": [
      "Person\n",
      "NO-Safety Vest\n",
      "Person\n",
      "NO-Hardhat\n",
      "Person\n",
      "NO-Mask\n",
      "NO-Safety Vest\n",
      "Person\n"
     ]
    },
    {
     "name": "stderr",
     "output_type": "stream",
     "text": [
      "0: 384x640 1 NO-Hardhat, 1 NO-Mask, 2 NO-Safety Vests, 4 Persons, 1808.6ms\n",
      "Speed: 5.0ms preprocess, 1808.6ms inference, 2.0ms postprocess per image at shape (1, 3, 640, 640)\n",
      "\n"
     ]
    },
    {
     "name": "stdout",
     "output_type": "stream",
     "text": [
      "NO-Safety Vest\n",
      "Person\n",
      "Person\n",
      "NO-Hardhat\n",
      "Person\n",
      "NO-Mask\n",
      "NO-Safety Vest\n",
      "Person\n"
     ]
    },
    {
     "name": "stderr",
     "output_type": "stream",
     "text": [
      "0: 384x640 1 NO-Hardhat, 1 NO-Mask, 2 NO-Safety Vests, 3 Persons, 1730.2ms\n",
      "Speed: 4.0ms preprocess, 1730.2ms inference, 2.0ms postprocess per image at shape (1, 3, 640, 640)\n",
      "\n"
     ]
    },
    {
     "name": "stdout",
     "output_type": "stream",
     "text": [
      "NO-Safety Vest\n",
      "Person\n",
      "Person\n",
      "NO-Hardhat\n",
      "Person\n",
      "NO-Mask\n",
      "NO-Safety Vest\n"
     ]
    },
    {
     "name": "stderr",
     "output_type": "stream",
     "text": [
      "0: 384x640 1 NO-Hardhat, 1 NO-Mask, 2 NO-Safety Vests, 3 Persons, 1612.4ms\n",
      "Speed: 5.0ms preprocess, 1612.4ms inference, 1.5ms postprocess per image at shape (1, 3, 640, 640)\n",
      "\n"
     ]
    },
    {
     "name": "stdout",
     "output_type": "stream",
     "text": [
      "Person\n",
      "NO-Safety Vest\n",
      "Person\n",
      "Person\n",
      "NO-Hardhat\n",
      "NO-Mask\n",
      "NO-Safety Vest\n"
     ]
    },
    {
     "name": "stderr",
     "output_type": "stream",
     "text": [
      "0: 384x640 1 NO-Hardhat, 1 NO-Mask, 2 NO-Safety Vests, 3 Persons, 1587.9ms\n",
      "Speed: 5.0ms preprocess, 1587.9ms inference, 2.0ms postprocess per image at shape (1, 3, 640, 640)\n",
      "\n"
     ]
    },
    {
     "name": "stdout",
     "output_type": "stream",
     "text": [
      "NO-Safety Vest\n",
      "Person\n",
      "Person\n",
      "Person\n",
      "NO-Hardhat\n",
      "NO-Mask\n",
      "NO-Safety Vest\n"
     ]
    },
    {
     "name": "stderr",
     "output_type": "stream",
     "text": [
      "0: 384x640 1 NO-Hardhat, 1 NO-Mask, 1 NO-Safety Vest, 3 Persons, 1600.7ms\n",
      "Speed: 4.0ms preprocess, 1600.7ms inference, 3.5ms postprocess per image at shape (1, 3, 640, 640)\n",
      "\n"
     ]
    },
    {
     "name": "stdout",
     "output_type": "stream",
     "text": [
      "NO-Safety Vest\n",
      "Person\n",
      "Person\n",
      "Person\n",
      "NO-Hardhat\n",
      "NO-Mask\n"
     ]
    },
    {
     "name": "stderr",
     "output_type": "stream",
     "text": [
      "0: 384x640 1 NO-Hardhat, 1 NO-Mask, 1 NO-Safety Vest, 3 Persons, 1624.5ms\n",
      "Speed: 4.0ms preprocess, 1624.5ms inference, 2.5ms postprocess per image at shape (1, 3, 640, 640)\n",
      "\n"
     ]
    },
    {
     "name": "stdout",
     "output_type": "stream",
     "text": [
      "NO-Safety Vest\n",
      "Person\n",
      "Person\n",
      "Person\n",
      "NO-Hardhat\n",
      "NO-Mask\n"
     ]
    },
    {
     "name": "stderr",
     "output_type": "stream",
     "text": [
      "0: 384x640 1 NO-Hardhat, 1 NO-Mask, 1 NO-Safety Vest, 3 Persons, 1889.4ms\n",
      "Speed: 5.0ms preprocess, 1889.4ms inference, 3.0ms postprocess per image at shape (1, 3, 640, 640)\n",
      "\n"
     ]
    },
    {
     "name": "stdout",
     "output_type": "stream",
     "text": [
      "NO-Safety Vest\n",
      "Person\n",
      "Person\n",
      "NO-Hardhat\n",
      "Person\n",
      "NO-Mask\n"
     ]
    },
    {
     "name": "stderr",
     "output_type": "stream",
     "text": [
      "0: 384x640 1 NO-Hardhat, 1 NO-Mask, 1 NO-Safety Vest, 3 Persons, 1846.1ms\n",
      "Speed: 4.0ms preprocess, 1846.1ms inference, 3.0ms postprocess per image at shape (1, 3, 640, 640)\n",
      "\n"
     ]
    },
    {
     "name": "stdout",
     "output_type": "stream",
     "text": [
      "NO-Safety Vest\n",
      "Person\n",
      "Person\n",
      "NO-Hardhat\n",
      "Person\n",
      "NO-Mask\n"
     ]
    },
    {
     "name": "stderr",
     "output_type": "stream",
     "text": [
      "0: 384x640 1 NO-Hardhat, 1 NO-Mask, 1 NO-Safety Vest, 4 Persons, 2232.7ms\n",
      "Speed: 4.5ms preprocess, 2232.7ms inference, 3.0ms postprocess per image at shape (1, 3, 640, 640)\n",
      "\n"
     ]
    },
    {
     "name": "stdout",
     "output_type": "stream",
     "text": [
      "NO-Safety Vest\n",
      "Person\n",
      "Person\n",
      "NO-Hardhat\n",
      "Person\n",
      "NO-Mask\n",
      "Person\n"
     ]
    },
    {
     "name": "stderr",
     "output_type": "stream",
     "text": [
      "0: 384x640 1 NO-Hardhat, 1 NO-Mask, 1 NO-Safety Vest, 3 Persons, 2723.3ms\n",
      "Speed: 6.5ms preprocess, 2723.3ms inference, 3.5ms postprocess per image at shape (1, 3, 640, 640)\n",
      "\n"
     ]
    },
    {
     "name": "stdout",
     "output_type": "stream",
     "text": [
      "NO-Safety Vest\n",
      "Person\n",
      "Person\n",
      "NO-Hardhat\n",
      "Person\n",
      "NO-Mask\n"
     ]
    },
    {
     "name": "stderr",
     "output_type": "stream",
     "text": [
      "0: 384x640 1 NO-Hardhat, 1 NO-Mask, 1 NO-Safety Vest, 3 Persons, 2400.5ms\n",
      "Speed: 8.3ms preprocess, 2400.5ms inference, 4.0ms postprocess per image at shape (1, 3, 640, 640)\n",
      "\n"
     ]
    },
    {
     "name": "stdout",
     "output_type": "stream",
     "text": [
      "NO-Safety Vest\n",
      "Person\n",
      "Person\n",
      "NO-Hardhat\n",
      "NO-Mask\n",
      "Person\n"
     ]
    },
    {
     "name": "stderr",
     "output_type": "stream",
     "text": [
      "0: 384x640 1 NO-Hardhat, 1 NO-Mask, 1 NO-Safety Vest, 3 Persons, 2310.2ms\n",
      "Speed: 8.1ms preprocess, 2310.2ms inference, 7.0ms postprocess per image at shape (1, 3, 640, 640)\n",
      "\n"
     ]
    },
    {
     "name": "stdout",
     "output_type": "stream",
     "text": [
      "Person\n",
      "NO-Safety Vest\n",
      "Person\n",
      "NO-Hardhat\n",
      "Person\n",
      "NO-Mask\n"
     ]
    },
    {
     "name": "stderr",
     "output_type": "stream",
     "text": [
      "0: 384x640 1 NO-Hardhat, 1 NO-Mask, 1 NO-Safety Vest, 3 Persons, 2358.2ms\n",
      "Speed: 9.1ms preprocess, 2358.2ms inference, 3.0ms postprocess per image at shape (1, 3, 640, 640)\n",
      "\n"
     ]
    },
    {
     "name": "stdout",
     "output_type": "stream",
     "text": [
      "Person\n",
      "NO-Safety Vest\n",
      "Person\n",
      "NO-Hardhat\n",
      "NO-Mask\n",
      "Person\n"
     ]
    },
    {
     "name": "stderr",
     "output_type": "stream",
     "text": [
      "0: 384x640 1 NO-Hardhat, 1 NO-Mask, 1 NO-Safety Vest, 2 Persons, 2289.8ms\n",
      "Speed: 5.5ms preprocess, 2289.8ms inference, 3.0ms postprocess per image at shape (1, 3, 640, 640)\n",
      "\n"
     ]
    },
    {
     "name": "stdout",
     "output_type": "stream",
     "text": [
      "Person\n",
      "NO-Safety Vest\n",
      "Person\n",
      "NO-Hardhat\n",
      "NO-Mask\n"
     ]
    },
    {
     "name": "stderr",
     "output_type": "stream",
     "text": [
      "0: 384x640 1 NO-Hardhat, 1 NO-Mask, 1 NO-Safety Vest, 2 Persons, 2574.6ms\n",
      "Speed: 6.6ms preprocess, 2574.6ms inference, 3.5ms postprocess per image at shape (1, 3, 640, 640)\n",
      "\n"
     ]
    },
    {
     "name": "stdout",
     "output_type": "stream",
     "text": [
      "Person\n",
      "NO-Safety Vest\n",
      "Person\n",
      "NO-Hardhat\n",
      "NO-Mask\n"
     ]
    },
    {
     "name": "stderr",
     "output_type": "stream",
     "text": [
      "0: 384x640 1 NO-Hardhat, 1 NO-Mask, 1 NO-Safety Vest, 3 Persons, 2502.8ms\n",
      "Speed: 11.9ms preprocess, 2502.8ms inference, 6.4ms postprocess per image at shape (1, 3, 640, 640)\n",
      "\n"
     ]
    },
    {
     "name": "stdout",
     "output_type": "stream",
     "text": [
      "Person\n",
      "NO-Safety Vest\n",
      "Person\n",
      "NO-Hardhat\n",
      "NO-Mask\n",
      "Person\n"
     ]
    },
    {
     "name": "stderr",
     "output_type": "stream",
     "text": [
      "0: 384x640 1 NO-Hardhat, 1 NO-Mask, 1 NO-Safety Vest, 3 Persons, 2842.9ms\n",
      "Speed: 11.7ms preprocess, 2842.9ms inference, 3.5ms postprocess per image at shape (1, 3, 640, 640)\n",
      "\n"
     ]
    },
    {
     "name": "stdout",
     "output_type": "stream",
     "text": [
      "Person\n",
      "NO-Safety Vest\n",
      "Person\n",
      "NO-Hardhat\n",
      "Person\n",
      "NO-Mask\n"
     ]
    },
    {
     "name": "stderr",
     "output_type": "stream",
     "text": [
      "0: 384x640 1 NO-Hardhat, 1 NO-Mask, 1 NO-Safety Vest, 3 Persons, 2403.1ms\n",
      "Speed: 7.0ms preprocess, 2403.1ms inference, 3.6ms postprocess per image at shape (1, 3, 640, 640)\n",
      "\n"
     ]
    },
    {
     "name": "stdout",
     "output_type": "stream",
     "text": [
      "Person\n",
      "NO-Safety Vest\n",
      "Person\n",
      "NO-Hardhat\n",
      "Person\n",
      "NO-Mask\n"
     ]
    },
    {
     "name": "stderr",
     "output_type": "stream",
     "text": [
      "0: 384x640 1 NO-Hardhat, 1 NO-Mask, 1 NO-Safety Vest, 3 Persons, 1836.6ms\n",
      "Speed: 4.7ms preprocess, 1836.6ms inference, 2.5ms postprocess per image at shape (1, 3, 640, 640)\n",
      "\n"
     ]
    },
    {
     "name": "stdout",
     "output_type": "stream",
     "text": [
      "Person\n",
      "NO-Safety Vest\n",
      "Person\n",
      "NO-Hardhat\n",
      "Person\n",
      "NO-Mask\n"
     ]
    },
    {
     "name": "stderr",
     "output_type": "stream",
     "text": [
      "0: 384x640 1 NO-Hardhat, 1 NO-Mask, 1 NO-Safety Vest, 3 Persons, 1709.3ms\n",
      "Speed: 5.0ms preprocess, 1709.3ms inference, 2.0ms postprocess per image at shape (1, 3, 640, 640)\n",
      "\n"
     ]
    },
    {
     "name": "stdout",
     "output_type": "stream",
     "text": [
      "Person\n",
      "NO-Safety Vest\n",
      "Person\n",
      "NO-Hardhat\n",
      "NO-Mask\n",
      "Person\n"
     ]
    },
    {
     "name": "stderr",
     "output_type": "stream",
     "text": [
      "0: 384x640 1 NO-Hardhat, 1 NO-Mask, 1 NO-Safety Vest, 2 Persons, 1790.7ms\n",
      "Speed: 4.0ms preprocess, 1790.7ms inference, 3.0ms postprocess per image at shape (1, 3, 640, 640)\n",
      "\n"
     ]
    },
    {
     "name": "stdout",
     "output_type": "stream",
     "text": [
      "Person\n",
      "NO-Safety Vest\n",
      "Person\n",
      "NO-Hardhat\n",
      "NO-Mask\n"
     ]
    },
    {
     "name": "stderr",
     "output_type": "stream",
     "text": [
      "0: 384x640 1 NO-Hardhat, 1 NO-Mask, 1 NO-Safety Vest, 3 Persons, 1806.7ms\n",
      "Speed: 3.6ms preprocess, 1806.7ms inference, 3.5ms postprocess per image at shape (1, 3, 640, 640)\n",
      "\n"
     ]
    },
    {
     "name": "stdout",
     "output_type": "stream",
     "text": [
      "Person\n",
      "NO-Safety Vest\n",
      "Person\n",
      "NO-Hardhat\n",
      "NO-Mask\n",
      "Person\n"
     ]
    },
    {
     "name": "stderr",
     "output_type": "stream",
     "text": [
      "0: 384x640 1 NO-Hardhat, 1 NO-Mask, 1 NO-Safety Vest, 3 Persons, 1792.5ms\n",
      "Speed: 4.8ms preprocess, 1792.5ms inference, 3.0ms postprocess per image at shape (1, 3, 640, 640)\n",
      "\n"
     ]
    },
    {
     "name": "stdout",
     "output_type": "stream",
     "text": [
      "Person\n",
      "NO-Safety Vest\n",
      "Person\n",
      "NO-Hardhat\n",
      "NO-Mask\n",
      "Person\n"
     ]
    },
    {
     "name": "stderr",
     "output_type": "stream",
     "text": [
      "0: 384x640 1 NO-Hardhat, 1 NO-Mask, 1 NO-Safety Vest, 3 Persons, 1778.2ms\n",
      "Speed: 4.3ms preprocess, 1778.2ms inference, 3.0ms postprocess per image at shape (1, 3, 640, 640)\n",
      "\n"
     ]
    },
    {
     "name": "stdout",
     "output_type": "stream",
     "text": [
      "Person\n",
      "NO-Safety Vest\n",
      "Person\n",
      "NO-Hardhat\n",
      "NO-Mask\n",
      "Person\n"
     ]
    },
    {
     "name": "stderr",
     "output_type": "stream",
     "text": [
      "0: 384x640 1 NO-Hardhat, 1 NO-Mask, 1 NO-Safety Vest, 3 Persons, 1621.3ms\n",
      "Speed: 8.0ms preprocess, 1621.3ms inference, 2.0ms postprocess per image at shape (1, 3, 640, 640)\n",
      "\n"
     ]
    },
    {
     "name": "stdout",
     "output_type": "stream",
     "text": [
      "NO-Safety Vest\n",
      "Person\n",
      "Person\n",
      "NO-Hardhat\n",
      "Person\n",
      "NO-Mask\n"
     ]
    },
    {
     "name": "stderr",
     "output_type": "stream",
     "text": [
      "0: 384x640 1 NO-Hardhat, 1 NO-Mask, 1 NO-Safety Vest, 3 Persons, 1475.6ms\n",
      "Speed: 4.0ms preprocess, 1475.6ms inference, 3.0ms postprocess per image at shape (1, 3, 640, 640)\n",
      "\n"
     ]
    },
    {
     "name": "stdout",
     "output_type": "stream",
     "text": [
      "NO-Safety Vest\n",
      "Person\n",
      "Person\n",
      "Person\n",
      "NO-Hardhat\n",
      "NO-Mask\n"
     ]
    },
    {
     "name": "stderr",
     "output_type": "stream",
     "text": [
      "0: 384x640 1 NO-Hardhat, 1 NO-Mask, 1 NO-Safety Vest, 4 Persons, 1539.2ms\n",
      "Speed: 4.0ms preprocess, 1539.2ms inference, 3.0ms postprocess per image at shape (1, 3, 640, 640)\n",
      "\n"
     ]
    },
    {
     "name": "stdout",
     "output_type": "stream",
     "text": [
      "NO-Safety Vest\n",
      "Person\n",
      "Person\n",
      "NO-Hardhat\n",
      "Person\n",
      "NO-Mask\n",
      "Person\n"
     ]
    },
    {
     "name": "stderr",
     "output_type": "stream",
     "text": [
      "0: 384x640 1 NO-Hardhat, 1 NO-Mask, 1 NO-Safety Vest, 3 Persons, 1506.5ms\n",
      "Speed: 4.0ms preprocess, 1506.5ms inference, 3.0ms postprocess per image at shape (1, 3, 640, 640)\n",
      "\n"
     ]
    },
    {
     "name": "stdout",
     "output_type": "stream",
     "text": [
      "NO-Safety Vest\n",
      "Person\n",
      "Person\n",
      "NO-Hardhat\n",
      "Person\n",
      "NO-Mask\n"
     ]
    },
    {
     "name": "stderr",
     "output_type": "stream",
     "text": [
      "0: 384x640 1 NO-Hardhat, 1 NO-Mask, 1 NO-Safety Vest, 3 Persons, 1557.7ms\n",
      "Speed: 4.0ms preprocess, 1557.7ms inference, 2.0ms postprocess per image at shape (1, 3, 640, 640)\n",
      "\n"
     ]
    },
    {
     "name": "stdout",
     "output_type": "stream",
     "text": [
      "Person\n",
      "NO-Safety Vest\n",
      "Person\n",
      "NO-Hardhat\n",
      "Person\n",
      "NO-Mask\n"
     ]
    },
    {
     "name": "stderr",
     "output_type": "stream",
     "text": [
      "0: 384x640 1 NO-Hardhat, 1 NO-Mask, 1 NO-Safety Vest, 3 Persons, 1804.7ms\n",
      "Speed: 3.5ms preprocess, 1804.7ms inference, 2.0ms postprocess per image at shape (1, 3, 640, 640)\n",
      "\n"
     ]
    },
    {
     "name": "stdout",
     "output_type": "stream",
     "text": [
      "NO-Safety Vest\n",
      "Person\n",
      "Person\n",
      "NO-Hardhat\n",
      "Person\n",
      "NO-Mask\n"
     ]
    },
    {
     "name": "stderr",
     "output_type": "stream",
     "text": [
      "0: 384x640 1 NO-Hardhat, 1 NO-Mask, 1 NO-Safety Vest, 4 Persons, 1806.7ms\n",
      "Speed: 7.5ms preprocess, 1806.7ms inference, 2.0ms postprocess per image at shape (1, 3, 640, 640)\n",
      "\n"
     ]
    },
    {
     "name": "stdout",
     "output_type": "stream",
     "text": [
      "NO-Safety Vest\n",
      "Person\n",
      "Person\n",
      "NO-Hardhat\n",
      "Person\n",
      "NO-Mask\n",
      "Person\n"
     ]
    },
    {
     "name": "stderr",
     "output_type": "stream",
     "text": [
      "0: 384x640 1 NO-Hardhat, 1 NO-Mask, 1 NO-Safety Vest, 3 Persons, 1790.1ms\n",
      "Speed: 7.2ms preprocess, 1790.1ms inference, 2.0ms postprocess per image at shape (1, 3, 640, 640)\n",
      "\n"
     ]
    },
    {
     "name": "stdout",
     "output_type": "stream",
     "text": [
      "NO-Safety Vest\n",
      "Person\n",
      "Person\n",
      "Person\n",
      "NO-Hardhat\n",
      "NO-Mask\n"
     ]
    },
    {
     "name": "stderr",
     "output_type": "stream",
     "text": [
      "0: 384x640 1 NO-Hardhat, 1 NO-Mask, 1 NO-Safety Vest, 3 Persons, 1940.8ms\n",
      "Speed: 7.0ms preprocess, 1940.8ms inference, 3.0ms postprocess per image at shape (1, 3, 640, 640)\n",
      "\n"
     ]
    },
    {
     "name": "stdout",
     "output_type": "stream",
     "text": [
      "NO-Safety Vest\n",
      "Person\n",
      "Person\n",
      "Person\n",
      "NO-Hardhat\n",
      "NO-Mask\n"
     ]
    },
    {
     "name": "stderr",
     "output_type": "stream",
     "text": [
      "0: 384x640 1 NO-Hardhat, 1 NO-Mask, 1 NO-Safety Vest, 4 Persons, 1702.3ms\n",
      "Speed: 4.5ms preprocess, 1702.3ms inference, 3.0ms postprocess per image at shape (1, 3, 640, 640)\n",
      "\n"
     ]
    },
    {
     "name": "stdout",
     "output_type": "stream",
     "text": [
      "NO-Safety Vest\n",
      "Person\n",
      "Person\n",
      "NO-Hardhat\n",
      "Person\n",
      "NO-Mask\n",
      "Person\n"
     ]
    },
    {
     "name": "stderr",
     "output_type": "stream",
     "text": [
      "0: 384x640 1 NO-Hardhat, 1 NO-Mask, 1 NO-Safety Vest, 3 Persons, 1537.0ms\n",
      "Speed: 4.5ms preprocess, 1537.0ms inference, 3.4ms postprocess per image at shape (1, 3, 640, 640)\n",
      "\n"
     ]
    },
    {
     "name": "stdout",
     "output_type": "stream",
     "text": [
      "NO-Safety Vest\n",
      "Person\n",
      "Person\n",
      "Person\n",
      "NO-Hardhat\n",
      "NO-Mask\n"
     ]
    },
    {
     "name": "stderr",
     "output_type": "stream",
     "text": [
      "0: 384x640 1 NO-Hardhat, 1 NO-Mask, 1 NO-Safety Vest, 4 Persons, 1592.7ms\n",
      "Speed: 8.2ms preprocess, 1592.7ms inference, 2.0ms postprocess per image at shape (1, 3, 640, 640)\n",
      "\n"
     ]
    },
    {
     "name": "stdout",
     "output_type": "stream",
     "text": [
      "NO-Safety Vest\n",
      "Person\n",
      "Person\n",
      "NO-Hardhat\n",
      "Person\n",
      "Person\n",
      "NO-Mask\n"
     ]
    },
    {
     "name": "stderr",
     "output_type": "stream",
     "text": [
      "0: 384x640 1 NO-Hardhat, 1 NO-Mask, 1 NO-Safety Vest, 3 Persons, 1673.7ms\n",
      "Speed: 6.0ms preprocess, 1673.7ms inference, 3.0ms postprocess per image at shape (1, 3, 640, 640)\n",
      "\n"
     ]
    },
    {
     "name": "stdout",
     "output_type": "stream",
     "text": [
      "NO-Safety Vest\n",
      "Person\n",
      "Person\n",
      "Person\n",
      "NO-Hardhat\n",
      "NO-Mask\n"
     ]
    },
    {
     "name": "stderr",
     "output_type": "stream",
     "text": [
      "0: 384x640 1 NO-Hardhat, 1 NO-Mask, 1 NO-Safety Vest, 3 Persons, 1717.1ms\n",
      "Speed: 8.6ms preprocess, 1717.1ms inference, 3.0ms postprocess per image at shape (1, 3, 640, 640)\n",
      "\n"
     ]
    },
    {
     "name": "stdout",
     "output_type": "stream",
     "text": [
      "NO-Safety Vest\n",
      "Person\n",
      "Person\n",
      "NO-Hardhat\n",
      "Person\n",
      "NO-Mask\n"
     ]
    },
    {
     "name": "stderr",
     "output_type": "stream",
     "text": [
      "0: 384x640 1 NO-Hardhat, 1 NO-Mask, 1 NO-Safety Vest, 3 Persons, 1842.1ms\n",
      "Speed: 5.0ms preprocess, 1842.1ms inference, 4.0ms postprocess per image at shape (1, 3, 640, 640)\n",
      "\n"
     ]
    },
    {
     "name": "stdout",
     "output_type": "stream",
     "text": [
      "NO-Safety Vest\n",
      "Person\n",
      "Person\n",
      "NO-Hardhat\n",
      "Person\n",
      "NO-Mask\n"
     ]
    },
    {
     "name": "stderr",
     "output_type": "stream",
     "text": [
      "0: 384x640 1 NO-Hardhat, 1 NO-Mask, 1 NO-Safety Vest, 4 Persons, 1820.2ms\n",
      "Speed: 5.0ms preprocess, 1820.2ms inference, 2.0ms postprocess per image at shape (1, 3, 640, 640)\n",
      "\n"
     ]
    },
    {
     "name": "stdout",
     "output_type": "stream",
     "text": [
      "NO-Safety Vest\n",
      "Person\n",
      "Person\n",
      "NO-Hardhat\n",
      "Person\n",
      "Person\n",
      "NO-Mask\n"
     ]
    },
    {
     "name": "stderr",
     "output_type": "stream",
     "text": [
      "0: 384x640 1 NO-Hardhat, 1 NO-Mask, 1 NO-Safety Vest, 4 Persons, 1816.2ms\n",
      "Speed: 7.5ms preprocess, 1816.2ms inference, 2.5ms postprocess per image at shape (1, 3, 640, 640)\n",
      "\n"
     ]
    },
    {
     "name": "stdout",
     "output_type": "stream",
     "text": [
      "NO-Safety Vest\n",
      "Person\n",
      "Person\n",
      "NO-Hardhat\n",
      "Person\n",
      "Person\n",
      "NO-Mask\n"
     ]
    },
    {
     "name": "stderr",
     "output_type": "stream",
     "text": [
      "0: 384x640 1 NO-Hardhat, 1 NO-Mask, 1 NO-Safety Vest, 4 Persons, 1794.1ms\n",
      "Speed: 4.2ms preprocess, 1794.1ms inference, 2.0ms postprocess per image at shape (1, 3, 640, 640)\n",
      "\n"
     ]
    },
    {
     "name": "stdout",
     "output_type": "stream",
     "text": [
      "NO-Safety Vest\n",
      "Person\n",
      "Person\n",
      "NO-Hardhat\n",
      "Person\n",
      "NO-Mask\n",
      "Person\n"
     ]
    },
    {
     "name": "stderr",
     "output_type": "stream",
     "text": [
      "0: 384x640 1 NO-Hardhat, 1 NO-Mask, 1 NO-Safety Vest, 3 Persons, 1738.8ms\n",
      "Speed: 3.4ms preprocess, 1738.8ms inference, 2.0ms postprocess per image at shape (1, 3, 640, 640)\n",
      "\n"
     ]
    },
    {
     "name": "stdout",
     "output_type": "stream",
     "text": [
      "NO-Safety Vest\n",
      "Person\n",
      "Person\n",
      "Person\n",
      "NO-Hardhat\n",
      "NO-Mask\n"
     ]
    },
    {
     "name": "stderr",
     "output_type": "stream",
     "text": [
      "0: 384x640 1 NO-Hardhat, 1 NO-Mask, 1 NO-Safety Vest, 3 Persons, 1536.4ms\n",
      "Speed: 7.8ms preprocess, 1536.4ms inference, 2.0ms postprocess per image at shape (1, 3, 640, 640)\n",
      "\n"
     ]
    },
    {
     "name": "stdout",
     "output_type": "stream",
     "text": [
      "NO-Safety Vest\n",
      "Person\n",
      "Person\n",
      "Person\n",
      "NO-Hardhat\n",
      "NO-Mask\n"
     ]
    },
    {
     "name": "stderr",
     "output_type": "stream",
     "text": [
      "0: 384x640 1 NO-Hardhat, 1 NO-Mask, 1 NO-Safety Vest, 3 Persons, 1732.7ms\n",
      "Speed: 5.0ms preprocess, 1732.7ms inference, 2.0ms postprocess per image at shape (1, 3, 640, 640)\n",
      "\n"
     ]
    },
    {
     "name": "stdout",
     "output_type": "stream",
     "text": [
      "NO-Safety Vest\n",
      "Person\n",
      "Person\n",
      "Person\n",
      "NO-Hardhat\n",
      "NO-Mask\n"
     ]
    },
    {
     "name": "stderr",
     "output_type": "stream",
     "text": [
      "0: 384x640 1 NO-Hardhat, 1 NO-Mask, 1 NO-Safety Vest, 3 Persons, 1618.4ms\n",
      "Speed: 4.6ms preprocess, 1618.4ms inference, 2.0ms postprocess per image at shape (1, 3, 640, 640)\n",
      "\n"
     ]
    },
    {
     "name": "stdout",
     "output_type": "stream",
     "text": [
      "NO-Safety Vest\n",
      "Person\n",
      "Person\n",
      "Person\n",
      "NO-Hardhat\n",
      "NO-Mask\n"
     ]
    },
    {
     "name": "stderr",
     "output_type": "stream",
     "text": [
      "0: 384x640 1 NO-Hardhat, 1 NO-Mask, 1 NO-Safety Vest, 3 Persons, 2140.9ms\n",
      "Speed: 6.6ms preprocess, 2140.9ms inference, 6.5ms postprocess per image at shape (1, 3, 640, 640)\n",
      "\n"
     ]
    },
    {
     "name": "stdout",
     "output_type": "stream",
     "text": [
      "NO-Safety Vest\n",
      "Person\n",
      "Person\n",
      "Person\n",
      "NO-Hardhat\n",
      "NO-Mask\n"
     ]
    },
    {
     "name": "stderr",
     "output_type": "stream",
     "text": [
      "0: 384x640 1 NO-Hardhat, 1 NO-Mask, 1 NO-Safety Vest, 3 Persons, 2369.2ms\n",
      "Speed: 6.6ms preprocess, 2369.2ms inference, 3.0ms postprocess per image at shape (1, 3, 640, 640)\n",
      "\n"
     ]
    },
    {
     "name": "stdout",
     "output_type": "stream",
     "text": [
      "NO-Safety Vest\n",
      "Person\n",
      "Person\n",
      "Person\n",
      "NO-Hardhat\n",
      "NO-Mask\n"
     ]
    },
    {
     "name": "stderr",
     "output_type": "stream",
     "text": [
      "0: 384x640 1 NO-Hardhat, 1 NO-Mask, 1 NO-Safety Vest, 3 Persons, 2265.9ms\n",
      "Speed: 8.5ms preprocess, 2265.9ms inference, 0.0ms postprocess per image at shape (1, 3, 640, 640)\n",
      "\n"
     ]
    },
    {
     "name": "stdout",
     "output_type": "stream",
     "text": [
      "NO-Safety Vest\n",
      "Person\n",
      "Person\n",
      "Person\n",
      "NO-Hardhat\n",
      "NO-Mask\n"
     ]
    },
    {
     "name": "stderr",
     "output_type": "stream",
     "text": [
      "0: 384x640 1 NO-Hardhat, 1 NO-Mask, 1 NO-Safety Vest, 3 Persons, 2210.0ms\n",
      "Speed: 6.0ms preprocess, 2210.0ms inference, 5.0ms postprocess per image at shape (1, 3, 640, 640)\n",
      "\n"
     ]
    },
    {
     "name": "stdout",
     "output_type": "stream",
     "text": [
      "NO-Safety Vest\n",
      "Person\n",
      "Person\n",
      "Person\n",
      "NO-Hardhat\n",
      "NO-Mask\n"
     ]
    },
    {
     "name": "stderr",
     "output_type": "stream",
     "text": [
      "0: 384x640 1 NO-Hardhat, 1 NO-Mask, 1 NO-Safety Vest, 3 Persons, 2535.2ms\n",
      "Speed: 5.0ms preprocess, 2535.2ms inference, 5.0ms postprocess per image at shape (1, 3, 640, 640)\n",
      "\n"
     ]
    },
    {
     "name": "stdout",
     "output_type": "stream",
     "text": [
      "NO-Safety Vest\n",
      "Person\n",
      "Person\n",
      "Person\n",
      "NO-Hardhat\n",
      "NO-Mask\n"
     ]
    },
    {
     "name": "stderr",
     "output_type": "stream",
     "text": [
      "0: 384x640 1 NO-Hardhat, 1 NO-Mask, 1 NO-Safety Vest, 3 Persons, 2327.5ms\n",
      "Speed: 7.5ms preprocess, 2327.5ms inference, 6.0ms postprocess per image at shape (1, 3, 640, 640)\n",
      "\n"
     ]
    },
    {
     "name": "stdout",
     "output_type": "stream",
     "text": [
      "NO-Safety Vest\n",
      "Person\n",
      "Person\n",
      "Person\n",
      "NO-Hardhat\n",
      "NO-Mask\n"
     ]
    },
    {
     "name": "stderr",
     "output_type": "stream",
     "text": [
      "0: 384x640 1 NO-Hardhat, 1 NO-Mask, 1 NO-Safety Vest, 3 Persons, 2080.0ms\n",
      "Speed: 10.0ms preprocess, 2080.0ms inference, 7.0ms postprocess per image at shape (1, 3, 640, 640)\n",
      "\n"
     ]
    },
    {
     "name": "stdout",
     "output_type": "stream",
     "text": [
      "NO-Safety Vest\n",
      "Person\n",
      "Person\n",
      "Person\n",
      "NO-Hardhat\n",
      "NO-Mask\n"
     ]
    },
    {
     "name": "stderr",
     "output_type": "stream",
     "text": [
      "0: 384x640 1 NO-Hardhat, 1 NO-Mask, 1 NO-Safety Vest, 3 Persons, 3179.8ms\n",
      "Speed: 5.1ms preprocess, 3179.8ms inference, 6.0ms postprocess per image at shape (1, 3, 640, 640)\n",
      "\n"
     ]
    },
    {
     "name": "stdout",
     "output_type": "stream",
     "text": [
      "NO-Safety Vest\n",
      "Person\n",
      "Person\n",
      "Person\n",
      "NO-Hardhat\n",
      "NO-Mask\n"
     ]
    },
    {
     "name": "stderr",
     "output_type": "stream",
     "text": [
      "0: 384x640 1 NO-Hardhat, 1 NO-Mask, 1 NO-Safety Vest, 3 Persons, 2874.2ms\n",
      "Speed: 12.7ms preprocess, 2874.2ms inference, 4.5ms postprocess per image at shape (1, 3, 640, 640)\n",
      "\n"
     ]
    },
    {
     "name": "stdout",
     "output_type": "stream",
     "text": [
      "NO-Safety Vest\n",
      "Person\n",
      "Person\n",
      "Person\n",
      "NO-Hardhat\n",
      "NO-Mask\n"
     ]
    },
    {
     "name": "stderr",
     "output_type": "stream",
     "text": [
      "0: 384x640 1 NO-Hardhat, 1 NO-Mask, 1 NO-Safety Vest, 3 Persons, 2450.3ms\n",
      "Speed: 9.6ms preprocess, 2450.3ms inference, 5.0ms postprocess per image at shape (1, 3, 640, 640)\n"
     ]
    },
    {
     "name": "stdout",
     "output_type": "stream",
     "text": [
      "NO-Safety Vest\n",
      "Person\n",
      "Person\n",
      "Person\n",
      "NO-Hardhat\n",
      "NO-Mask\n"
     ]
    },
    {
     "name": "stderr",
     "output_type": "stream",
     "text": [
      "\n",
      "0: 384x640 1 NO-Hardhat, 1 NO-Mask, 1 NO-Safety Vest, 3 Persons, 4937.3ms\n",
      "Speed: 14.4ms preprocess, 4937.3ms inference, 5.8ms postprocess per image at shape (1, 3, 640, 640)\n",
      "\n"
     ]
    },
    {
     "name": "stdout",
     "output_type": "stream",
     "text": [
      "NO-Safety Vest\n",
      "Person\n",
      "Person\n",
      "Person\n",
      "NO-Hardhat\n",
      "NO-Mask\n"
     ]
    },
    {
     "name": "stderr",
     "output_type": "stream",
     "text": [
      "0: 384x640 1 NO-Hardhat, 1 NO-Mask, 1 NO-Safety Vest, 3 Persons, 3266.3ms\n",
      "Speed: 8.6ms preprocess, 3266.3ms inference, 4.0ms postprocess per image at shape (1, 3, 640, 640)\n",
      "\n"
     ]
    },
    {
     "name": "stdout",
     "output_type": "stream",
     "text": [
      "NO-Safety Vest\n",
      "Person\n",
      "Person\n",
      "Person\n",
      "NO-Hardhat\n",
      "NO-Mask\n"
     ]
    },
    {
     "name": "stderr",
     "output_type": "stream",
     "text": [
      "0: 384x640 1 NO-Hardhat, 1 NO-Mask, 1 NO-Safety Vest, 3 Persons, 3475.1ms\n",
      "Speed: 5.0ms preprocess, 3475.1ms inference, 5.0ms postprocess per image at shape (1, 3, 640, 640)\n",
      "\n"
     ]
    },
    {
     "name": "stdout",
     "output_type": "stream",
     "text": [
      "NO-Safety Vest\n",
      "Person\n",
      "Person\n",
      "Person\n",
      "NO-Hardhat\n",
      "NO-Mask\n"
     ]
    },
    {
     "name": "stderr",
     "output_type": "stream",
     "text": [
      "0: 384x640 1 NO-Hardhat, 1 NO-Mask, 1 NO-Safety Vest, 3 Persons, 3429.1ms\n",
      "Speed: 9.6ms preprocess, 3429.1ms inference, 1.8ms postprocess per image at shape (1, 3, 640, 640)\n",
      "\n"
     ]
    },
    {
     "name": "stdout",
     "output_type": "stream",
     "text": [
      "NO-Safety Vest\n",
      "Person\n",
      "Person\n",
      "Person\n",
      "NO-Hardhat\n",
      "NO-Mask\n"
     ]
    },
    {
     "name": "stderr",
     "output_type": "stream",
     "text": [
      "0: 384x640 1 NO-Hardhat, 1 NO-Mask, 1 NO-Safety Vest, 3 Persons, 3177.5ms\n",
      "Speed: 11.5ms preprocess, 3177.5ms inference, 5.6ms postprocess per image at shape (1, 3, 640, 640)\n",
      "\n"
     ]
    },
    {
     "name": "stdout",
     "output_type": "stream",
     "text": [
      "NO-Safety Vest\n",
      "Person\n",
      "Person\n",
      "Person\n",
      "NO-Hardhat\n",
      "NO-Mask\n"
     ]
    },
    {
     "name": "stderr",
     "output_type": "stream",
     "text": [
      "0: 384x640 1 NO-Hardhat, 1 NO-Mask, 1 NO-Safety Vest, 3 Persons, 3024.8ms\n",
      "Speed: 15.1ms preprocess, 3024.8ms inference, 5.0ms postprocess per image at shape (1, 3, 640, 640)\n",
      "\n"
     ]
    },
    {
     "name": "stdout",
     "output_type": "stream",
     "text": [
      "NO-Safety Vest\n",
      "Person\n",
      "Person\n",
      "Person\n",
      "NO-Hardhat\n",
      "NO-Mask\n"
     ]
    },
    {
     "name": "stderr",
     "output_type": "stream",
     "text": [
      "0: 384x640 1 NO-Hardhat, 1 NO-Mask, 1 NO-Safety Vest, 3 Persons, 3061.9ms\n",
      "Speed: 5.6ms preprocess, 3061.9ms inference, 3.5ms postprocess per image at shape (1, 3, 640, 640)\n",
      "\n"
     ]
    },
    {
     "name": "stdout",
     "output_type": "stream",
     "text": [
      "NO-Safety Vest\n",
      "Person\n",
      "Person\n",
      "Person\n",
      "NO-Hardhat\n",
      "NO-Mask\n"
     ]
    },
    {
     "name": "stderr",
     "output_type": "stream",
     "text": [
      "0: 384x640 1 NO-Hardhat, 1 NO-Mask, 1 NO-Safety Vest, 3 Persons, 3002.3ms\n",
      "Speed: 7.8ms preprocess, 3002.3ms inference, 5.0ms postprocess per image at shape (1, 3, 640, 640)\n",
      "\n"
     ]
    },
    {
     "name": "stdout",
     "output_type": "stream",
     "text": [
      "NO-Safety Vest\n",
      "Person\n",
      "Person\n",
      "Person\n",
      "NO-Hardhat\n",
      "NO-Mask\n"
     ]
    },
    {
     "name": "stderr",
     "output_type": "stream",
     "text": [
      "0: 384x640 1 NO-Hardhat, 1 NO-Mask, 1 NO-Safety Vest, 3 Persons, 2930.1ms\n",
      "Speed: 5.1ms preprocess, 2930.1ms inference, 4.5ms postprocess per image at shape (1, 3, 640, 640)\n",
      "\n"
     ]
    },
    {
     "name": "stdout",
     "output_type": "stream",
     "text": [
      "NO-Safety Vest\n",
      "Person\n",
      "Person\n",
      "Person\n",
      "NO-Hardhat\n",
      "NO-Mask\n"
     ]
    },
    {
     "name": "stderr",
     "output_type": "stream",
     "text": [
      "0: 384x640 1 NO-Hardhat, 1 NO-Mask, 1 NO-Safety Vest, 3 Persons, 2889.9ms\n",
      "Speed: 11.6ms preprocess, 2889.9ms inference, 2.5ms postprocess per image at shape (1, 3, 640, 640)\n",
      "\n"
     ]
    },
    {
     "name": "stdout",
     "output_type": "stream",
     "text": [
      "NO-Safety Vest\n",
      "Person\n",
      "Person\n",
      "Person\n",
      "NO-Hardhat\n",
      "NO-Mask\n"
     ]
    },
    {
     "name": "stderr",
     "output_type": "stream",
     "text": [
      "0: 384x640 1 NO-Hardhat, 1 NO-Mask, 1 NO-Safety Vest, 3 Persons, 2870.2ms\n",
      "Speed: 5.0ms preprocess, 2870.2ms inference, 4.5ms postprocess per image at shape (1, 3, 640, 640)\n",
      "\n"
     ]
    },
    {
     "name": "stdout",
     "output_type": "stream",
     "text": [
      "NO-Safety Vest\n",
      "Person\n",
      "Person\n",
      "Person\n",
      "NO-Hardhat\n",
      "NO-Mask\n"
     ]
    },
    {
     "name": "stderr",
     "output_type": "stream",
     "text": [
      "0: 384x640 1 NO-Hardhat, 1 NO-Mask, 1 NO-Safety Vest, 3 Persons, 2962.6ms\n",
      "Speed: 7.2ms preprocess, 2962.6ms inference, 5.0ms postprocess per image at shape (1, 3, 640, 640)\n",
      "\n"
     ]
    },
    {
     "name": "stdout",
     "output_type": "stream",
     "text": [
      "NO-Safety Vest\n",
      "Person\n",
      "Person\n",
      "Person\n",
      "NO-Hardhat\n",
      "NO-Mask\n"
     ]
    },
    {
     "name": "stderr",
     "output_type": "stream",
     "text": [
      "0: 384x640 1 NO-Hardhat, 1 NO-Mask, 1 NO-Safety Vest, 3 Persons, 3108.3ms\n",
      "Speed: 16.5ms preprocess, 3108.3ms inference, 7.4ms postprocess per image at shape (1, 3, 640, 640)\n",
      "\n"
     ]
    },
    {
     "name": "stdout",
     "output_type": "stream",
     "text": [
      "NO-Safety Vest\n",
      "Person\n",
      "Person\n",
      "Person\n",
      "NO-Hardhat\n",
      "NO-Mask\n"
     ]
    },
    {
     "name": "stderr",
     "output_type": "stream",
     "text": [
      "0: 384x640 1 NO-Hardhat, 1 NO-Mask, 1 NO-Safety Vest, 3 Persons, 3205.2ms\n",
      "Speed: 6.0ms preprocess, 3205.2ms inference, 5.0ms postprocess per image at shape (1, 3, 640, 640)\n",
      "\n"
     ]
    },
    {
     "name": "stdout",
     "output_type": "stream",
     "text": [
      "NO-Safety Vest\n",
      "Person\n",
      "Person\n",
      "Person\n",
      "NO-Hardhat\n",
      "NO-Mask\n"
     ]
    },
    {
     "name": "stderr",
     "output_type": "stream",
     "text": [
      "0: 384x640 1 NO-Hardhat, 1 NO-Mask, 1 NO-Safety Vest, 3 Persons, 2905.1ms\n",
      "Speed: 9.7ms preprocess, 2905.1ms inference, 5.1ms postprocess per image at shape (1, 3, 640, 640)\n",
      "\n"
     ]
    },
    {
     "name": "stdout",
     "output_type": "stream",
     "text": [
      "NO-Safety Vest\n",
      "Person\n",
      "Person\n",
      "Person\n",
      "NO-Hardhat\n",
      "NO-Mask\n"
     ]
    },
    {
     "name": "stderr",
     "output_type": "stream",
     "text": [
      "0: 384x640 1 NO-Hardhat, 1 NO-Mask, 1 NO-Safety Vest, 3 Persons, 2885.9ms\n",
      "Speed: 5.1ms preprocess, 2885.9ms inference, 3.0ms postprocess per image at shape (1, 3, 640, 640)\n",
      "\n"
     ]
    },
    {
     "name": "stdout",
     "output_type": "stream",
     "text": [
      "NO-Safety Vest\n",
      "Person\n",
      "Person\n",
      "Person\n",
      "NO-Hardhat\n",
      "NO-Mask\n"
     ]
    },
    {
     "name": "stderr",
     "output_type": "stream",
     "text": [
      "0: 384x640 1 NO-Hardhat, 1 NO-Mask, 1 NO-Safety Vest, 3 Persons, 2940.1ms\n",
      "Speed: 5.0ms preprocess, 2940.1ms inference, 5.1ms postprocess per image at shape (1, 3, 640, 640)\n",
      "\n"
     ]
    },
    {
     "name": "stdout",
     "output_type": "stream",
     "text": [
      "NO-Safety Vest\n",
      "Person\n",
      "Person\n",
      "Person\n",
      "NO-Hardhat\n",
      "NO-Mask\n"
     ]
    },
    {
     "name": "stderr",
     "output_type": "stream",
     "text": [
      "0: 384x640 1 NO-Hardhat, 1 NO-Mask, 1 NO-Safety Vest, 3 Persons, 3010.0ms\n",
      "Speed: 4.8ms preprocess, 3010.0ms inference, 5.0ms postprocess per image at shape (1, 3, 640, 640)\n",
      "\n"
     ]
    },
    {
     "name": "stdout",
     "output_type": "stream",
     "text": [
      "NO-Safety Vest\n",
      "Person\n",
      "Person\n",
      "Person\n",
      "NO-Hardhat\n",
      "NO-Mask\n"
     ]
    },
    {
     "name": "stderr",
     "output_type": "stream",
     "text": [
      "0: 384x640 1 NO-Hardhat, 1 NO-Mask, 1 NO-Safety Vest, 3 Persons, 3118.6ms\n",
      "Speed: 14.2ms preprocess, 3118.6ms inference, 0.0ms postprocess per image at shape (1, 3, 640, 640)\n",
      "\n"
     ]
    },
    {
     "name": "stdout",
     "output_type": "stream",
     "text": [
      "NO-Safety Vest\n",
      "Person\n",
      "Person\n",
      "Person\n",
      "NO-Hardhat\n",
      "NO-Mask\n"
     ]
    },
    {
     "name": "stderr",
     "output_type": "stream",
     "text": [
      "0: 384x640 1 NO-Hardhat, 1 NO-Mask, 1 NO-Safety Vest, 3 Persons, 2884.1ms\n",
      "Speed: 10.1ms preprocess, 2884.1ms inference, 6.0ms postprocess per image at shape (1, 3, 640, 640)\n",
      "\n"
     ]
    },
    {
     "name": "stdout",
     "output_type": "stream",
     "text": [
      "NO-Safety Vest\n",
      "Person\n",
      "Person\n",
      "Person\n",
      "NO-Hardhat\n",
      "NO-Mask\n"
     ]
    },
    {
     "name": "stderr",
     "output_type": "stream",
     "text": [
      "0: 384x640 1 NO-Hardhat, 1 NO-Mask, 1 NO-Safety Vest, 3 Persons, 2942.9ms\n",
      "Speed: 5.0ms preprocess, 2942.9ms inference, 7.1ms postprocess per image at shape (1, 3, 640, 640)\n",
      "\n"
     ]
    },
    {
     "name": "stdout",
     "output_type": "stream",
     "text": [
      "NO-Safety Vest\n",
      "Person\n",
      "Person\n",
      "Person\n",
      "NO-Hardhat\n",
      "NO-Mask\n"
     ]
    },
    {
     "name": "stderr",
     "output_type": "stream",
     "text": [
      "0: 384x640 1 NO-Hardhat, 1 NO-Mask, 1 NO-Safety Vest, 3 Persons, 2915.1ms\n",
      "Speed: 20.0ms preprocess, 2915.1ms inference, 5.0ms postprocess per image at shape (1, 3, 640, 640)\n",
      "\n"
     ]
    },
    {
     "name": "stdout",
     "output_type": "stream",
     "text": [
      "NO-Safety Vest\n",
      "Person\n",
      "Person\n",
      "Person\n",
      "NO-Hardhat\n",
      "NO-Mask\n"
     ]
    },
    {
     "name": "stderr",
     "output_type": "stream",
     "text": [
      "0: 384x640 1 NO-Hardhat, 1 NO-Mask, 1 NO-Safety Vest, 3 Persons, 3017.9ms\n",
      "Speed: 6.4ms preprocess, 3017.9ms inference, 2.0ms postprocess per image at shape (1, 3, 640, 640)\n",
      "\n"
     ]
    },
    {
     "name": "stdout",
     "output_type": "stream",
     "text": [
      "NO-Safety Vest\n",
      "Person\n",
      "Person\n",
      "Person\n",
      "NO-Hardhat\n",
      "NO-Mask\n"
     ]
    },
    {
     "name": "stderr",
     "output_type": "stream",
     "text": [
      "0: 384x640 1 NO-Hardhat, 1 NO-Mask, 1 NO-Safety Vest, 3 Persons, 2837.3ms\n",
      "Speed: 7.4ms preprocess, 2837.3ms inference, 3.1ms postprocess per image at shape (1, 3, 640, 640)\n",
      "\n"
     ]
    },
    {
     "name": "stdout",
     "output_type": "stream",
     "text": [
      "NO-Safety Vest\n",
      "Person\n",
      "Person\n",
      "Person\n",
      "NO-Hardhat\n",
      "NO-Mask\n"
     ]
    },
    {
     "name": "stderr",
     "output_type": "stream",
     "text": [
      "0: 384x640 1 NO-Hardhat, 1 NO-Mask, 1 NO-Safety Vest, 3 Persons, 3039.0ms\n",
      "Speed: 15.0ms preprocess, 3039.0ms inference, 3.5ms postprocess per image at shape (1, 3, 640, 640)\n",
      "\n"
     ]
    },
    {
     "name": "stdout",
     "output_type": "stream",
     "text": [
      "NO-Safety Vest\n",
      "Person\n",
      "Person\n",
      "Person\n",
      "NO-Hardhat\n",
      "NO-Mask\n"
     ]
    },
    {
     "name": "stderr",
     "output_type": "stream",
     "text": [
      "0: 384x640 1 NO-Hardhat, 1 NO-Mask, 1 NO-Safety Vest, 3 Persons, 2999.1ms\n",
      "Speed: 7.4ms preprocess, 2999.1ms inference, 0.0ms postprocess per image at shape (1, 3, 640, 640)\n",
      "\n"
     ]
    },
    {
     "name": "stdout",
     "output_type": "stream",
     "text": [
      "NO-Safety Vest\n",
      "Person\n",
      "Person\n",
      "Person\n",
      "NO-Hardhat\n",
      "NO-Mask\n"
     ]
    },
    {
     "name": "stderr",
     "output_type": "stream",
     "text": [
      "0: 384x640 1 NO-Hardhat, 1 NO-Mask, 1 NO-Safety Vest, 3 Persons, 3009.5ms\n",
      "Speed: 15.3ms preprocess, 3009.5ms inference, 5.0ms postprocess per image at shape (1, 3, 640, 640)\n",
      "\n"
     ]
    },
    {
     "name": "stdout",
     "output_type": "stream",
     "text": [
      "NO-Safety Vest\n",
      "Person\n",
      "Person\n",
      "Person\n",
      "NO-Hardhat\n",
      "NO-Mask\n"
     ]
    },
    {
     "name": "stderr",
     "output_type": "stream",
     "text": [
      "0: 384x640 1 NO-Hardhat, 1 NO-Mask, 1 NO-Safety Vest, 3 Persons, 3110.1ms\n",
      "Speed: 10.1ms preprocess, 3110.1ms inference, 5.0ms postprocess per image at shape (1, 3, 640, 640)\n",
      "\n"
     ]
    },
    {
     "name": "stdout",
     "output_type": "stream",
     "text": [
      "NO-Safety Vest\n",
      "Person\n",
      "Person\n",
      "Person\n",
      "NO-Hardhat\n",
      "NO-Mask\n"
     ]
    },
    {
     "name": "stderr",
     "output_type": "stream",
     "text": [
      "0: 384x640 1 NO-Hardhat, 1 NO-Mask, 1 NO-Safety Vest, 3 Persons, 2900.0ms\n",
      "Speed: 9.7ms preprocess, 2900.0ms inference, 5.0ms postprocess per image at shape (1, 3, 640, 640)\n",
      "\n"
     ]
    },
    {
     "name": "stdout",
     "output_type": "stream",
     "text": [
      "NO-Safety Vest\n",
      "Person\n",
      "Person\n",
      "Person\n",
      "NO-Hardhat\n",
      "NO-Mask\n"
     ]
    },
    {
     "name": "stderr",
     "output_type": "stream",
     "text": [
      "0: 384x640 1 NO-Hardhat, 1 NO-Mask, 1 NO-Safety Vest, 3 Persons, 2881.8ms\n",
      "Speed: 10.1ms preprocess, 2881.8ms inference, 1.1ms postprocess per image at shape (1, 3, 640, 640)\n",
      "\n"
     ]
    },
    {
     "name": "stdout",
     "output_type": "stream",
     "text": [
      "NO-Safety Vest\n",
      "Person\n",
      "Person\n",
      "Person\n",
      "NO-Hardhat\n",
      "NO-Mask\n"
     ]
    },
    {
     "name": "stderr",
     "output_type": "stream",
     "text": [
      "0: 384x640 1 NO-Hardhat, 1 NO-Mask, 1 NO-Safety Vest, 3 Persons, 2960.1ms\n",
      "Speed: 8.6ms preprocess, 2960.1ms inference, 5.0ms postprocess per image at shape (1, 3, 640, 640)\n",
      "\n"
     ]
    },
    {
     "name": "stdout",
     "output_type": "stream",
     "text": [
      "NO-Safety Vest\n",
      "Person\n",
      "Person\n",
      "Person\n",
      "NO-Hardhat\n",
      "NO-Mask\n"
     ]
    },
    {
     "name": "stderr",
     "output_type": "stream",
     "text": [
      "0: 384x640 1 NO-Hardhat, 1 NO-Mask, 1 NO-Safety Vest, 3 Persons, 2864.2ms\n",
      "Speed: 7.1ms preprocess, 2864.2ms inference, 4.0ms postprocess per image at shape (1, 3, 640, 640)\n",
      "\n"
     ]
    },
    {
     "name": "stdout",
     "output_type": "stream",
     "text": [
      "NO-Safety Vest\n",
      "Person\n",
      "Person\n",
      "Person\n",
      "NO-Hardhat\n",
      "NO-Mask\n"
     ]
    },
    {
     "name": "stderr",
     "output_type": "stream",
     "text": [
      "0: 384x640 1 NO-Hardhat, 1 NO-Mask, 1 NO-Safety Vest, 3 Persons, 2972.4ms\n",
      "Speed: 9.8ms preprocess, 2972.4ms inference, 3.5ms postprocess per image at shape (1, 3, 640, 640)\n",
      "\n"
     ]
    },
    {
     "name": "stdout",
     "output_type": "stream",
     "text": [
      "NO-Safety Vest\n",
      "Person\n",
      "Person\n",
      "Person\n",
      "NO-Hardhat\n",
      "NO-Mask\n"
     ]
    },
    {
     "name": "stderr",
     "output_type": "stream",
     "text": [
      "0: 384x640 1 NO-Hardhat, 1 NO-Mask, 1 NO-Safety Vest, 3 Persons, 2939.6ms\n",
      "Speed: 15.1ms preprocess, 2939.6ms inference, 5.0ms postprocess per image at shape (1, 3, 640, 640)\n",
      "\n"
     ]
    },
    {
     "name": "stdout",
     "output_type": "stream",
     "text": [
      "NO-Safety Vest\n",
      "Person\n",
      "Person\n",
      "Person\n",
      "NO-Hardhat\n",
      "NO-Mask\n"
     ]
    },
    {
     "name": "stderr",
     "output_type": "stream",
     "text": [
      "0: 384x640 1 NO-Hardhat, 1 NO-Mask, 1 NO-Safety Vest, 3 Persons, 2876.6ms\n",
      "Speed: 5.4ms preprocess, 2876.6ms inference, 0.0ms postprocess per image at shape (1, 3, 640, 640)\n",
      "\n"
     ]
    },
    {
     "name": "stdout",
     "output_type": "stream",
     "text": [
      "NO-Safety Vest\n",
      "Person\n",
      "Person\n",
      "Person\n",
      "NO-Hardhat\n",
      "NO-Mask\n"
     ]
    },
    {
     "name": "stderr",
     "output_type": "stream",
     "text": [
      "0: 384x640 1 NO-Hardhat, 1 NO-Mask, 1 NO-Safety Vest, 3 Persons, 2933.5ms\n",
      "Speed: 5.1ms preprocess, 2933.5ms inference, 0.0ms postprocess per image at shape (1, 3, 640, 640)\n",
      "\n"
     ]
    },
    {
     "name": "stdout",
     "output_type": "stream",
     "text": [
      "NO-Safety Vest\n",
      "Person\n",
      "Person\n",
      "Person\n",
      "NO-Hardhat\n",
      "NO-Mask\n"
     ]
    },
    {
     "name": "stderr",
     "output_type": "stream",
     "text": [
      "0: 384x640 1 NO-Hardhat, 1 NO-Mask, 1 NO-Safety Vest, 3 Persons, 3260.4ms\n",
      "Speed: 10.1ms preprocess, 3260.4ms inference, 10.7ms postprocess per image at shape (1, 3, 640, 640)\n",
      "\n"
     ]
    },
    {
     "name": "stdout",
     "output_type": "stream",
     "text": [
      "NO-Safety Vest\n",
      "Person\n",
      "Person\n",
      "Person\n",
      "NO-Hardhat\n",
      "NO-Mask\n"
     ]
    },
    {
     "name": "stderr",
     "output_type": "stream",
     "text": [
      "0: 384x640 1 NO-Hardhat, 1 NO-Mask, 1 NO-Safety Vest, 3 Persons, 3048.0ms\n",
      "Speed: 7.1ms preprocess, 3048.0ms inference, 5.0ms postprocess per image at shape (1, 3, 640, 640)\n",
      "\n"
     ]
    },
    {
     "name": "stdout",
     "output_type": "stream",
     "text": [
      "NO-Safety Vest\n",
      "Person\n",
      "Person\n",
      "Person\n",
      "NO-Hardhat\n",
      "NO-Mask\n"
     ]
    },
    {
     "name": "stderr",
     "output_type": "stream",
     "text": [
      "0: 384x640 1 NO-Hardhat, 1 NO-Mask, 1 NO-Safety Vest, 3 Persons, 2951.2ms\n",
      "Speed: 8.1ms preprocess, 2951.2ms inference, 5.8ms postprocess per image at shape (1, 3, 640, 640)\n",
      "\n"
     ]
    },
    {
     "name": "stdout",
     "output_type": "stream",
     "text": [
      "NO-Safety Vest\n",
      "Person\n",
      "Person\n",
      "Person\n",
      "NO-Hardhat\n",
      "NO-Mask\n"
     ]
    },
    {
     "name": "stderr",
     "output_type": "stream",
     "text": [
      "0: 384x640 1 NO-Hardhat, 1 NO-Mask, 1 NO-Safety Vest, 3 Persons, 3055.2ms\n",
      "Speed: 4.0ms preprocess, 3055.2ms inference, 5.0ms postprocess per image at shape (1, 3, 640, 640)\n",
      "\n"
     ]
    },
    {
     "name": "stdout",
     "output_type": "stream",
     "text": [
      "NO-Safety Vest\n",
      "Person\n",
      "Person\n",
      "Person\n",
      "NO-Hardhat\n",
      "NO-Mask\n"
     ]
    },
    {
     "name": "stderr",
     "output_type": "stream",
     "text": [
      "0: 384x640 1 NO-Hardhat, 1 NO-Mask, 1 NO-Safety Vest, 3 Persons, 2937.1ms\n",
      "Speed: 7.9ms preprocess, 2937.1ms inference, 5.0ms postprocess per image at shape (1, 3, 640, 640)\n",
      "\n"
     ]
    },
    {
     "name": "stdout",
     "output_type": "stream",
     "text": [
      "NO-Safety Vest\n",
      "Person\n",
      "Person\n",
      "Person\n",
      "NO-Hardhat\n",
      "NO-Mask\n"
     ]
    },
    {
     "name": "stderr",
     "output_type": "stream",
     "text": [
      "0: 384x640 1 NO-Hardhat, 1 NO-Mask, 1 NO-Safety Vest, 3 Persons, 2905.2ms\n",
      "Speed: 4.0ms preprocess, 2905.2ms inference, 4.5ms postprocess per image at shape (1, 3, 640, 640)\n",
      "\n"
     ]
    },
    {
     "name": "stdout",
     "output_type": "stream",
     "text": [
      "NO-Safety Vest\n",
      "Person\n",
      "Person\n",
      "Person\n",
      "NO-Hardhat\n",
      "NO-Mask\n"
     ]
    },
    {
     "name": "stderr",
     "output_type": "stream",
     "text": [
      "0: 384x640 1 NO-Hardhat, 1 NO-Mask, 1 NO-Safety Vest, 3 Persons, 2964.9ms\n",
      "Speed: 6.2ms preprocess, 2964.9ms inference, 0.0ms postprocess per image at shape (1, 3, 640, 640)\n",
      "\n"
     ]
    },
    {
     "name": "stdout",
     "output_type": "stream",
     "text": [
      "NO-Safety Vest\n",
      "Person\n",
      "Person\n",
      "Person\n",
      "NO-Hardhat\n",
      "NO-Mask\n"
     ]
    },
    {
     "name": "stderr",
     "output_type": "stream",
     "text": [
      "0: 384x640 1 NO-Hardhat, 1 NO-Mask, 1 NO-Safety Vest, 3 Persons, 3079.7ms\n",
      "Speed: 10.3ms preprocess, 3079.7ms inference, 5.0ms postprocess per image at shape (1, 3, 640, 640)\n",
      "\n"
     ]
    },
    {
     "name": "stdout",
     "output_type": "stream",
     "text": [
      "NO-Safety Vest\n",
      "Person\n",
      "Person\n",
      "Person\n",
      "NO-Hardhat\n",
      "NO-Mask\n"
     ]
    },
    {
     "name": "stderr",
     "output_type": "stream",
     "text": [
      "0: 384x640 1 NO-Hardhat, 1 NO-Mask, 1 NO-Safety Vest, 3 Persons, 2933.5ms\n",
      "Speed: 11.3ms preprocess, 2933.5ms inference, 9.9ms postprocess per image at shape (1, 3, 640, 640)\n",
      "\n"
     ]
    },
    {
     "name": "stdout",
     "output_type": "stream",
     "text": [
      "NO-Safety Vest\n",
      "Person\n",
      "Person\n",
      "Person\n",
      "NO-Hardhat\n",
      "NO-Mask\n"
     ]
    },
    {
     "name": "stderr",
     "output_type": "stream",
     "text": [
      "0: 384x640 1 NO-Hardhat, 1 NO-Mask, 1 NO-Safety Vest, 3 Persons, 2934.6ms\n",
      "Speed: 10.1ms preprocess, 2934.6ms inference, 5.0ms postprocess per image at shape (1, 3, 640, 640)\n",
      "\n"
     ]
    },
    {
     "name": "stdout",
     "output_type": "stream",
     "text": [
      "NO-Safety Vest\n",
      "Person\n",
      "Person\n",
      "Person\n",
      "NO-Hardhat\n",
      "NO-Mask\n"
     ]
    },
    {
     "name": "stderr",
     "output_type": "stream",
     "text": [
      "0: 384x640 1 NO-Hardhat, 1 NO-Mask, 1 NO-Safety Vest, 3 Persons, 3025.8ms\n",
      "Speed: 4.1ms preprocess, 3025.8ms inference, 5.0ms postprocess per image at shape (1, 3, 640, 640)\n",
      "\n"
     ]
    },
    {
     "name": "stdout",
     "output_type": "stream",
     "text": [
      "NO-Safety Vest\n",
      "Person\n",
      "Person\n",
      "Person\n",
      "NO-Hardhat\n",
      "NO-Mask\n"
     ]
    },
    {
     "name": "stderr",
     "output_type": "stream",
     "text": [
      "0: 384x640 1 NO-Hardhat, 1 NO-Mask, 1 NO-Safety Vest, 3 Persons, 2914.6ms\n",
      "Speed: 10.8ms preprocess, 2914.6ms inference, 5.1ms postprocess per image at shape (1, 3, 640, 640)\n",
      "\n"
     ]
    },
    {
     "name": "stdout",
     "output_type": "stream",
     "text": [
      "NO-Safety Vest\n",
      "Person\n",
      "Person\n",
      "Person\n",
      "NO-Hardhat\n",
      "NO-Mask\n"
     ]
    },
    {
     "name": "stderr",
     "output_type": "stream",
     "text": [
      "0: 384x640 1 NO-Hardhat, 1 NO-Mask, 1 NO-Safety Vest, 3 Persons, 3044.9ms\n",
      "Speed: 9.6ms preprocess, 3044.9ms inference, 5.1ms postprocess per image at shape (1, 3, 640, 640)\n",
      "\n"
     ]
    },
    {
     "name": "stdout",
     "output_type": "stream",
     "text": [
      "NO-Safety Vest\n",
      "Person\n",
      "Person\n",
      "Person\n",
      "NO-Hardhat\n",
      "NO-Mask\n"
     ]
    },
    {
     "name": "stderr",
     "output_type": "stream",
     "text": [
      "0: 384x640 1 NO-Hardhat, 1 NO-Mask, 1 NO-Safety Vest, 3 Persons, 2907.7ms\n",
      "Speed: 7.2ms preprocess, 2907.7ms inference, 5.0ms postprocess per image at shape (1, 3, 640, 640)\n",
      "\n"
     ]
    },
    {
     "name": "stdout",
     "output_type": "stream",
     "text": [
      "NO-Safety Vest\n",
      "Person\n",
      "Person\n",
      "Person\n",
      "NO-Hardhat\n",
      "NO-Mask\n"
     ]
    },
    {
     "name": "stderr",
     "output_type": "stream",
     "text": [
      "0: 384x640 1 NO-Hardhat, 1 NO-Mask, 1 NO-Safety Vest, 3 Persons, 2920.2ms\n",
      "Speed: 9.7ms preprocess, 2920.2ms inference, 9.8ms postprocess per image at shape (1, 3, 640, 640)\n",
      "\n"
     ]
    },
    {
     "name": "stdout",
     "output_type": "stream",
     "text": [
      "NO-Safety Vest\n",
      "Person\n",
      "Person\n",
      "Person\n",
      "NO-Hardhat\n",
      "NO-Mask\n"
     ]
    },
    {
     "name": "stderr",
     "output_type": "stream",
     "text": [
      "0: 384x640 1 NO-Hardhat, 1 NO-Mask, 1 NO-Safety Vest, 3 Persons, 2975.0ms\n",
      "Speed: 10.3ms preprocess, 2975.0ms inference, 4.5ms postprocess per image at shape (1, 3, 640, 640)\n",
      "\n"
     ]
    },
    {
     "name": "stdout",
     "output_type": "stream",
     "text": [
      "NO-Safety Vest\n",
      "Person\n",
      "Person\n",
      "Person\n",
      "NO-Hardhat\n",
      "NO-Mask\n"
     ]
    },
    {
     "name": "stderr",
     "output_type": "stream",
     "text": [
      "0: 384x640 1 NO-Hardhat, 1 NO-Mask, 1 NO-Safety Vest, 3 Persons, 3175.9ms\n",
      "Speed: 8.6ms preprocess, 3175.9ms inference, 7.6ms postprocess per image at shape (1, 3, 640, 640)\n",
      "\n"
     ]
    },
    {
     "name": "stdout",
     "output_type": "stream",
     "text": [
      "NO-Safety Vest\n",
      "Person\n",
      "Person\n",
      "Person\n",
      "NO-Hardhat\n",
      "NO-Mask\n"
     ]
    },
    {
     "name": "stderr",
     "output_type": "stream",
     "text": [
      "0: 384x640 1 NO-Hardhat, 1 NO-Mask, 1 NO-Safety Vest, 3 Persons, 3078.3ms\n",
      "Speed: 8.1ms preprocess, 3078.3ms inference, 5.5ms postprocess per image at shape (1, 3, 640, 640)\n",
      "\n"
     ]
    },
    {
     "name": "stdout",
     "output_type": "stream",
     "text": [
      "NO-Safety Vest\n",
      "Person\n",
      "Person\n",
      "Person\n",
      "NO-Hardhat\n",
      "NO-Mask\n"
     ]
    },
    {
     "name": "stderr",
     "output_type": "stream",
     "text": [
      "0: 384x640 1 NO-Hardhat, 1 NO-Mask, 1 NO-Safety Vest, 3 Persons, 2900.3ms\n",
      "Speed: 22.4ms preprocess, 2900.3ms inference, 6.5ms postprocess per image at shape (1, 3, 640, 640)\n",
      "\n"
     ]
    },
    {
     "name": "stdout",
     "output_type": "stream",
     "text": [
      "NO-Safety Vest\n",
      "Person\n",
      "Person\n",
      "Person\n",
      "NO-Hardhat\n",
      "NO-Mask\n"
     ]
    },
    {
     "name": "stderr",
     "output_type": "stream",
     "text": [
      "0: 384x640 1 NO-Hardhat, 1 NO-Mask, 1 NO-Safety Vest, 3 Persons, 3347.2ms\n",
      "Speed: 1.5ms preprocess, 3347.2ms inference, 9.7ms postprocess per image at shape (1, 3, 640, 640)\n",
      "\n"
     ]
    },
    {
     "name": "stdout",
     "output_type": "stream",
     "text": [
      "NO-Safety Vest\n",
      "Person\n",
      "Person\n",
      "Person\n",
      "NO-Hardhat\n",
      "NO-Mask\n"
     ]
    },
    {
     "name": "stderr",
     "output_type": "stream",
     "text": [
      "0: 384x640 1 NO-Hardhat, 1 NO-Mask, 1 NO-Safety Vest, 3 Persons, 3512.1ms\n",
      "Speed: 14.8ms preprocess, 3512.1ms inference, 5.1ms postprocess per image at shape (1, 3, 640, 640)\n",
      "\n"
     ]
    },
    {
     "name": "stdout",
     "output_type": "stream",
     "text": [
      "NO-Safety Vest\n",
      "Person\n",
      "Person\n",
      "Person\n",
      "NO-Hardhat\n",
      "NO-Mask\n"
     ]
    },
    {
     "name": "stderr",
     "output_type": "stream",
     "text": [
      "0: 384x640 1 NO-Hardhat, 1 NO-Mask, 1 NO-Safety Vest, 3 Persons, 3490.2ms\n",
      "Speed: 10.1ms preprocess, 3490.2ms inference, 5.0ms postprocess per image at shape (1, 3, 640, 640)\n",
      "\n"
     ]
    },
    {
     "name": "stdout",
     "output_type": "stream",
     "text": [
      "NO-Safety Vest\n",
      "Person\n",
      "Person\n",
      "Person\n",
      "NO-Hardhat\n",
      "NO-Mask\n"
     ]
    },
    {
     "name": "stderr",
     "output_type": "stream",
     "text": [
      "0: 384x640 1 NO-Hardhat, 1 NO-Mask, 1 NO-Safety Vest, 3 Persons, 3519.8ms\n",
      "Speed: 17.9ms preprocess, 3519.8ms inference, 5.0ms postprocess per image at shape (1, 3, 640, 640)\n",
      "\n"
     ]
    },
    {
     "name": "stdout",
     "output_type": "stream",
     "text": [
      "NO-Safety Vest\n",
      "Person\n",
      "Person\n",
      "Person\n",
      "NO-Hardhat\n",
      "NO-Mask\n"
     ]
    },
    {
     "name": "stderr",
     "output_type": "stream",
     "text": [
      "0: 384x640 1 NO-Hardhat, 1 NO-Mask, 1 NO-Safety Vest, 3 Persons, 2962.6ms\n",
      "Speed: 5.0ms preprocess, 2962.6ms inference, 4.1ms postprocess per image at shape (1, 3, 640, 640)\n",
      "\n"
     ]
    },
    {
     "name": "stdout",
     "output_type": "stream",
     "text": [
      "NO-Safety Vest\n",
      "Person\n",
      "Person\n",
      "Person\n",
      "NO-Hardhat\n",
      "NO-Mask\n"
     ]
    },
    {
     "name": "stderr",
     "output_type": "stream",
     "text": [
      "0: 384x640 1 NO-Hardhat, 1 NO-Mask, 1 NO-Safety Vest, 3 Persons, 2940.5ms\n",
      "Speed: 7.3ms preprocess, 2940.5ms inference, 3.5ms postprocess per image at shape (1, 3, 640, 640)\n",
      "\n"
     ]
    },
    {
     "name": "stdout",
     "output_type": "stream",
     "text": [
      "NO-Safety Vest\n",
      "Person\n",
      "Person\n",
      "Person\n",
      "NO-Hardhat\n",
      "NO-Mask\n"
     ]
    },
    {
     "name": "stderr",
     "output_type": "stream",
     "text": [
      "0: 384x640 1 NO-Hardhat, 1 NO-Mask, 1 NO-Safety Vest, 3 Persons, 2978.5ms\n",
      "Speed: 10.1ms preprocess, 2978.5ms inference, 1.6ms postprocess per image at shape (1, 3, 640, 640)\n",
      "\n"
     ]
    },
    {
     "name": "stdout",
     "output_type": "stream",
     "text": [
      "NO-Safety Vest\n",
      "Person\n",
      "Person\n",
      "Person\n",
      "NO-Hardhat\n",
      "NO-Mask\n"
     ]
    },
    {
     "name": "stderr",
     "output_type": "stream",
     "text": [
      "0: 384x640 1 NO-Hardhat, 1 NO-Mask, 1 NO-Safety Vest, 4 Persons, 2970.2ms\n",
      "Speed: 9.8ms preprocess, 2970.2ms inference, 3.7ms postprocess per image at shape (1, 3, 640, 640)\n",
      "\n"
     ]
    },
    {
     "name": "stdout",
     "output_type": "stream",
     "text": [
      "NO-Safety Vest\n",
      "Person\n",
      "Person\n",
      "NO-Hardhat\n",
      "Person\n",
      "NO-Mask\n",
      "Person\n"
     ]
    },
    {
     "name": "stderr",
     "output_type": "stream",
     "text": [
      "0: 384x640 1 Hardhat, 1 NO-Hardhat, 1 NO-Mask, 1 NO-Safety Vest, 2 Persons, 3190.2ms\n",
      "Speed: 5.1ms preprocess, 3190.2ms inference, 6.5ms postprocess per image at shape (1, 3, 640, 640)\n",
      "\n"
     ]
    },
    {
     "name": "stdout",
     "output_type": "stream",
     "text": [
      "Person\n",
      "NO-Safety Vest\n",
      "Person\n",
      "Hardhat\n",
      "NO-Mask\n",
      "NO-Hardhat\n"
     ]
    },
    {
     "name": "stderr",
     "output_type": "stream",
     "text": [
      "0: 384x640 1 Person, 2951.0ms\n",
      "Speed: 7.2ms preprocess, 2951.0ms inference, 2.0ms postprocess per image at shape (1, 3, 640, 640)\n",
      "\n"
     ]
    },
    {
     "name": "stdout",
     "output_type": "stream",
     "text": [
      "Person\n"
     ]
    },
    {
     "name": "stderr",
     "output_type": "stream",
     "text": [
      "0: 384x640 (no detections), 2989.9ms\n",
      "Speed: 15.1ms preprocess, 2989.9ms inference, 0.0ms postprocess per image at shape (1, 3, 640, 640)\n",
      "\n",
      "0: 384x640 (no detections), 2945.0ms\n",
      "Speed: 10.1ms preprocess, 2945.0ms inference, 5.1ms postprocess per image at shape (1, 3, 640, 640)\n",
      "\n",
      "0: 384x640 (no detections), 2945.2ms\n",
      "Speed: 5.0ms preprocess, 2945.2ms inference, 0.0ms postprocess per image at shape (1, 3, 640, 640)\n",
      "\n",
      "0: 384x640 1 machinery, 2507.7ms\n",
      "Speed: 7.9ms preprocess, 2507.7ms inference, 0.0ms postprocess per image at shape (1, 3, 640, 640)\n",
      "\n"
     ]
    },
    {
     "name": "stdout",
     "output_type": "stream",
     "text": [
      "machinery\n"
     ]
    },
    {
     "name": "stderr",
     "output_type": "stream",
     "text": [
      "0: 384x640 (no detections), 2165.3ms\n",
      "Speed: 15.6ms preprocess, 2165.3ms inference, 2.1ms postprocess per image at shape (1, 3, 640, 640)\n",
      "\n",
      "0: 384x640 1 machinery, 2288.5ms\n",
      "Speed: 17.1ms preprocess, 2288.5ms inference, 4.1ms postprocess per image at shape (1, 3, 640, 640)\n",
      "\n"
     ]
    },
    {
     "name": "stdout",
     "output_type": "stream",
     "text": [
      "machinery\n"
     ]
    },
    {
     "name": "stderr",
     "output_type": "stream",
     "text": [
      "0: 384x640 (no detections), 3734.0ms\n",
      "Speed: 15.7ms preprocess, 3734.0ms inference, 5.0ms postprocess per image at shape (1, 3, 640, 640)\n",
      "\n",
      "0: 384x640 (no detections), 3215.3ms\n",
      "Speed: 9.6ms preprocess, 3215.3ms inference, 2.0ms postprocess per image at shape (1, 3, 640, 640)\n",
      "\n",
      "0: 384x640 (no detections), 2900.2ms\n",
      "Speed: 19.4ms preprocess, 2900.2ms inference, 7.5ms postprocess per image at shape (1, 3, 640, 640)\n",
      "\n",
      "0: 384x640 (no detections), 2930.1ms\n",
      "Speed: 10.0ms preprocess, 2930.1ms inference, 0.0ms postprocess per image at shape (1, 3, 640, 640)\n",
      "\n",
      "0: 384x640 (no detections), 2964.5ms\n",
      "Speed: 12.1ms preprocess, 2964.5ms inference, 5.0ms postprocess per image at shape (1, 3, 640, 640)\n",
      "\n",
      "0: 384x640 (no detections), 3012.3ms\n",
      "Speed: 7.6ms preprocess, 3012.3ms inference, 5.0ms postprocess per image at shape (1, 3, 640, 640)\n",
      "\n",
      "0: 384x640 (no detections), 2965.3ms\n",
      "Speed: 7.5ms preprocess, 2965.3ms inference, 0.0ms postprocess per image at shape (1, 3, 640, 640)\n",
      "\n",
      "0: 384x640 (no detections), 2934.8ms\n",
      "Speed: 10.1ms preprocess, 2934.8ms inference, 3.5ms postprocess per image at shape (1, 3, 640, 640)\n",
      "\n",
      "0: 384x640 (no detections), 3001.5ms\n",
      "Speed: 5.0ms preprocess, 3001.5ms inference, 0.0ms postprocess per image at shape (1, 3, 640, 640)\n",
      "\n",
      "0: 384x640 1 Person, 1 Safety Vest, 3400.5ms\n",
      "Speed: 7.1ms preprocess, 3400.5ms inference, 5.5ms postprocess per image at shape (1, 3, 640, 640)\n",
      "\n"
     ]
    },
    {
     "name": "stdout",
     "output_type": "stream",
     "text": [
      "Person\n",
      "Safety Vest\n"
     ]
    },
    {
     "name": "stderr",
     "output_type": "stream",
     "text": [
      "0: 384x640 1 Hardhat, 1 Person, 1 Safety Vest, 1 machinery, 2721.9ms\n",
      "Speed: 7.2ms preprocess, 2721.9ms inference, 3.4ms postprocess per image at shape (1, 3, 640, 640)\n",
      "\n"
     ]
    },
    {
     "name": "stdout",
     "output_type": "stream",
     "text": [
      "Hardhat\n",
      "Safety Vest\n",
      "Person\n",
      "machinery\n"
     ]
    },
    {
     "name": "stderr",
     "output_type": "stream",
     "text": [
      "0: 384x640 1 Hardhat, 1 NO-Mask, 1 Person, 1 Safety Vest, 1 machinery, 3162.0ms\n",
      "Speed: 6.6ms preprocess, 3162.0ms inference, 1.5ms postprocess per image at shape (1, 3, 640, 640)\n",
      "\n"
     ]
    },
    {
     "name": "stdout",
     "output_type": "stream",
     "text": [
      "Hardhat\n",
      "Safety Vest\n",
      "NO-Mask\n",
      "Person\n",
      "machinery\n"
     ]
    },
    {
     "name": "stderr",
     "output_type": "stream",
     "text": [
      "0: 384x640 1 Hardhat, 1 NO-Mask, 1 Person, 1 Safety Vest, 1 machinery, 3264.5ms\n",
      "Speed: 15.1ms preprocess, 3264.5ms inference, 0.0ms postprocess per image at shape (1, 3, 640, 640)\n",
      "\n"
     ]
    },
    {
     "name": "stdout",
     "output_type": "stream",
     "text": [
      "Hardhat\n",
      "Safety Vest\n",
      "NO-Mask\n",
      "Person\n",
      "machinery\n"
     ]
    },
    {
     "name": "stderr",
     "output_type": "stream",
     "text": [
      "0: 384x640 1 Hardhat, 1 NO-Mask, 1 Person, 1 Safety Vest, 1 machinery, 3220.0ms\n",
      "Speed: 10.1ms preprocess, 3220.0ms inference, 5.1ms postprocess per image at shape (1, 3, 640, 640)\n",
      "\n"
     ]
    },
    {
     "name": "stdout",
     "output_type": "stream",
     "text": [
      "Hardhat\n",
      "Safety Vest\n",
      "NO-Mask\n",
      "Person\n",
      "machinery\n"
     ]
    },
    {
     "name": "stderr",
     "output_type": "stream",
     "text": [
      "0: 384x640 1 Hardhat, 1 NO-Mask, 1 Person, 1 Safety Vest, 2845.0ms\n",
      "Speed: 9.7ms preprocess, 2845.0ms inference, 5.1ms postprocess per image at shape (1, 3, 640, 640)\n",
      "\n"
     ]
    },
    {
     "name": "stdout",
     "output_type": "stream",
     "text": [
      "Hardhat\n",
      "Safety Vest\n",
      "NO-Mask\n",
      "Person\n"
     ]
    },
    {
     "name": "stderr",
     "output_type": "stream",
     "text": [
      "0: 384x640 1 Hardhat, 1 NO-Mask, 1 Person, 1 Safety Vest, 1 machinery, 2877.7ms\n",
      "Speed: 7.6ms preprocess, 2877.7ms inference, 0.0ms postprocess per image at shape (1, 3, 640, 640)\n",
      "\n"
     ]
    },
    {
     "name": "stdout",
     "output_type": "stream",
     "text": [
      "Hardhat\n",
      "Safety Vest\n",
      "NO-Mask\n",
      "Person\n",
      "machinery\n"
     ]
    },
    {
     "name": "stderr",
     "output_type": "stream",
     "text": [
      "0: 384x640 1 Hardhat, 1 NO-Mask, 1 Person, 1 Safety Vest, 1 machinery, 2890.0ms\n",
      "Speed: 8.5ms preprocess, 2890.0ms inference, 3.5ms postprocess per image at shape (1, 3, 640, 640)\n",
      "\n"
     ]
    },
    {
     "name": "stdout",
     "output_type": "stream",
     "text": [
      "Safety Vest\n",
      "Hardhat\n",
      "NO-Mask\n",
      "Person\n",
      "machinery\n"
     ]
    },
    {
     "name": "stderr",
     "output_type": "stream",
     "text": [
      "0: 384x640 1 Hardhat, 1 NO-Mask, 1 Person, 1 Safety Vest, 1 machinery, 2881.6ms\n",
      "Speed: 3.6ms preprocess, 2881.6ms inference, 5.0ms postprocess per image at shape (1, 3, 640, 640)\n",
      "\n"
     ]
    },
    {
     "name": "stdout",
     "output_type": "stream",
     "text": [
      "Safety Vest\n",
      "Hardhat\n",
      "NO-Mask\n",
      "Person\n",
      "machinery\n"
     ]
    },
    {
     "name": "stderr",
     "output_type": "stream",
     "text": [
      "0: 384x640 1 Hardhat, 1 NO-Mask, 1 Person, 1 Safety Vest, 1 machinery, 3069.0ms\n",
      "Speed: 11.2ms preprocess, 3069.0ms inference, 9.6ms postprocess per image at shape (1, 3, 640, 640)\n",
      "\n"
     ]
    },
    {
     "name": "stdout",
     "output_type": "stream",
     "text": [
      "Hardhat\n",
      "Safety Vest\n",
      "NO-Mask\n",
      "Person\n",
      "machinery\n"
     ]
    },
    {
     "name": "stderr",
     "output_type": "stream",
     "text": [
      "0: 384x640 1 Hardhat, 1 NO-Mask, 1 Person, 1 Safety Vest, 1 machinery, 3144.8ms\n",
      "Speed: 10.1ms preprocess, 3144.8ms inference, 5.1ms postprocess per image at shape (1, 3, 640, 640)\n",
      "\n"
     ]
    },
    {
     "name": "stdout",
     "output_type": "stream",
     "text": [
      "Hardhat\n",
      "Safety Vest\n",
      "NO-Mask\n",
      "Person\n",
      "machinery\n"
     ]
    },
    {
     "name": "stderr",
     "output_type": "stream",
     "text": [
      "0: 384x640 1 Hardhat, 1 NO-Mask, 1 Person, 1 Safety Vest, 1 machinery, 3030.0ms\n",
      "Speed: 10.2ms preprocess, 3030.0ms inference, 5.0ms postprocess per image at shape (1, 3, 640, 640)\n",
      "\n"
     ]
    },
    {
     "name": "stdout",
     "output_type": "stream",
     "text": [
      "Hardhat\n",
      "Safety Vest\n",
      "NO-Mask\n",
      "Person\n",
      "machinery\n"
     ]
    },
    {
     "name": "stderr",
     "output_type": "stream",
     "text": [
      "0: 384x640 1 Hardhat, 1 NO-Mask, 1 Person, 1 Safety Vest, 1 machinery, 2964.4ms\n",
      "Speed: 10.6ms preprocess, 2964.4ms inference, 5.0ms postprocess per image at shape (1, 3, 640, 640)\n",
      "\n"
     ]
    },
    {
     "name": "stdout",
     "output_type": "stream",
     "text": [
      "Safety Vest\n",
      "Hardhat\n",
      "NO-Mask\n",
      "Person\n",
      "machinery\n"
     ]
    },
    {
     "name": "stderr",
     "output_type": "stream",
     "text": [
      "0: 384x640 1 Hardhat, 1 NO-Mask, 1 Person, 1 Safety Vest, 1 machinery, 3128.6ms\n",
      "Speed: 6.6ms preprocess, 3128.6ms inference, 0.0ms postprocess per image at shape (1, 3, 640, 640)\n",
      "\n"
     ]
    },
    {
     "name": "stdout",
     "output_type": "stream",
     "text": [
      "Hardhat\n",
      "Safety Vest\n",
      "NO-Mask\n",
      "Person\n",
      "machinery\n"
     ]
    },
    {
     "name": "stderr",
     "output_type": "stream",
     "text": [
      "0: 384x640 1 Hardhat, 1 NO-Mask, 1 Person, 1 Safety Vest, 1 machinery, 3050.2ms\n",
      "Speed: 5.0ms preprocess, 3050.2ms inference, 4.7ms postprocess per image at shape (1, 3, 640, 640)\n",
      "\n"
     ]
    },
    {
     "name": "stdout",
     "output_type": "stream",
     "text": [
      "Hardhat\n",
      "Safety Vest\n",
      "NO-Mask\n",
      "Person\n",
      "machinery\n"
     ]
    },
    {
     "name": "stderr",
     "output_type": "stream",
     "text": [
      "0: 384x640 1 Hardhat, 1 NO-Mask, 1 Person, 1 Safety Vest, 1 machinery, 2900.0ms\n",
      "Speed: 13.6ms preprocess, 2900.0ms inference, 5.0ms postprocess per image at shape (1, 3, 640, 640)\n",
      "\n"
     ]
    },
    {
     "name": "stdout",
     "output_type": "stream",
     "text": [
      "Safety Vest\n",
      "Hardhat\n",
      "NO-Mask\n",
      "Person\n",
      "machinery\n"
     ]
    },
    {
     "name": "stderr",
     "output_type": "stream",
     "text": [
      "0: 384x640 1 Hardhat, 1 NO-Mask, 1 Person, 2 Safety Vests, 1 machinery, 2925.3ms\n",
      "Speed: 10.1ms preprocess, 2925.3ms inference, 5.0ms postprocess per image at shape (1, 3, 640, 640)\n",
      "\n"
     ]
    },
    {
     "name": "stdout",
     "output_type": "stream",
     "text": [
      "Hardhat\n",
      "Safety Vest\n",
      "NO-Mask\n",
      "Person\n",
      "machinery\n",
      "Safety Vest\n"
     ]
    },
    {
     "name": "stderr",
     "output_type": "stream",
     "text": [
      "0: 384x640 1 Hardhat, 1 NO-Mask, 1 Person, 1 Safety Vest, 1 machinery, 2996.3ms\n",
      "Speed: 10.1ms preprocess, 2996.3ms inference, 4.0ms postprocess per image at shape (1, 3, 640, 640)\n",
      "\n"
     ]
    },
    {
     "name": "stdout",
     "output_type": "stream",
     "text": [
      "Hardhat\n",
      "Safety Vest\n",
      "NO-Mask\n",
      "Person\n",
      "machinery\n"
     ]
    },
    {
     "name": "stderr",
     "output_type": "stream",
     "text": [
      "0: 384x640 1 Hardhat, 1 NO-Mask, 1 Person, 1 Safety Vest, 1 machinery, 2950.2ms\n",
      "Speed: 5.2ms preprocess, 2950.2ms inference, 5.0ms postprocess per image at shape (1, 3, 640, 640)\n",
      "\n"
     ]
    },
    {
     "name": "stdout",
     "output_type": "stream",
     "text": [
      "Hardhat\n",
      "Safety Vest\n",
      "NO-Mask\n",
      "Person\n",
      "machinery\n"
     ]
    },
    {
     "name": "stderr",
     "output_type": "stream",
     "text": [
      "0: 384x640 1 Hardhat, 1 NO-Mask, 1 Person, 1 Safety Vest, 1 machinery, 2976.1ms\n",
      "Speed: 3.6ms preprocess, 2976.1ms inference, 5.0ms postprocess per image at shape (1, 3, 640, 640)\n",
      "\n"
     ]
    },
    {
     "name": "stdout",
     "output_type": "stream",
     "text": [
      "Safety Vest\n",
      "Hardhat\n",
      "NO-Mask\n",
      "Person\n",
      "machinery\n"
     ]
    },
    {
     "name": "stderr",
     "output_type": "stream",
     "text": [
      "0: 384x640 1 Hardhat, 1 NO-Mask, 1 Person, 1 Safety Vest, 1 machinery, 2865.1ms\n",
      "Speed: 7.5ms preprocess, 2865.1ms inference, 6.1ms postprocess per image at shape (1, 3, 640, 640)\n",
      "\n"
     ]
    },
    {
     "name": "stdout",
     "output_type": "stream",
     "text": [
      "Safety Vest\n",
      "Hardhat\n",
      "NO-Mask\n",
      "Person\n",
      "machinery\n"
     ]
    },
    {
     "name": "stderr",
     "output_type": "stream",
     "text": [
      "0: 384x640 1 Hardhat, 1 NO-Mask, 1 Person, 1 Safety Vest, 1 machinery, 3039.9ms\n",
      "Speed: 10.0ms preprocess, 3039.9ms inference, 12.0ms postprocess per image at shape (1, 3, 640, 640)\n",
      "\n"
     ]
    },
    {
     "name": "stdout",
     "output_type": "stream",
     "text": [
      "Hardhat\n",
      "Safety Vest\n",
      "NO-Mask\n",
      "Person\n",
      "machinery\n"
     ]
    },
    {
     "name": "stderr",
     "output_type": "stream",
     "text": [
      "0: 384x640 1 Hardhat, 1 NO-Mask, 1 Person, 1 Safety Vest, 1 machinery, 2869.7ms\n",
      "Speed: 7.1ms preprocess, 2869.7ms inference, 3.2ms postprocess per image at shape (1, 3, 640, 640)\n",
      "\n"
     ]
    },
    {
     "name": "stdout",
     "output_type": "stream",
     "text": [
      "Hardhat\n",
      "Safety Vest\n",
      "NO-Mask\n",
      "Person\n",
      "machinery\n"
     ]
    },
    {
     "name": "stderr",
     "output_type": "stream",
     "text": [
      "0: 384x640 1 Hardhat, 1 NO-Mask, 1 Person, 1 Safety Vest, 1 machinery, 2890.8ms\n",
      "Speed: 14.4ms preprocess, 2890.8ms inference, 4.5ms postprocess per image at shape (1, 3, 640, 640)\n",
      "\n"
     ]
    },
    {
     "name": "stdout",
     "output_type": "stream",
     "text": [
      "Hardhat\n",
      "Safety Vest\n",
      "NO-Mask\n",
      "Person\n",
      "machinery\n"
     ]
    },
    {
     "name": "stderr",
     "output_type": "stream",
     "text": [
      "0: 384x640 1 Hardhat, 1 NO-Mask, 1 Person, 1 Safety Vest, 1 machinery, 3184.7ms\n",
      "Speed: 15.1ms preprocess, 3184.7ms inference, 5.1ms postprocess per image at shape (1, 3, 640, 640)\n",
      "\n"
     ]
    },
    {
     "name": "stdout",
     "output_type": "stream",
     "text": [
      "Hardhat\n",
      "Safety Vest\n",
      "NO-Mask\n",
      "Person\n",
      "machinery\n"
     ]
    },
    {
     "name": "stderr",
     "output_type": "stream",
     "text": [
      "0: 384x640 1 Hardhat, 1 NO-Mask, 1 Person, 1 Safety Vest, 1 machinery, 2945.1ms\n",
      "Speed: 9.6ms preprocess, 2945.1ms inference, 10.2ms postprocess per image at shape (1, 3, 640, 640)\n",
      "\n"
     ]
    },
    {
     "name": "stdout",
     "output_type": "stream",
     "text": [
      "Hardhat\n",
      "Safety Vest\n",
      "NO-Mask\n",
      "Person\n",
      "machinery\n"
     ]
    },
    {
     "name": "stderr",
     "output_type": "stream",
     "text": [
      "0: 384x640 1 Hardhat, 1 NO-Mask, 1 Person, 1 Safety Vest, 1 machinery, 2880.0ms\n",
      "Speed: 10.1ms preprocess, 2880.0ms inference, 0.0ms postprocess per image at shape (1, 3, 640, 640)\n",
      "\n"
     ]
    },
    {
     "name": "stdout",
     "output_type": "stream",
     "text": [
      "Hardhat\n",
      "Safety Vest\n",
      "NO-Mask\n",
      "Person\n",
      "machinery\n"
     ]
    },
    {
     "name": "stderr",
     "output_type": "stream",
     "text": [
      "0: 384x640 1 Hardhat, 1 NO-Mask, 1 Person, 1 Safety Vest, 1 machinery, 3026.3ms\n",
      "Speed: 8.6ms preprocess, 3026.3ms inference, 5.1ms postprocess per image at shape (1, 3, 640, 640)\n",
      "\n"
     ]
    },
    {
     "name": "stdout",
     "output_type": "stream",
     "text": [
      "Hardhat\n",
      "Safety Vest\n",
      "NO-Mask\n",
      "Person\n",
      "machinery\n"
     ]
    },
    {
     "name": "stderr",
     "output_type": "stream",
     "text": [
      "0: 384x640 1 Hardhat, 1 NO-Mask, 1 Person, 1 Safety Vest, 1 machinery, 2890.1ms\n",
      "Speed: 9.7ms preprocess, 2890.1ms inference, 5.0ms postprocess per image at shape (1, 3, 640, 640)\n",
      "\n"
     ]
    },
    {
     "name": "stdout",
     "output_type": "stream",
     "text": [
      "Hardhat\n",
      "Safety Vest\n",
      "NO-Mask\n",
      "Person\n",
      "machinery\n"
     ]
    },
    {
     "name": "stderr",
     "output_type": "stream",
     "text": [
      "0: 384x640 1 Hardhat, 1 NO-Mask, 1 Person, 1 Safety Vest, 1 machinery, 2904.8ms\n",
      "Speed: 10.1ms preprocess, 2904.8ms inference, 5.6ms postprocess per image at shape (1, 3, 640, 640)\n",
      "\n"
     ]
    },
    {
     "name": "stdout",
     "output_type": "stream",
     "text": [
      "Hardhat\n",
      "Safety Vest\n",
      "Person\n",
      "NO-Mask\n",
      "machinery\n"
     ]
    },
    {
     "name": "stderr",
     "output_type": "stream",
     "text": [
      "0: 384x640 1 Hardhat, 1 NO-Mask, 1 Person, 1 Safety Vest, 1 machinery, 2920.1ms\n",
      "Speed: 10.2ms preprocess, 2920.1ms inference, 5.0ms postprocess per image at shape (1, 3, 640, 640)\n",
      "\n"
     ]
    },
    {
     "name": "stdout",
     "output_type": "stream",
     "text": [
      "Hardhat\n",
      "Safety Vest\n",
      "Person\n",
      "NO-Mask\n",
      "machinery\n"
     ]
    },
    {
     "name": "stderr",
     "output_type": "stream",
     "text": [
      "0: 384x640 1 Hardhat, 1 NO-Mask, 1 Person, 1 Safety Vest, 1 machinery, 2919.8ms\n",
      "Speed: 4.0ms preprocess, 2919.8ms inference, 6.2ms postprocess per image at shape (1, 3, 640, 640)\n",
      "\n"
     ]
    },
    {
     "name": "stdout",
     "output_type": "stream",
     "text": [
      "Safety Vest\n",
      "Hardhat\n",
      "Person\n",
      "NO-Mask\n",
      "machinery\n"
     ]
    },
    {
     "name": "stderr",
     "output_type": "stream",
     "text": [
      "0: 384x640 1 Hardhat, 1 NO-Mask, 1 Person, 1 Safety Vest, 1 machinery, 2925.4ms\n",
      "Speed: 8.3ms preprocess, 2925.4ms inference, 4.0ms postprocess per image at shape (1, 3, 640, 640)\n",
      "\n"
     ]
    },
    {
     "name": "stdout",
     "output_type": "stream",
     "text": [
      "Safety Vest\n",
      "Hardhat\n",
      "NO-Mask\n",
      "Person\n",
      "machinery\n"
     ]
    },
    {
     "name": "stderr",
     "output_type": "stream",
     "text": [
      "0: 384x640 1 Hardhat, 1 NO-Mask, 1 Person, 1 Safety Vest, 1 machinery, 2945.2ms\n",
      "Speed: 10.1ms preprocess, 2945.2ms inference, 5.0ms postprocess per image at shape (1, 3, 640, 640)\n",
      "\n"
     ]
    },
    {
     "name": "stdout",
     "output_type": "stream",
     "text": [
      "Safety Vest\n",
      "Hardhat\n",
      "NO-Mask\n",
      "Person\n",
      "machinery\n"
     ]
    },
    {
     "name": "stderr",
     "output_type": "stream",
     "text": [
      "0: 384x640 1 Hardhat, 1 NO-Mask, 1 Person, 1 Safety Vest, 1 machinery, 2863.8ms\n",
      "Speed: 7.6ms preprocess, 2863.8ms inference, 1.9ms postprocess per image at shape (1, 3, 640, 640)\n",
      "\n"
     ]
    },
    {
     "name": "stdout",
     "output_type": "stream",
     "text": [
      "Safety Vest\n",
      "Hardhat\n",
      "NO-Mask\n",
      "Person\n",
      "machinery\n"
     ]
    },
    {
     "name": "stderr",
     "output_type": "stream",
     "text": [
      "0: 384x640 1 Hardhat, 1 NO-Mask, 1 Person, 1 Safety Vest, 1 machinery, 3003.2ms\n",
      "Speed: 7.0ms preprocess, 3003.2ms inference, 5.0ms postprocess per image at shape (1, 3, 640, 640)\n",
      "\n"
     ]
    },
    {
     "name": "stdout",
     "output_type": "stream",
     "text": [
      "Safety Vest\n",
      "Hardhat\n",
      "NO-Mask\n",
      "Person\n",
      "machinery\n"
     ]
    },
    {
     "name": "stderr",
     "output_type": "stream",
     "text": [
      "0: 384x640 1 Hardhat, 1 NO-Mask, 1 Person, 1 Safety Vest, 1 machinery, 2824.9ms\n",
      "Speed: 6.6ms preprocess, 2824.9ms inference, 8.1ms postprocess per image at shape (1, 3, 640, 640)\n",
      "\n"
     ]
    },
    {
     "name": "stdout",
     "output_type": "stream",
     "text": [
      "Safety Vest\n",
      "Hardhat\n",
      "NO-Mask\n",
      "Person\n",
      "machinery\n"
     ]
    },
    {
     "name": "stderr",
     "output_type": "stream",
     "text": [
      "0: 384x640 1 Hardhat, 1 NO-Mask, 1 Person, 1 Safety Vest, 1 machinery, 2964.7ms\n",
      "Speed: 3.6ms preprocess, 2964.7ms inference, 1.5ms postprocess per image at shape (1, 3, 640, 640)\n",
      "\n"
     ]
    },
    {
     "name": "stdout",
     "output_type": "stream",
     "text": [
      "Safety Vest\n",
      "Hardhat\n",
      "NO-Mask\n",
      "Person\n",
      "machinery\n"
     ]
    },
    {
     "name": "stderr",
     "output_type": "stream",
     "text": [
      "0: 384x640 1 Hardhat, 1 NO-Mask, 1 Person, 1 Safety Vest, 1 machinery, 2865.6ms\n",
      "Speed: 10.1ms preprocess, 2865.6ms inference, 4.0ms postprocess per image at shape (1, 3, 640, 640)\n",
      "\n"
     ]
    },
    {
     "name": "stdout",
     "output_type": "stream",
     "text": [
      "Safety Vest\n",
      "Hardhat\n",
      "NO-Mask\n",
      "Person\n",
      "machinery\n"
     ]
    },
    {
     "name": "stderr",
     "output_type": "stream",
     "text": [
      "0: 384x640 1 Hardhat, 1 NO-Mask, 1 Person, 1 Safety Vest, 1 machinery, 2915.2ms\n",
      "Speed: 6.1ms preprocess, 2915.2ms inference, 8.1ms postprocess per image at shape (1, 3, 640, 640)\n",
      "\n"
     ]
    },
    {
     "name": "stdout",
     "output_type": "stream",
     "text": [
      "Safety Vest\n",
      "Hardhat\n",
      "NO-Mask\n",
      "Person\n",
      "machinery\n"
     ]
    },
    {
     "name": "stderr",
     "output_type": "stream",
     "text": [
      "0: 384x640 1 Hardhat, 1 NO-Mask, 1 Person, 1 Safety Vest, 1 machinery, 2951.0ms\n",
      "Speed: 10.1ms preprocess, 2951.0ms inference, 4.1ms postprocess per image at shape (1, 3, 640, 640)\n",
      "\n"
     ]
    },
    {
     "name": "stdout",
     "output_type": "stream",
     "text": [
      "Safety Vest\n",
      "Hardhat\n",
      "NO-Mask\n",
      "Person\n",
      "machinery\n"
     ]
    },
    {
     "name": "stderr",
     "output_type": "stream",
     "text": [
      "0: 384x640 1 Hardhat, 1 NO-Mask, 1 Person, 1 Safety Vest, 1 machinery, 2874.4ms\n",
      "Speed: 5.9ms preprocess, 2874.4ms inference, 5.0ms postprocess per image at shape (1, 3, 640, 640)\n",
      "\n"
     ]
    },
    {
     "name": "stdout",
     "output_type": "stream",
     "text": [
      "Safety Vest\n",
      "Hardhat\n",
      "NO-Mask\n",
      "Person\n",
      "machinery\n"
     ]
    },
    {
     "name": "stderr",
     "output_type": "stream",
     "text": [
      "0: 384x640 1 Hardhat, 1 NO-Mask, 1 Person, 1 Safety Vest, 1 machinery, 2860.0ms\n",
      "Speed: 10.1ms preprocess, 2860.0ms inference, 5.0ms postprocess per image at shape (1, 3, 640, 640)\n",
      "\n"
     ]
    },
    {
     "name": "stdout",
     "output_type": "stream",
     "text": [
      "Safety Vest\n",
      "Hardhat\n",
      "NO-Mask\n",
      "Person\n",
      "machinery\n"
     ]
    },
    {
     "name": "stderr",
     "output_type": "stream",
     "text": [
      "0: 384x640 1 Hardhat, 1 NO-Mask, 1 Person, 1 Safety Vest, 1 machinery, 2890.8ms\n",
      "Speed: 10.1ms preprocess, 2890.8ms inference, 5.2ms postprocess per image at shape (1, 3, 640, 640)\n",
      "\n"
     ]
    },
    {
     "name": "stdout",
     "output_type": "stream",
     "text": [
      "Safety Vest\n",
      "Hardhat\n",
      "NO-Mask\n",
      "Person\n",
      "machinery\n"
     ]
    },
    {
     "name": "stderr",
     "output_type": "stream",
     "text": [
      "0: 384x640 1 Hardhat, 1 NO-Mask, 1 Person, 1 Safety Vest, 1 machinery, 2859.5ms\n",
      "Speed: 5.1ms preprocess, 2859.5ms inference, 8.2ms postprocess per image at shape (1, 3, 640, 640)\n",
      "\n"
     ]
    },
    {
     "name": "stdout",
     "output_type": "stream",
     "text": [
      "Safety Vest\n",
      "Hardhat\n",
      "NO-Mask\n",
      "Person\n",
      "machinery\n"
     ]
    },
    {
     "name": "stderr",
     "output_type": "stream",
     "text": [
      "0: 384x640 1 Hardhat, 1 NO-Mask, 1 Person, 1 Safety Vest, 1 machinery, 2905.3ms\n",
      "Speed: 10.0ms preprocess, 2905.3ms inference, 7.1ms postprocess per image at shape (1, 3, 640, 640)\n",
      "\n"
     ]
    },
    {
     "name": "stdout",
     "output_type": "stream",
     "text": [
      "Hardhat\n",
      "Safety Vest\n",
      "NO-Mask\n",
      "Person\n",
      "machinery\n"
     ]
    },
    {
     "name": "stderr",
     "output_type": "stream",
     "text": [
      "0: 384x640 1 Hardhat, 1 NO-Mask, 1 Person, 1 Safety Vest, 1 machinery, 3298.3ms\n",
      "Speed: 6.8ms preprocess, 3298.3ms inference, 5.0ms postprocess per image at shape (1, 3, 640, 640)\n",
      "\n"
     ]
    },
    {
     "name": "stdout",
     "output_type": "stream",
     "text": [
      "Hardhat\n",
      "Safety Vest\n",
      "NO-Mask\n",
      "Person\n",
      "machinery\n"
     ]
    },
    {
     "name": "stderr",
     "output_type": "stream",
     "text": [
      "0: 384x640 1 Hardhat, 1 NO-Mask, 2 Persons, 1 Safety Vest, 1 machinery, 2934.9ms\n",
      "Speed: 14.8ms preprocess, 2934.9ms inference, 5.0ms postprocess per image at shape (1, 3, 640, 640)\n",
      "\n"
     ]
    },
    {
     "name": "stdout",
     "output_type": "stream",
     "text": [
      "Hardhat\n",
      "Safety Vest\n",
      "NO-Mask\n",
      "Person\n",
      "machinery\n",
      "Person\n"
     ]
    },
    {
     "name": "stderr",
     "output_type": "stream",
     "text": [
      "0: 384x640 1 Hardhat, 1 NO-Mask, 2 Persons, 1 Safety Vest, 1 machinery, 2895.3ms\n",
      "Speed: 6.6ms preprocess, 2895.3ms inference, 5.0ms postprocess per image at shape (1, 3, 640, 640)\n",
      "\n"
     ]
    },
    {
     "name": "stdout",
     "output_type": "stream",
     "text": [
      "Hardhat\n",
      "Safety Vest\n",
      "NO-Mask\n",
      "Person\n",
      "Person\n",
      "machinery\n"
     ]
    },
    {
     "name": "stderr",
     "output_type": "stream",
     "text": [
      "0: 384x640 1 Hardhat, 1 NO-Mask, 1 NO-Safety Vest, 2 Persons, 1 Safety Vest, 1 machinery, 3078.2ms\n",
      "Speed: 6.6ms preprocess, 3078.2ms inference, 5.0ms postprocess per image at shape (1, 3, 640, 640)\n",
      "\n"
     ]
    },
    {
     "name": "stdout",
     "output_type": "stream",
     "text": [
      "Safety Vest\n",
      "Hardhat\n",
      "Person\n",
      "NO-Mask\n",
      "Person\n",
      "machinery\n",
      "NO-Safety Vest\n"
     ]
    },
    {
     "name": "stderr",
     "output_type": "stream",
     "text": [
      "0: 384x640 1 NO-Mask, 1 NO-Safety Vest, 1 Person, 1 Safety Vest, 1 machinery, 2960.3ms\n",
      "Speed: 7.6ms preprocess, 2960.3ms inference, 6.5ms postprocess per image at shape (1, 3, 640, 640)\n",
      "\n"
     ]
    },
    {
     "name": "stdout",
     "output_type": "stream",
     "text": [
      "NO-Mask\n",
      "Person\n",
      "NO-Safety Vest\n",
      "Safety Vest\n",
      "machinery\n"
     ]
    },
    {
     "name": "stderr",
     "output_type": "stream",
     "text": [
      "0: 384x640 1 NO-Mask, 1 NO-Safety Vest, 2 Persons, 1 Safety Vest, 1 machinery, 3078.6ms\n",
      "Speed: 9.9ms preprocess, 3078.6ms inference, 11.1ms postprocess per image at shape (1, 3, 640, 640)\n",
      "\n"
     ]
    },
    {
     "name": "stdout",
     "output_type": "stream",
     "text": [
      "NO-Mask\n",
      "Person\n",
      "NO-Safety Vest\n",
      "Safety Vest\n",
      "machinery\n",
      "Person\n"
     ]
    },
    {
     "name": "stderr",
     "output_type": "stream",
     "text": [
      "0: 384x640 1 NO-Mask, 1 NO-Safety Vest, 1 Person, 1 Safety Vest, 1 machinery, 2881.6ms\n",
      "Speed: 8.1ms preprocess, 2881.6ms inference, 3.1ms postprocess per image at shape (1, 3, 640, 640)\n",
      "\n"
     ]
    },
    {
     "name": "stdout",
     "output_type": "stream",
     "text": [
      "NO-Mask\n",
      "Person\n",
      "Safety Vest\n",
      "machinery\n",
      "NO-Safety Vest\n"
     ]
    },
    {
     "name": "stderr",
     "output_type": "stream",
     "text": [
      "0: 384x640 1 NO-Mask, 1 NO-Safety Vest, 1 Person, 1 Safety Vest, 1 machinery, 2838.4ms\n",
      "Speed: 21.5ms preprocess, 2838.4ms inference, 5.1ms postprocess per image at shape (1, 3, 640, 640)\n",
      "\n"
     ]
    },
    {
     "name": "stdout",
     "output_type": "stream",
     "text": [
      "NO-Mask\n",
      "Person\n",
      "Safety Vest\n",
      "NO-Safety Vest\n",
      "machinery\n"
     ]
    },
    {
     "name": "stderr",
     "output_type": "stream",
     "text": [
      "0: 384x640 1 NO-Mask, 1 NO-Safety Vest, 1 Person, 1 Safety Vest, 1 machinery, 2974.8ms\n",
      "Speed: 10.2ms preprocess, 2974.8ms inference, 5.0ms postprocess per image at shape (1, 3, 640, 640)\n",
      "\n"
     ]
    },
    {
     "name": "stdout",
     "output_type": "stream",
     "text": [
      "NO-Mask\n",
      "Person\n",
      "Safety Vest\n",
      "NO-Safety Vest\n",
      "machinery\n"
     ]
    },
    {
     "name": "stderr",
     "output_type": "stream",
     "text": [
      "0: 384x640 1 NO-Mask, 1 NO-Safety Vest, 1 Person, 1 Safety Vest, 1 machinery, 3114.7ms\n",
      "Speed: 5.9ms preprocess, 3114.7ms inference, 4.0ms postprocess per image at shape (1, 3, 640, 640)\n",
      "\n"
     ]
    },
    {
     "name": "stdout",
     "output_type": "stream",
     "text": [
      "NO-Mask\n",
      "Person\n",
      "Safety Vest\n",
      "NO-Safety Vest\n",
      "machinery\n"
     ]
    },
    {
     "name": "stderr",
     "output_type": "stream",
     "text": [
      "0: 384x640 1 NO-Mask, 1 NO-Safety Vest, 1 Person, 1 Safety Vest, 1 machinery, 3120.6ms\n",
      "Speed: 18.7ms preprocess, 3120.6ms inference, 0.0ms postprocess per image at shape (1, 3, 640, 640)\n",
      "\n"
     ]
    },
    {
     "name": "stdout",
     "output_type": "stream",
     "text": [
      "NO-Mask\n",
      "Person\n",
      "Safety Vest\n",
      "NO-Safety Vest\n",
      "machinery\n"
     ]
    },
    {
     "name": "stderr",
     "output_type": "stream",
     "text": [
      "0: 384x640 1 NO-Mask, 1 NO-Safety Vest, 1 Person, 1 Safety Vest, 1 machinery, 2855.3ms\n",
      "Speed: 9.6ms preprocess, 2855.3ms inference, 9.9ms postprocess per image at shape (1, 3, 640, 640)\n",
      "\n"
     ]
    },
    {
     "name": "stdout",
     "output_type": "stream",
     "text": [
      "NO-Mask\n",
      "Person\n",
      "NO-Safety Vest\n",
      "Safety Vest\n",
      "machinery\n"
     ]
    },
    {
     "name": "stderr",
     "output_type": "stream",
     "text": [
      "0: 384x640 1 NO-Mask, 1 NO-Safety Vest, 1 Person, 1 Safety Vest, 1 machinery, 2852.8ms\n",
      "Speed: 2.1ms preprocess, 2852.8ms inference, 10.2ms postprocess per image at shape (1, 3, 640, 640)\n",
      "\n"
     ]
    },
    {
     "name": "stdout",
     "output_type": "stream",
     "text": [
      "NO-Mask\n",
      "Person\n",
      "Safety Vest\n",
      "NO-Safety Vest\n",
      "machinery\n"
     ]
    },
    {
     "name": "stderr",
     "output_type": "stream",
     "text": [
      "0: 384x640 1 NO-Mask, 1 NO-Safety Vest, 1 Person, 1 Safety Vest, 1 machinery, 2907.6ms\n",
      "Speed: 10.1ms preprocess, 2907.6ms inference, 2.0ms postprocess per image at shape (1, 3, 640, 640)\n",
      "\n"
     ]
    },
    {
     "name": "stdout",
     "output_type": "stream",
     "text": [
      "NO-Mask\n",
      "Person\n",
      "NO-Safety Vest\n",
      "Safety Vest\n",
      "machinery\n"
     ]
    },
    {
     "name": "stderr",
     "output_type": "stream",
     "text": [
      "0: 384x640 1 NO-Mask, 1 NO-Safety Vest, 1 Person, 1 Safety Vest, 1 machinery, 2930.2ms\n",
      "Speed: 5.0ms preprocess, 2930.2ms inference, 1.0ms postprocess per image at shape (1, 3, 640, 640)\n",
      "\n"
     ]
    },
    {
     "name": "stdout",
     "output_type": "stream",
     "text": [
      "NO-Mask\n",
      "Person\n",
      "NO-Safety Vest\n",
      "Safety Vest\n",
      "machinery\n"
     ]
    },
    {
     "name": "stderr",
     "output_type": "stream",
     "text": [
      "0: 384x640 1 NO-Mask, 1 NO-Safety Vest, 1 Person, 1 Safety Vest, 1 machinery, 3110.0ms\n",
      "Speed: 20.1ms preprocess, 3110.0ms inference, 10.0ms postprocess per image at shape (1, 3, 640, 640)\n",
      "\n"
     ]
    },
    {
     "name": "stdout",
     "output_type": "stream",
     "text": [
      "NO-Mask\n",
      "Person\n",
      "NO-Safety Vest\n",
      "Safety Vest\n",
      "machinery\n"
     ]
    },
    {
     "name": "stderr",
     "output_type": "stream",
     "text": [
      "0: 384x640 1 NO-Mask, 1 NO-Safety Vest, 1 Person, 1 Safety Vest, 1 machinery, 2965.1ms\n",
      "Speed: 7.6ms preprocess, 2965.1ms inference, 6.0ms postprocess per image at shape (1, 3, 640, 640)\n",
      "\n"
     ]
    },
    {
     "name": "stdout",
     "output_type": "stream",
     "text": [
      "NO-Mask\n",
      "Person\n",
      "Safety Vest\n",
      "NO-Safety Vest\n",
      "machinery\n"
     ]
    },
    {
     "name": "stderr",
     "output_type": "stream",
     "text": [
      "0: 384x640 1 NO-Mask, 1 NO-Safety Vest, 1 Person, 1 Safety Vest, 1 machinery, 2869.8ms\n",
      "Speed: 8.7ms preprocess, 2869.8ms inference, 5.0ms postprocess per image at shape (1, 3, 640, 640)\n",
      "\n"
     ]
    },
    {
     "name": "stdout",
     "output_type": "stream",
     "text": [
      "NO-Mask\n",
      "Person\n",
      "NO-Safety Vest\n",
      "Safety Vest\n",
      "machinery\n"
     ]
    },
    {
     "name": "stderr",
     "output_type": "stream",
     "text": [
      "0: 384x640 1 NO-Mask, 1 NO-Safety Vest, 1 Person, 1 Safety Vest, 1 machinery, 2874.9ms\n",
      "Speed: 10.1ms preprocess, 2874.9ms inference, 5.0ms postprocess per image at shape (1, 3, 640, 640)\n",
      "\n"
     ]
    },
    {
     "name": "stdout",
     "output_type": "stream",
     "text": [
      "NO-Mask\n",
      "Person\n",
      "NO-Safety Vest\n",
      "Safety Vest\n",
      "machinery\n"
     ]
    },
    {
     "name": "stderr",
     "output_type": "stream",
     "text": [
      "0: 384x640 1 NO-Mask, 1 NO-Safety Vest, 1 Person, 1 Safety Vest, 1 machinery, 3179.5ms\n",
      "Speed: 15.2ms preprocess, 3179.5ms inference, 0.0ms postprocess per image at shape (1, 3, 640, 640)\n",
      "\n"
     ]
    },
    {
     "name": "stdout",
     "output_type": "stream",
     "text": [
      "NO-Mask\n",
      "Person\n",
      "NO-Safety Vest\n",
      "Safety Vest\n",
      "machinery\n"
     ]
    },
    {
     "name": "stderr",
     "output_type": "stream",
     "text": [
      "0: 384x640 1 NO-Mask, 1 NO-Safety Vest, 1 Person, 1 Safety Vest, 1 machinery, 3039.7ms\n",
      "Speed: 7.6ms preprocess, 3039.7ms inference, 12.8ms postprocess per image at shape (1, 3, 640, 640)\n",
      "\n"
     ]
    },
    {
     "name": "stdout",
     "output_type": "stream",
     "text": [
      "NO-Mask\n",
      "Person\n",
      "Safety Vest\n",
      "NO-Safety Vest\n",
      "machinery\n"
     ]
    },
    {
     "name": "stderr",
     "output_type": "stream",
     "text": [
      "0: 384x640 1 NO-Mask, 1 NO-Safety Vest, 1 Person, 1 Safety Vest, 1 machinery, 2897.0ms\n",
      "Speed: 5.0ms preprocess, 2897.0ms inference, 0.0ms postprocess per image at shape (1, 3, 640, 640)\n",
      "\n"
     ]
    },
    {
     "name": "stdout",
     "output_type": "stream",
     "text": [
      "NO-Mask\n",
      "Person\n",
      "NO-Safety Vest\n",
      "Safety Vest\n",
      "machinery\n"
     ]
    },
    {
     "name": "stderr",
     "output_type": "stream",
     "text": [
      "0: 384x640 1 NO-Mask, 1 NO-Safety Vest, 1 Person, 1 Safety Vest, 1 machinery, 2824.0ms\n",
      "Speed: 9.7ms preprocess, 2824.0ms inference, 6.0ms postprocess per image at shape (1, 3, 640, 640)\n",
      "\n"
     ]
    },
    {
     "name": "stdout",
     "output_type": "stream",
     "text": [
      "NO-Mask\n",
      "Person\n",
      "NO-Safety Vest\n",
      "Safety Vest\n",
      "machinery\n"
     ]
    },
    {
     "name": "stderr",
     "output_type": "stream",
     "text": [
      "0: 384x640 1 NO-Mask, 1 NO-Safety Vest, 1 Person, 1 Safety Vest, 1 machinery, 2889.5ms\n",
      "Speed: 9.6ms preprocess, 2889.5ms inference, 3.5ms postprocess per image at shape (1, 3, 640, 640)\n",
      "\n"
     ]
    },
    {
     "name": "stdout",
     "output_type": "stream",
     "text": [
      "NO-Mask\n",
      "Person\n",
      "NO-Safety Vest\n",
      "Safety Vest\n",
      "machinery\n"
     ]
    },
    {
     "name": "stderr",
     "output_type": "stream",
     "text": [
      "0: 384x640 1 NO-Mask, 1 NO-Safety Vest, 1 Person, 1 Safety Vest, 1 machinery, 2842.7ms\n",
      "Speed: 7.0ms preprocess, 2842.7ms inference, 7.7ms postprocess per image at shape (1, 3, 640, 640)\n",
      "\n"
     ]
    },
    {
     "name": "stdout",
     "output_type": "stream",
     "text": [
      "NO-Mask\n",
      "Person\n",
      "NO-Safety Vest\n",
      "Safety Vest\n",
      "machinery\n"
     ]
    },
    {
     "name": "stderr",
     "output_type": "stream",
     "text": [
      "0: 384x640 1 NO-Mask, 1 NO-Safety Vest, 1 Person, 1 Safety Vest, 1 machinery, 2855.9ms\n",
      "Speed: 9.6ms preprocess, 2855.9ms inference, 4.0ms postprocess per image at shape (1, 3, 640, 640)\n",
      "\n"
     ]
    },
    {
     "name": "stdout",
     "output_type": "stream",
     "text": [
      "NO-Mask\n",
      "Person\n",
      "Safety Vest\n",
      "NO-Safety Vest\n",
      "machinery\n"
     ]
    },
    {
     "name": "stderr",
     "output_type": "stream",
     "text": [
      "0: 384x640 1 NO-Mask, 1 NO-Safety Vest, 1 Person, 1 Safety Vest, 1 machinery, 2975.1ms\n",
      "Speed: 14.7ms preprocess, 2975.1ms inference, 5.0ms postprocess per image at shape (1, 3, 640, 640)\n",
      "\n"
     ]
    },
    {
     "name": "stdout",
     "output_type": "stream",
     "text": [
      "NO-Mask\n",
      "Person\n",
      "NO-Safety Vest\n",
      "Safety Vest\n",
      "machinery\n"
     ]
    },
    {
     "name": "stderr",
     "output_type": "stream",
     "text": [
      "0: 384x640 1 NO-Mask, 1 NO-Safety Vest, 1 Person, 1 Safety Vest, 1 machinery, 2980.4ms\n",
      "Speed: 2.4ms preprocess, 2980.4ms inference, 2.1ms postprocess per image at shape (1, 3, 640, 640)\n",
      "\n"
     ]
    },
    {
     "name": "stdout",
     "output_type": "stream",
     "text": [
      "NO-Mask\n",
      "NO-Safety Vest\n",
      "Person\n",
      "Safety Vest\n",
      "machinery\n"
     ]
    },
    {
     "name": "stderr",
     "output_type": "stream",
     "text": [
      "0: 384x640 1 NO-Mask, 1 NO-Safety Vest, 1 Person, 1 Safety Vest, 1 machinery, 2899.8ms\n",
      "Speed: 5.2ms preprocess, 2899.8ms inference, 0.0ms postprocess per image at shape (1, 3, 640, 640)\n",
      "\n"
     ]
    },
    {
     "name": "stdout",
     "output_type": "stream",
     "text": [
      "NO-Mask\n",
      "NO-Safety Vest\n",
      "Person\n",
      "Safety Vest\n",
      "machinery\n"
     ]
    },
    {
     "name": "stderr",
     "output_type": "stream",
     "text": [
      "0: 384x640 1 NO-Mask, 1 NO-Safety Vest, 1 Person, 1 Safety Vest, 1 machinery, 3120.1ms\n",
      "Speed: 6.2ms preprocess, 3120.1ms inference, 12.6ms postprocess per image at shape (1, 3, 640, 640)\n",
      "\n"
     ]
    },
    {
     "name": "stdout",
     "output_type": "stream",
     "text": [
      "NO-Mask\n",
      "NO-Safety Vest\n",
      "Person\n",
      "Safety Vest\n",
      "machinery\n"
     ]
    },
    {
     "name": "stderr",
     "output_type": "stream",
     "text": [
      "0: 384x640 1 NO-Mask, 1 NO-Safety Vest, 1 Person, 1 Safety Vest, 1 machinery, 3771.5ms\n",
      "Speed: 6.7ms preprocess, 3771.5ms inference, 4.1ms postprocess per image at shape (1, 3, 640, 640)\n",
      "\n"
     ]
    },
    {
     "name": "stdout",
     "output_type": "stream",
     "text": [
      "NO-Mask\n",
      "NO-Safety Vest\n",
      "Person\n",
      "Safety Vest\n",
      "machinery\n"
     ]
    },
    {
     "name": "stderr",
     "output_type": "stream",
     "text": [
      "0: 384x640 1 NO-Mask, 1 NO-Safety Vest, 1 Person, 1 Safety Vest, 1 machinery, 3080.3ms\n",
      "Speed: 9.2ms preprocess, 3080.3ms inference, 5.0ms postprocess per image at shape (1, 3, 640, 640)\n",
      "\n"
     ]
    },
    {
     "name": "stdout",
     "output_type": "stream",
     "text": [
      "NO-Mask\n",
      "Person\n",
      "NO-Safety Vest\n",
      "Safety Vest\n",
      "machinery\n"
     ]
    },
    {
     "name": "stderr",
     "output_type": "stream",
     "text": [
      "0: 384x640 1 NO-Mask, 1 NO-Safety Vest, 1 Person, 1 Safety Vest, 1 machinery, 2385.7ms\n",
      "Speed: 5.0ms preprocess, 2385.7ms inference, 6.5ms postprocess per image at shape (1, 3, 640, 640)\n",
      "\n"
     ]
    },
    {
     "name": "stdout",
     "output_type": "stream",
     "text": [
      "NO-Mask\n",
      "Person\n",
      "NO-Safety Vest\n",
      "Safety Vest\n",
      "machinery\n"
     ]
    },
    {
     "name": "stderr",
     "output_type": "stream",
     "text": [
      "0: 384x640 1 NO-Mask, 1 NO-Safety Vest, 1 Person, 1 Safety Vest, 1 machinery, 2296.4ms\n",
      "Speed: 4.5ms preprocess, 2296.4ms inference, 3.0ms postprocess per image at shape (1, 3, 640, 640)\n",
      "\n"
     ]
    },
    {
     "name": "stdout",
     "output_type": "stream",
     "text": [
      "NO-Mask\n",
      "Person\n",
      "Safety Vest\n",
      "NO-Safety Vest\n",
      "machinery\n"
     ]
    },
    {
     "name": "stderr",
     "output_type": "stream",
     "text": [
      "0: 384x640 1 NO-Mask, 1 NO-Safety Vest, 1 Person, 1 Safety Vest, 1 machinery, 1925.5ms\n",
      "Speed: 7.5ms preprocess, 1925.5ms inference, 3.0ms postprocess per image at shape (1, 3, 640, 640)\n",
      "\n"
     ]
    },
    {
     "name": "stdout",
     "output_type": "stream",
     "text": [
      "NO-Mask\n",
      "Person\n",
      "Safety Vest\n",
      "NO-Safety Vest\n",
      "machinery\n"
     ]
    },
    {
     "name": "stderr",
     "output_type": "stream",
     "text": [
      "0: 384x640 1 NO-Mask, 1 NO-Safety Vest, 2 Persons, 1 Safety Vest, 1 machinery, 1847.8ms\n",
      "Speed: 4.3ms preprocess, 1847.8ms inference, 2.0ms postprocess per image at shape (1, 3, 640, 640)\n",
      "\n"
     ]
    },
    {
     "name": "stdout",
     "output_type": "stream",
     "text": [
      "NO-Mask\n",
      "Person\n",
      "Safety Vest\n",
      "NO-Safety Vest\n",
      "machinery\n",
      "Person\n"
     ]
    },
    {
     "name": "stderr",
     "output_type": "stream",
     "text": [
      "0: 384x640 1 NO-Mask, 1 NO-Safety Vest, 2 Persons, 1 Safety Vest, 1 machinery, 1667.1ms\n",
      "Speed: 5.3ms preprocess, 1667.1ms inference, 2.0ms postprocess per image at shape (1, 3, 640, 640)\n",
      "\n"
     ]
    },
    {
     "name": "stdout",
     "output_type": "stream",
     "text": [
      "NO-Mask\n",
      "Person\n",
      "NO-Safety Vest\n",
      "Safety Vest\n",
      "machinery\n",
      "Person\n"
     ]
    },
    {
     "name": "stderr",
     "output_type": "stream",
     "text": [
      "0: 384x640 1 NO-Mask, 1 NO-Safety Vest, 1 Person, 1 Safety Vest, 1 machinery, 1696.3ms\n",
      "Speed: 5.4ms preprocess, 1696.3ms inference, 3.1ms postprocess per image at shape (1, 3, 640, 640)\n",
      "\n"
     ]
    },
    {
     "name": "stdout",
     "output_type": "stream",
     "text": [
      "Person\n",
      "NO-Mask\n",
      "NO-Safety Vest\n",
      "Safety Vest\n",
      "machinery\n"
     ]
    },
    {
     "name": "stderr",
     "output_type": "stream",
     "text": [
      "0: 384x640 1 NO-Mask, 1 NO-Safety Vest, 1 Person, 1 Safety Vest, 1 machinery, 1745.2ms\n",
      "Speed: 6.0ms preprocess, 1745.2ms inference, 3.4ms postprocess per image at shape (1, 3, 640, 640)\n",
      "\n"
     ]
    },
    {
     "name": "stdout",
     "output_type": "stream",
     "text": [
      "Person\n",
      "NO-Mask\n",
      "Safety Vest\n",
      "NO-Safety Vest\n",
      "machinery\n"
     ]
    },
    {
     "name": "stderr",
     "output_type": "stream",
     "text": [
      "0: 384x640 1 NO-Mask, 1 NO-Safety Vest, 1 Person, 1 Safety Vest, 1 machinery, 1879.4ms\n",
      "Speed: 5.0ms preprocess, 1879.4ms inference, 2.0ms postprocess per image at shape (1, 3, 640, 640)\n",
      "\n"
     ]
    },
    {
     "name": "stdout",
     "output_type": "stream",
     "text": [
      "Person\n",
      "NO-Mask\n",
      "Safety Vest\n",
      "NO-Safety Vest\n",
      "machinery\n"
     ]
    },
    {
     "name": "stderr",
     "output_type": "stream",
     "text": [
      "0: 384x640 1 NO-Mask, 1 NO-Safety Vest, 1 Person, 1 Safety Vest, 1 machinery, 1890.5ms\n",
      "Speed: 5.5ms preprocess, 1890.5ms inference, 3.1ms postprocess per image at shape (1, 3, 640, 640)\n",
      "\n"
     ]
    },
    {
     "name": "stdout",
     "output_type": "stream",
     "text": [
      "Person\n",
      "NO-Mask\n",
      "Safety Vest\n",
      "NO-Safety Vest\n",
      "machinery\n"
     ]
    },
    {
     "name": "stderr",
     "output_type": "stream",
     "text": [
      "0: 384x640 5 Hardhats, 1 NO-Hardhat, 3 NO-Masks, 4 NO-Safety Vests, 5 Persons, 2 Safety Vests, 1950.6ms\n",
      "Speed: 5.9ms preprocess, 1950.6ms inference, 2.0ms postprocess per image at shape (1, 3, 640, 640)\n",
      "\n"
     ]
    },
    {
     "name": "stdout",
     "output_type": "stream",
     "text": [
      "Person\n",
      "Person\n",
      "Safety Vest\n",
      "Person\n",
      "Person\n",
      "Hardhat\n",
      "Hardhat\n",
      "Person\n",
      "Hardhat\n",
      "NO-Safety Vest\n",
      "NO-Safety Vest\n",
      "NO-Mask\n",
      "NO-Safety Vest\n",
      "Hardhat\n",
      "Hardhat\n",
      "Safety Vest\n",
      "NO-Safety Vest\n",
      "NO-Hardhat\n",
      "NO-Mask\n",
      "NO-Mask\n"
     ]
    },
    {
     "name": "stderr",
     "output_type": "stream",
     "text": [
      "0: 384x640 5 Hardhats, 1 NO-Hardhat, 3 NO-Masks, 4 NO-Safety Vests, 5 Persons, 2 Safety Vests, 1885.3ms\n",
      "Speed: 4.0ms preprocess, 1885.3ms inference, 3.0ms postprocess per image at shape (1, 3, 640, 640)\n",
      "\n"
     ]
    },
    {
     "name": "stdout",
     "output_type": "stream",
     "text": [
      "Person\n",
      "Safety Vest\n",
      "Person\n",
      "Person\n",
      "Person\n",
      "Hardhat\n",
      "Hardhat\n",
      "Person\n",
      "Hardhat\n",
      "NO-Safety Vest\n",
      "NO-Safety Vest\n",
      "NO-Mask\n",
      "Safety Vest\n",
      "NO-Safety Vest\n",
      "NO-Safety Vest\n",
      "Hardhat\n",
      "Hardhat\n",
      "NO-Mask\n",
      "NO-Hardhat\n",
      "NO-Mask\n"
     ]
    },
    {
     "name": "stderr",
     "output_type": "stream",
     "text": [
      "0: 384x640 5 Hardhats, 1 NO-Hardhat, 2 NO-Masks, 4 NO-Safety Vests, 5 Persons, 2 Safety Vests, 1665.1ms\n",
      "Speed: 5.8ms preprocess, 1665.1ms inference, 2.9ms postprocess per image at shape (1, 3, 640, 640)\n",
      "\n"
     ]
    },
    {
     "name": "stdout",
     "output_type": "stream",
     "text": [
      "Person\n",
      "Safety Vest\n",
      "Person\n",
      "Person\n",
      "Hardhat\n",
      "Hardhat\n",
      "Person\n",
      "Person\n",
      "Hardhat\n",
      "NO-Safety Vest\n",
      "NO-Safety Vest\n",
      "NO-Mask\n",
      "Hardhat\n",
      "Hardhat\n",
      "NO-Safety Vest\n",
      "NO-Safety Vest\n",
      "Safety Vest\n",
      "NO-Hardhat\n",
      "NO-Mask\n"
     ]
    },
    {
     "name": "stderr",
     "output_type": "stream",
     "text": [
      "0: 384x640 6 Hardhats, 1 NO-Hardhat, 1 NO-Mask, 4 NO-Safety Vests, 5 Persons, 2 Safety Vests, 1907.0ms\n",
      "Speed: 4.6ms preprocess, 1907.0ms inference, 4.0ms postprocess per image at shape (1, 3, 640, 640)\n",
      "\n"
     ]
    },
    {
     "name": "stdout",
     "output_type": "stream",
     "text": [
      "Person\n",
      "Safety Vest\n",
      "Person\n",
      "Person\n",
      "Hardhat\n",
      "Hardhat\n",
      "Person\n",
      "Person\n",
      "Hardhat\n",
      "NO-Mask\n",
      "NO-Safety Vest\n",
      "NO-Safety Vest\n",
      "NO-Safety Vest\n",
      "Hardhat\n",
      "Hardhat\n",
      "NO-Safety Vest\n",
      "Safety Vest\n",
      "NO-Hardhat\n",
      "Hardhat\n"
     ]
    },
    {
     "name": "stderr",
     "output_type": "stream",
     "text": [
      "0: 384x640 5 Hardhats, 1 NO-Hardhat, 1 NO-Mask, 3 NO-Safety Vests, 5 Persons, 2 Safety Vests, 2912.5ms\n",
      "Speed: 8.9ms preprocess, 2912.5ms inference, 4.1ms postprocess per image at shape (1, 3, 640, 640)\n",
      "\n"
     ]
    },
    {
     "name": "stdout",
     "output_type": "stream",
     "text": [
      "Person\n",
      "Safety Vest\n",
      "Person\n",
      "Person\n",
      "Hardhat\n",
      "Person\n",
      "Person\n",
      "Hardhat\n",
      "Hardhat\n",
      "NO-Mask\n",
      "NO-Safety Vest\n",
      "NO-Safety Vest\n",
      "Hardhat\n",
      "Hardhat\n",
      "NO-Safety Vest\n",
      "NO-Hardhat\n",
      "Safety Vest\n"
     ]
    },
    {
     "name": "stderr",
     "output_type": "stream",
     "text": [
      "0: 384x640 5 Hardhats, 1 NO-Hardhat, 1 NO-Mask, 4 NO-Safety Vests, 5 Persons, 2 Safety Vests, 3246.5ms\n",
      "Speed: 10.5ms preprocess, 3246.5ms inference, 6.1ms postprocess per image at shape (1, 3, 640, 640)\n",
      "\n"
     ]
    },
    {
     "name": "stdout",
     "output_type": "stream",
     "text": [
      "Person\n",
      "Safety Vest\n",
      "Person\n",
      "Person\n",
      "Hardhat\n",
      "Person\n",
      "Person\n",
      "Hardhat\n",
      "NO-Safety Vest\n",
      "NO-Mask\n",
      "Hardhat\n",
      "NO-Safety Vest\n",
      "NO-Safety Vest\n",
      "Hardhat\n",
      "Hardhat\n",
      "Safety Vest\n",
      "NO-Hardhat\n",
      "NO-Safety Vest\n"
     ]
    },
    {
     "name": "stderr",
     "output_type": "stream",
     "text": [
      "0: 384x640 6 Hardhats, 1 NO-Mask, 4 NO-Safety Vests, 5 Persons, 2 Safety Vests, 3184.9ms\n",
      "Speed: 10.1ms preprocess, 3184.9ms inference, 6.6ms postprocess per image at shape (1, 3, 640, 640)\n",
      "\n"
     ]
    },
    {
     "name": "stdout",
     "output_type": "stream",
     "text": [
      "Person\n",
      "Safety Vest\n",
      "Person\n",
      "Person\n",
      "Hardhat\n",
      "Person\n",
      "Person\n",
      "Hardhat\n",
      "NO-Safety Vest\n",
      "Hardhat\n",
      "NO-Safety Vest\n",
      "NO-Mask\n",
      "NO-Safety Vest\n",
      "Hardhat\n",
      "Safety Vest\n",
      "Hardhat\n",
      "Hardhat\n",
      "NO-Safety Vest\n"
     ]
    },
    {
     "name": "stderr",
     "output_type": "stream",
     "text": [
      "0: 384x640 4 Hardhats, 1 NO-Mask, 3 NO-Safety Vests, 5 Persons, 2 Safety Vests, 2915.0ms\n",
      "Speed: 9.6ms preprocess, 2915.0ms inference, 5.0ms postprocess per image at shape (1, 3, 640, 640)\n",
      "\n"
     ]
    },
    {
     "name": "stdout",
     "output_type": "stream",
     "text": [
      "Person\n",
      "Safety Vest\n",
      "Person\n",
      "Person\n",
      "Hardhat\n",
      "Hardhat\n",
      "Person\n",
      "Hardhat\n",
      "Hardhat\n",
      "Person\n",
      "NO-Safety Vest\n",
      "NO-Safety Vest\n",
      "NO-Mask\n",
      "NO-Safety Vest\n",
      "Safety Vest\n"
     ]
    },
    {
     "name": "stderr",
     "output_type": "stream",
     "text": [
      "0: 384x640 4 Hardhats, 2 NO-Masks, 3 NO-Safety Vests, 5 Persons, 2 Safety Vests, 2917.9ms\n",
      "Speed: 10.1ms preprocess, 2917.9ms inference, 2.0ms postprocess per image at shape (1, 3, 640, 640)\n",
      "\n"
     ]
    },
    {
     "name": "stdout",
     "output_type": "stream",
     "text": [
      "Person\n",
      "Safety Vest\n",
      "Person\n",
      "Person\n",
      "Hardhat\n",
      "Person\n",
      "Person\n",
      "Hardhat\n",
      "NO-Safety Vest\n",
      "Hardhat\n",
      "NO-Mask\n",
      "Hardhat\n",
      "NO-Safety Vest\n",
      "NO-Safety Vest\n",
      "Safety Vest\n",
      "NO-Mask\n"
     ]
    },
    {
     "name": "stderr",
     "output_type": "stream",
     "text": [
      "0: 384x640 4 Hardhats, 3 NO-Masks, 3 NO-Safety Vests, 5 Persons, 2 Safety Vests, 3060.2ms\n",
      "Speed: 15.2ms preprocess, 3060.2ms inference, 5.0ms postprocess per image at shape (1, 3, 640, 640)\n",
      "\n"
     ]
    },
    {
     "name": "stdout",
     "output_type": "stream",
     "text": [
      "Person\n",
      "Safety Vest\n",
      "Person\n",
      "Person\n",
      "Hardhat\n",
      "Hardhat\n",
      "Person\n",
      "Person\n",
      "NO-Safety Vest\n",
      "NO-Safety Vest\n",
      "Hardhat\n",
      "Hardhat\n",
      "Safety Vest\n",
      "NO-Mask\n",
      "NO-Safety Vest\n",
      "NO-Mask\n",
      "NO-Mask\n"
     ]
    },
    {
     "name": "stderr",
     "output_type": "stream",
     "text": [
      "0: 384x640 4 Hardhats, 2 NO-Masks, 3 NO-Safety Vests, 5 Persons, 2 Safety Vests, 3140.2ms\n",
      "Speed: 15.1ms preprocess, 3140.2ms inference, 11.0ms postprocess per image at shape (1, 3, 640, 640)\n",
      "\n"
     ]
    },
    {
     "name": "stdout",
     "output_type": "stream",
     "text": [
      "Person\n",
      "Safety Vest\n",
      "Person\n",
      "Person\n",
      "Hardhat\n",
      "Person\n",
      "Safety Vest\n",
      "NO-Safety Vest\n",
      "Hardhat\n",
      "Person\n",
      "Hardhat\n",
      "NO-Safety Vest\n",
      "Hardhat\n",
      "NO-Mask\n",
      "NO-Mask\n",
      "NO-Safety Vest\n"
     ]
    },
    {
     "name": "stderr",
     "output_type": "stream",
     "text": [
      "0: 384x640 4 Hardhats, 2 NO-Masks, 3 NO-Safety Vests, 4 Persons, 2 Safety Vests, 2999.6ms\n",
      "Speed: 5.9ms preprocess, 2999.6ms inference, 4.0ms postprocess per image at shape (1, 3, 640, 640)\n",
      "\n"
     ]
    },
    {
     "name": "stdout",
     "output_type": "stream",
     "text": [
      "Person\n",
      "Person\n",
      "Safety Vest\n",
      "Person\n",
      "Person\n",
      "Hardhat\n",
      "Hardhat\n",
      "NO-Safety Vest\n",
      "NO-Mask\n",
      "Safety Vest\n",
      "Hardhat\n",
      "NO-Safety Vest\n",
      "Hardhat\n",
      "NO-Mask\n",
      "NO-Safety Vest\n"
     ]
    },
    {
     "name": "stderr",
     "output_type": "stream",
     "text": [
      "0: 384x640 5 Hardhats, 2 NO-Masks, 4 NO-Safety Vests, 4 Persons, 2 Safety Vests, 2917.9ms\n",
      "Speed: 5.0ms preprocess, 2917.9ms inference, 0.5ms postprocess per image at shape (1, 3, 640, 640)\n",
      "\n"
     ]
    },
    {
     "name": "stdout",
     "output_type": "stream",
     "text": [
      "Person\n",
      "Safety Vest\n",
      "Person\n",
      "Person\n",
      "Person\n",
      "Hardhat\n",
      "NO-Safety Vest\n",
      "NO-Mask\n",
      "Hardhat\n",
      "Hardhat\n",
      "Hardhat\n",
      "NO-Safety Vest\n",
      "NO-Safety Vest\n",
      "Safety Vest\n",
      "Hardhat\n",
      "NO-Mask\n",
      "NO-Safety Vest\n"
     ]
    },
    {
     "name": "stderr",
     "output_type": "stream",
     "text": [
      "0: 384x640 5 Hardhats, 2 NO-Masks, 5 NO-Safety Vests, 4 Persons, 2 Safety Vests, 3235.7ms\n",
      "Speed: 19.1ms preprocess, 3235.7ms inference, 5.0ms postprocess per image at shape (1, 3, 640, 640)\n",
      "\n"
     ]
    },
    {
     "name": "stdout",
     "output_type": "stream",
     "text": [
      "Person\n",
      "Safety Vest\n",
      "Person\n",
      "Person\n",
      "Person\n",
      "Hardhat\n",
      "NO-Safety Vest\n",
      "NO-Mask\n",
      "Hardhat\n",
      "Hardhat\n",
      "Hardhat\n",
      "NO-Safety Vest\n",
      "NO-Safety Vest\n",
      "Safety Vest\n",
      "Hardhat\n",
      "NO-Safety Vest\n",
      "NO-Mask\n",
      "NO-Safety Vest\n"
     ]
    },
    {
     "name": "stderr",
     "output_type": "stream",
     "text": [
      "0: 384x640 4 Hardhats, 2 NO-Masks, 3 NO-Safety Vests, 4 Persons, 2 Safety Vests, 2928.6ms\n",
      "Speed: 11.2ms preprocess, 2928.6ms inference, 5.0ms postprocess per image at shape (1, 3, 640, 640)\n",
      "\n"
     ]
    },
    {
     "name": "stdout",
     "output_type": "stream",
     "text": [
      "Person\n",
      "Safety Vest\n",
      "Person\n",
      "Person\n",
      "Person\n",
      "Hardhat\n",
      "NO-Safety Vest\n",
      "Hardhat\n",
      "NO-Mask\n",
      "Hardhat\n",
      "Hardhat\n",
      "Safety Vest\n",
      "NO-Safety Vest\n",
      "NO-Mask\n",
      "NO-Safety Vest\n"
     ]
    },
    {
     "name": "stderr",
     "output_type": "stream",
     "text": [
      "0: 384x640 4 Hardhats, 2 NO-Masks, 2 NO-Safety Vests, 4 Persons, 2 Safety Vests, 3130.2ms\n",
      "Speed: 5.1ms preprocess, 3130.2ms inference, 5.0ms postprocess per image at shape (1, 3, 640, 640)\n",
      "\n"
     ]
    },
    {
     "name": "stdout",
     "output_type": "stream",
     "text": [
      "Person\n",
      "Safety Vest\n",
      "Person\n",
      "Person\n",
      "Person\n",
      "Hardhat\n",
      "NO-Safety Vest\n",
      "Hardhat\n",
      "Hardhat\n",
      "NO-Mask\n",
      "Safety Vest\n",
      "Hardhat\n",
      "NO-Safety Vest\n",
      "NO-Mask\n"
     ]
    },
    {
     "name": "stderr",
     "output_type": "stream",
     "text": [
      "0: 384x640 4 Hardhats, 1 NO-Mask, 3 NO-Safety Vests, 4 Persons, 2 Safety Vests, 2919.5ms\n",
      "Speed: 5.0ms preprocess, 2919.5ms inference, 0.0ms postprocess per image at shape (1, 3, 640, 640)\n",
      "\n"
     ]
    },
    {
     "name": "stdout",
     "output_type": "stream",
     "text": [
      "Person\n",
      "Safety Vest\n",
      "Person\n",
      "Person\n",
      "Person\n",
      "Hardhat\n",
      "Hardhat\n",
      "NO-Safety Vest\n",
      "NO-Safety Vest\n",
      "Hardhat\n",
      "Hardhat\n",
      "Safety Vest\n",
      "NO-Mask\n",
      "NO-Safety Vest\n"
     ]
    },
    {
     "name": "stderr",
     "output_type": "stream",
     "text": [
      "0: 384x640 4 Hardhats, 1 NO-Hardhat, 1 NO-Mask, 3 NO-Safety Vests, 4 Persons, 2 Safety Vests, 2866.1ms\n",
      "Speed: 8.6ms preprocess, 2866.1ms inference, 5.0ms postprocess per image at shape (1, 3, 640, 640)\n",
      "\n"
     ]
    },
    {
     "name": "stdout",
     "output_type": "stream",
     "text": [
      "Person\n",
      "Person\n",
      "Safety Vest\n",
      "Person\n",
      "Person\n",
      "Hardhat\n",
      "Hardhat\n",
      "NO-Safety Vest\n",
      "NO-Safety Vest\n",
      "Hardhat\n",
      "NO-Mask\n",
      "Safety Vest\n",
      "Hardhat\n",
      "NO-Hardhat\n",
      "NO-Safety Vest\n"
     ]
    },
    {
     "name": "stderr",
     "output_type": "stream",
     "text": [
      "0: 384x640 4 Hardhats, 1 NO-Hardhat, 1 NO-Mask, 2 NO-Safety Vests, 4 Persons, 2 Safety Vests, 2925.8ms\n",
      "Speed: 4.5ms preprocess, 2925.8ms inference, 5.0ms postprocess per image at shape (1, 3, 640, 640)\n",
      "\n"
     ]
    },
    {
     "name": "stdout",
     "output_type": "stream",
     "text": [
      "Person\n",
      "Person\n",
      "Safety Vest\n",
      "Person\n",
      "Person\n",
      "Hardhat\n",
      "Hardhat\n",
      "NO-Safety Vest\n",
      "Hardhat\n",
      "NO-Safety Vest\n",
      "NO-Mask\n",
      "Safety Vest\n",
      "NO-Hardhat\n",
      "Hardhat\n"
     ]
    },
    {
     "name": "stderr",
     "output_type": "stream",
     "text": [
      "0: 384x640 3 Hardhats, 1 NO-Hardhat, 2 NO-Masks, 2 NO-Safety Vests, 4 Persons, 2 Safety Vests, 2875.0ms\n",
      "Speed: 8.9ms preprocess, 2875.0ms inference, 0.0ms postprocess per image at shape (1, 3, 640, 640)\n",
      "\n"
     ]
    },
    {
     "name": "stdout",
     "output_type": "stream",
     "text": [
      "Person\n",
      "Person\n",
      "Safety Vest\n",
      "Person\n",
      "Person\n",
      "Hardhat\n",
      "Hardhat\n",
      "NO-Safety Vest\n",
      "Safety Vest\n",
      "Hardhat\n",
      "NO-Safety Vest\n",
      "NO-Mask\n",
      "NO-Hardhat\n",
      "NO-Mask\n"
     ]
    },
    {
     "name": "stderr",
     "output_type": "stream",
     "text": [
      "0: 384x640 3 Hardhats, 1 NO-Hardhat, 2 NO-Masks, 2 NO-Safety Vests, 4 Persons, 2 Safety Vests, 3000.2ms\n",
      "Speed: 14.7ms preprocess, 3000.2ms inference, 5.0ms postprocess per image at shape (1, 3, 640, 640)\n",
      "\n"
     ]
    },
    {
     "name": "stdout",
     "output_type": "stream",
     "text": [
      "Person\n",
      "Person\n",
      "Safety Vest\n",
      "Person\n",
      "Person\n",
      "Hardhat\n",
      "Hardhat\n",
      "NO-Safety Vest\n",
      "Safety Vest\n",
      "NO-Safety Vest\n",
      "NO-Mask\n",
      "Hardhat\n",
      "NO-Hardhat\n",
      "NO-Mask\n"
     ]
    },
    {
     "name": "stderr",
     "output_type": "stream",
     "text": [
      "0: 384x640 4 Hardhats, 2 NO-Masks, 2 NO-Safety Vests, 4 Persons, 2 Safety Vests, 2904.0ms\n",
      "Speed: 6.1ms preprocess, 2904.0ms inference, 5.1ms postprocess per image at shape (1, 3, 640, 640)\n",
      "\n"
     ]
    },
    {
     "name": "stdout",
     "output_type": "stream",
     "text": [
      "Person\n",
      "Person\n",
      "Safety Vest\n",
      "Person\n",
      "Hardhat\n",
      "Person\n",
      "Hardhat\n",
      "Safety Vest\n",
      "NO-Safety Vest\n",
      "NO-Safety Vest\n",
      "NO-Mask\n",
      "Hardhat\n",
      "Hardhat\n",
      "NO-Mask\n"
     ]
    },
    {
     "name": "stderr",
     "output_type": "stream",
     "text": [
      "0: 384x640 4 Hardhats, 1 NO-Hardhat, 2 NO-Masks, 2 NO-Safety Vests, 4 Persons, 2 Safety Vests, 3061.8ms\n",
      "Speed: 8.2ms preprocess, 3061.8ms inference, 5.0ms postprocess per image at shape (1, 3, 640, 640)\n",
      "\n"
     ]
    },
    {
     "name": "stdout",
     "output_type": "stream",
     "text": [
      "Person\n",
      "Person\n",
      "Safety Vest\n",
      "Person\n",
      "Hardhat\n",
      "Person\n",
      "Safety Vest\n",
      "NO-Safety Vest\n",
      "Hardhat\n",
      "Hardhat\n",
      "NO-Mask\n",
      "NO-Safety Vest\n",
      "NO-Hardhat\n",
      "Hardhat\n",
      "NO-Mask\n"
     ]
    },
    {
     "name": "stderr",
     "output_type": "stream",
     "text": [
      "0: 384x640 4 Hardhats, 1 NO-Hardhat, 1 NO-Mask, 2 NO-Safety Vests, 4 Persons, 2 Safety Vests, 3174.9ms\n",
      "Speed: 10.1ms preprocess, 3174.9ms inference, 5.0ms postprocess per image at shape (1, 3, 640, 640)\n",
      "\n"
     ]
    },
    {
     "name": "stdout",
     "output_type": "stream",
     "text": [
      "Person\n",
      "Safety Vest\n",
      "Person\n",
      "Person\n",
      "Person\n",
      "Hardhat\n",
      "NO-Safety Vest\n",
      "Safety Vest\n",
      "Hardhat\n",
      "Hardhat\n",
      "NO-Safety Vest\n",
      "NO-Hardhat\n",
      "NO-Mask\n",
      "Hardhat\n"
     ]
    },
    {
     "name": "stderr",
     "output_type": "stream",
     "text": [
      "0: 384x640 4 Hardhats, 1 NO-Hardhat, 2 NO-Masks, 2 NO-Safety Vests, 4 Persons, 2 Safety Vests, 3147.5ms\n",
      "Speed: 10.1ms preprocess, 3147.5ms inference, 5.2ms postprocess per image at shape (1, 3, 640, 640)\n",
      "\n"
     ]
    },
    {
     "name": "stdout",
     "output_type": "stream",
     "text": [
      "Person\n",
      "Safety Vest\n",
      "Person\n",
      "Person\n",
      "Person\n",
      "Hardhat\n",
      "NO-Safety Vest\n",
      "Hardhat\n",
      "Safety Vest\n",
      "Hardhat\n",
      "NO-Mask\n",
      "NO-Safety Vest\n",
      "NO-Hardhat\n",
      "Hardhat\n",
      "NO-Mask\n"
     ]
    },
    {
     "name": "stderr",
     "output_type": "stream",
     "text": [
      "0: 384x640 4 Hardhats, 1 NO-Hardhat, 2 NO-Masks, 1 NO-Safety Vest, 4 Persons, 2 Safety Vests, 3145.2ms\n",
      "Speed: 12.1ms preprocess, 3145.2ms inference, 0.0ms postprocess per image at shape (1, 3, 640, 640)\n",
      "\n"
     ]
    },
    {
     "name": "stdout",
     "output_type": "stream",
     "text": [
      "Person\n",
      "Person\n",
      "Person\n",
      "Person\n",
      "Safety Vest\n",
      "Hardhat\n",
      "NO-Safety Vest\n",
      "NO-Mask\n",
      "Safety Vest\n",
      "Hardhat\n",
      "Hardhat\n",
      "NO-Mask\n",
      "NO-Hardhat\n",
      "Hardhat\n"
     ]
    },
    {
     "name": "stderr",
     "output_type": "stream",
     "text": [
      "0: 384x640 3 Hardhats, 1 NO-Hardhat, 2 NO-Masks, 1 NO-Safety Vest, 4 Persons, 2 Safety Vests, 2875.3ms\n",
      "Speed: 5.0ms preprocess, 2875.3ms inference, 5.0ms postprocess per image at shape (1, 3, 640, 640)\n",
      "\n"
     ]
    },
    {
     "name": "stdout",
     "output_type": "stream",
     "text": [
      "Person\n",
      "Person\n",
      "Person\n",
      "Safety Vest\n",
      "Hardhat\n",
      "Person\n",
      "NO-Safety Vest\n",
      "NO-Mask\n",
      "Safety Vest\n",
      "Hardhat\n",
      "Hardhat\n",
      "NO-Hardhat\n",
      "NO-Mask\n"
     ]
    },
    {
     "name": "stderr",
     "output_type": "stream",
     "text": [
      "0: 384x640 3 Hardhats, 1 NO-Hardhat, 2 NO-Masks, 3 NO-Safety Vests, 4 Persons, 2 Safety Vests, 2925.0ms\n",
      "Speed: 14.9ms preprocess, 2925.0ms inference, 6.5ms postprocess per image at shape (1, 3, 640, 640)\n",
      "\n"
     ]
    },
    {
     "name": "stdout",
     "output_type": "stream",
     "text": [
      "Person\n",
      "Person\n",
      "Safety Vest\n",
      "Hardhat\n",
      "Person\n",
      "Person\n",
      "NO-Safety Vest\n",
      "Safety Vest\n",
      "Hardhat\n",
      "NO-Mask\n",
      "Hardhat\n",
      "NO-Hardhat\n",
      "NO-Safety Vest\n",
      "NO-Mask\n",
      "NO-Safety Vest\n"
     ]
    },
    {
     "name": "stderr",
     "output_type": "stream",
     "text": [
      "0: 384x640 3 Hardhats, 1 NO-Hardhat, 2 NO-Masks, 3 NO-Safety Vests, 4 Persons, 2 Safety Vests, 2953.1ms\n",
      "Speed: 7.1ms preprocess, 2953.1ms inference, 4.8ms postprocess per image at shape (1, 3, 640, 640)\n",
      "\n"
     ]
    },
    {
     "name": "stdout",
     "output_type": "stream",
     "text": [
      "Person\n",
      "Safety Vest\n",
      "Person\n",
      "Person\n",
      "Hardhat\n",
      "Person\n",
      "NO-Safety Vest\n",
      "Safety Vest\n",
      "Hardhat\n",
      "NO-Mask\n",
      "NO-Safety Vest\n",
      "Hardhat\n",
      "NO-Hardhat\n",
      "NO-Mask\n",
      "NO-Safety Vest\n"
     ]
    },
    {
     "name": "stderr",
     "output_type": "stream",
     "text": [
      "0: 384x640 3 Hardhats, 1 NO-Hardhat, 2 NO-Masks, 3 NO-Safety Vests, 5 Persons, 2 Safety Vests, 2884.8ms\n",
      "Speed: 10.2ms preprocess, 2884.8ms inference, 8.0ms postprocess per image at shape (1, 3, 640, 640)\n",
      "\n"
     ]
    },
    {
     "name": "stdout",
     "output_type": "stream",
     "text": [
      "Person\n",
      "Safety Vest\n",
      "Person\n",
      "Hardhat\n",
      "Person\n",
      "Person\n",
      "NO-Safety Vest\n",
      "Hardhat\n",
      "NO-Mask\n",
      "Safety Vest\n",
      "NO-Safety Vest\n",
      "Hardhat\n",
      "NO-Hardhat\n",
      "NO-Mask\n",
      "NO-Safety Vest\n",
      "Person\n"
     ]
    },
    {
     "name": "stderr",
     "output_type": "stream",
     "text": [
      "0: 384x640 3 Hardhats, 1 NO-Hardhat, 3 NO-Masks, 1 NO-Safety Vest, 4 Persons, 2 Safety Vests, 2950.2ms\n",
      "Speed: 5.0ms preprocess, 2950.2ms inference, 10.2ms postprocess per image at shape (1, 3, 640, 640)\n",
      "\n"
     ]
    },
    {
     "name": "stdout",
     "output_type": "stream",
     "text": [
      "Person\n",
      "Safety Vest\n",
      "Person\n",
      "Person\n",
      "Hardhat\n",
      "Person\n",
      "NO-Mask\n",
      "Hardhat\n",
      "NO-Safety Vest\n",
      "Safety Vest\n",
      "Hardhat\n",
      "NO-Mask\n",
      "NO-Hardhat\n",
      "NO-Mask\n"
     ]
    },
    {
     "name": "stderr",
     "output_type": "stream",
     "text": [
      "0: 384x640 3 Hardhats, 1 NO-Hardhat, 2 NO-Masks, 2 NO-Safety Vests, 4 Persons, 2 Safety Vests, 2914.6ms\n",
      "Speed: 9.6ms preprocess, 2914.6ms inference, 5.0ms postprocess per image at shape (1, 3, 640, 640)\n",
      "\n"
     ]
    },
    {
     "name": "stdout",
     "output_type": "stream",
     "text": [
      "Person\n",
      "Person\n",
      "Safety Vest\n",
      "Hardhat\n",
      "Person\n",
      "Person\n",
      "NO-Mask\n",
      "NO-Safety Vest\n",
      "Hardhat\n",
      "Safety Vest\n",
      "Hardhat\n",
      "NO-Safety Vest\n",
      "NO-Mask\n",
      "NO-Hardhat\n"
     ]
    },
    {
     "name": "stderr",
     "output_type": "stream",
     "text": [
      "0: 384x640 4 Hardhats, 3 NO-Masks, 4 NO-Safety Vests, 4 Persons, 1 Safety Vest, 2876.3ms\n",
      "Speed: 9.3ms preprocess, 2876.3ms inference, 4.0ms postprocess per image at shape (1, 3, 640, 640)\n",
      "\n"
     ]
    },
    {
     "name": "stdout",
     "output_type": "stream",
     "text": [
      "Person\n",
      "Person\n",
      "Safety Vest\n",
      "Person\n",
      "Hardhat\n",
      "Person\n",
      "NO-Mask\n",
      "NO-Safety Vest\n",
      "Hardhat\n",
      "NO-Safety Vest\n",
      "Hardhat\n",
      "Hardhat\n",
      "NO-Safety Vest\n",
      "NO-Safety Vest\n",
      "NO-Mask\n",
      "NO-Mask\n"
     ]
    },
    {
     "name": "stderr",
     "output_type": "stream",
     "text": [
      "0: 384x640 4 Hardhats, 4 NO-Masks, 2 NO-Safety Vests, 4 Persons, 2 Safety Vests, 2895.1ms\n",
      "Speed: 14.9ms preprocess, 2895.1ms inference, 0.0ms postprocess per image at shape (1, 3, 640, 640)\n",
      "\n"
     ]
    },
    {
     "name": "stdout",
     "output_type": "stream",
     "text": [
      "Person\n",
      "Safety Vest\n",
      "Person\n",
      "Person\n",
      "Hardhat\n",
      "Person\n",
      "NO-Safety Vest\n",
      "Hardhat\n",
      "Hardhat\n",
      "Hardhat\n",
      "NO-Safety Vest\n",
      "NO-Mask\n",
      "NO-Mask\n",
      "NO-Mask\n",
      "Safety Vest\n",
      "NO-Mask\n"
     ]
    },
    {
     "name": "stderr",
     "output_type": "stream",
     "text": [
      "0: 384x640 4 Hardhats, 3 NO-Masks, 3 NO-Safety Vests, 4 Persons, 2 Safety Vests, 2932.6ms\n",
      "Speed: 7.6ms preprocess, 2932.6ms inference, 7.2ms postprocess per image at shape (1, 3, 640, 640)\n",
      "\n"
     ]
    },
    {
     "name": "stdout",
     "output_type": "stream",
     "text": [
      "Person\n",
      "Safety Vest\n",
      "Person\n",
      "Person\n",
      "Hardhat\n",
      "Person\n",
      "NO-Safety Vest\n",
      "Hardhat\n",
      "Hardhat\n",
      "NO-Safety Vest\n",
      "Hardhat\n",
      "NO-Mask\n",
      "Safety Vest\n",
      "NO-Mask\n",
      "NO-Safety Vest\n",
      "NO-Mask\n"
     ]
    },
    {
     "name": "stderr",
     "output_type": "stream",
     "text": [
      "0: 384x640 4 Hardhats, 1 NO-Mask, 4 NO-Safety Vests, 4 Persons, 2 Safety Vests, 3264.8ms\n",
      "Speed: 5.2ms preprocess, 3264.8ms inference, 5.1ms postprocess per image at shape (1, 3, 640, 640)\n"
     ]
    },
    {
     "name": "stdout",
     "output_type": "stream",
     "text": [
      "Person\n",
      "Safety Vest\n",
      "Person\n",
      "Person\n",
      "Person\n",
      "Hardhat\n",
      "NO-Safety Vest\n",
      "Hardhat\n",
      "Hardhat\n",
      "Hardhat\n",
      "NO-Safety Vest\n",
      "NO-Mask\n",
      "Safety Vest\n",
      "NO-Safety Vest\n",
      "NO-Safety Vest\n",
      "Can't retrieve img - stream may have ended. Exiting..\n"
     ]
    }
   ],
   "source": [
    "cap = cv2.VideoCapture(\"ppe.mp4\")\n",
    "\n",
    "width = int(cap.get(cv2.CAP_PROP_FRAME_WIDTH))\n",
    "height = int(cap.get(cv2.CAP_PROP_FRAME_HEIGHT))\n",
    "writer = cv2.VideoWriter('Output.mp4', cv2.VideoWriter_fourcc(*'DIVX'), 25, (width, height))\n",
    "\n",
    "model = YOLO(\"ppe.pt\")\n",
    "\n",
    "classNames = ['Hardhat', 'Mask', 'NO-Hardhat', 'NO-Mask', 'NO-Safety Vest', 'Person', 'Safety Cone',\n",
    "              'Safety Vest', 'machinery', 'vehicle']\n",
    "myColor = (0, 0, 255)\n",
    "while True:\n",
    "    ret, img = cap.read()\n",
    "    if not ret:\n",
    "        print(\"Can't retrieve img - stream may have ended. Exiting..\")\n",
    "        break\n",
    "    results = model(img, stream=True)\n",
    "    for r in results:\n",
    "        boxes = r.boxes\n",
    "        for box in boxes:\n",
    "            # Bounding Box\n",
    "            x1, y1, x2, y2 = box.xyxy[0]\n",
    "            x1, y1, x2, y2 = int(x1), int(y1), int(x2), int(y2)\n",
    "            w, h = x2 - x1, y2 - y1\n",
    "\n",
    "            # Confidence\n",
    "            conf = math.ceil((box.conf[0] * 100)) / 100\n",
    "            # Class Name\n",
    "            cls = int(box.cls[0])\n",
    "            currentClass = classNames[cls]\n",
    "            print(currentClass)\n",
    "            if conf > 0.5:\n",
    "                if currentClass == 'NO-Hardhat' or currentClass == 'NO-Safety Vest' or currentClass == \"NO-Mask\":\n",
    "                    myColor = (0, 0, 255)\n",
    "                elif currentClass == 'Hardhat' or currentClass == 'Safety Vest' or currentClass == \"Mask\":\n",
    "                    myColor = (0, 255, 0)\n",
    "                else:\n",
    "                    myColor = (255, 0, 0)\n",
    "\n",
    "                cvzone.putTextRect(img, f'{classNames[cls]} {conf}',\n",
    "                                   (max(0, x1), max(35, y1)), scale=1, thickness=1, colorB=myColor,\n",
    "                                   colorT=(255, 255, 255), colorR=myColor, offset=5)\n",
    "                cv2.rectangle(img, (x1, y1), (x2, y2), myColor, 3)\n",
    "\n",
    "    writer.write(img)\n",
    "    cv2.imshow(\"PPE Detection\", img)\n",
    "    if cv2.waitKey(10) & 0xFF == ord(\"q\"):\n",
    "        break\n",
    "    \n",
    "cap.release()\n",
    "writer.release()\n",
    "cv2.destroyAllWindows()"
   ]
  },
  {
   "cell_type": "code",
   "execution_count": null,
   "id": "bdcb4d10",
   "metadata": {},
   "outputs": [],
   "source": []
  }
 ],
 "metadata": {
  "kernelspec": {
   "display_name": "Python 3 (ipykernel)",
   "language": "python",
   "name": "python3"
  },
  "language_info": {
   "codemirror_mode": {
    "name": "ipython",
    "version": 3
   },
   "file_extension": ".py",
   "mimetype": "text/x-python",
   "name": "python",
   "nbconvert_exporter": "python",
   "pygments_lexer": "ipython3",
   "version": "3.10.9"
  }
 },
 "nbformat": 4,
 "nbformat_minor": 5
}
